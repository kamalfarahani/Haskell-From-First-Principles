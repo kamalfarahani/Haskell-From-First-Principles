{
 "cells": [
  {
   "cell_type": "markdown",
   "id": "21c4e6fc",
   "metadata": {},
   "source": [
    "## Chapter Exercises"
   ]
  },
  {
   "cell_type": "markdown",
   "id": "515d1bd3",
   "metadata": {},
   "source": [
    "### Validating numbers into words\n",
    "\n",
    "Remember the “numbers into words” exercise in Recursion? You’ll be writing tests to validate the functions you wrote.\n"
   ]
  }
 ],
 "metadata": {
  "kernelspec": {
   "display_name": "Haskell",
   "language": "haskell",
   "name": "haskell"
  },
  "language_info": {
   "codemirror_mode": "ihaskell",
   "file_extension": ".hs",
   "mimetype": "text/x-haskell",
   "name": "haskell",
   "pygments_lexer": "Haskell",
   "version": "9.6.4"
  }
 },
 "nbformat": 4,
 "nbformat_minor": 5
}
