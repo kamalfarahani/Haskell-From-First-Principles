{
 "cells": [
  {
   "cell_type": "markdown",
   "id": "25ae0374",
   "metadata": {},
   "source": [
    "## Chapter Exercises"
   ]
  },
  {
   "cell_type": "markdown",
   "id": "49fb5769",
   "metadata": {},
   "source": [
    "### Validating numbers into words\n",
    "\n",
    "Remember the “numbers into words” exercise in Recursion? You’ll be writing tests to validate the functions you wrote.\n",
    "\n",
    "Fill in the test cases that print question marks. If you think of\n",
    "additional tests you could perform, add them."
   ]
  },
  {
   "cell_type": "code",
   "execution_count": null,
   "id": "0be3287c",
   "metadata": {},
   "outputs": [],
   "source": [
    "import Data.List (intersperse)\n",
    "import Test.Hspec\n",
    "\n",
    "digitToWord :: Int -> String\n",
    "digitToWord 0 = \"zero\"\n",
    "digitToWord 1 = \"one\"\n",
    "digitToWord 2 = \"two\"\n",
    "digitToWord 3 = \"three\"\n",
    "digitToWord 4 = \"four\"\n",
    "digitToWord 5 = \"five\"\n",
    "digitToWord 6 = \"six\"\n",
    "digitToWord 7 = \"seven\"\n",
    "digitToWord 8 = \"eight\"\n",
    "digitToWord 9 = \"nine\"\n",
    "digitToWord _ = error \"invalid digit\"\n",
    "\n",
    "digits :: Int -> [Int]\n",
    "digits n\n",
    "  | n < 0 = error \"negative number\"\n",
    "  | n < 10 = [n]\n",
    "  | otherwise = digits (n `div` 10) ++ [n `mod` 10]\n",
    "\n",
    "wordNumber :: Int -> String\n",
    "wordNumber n =\n",
    "  concat $ intersperse \"-\" digitsWordList\n",
    "  where\n",
    "    digitsList = digits n\n",
    "    digitsWordList = map digitToWord digitsList\n",
    "\n",
    "main :: IO ()\n",
    "main = hspec $ do\n",
    "  describe \"digitToWord\" $ do\n",
    "    it \"returns zero for 0\" $ do\n",
    "      digitToWord 0 `shouldBe` \"zero\"\n",
    "    it \"returns one for 1\" $ do\n",
    "      digitToWord 1 `shouldBe` \"one\"\n",
    "  describe \"digits\" $ do\n",
    "    it \"returns [1] for 1\" $ do\n",
    "      digits 1 `shouldBe` [1]\n",
    "    it \"returns [1, 0, 0] for 100\" $ do\n",
    "      digits 100 `shouldBe` [1, 0, 0]\n",
    "  describe \"wordNumber\" $ do\n",
    "    it \"one-zero-zero given 100\" $ do\n",
    "      wordNumber 100 `shouldBe` \"one-zero-zero\"\n",
    "    it \"nine-zero-zero-one for 9001\" $ do\n",
    "      wordNumber 9001 `shouldBe` \"nine-zero-zero-one\""
   ]
  },
  {
   "cell_type": "markdown",
   "id": "50638f32",
   "metadata": {},
   "source": [
    "### Using QuickCheck\n",
    "\n",
    "Test some simple arithmetic properties using QuickCheck."
   ]
  },
  {
   "cell_type": "markdown",
   "id": "e275e6ee",
   "metadata": {},
   "source": [
    "1.\n",
    "```haskell\n",
    "half x = x / 2\n",
    "-- this property should hold\n",
    "halfIdentity = (*2) . half\n",
    "```"
   ]
  },
  {
   "cell_type": "code",
   "execution_count": null,
   "id": "3de256a9",
   "metadata": {},
   "outputs": [],
   "source": [
    "half x = x / 2\n",
    "\n",
    "halfIdentity = (*2) . half\n",
    "\n",
    "quickCheck (\\x -> halfIdentity x == x)"
   ]
  },
  {
   "cell_type": "markdown",
   "id": "9a42f67a",
   "metadata": {},
   "source": [
    "2.\n",
    "```haskell\n",
    "import Data.List (sort)\n",
    "\n",
    "-- for any list you apply sort to\n",
    "-- this property should hold\n",
    "listOrdered :: (Ord a) => [a] -> Bool\n",
    "listOrdered xs =\n",
    "    snd $ foldr go (Nothing, True) xs\n",
    "    where \n",
    "        go _ status@(_, False) = status\n",
    "        go y (Nothing, t) = (Just y, t)\n",
    "        go y (Just x, t) = (Just y, x >= y)\n",
    "```"
   ]
  },
  {
   "cell_type": "code",
   "execution_count": 2,
   "id": "49a7746b",
   "metadata": {},
   "outputs": [],
   "source": [
    "import Data.List (sort)\n",
    "\n",
    "-- for any list you apply sort to\n",
    "-- this property should hold\n",
    "listOrdered :: (Ord a) => [a] -> Bool\n",
    "listOrdered xs =\n",
    "    snd $ foldr go (Nothing, True) xs\n",
    "    where \n",
    "        go _ status@(_, False) = status\n",
    "        go y (Nothing, t) = (Just y, t)\n",
    "        go y (Just x, t) = (Just y, x >= y)\n",
    "\n",
    "quickCheck (listOrdered . sort)"
   ]
  },
  {
   "cell_type": "markdown",
   "id": "313cdb4d",
   "metadata": {},
   "source": [
    "3. Now we’ll test the associative and commutative properties of addition:\n",
    "\n",
    "```haskell\n",
    "plusAssociative x y z =\n",
    "    x + (y + z) == (x + y) + z\n",
    "\n",
    "plusCommutative x y =\n",
    "    x + y == y + x\n",
    "```\n",
    "\n",
    "Keep in mind these properties won’t hold for types based on `IEEE-754` floating point numbers, such as Float or Double."
   ]
  },
  {
   "cell_type": "code",
   "execution_count": null,
   "id": "df06172b",
   "metadata": {},
   "outputs": [],
   "source": [
    "plusAssociative x y z =\n",
    "    x + (y + z) == (x + y) + z\n",
    "\n",
    "plusCommutative x y =\n",
    "    x + y == y + x\n",
    "\n",
    "quickCheck plusAssociative\n",
    "quickCheck plusCommutative"
   ]
  },
  {
   "cell_type": "markdown",
   "id": "0f8d8bdc",
   "metadata": {},
   "source": [
    "4. Now do the same for multiplication.\n"
   ]
  },
  {
   "cell_type": "code",
   "execution_count": null,
   "id": "c97e7e3a",
   "metadata": {},
   "outputs": [],
   "source": [
    "multAssociative x y z =\n",
    "    x * (y * z) == (x * y) * z\n",
    "\n",
    "multCommutative x y =\n",
    "    x * y == y * x\n",
    "\n",
    "quickCheck multAssociative\n",
    "quickCheck multCommutative"
   ]
  },
  {
   "cell_type": "markdown",
   "id": "adf7f918",
   "metadata": {},
   "source": [
    "5. We mentioned in one of the first chapters that there are some laws involving the relationship of quot and rem and div and mod. Write `QuickCheck` tests to prove them.\n",
    "\n",
    "```\n",
    "-- quot rem\n",
    "(quot x y)*y + (rem x y) == x\n",
    "(div x y)*y + (mod x y) == x\n",
    "```"
   ]
  },
  {
   "cell_type": "code",
   "execution_count": null,
   "id": "55657334",
   "metadata": {},
   "outputs": [],
   "source": [
    "quotRemProp = ((quot x y) * y + (rem x y)) == x\n",
    "\n",
    "divModProp = ((div x y) * y + (mod x y)) == x\n",
    "\n",
    "quickCheck quotRemProp\n",
    "quickCheck divModProp"
   ]
  },
  {
   "cell_type": "markdown",
   "id": "c20ce907",
   "metadata": {},
   "source": [
    "7. Test that reversing a list twice is the same as the identity of the list:\n",
    "\n",
    "```haskell\n",
    "reverse . reverse == id\n",
    "```"
   ]
  },
  {
   "cell_type": "code",
   "execution_count": 3,
   "id": "6e6a6051",
   "metadata": {},
   "outputs": [],
   "source": [
    "reverseReverseProp x = (reverse . reverse) x == x\n",
    "\n",
    "quickCheck reverseReverseProp"
   ]
  },
  {
   "cell_type": "markdown",
   "id": "7877a5b1",
   "metadata": {},
   "source": [
    "9. See if these two functions are equal:\n",
    "\n",
    "```haskell\n",
    "foldr (:) == (++)\n",
    "foldr (++) [] == concat\n",
    "```\n",
    "\n",
    "> <span style=\"color: green\">**Answer:**</span>\n",
    "The first one (`foldr (:) == (++)`) is not true consider the output of code below:"
   ]
  },
  {
   "cell_type": "code",
   "execution_count": 4,
   "id": "52cf602b",
   "metadata": {},
   "outputs": [
    {
     "data": {
      "text/plain": [
       "[4,5,6,1,2,3]"
      ]
     },
     "metadata": {},
     "output_type": "display_data"
    }
   ],
   "source": [
    "foldr (:) [1,2,3] [4,5,6]"
   ]
  },
  {
   "cell_type": "code",
   "execution_count": 6,
   "id": "5fc27fa2",
   "metadata": {},
   "outputs": [
    {
     "data": {
      "text/plain": [
       "[1,2,3,4,5,6]"
      ]
     },
     "metadata": {},
     "output_type": "display_data"
    }
   ],
   "source": [
    "[1,2,3] ++ [4,5,6]"
   ]
  },
  {
   "cell_type": "markdown",
   "id": "25452749",
   "metadata": {},
   "source": [
    "> The second property (`foldr (++) [] == concat`) holds and we can verify it with `QuickCheck`."
   ]
  },
  {
   "cell_type": "code",
   "execution_count": null,
   "id": "b2343974",
   "metadata": {},
   "outputs": [],
   "source": [
    "concatFoldProp x = foldr (++) [] x == concat x\n",
    "\n",
    "quickCheck concatFoldProp"
   ]
  },
  {
   "cell_type": "markdown",
   "id": "02e19ef0",
   "metadata": {},
   "source": [
    "10. Hm. Is that so?\n",
    "```haskell\n",
    "f n xs = length (take n xs) == n\n",
    "```\n",
    "\n",
    "> <span style=\"color: green;\">**Answer:**</span> No consider the case `take 10 []` which is an empty list with length 0."
   ]
  },
  {
   "cell_type": "markdown",
   "id": "450661d4",
   "metadata": {},
   "source": [
    "11. Finally, this is a fun one. You may remember we had you compose read and show one time to complete a “round trip.” Well, now you can test that it works:\n",
    "```haskell\n",
    "f x = (read (show x)) == x\n",
    "```"
   ]
  },
  {
   "cell_type": "code",
   "execution_count": null,
   "id": "c5a8d4eb",
   "metadata": {},
   "outputs": [],
   "source": [
    "readShowProp x = (read (show x)) == x\n",
    "\n",
    "quickCheck readShowProp"
   ]
  },
  {
   "cell_type": "markdown",
   "id": "4c4df422",
   "metadata": {},
   "source": [
    "### Failure"
   ]
  },
  {
   "cell_type": "markdown",
   "id": "7fd956a0",
   "metadata": {},
   "source": [
    "Find out why this property fails.\n",
    "\n",
    "```haskell\n",
    "-- for a function\n",
    "square x = x * x\n",
    "-- why does this property not hold?\n",
    "-- Examine the type of sqrt.\n",
    "squareIdentity = square . sqrt\n",
    "```\n",
    "\n",
    "> <span style=\"color:green\">**Answer:**</span> Floating-point numbers in computers are represented using a finite number of bits, which means that they can only approximate the real numbers. This approximation can lead to rounding errors and subtle differences in the values of expressions involving floating-point numbers.\n",
    "When you raise a number `x` to the power of `2` (`x * x`) and then take the square root of the result, the floating-point arithmetic involved can introduce small numerical errors that prevent the two sides of the equation from being exactly equal."
   ]
  },
  {
   "cell_type": "markdown",
   "id": "39b6ac5b",
   "metadata": {},
   "source": [
    "### Idempotence\n",
    "\n",
    "Idempotence refers to a property of some functions in which the\n",
    "result value does not change beyond the initial application. If you\n",
    "apply the function once, it returns a result, and applying the same\n",
    "function to that value won’t ever change it. You might think of a list\n",
    "that you sort: once you sort it, the sorted list will remain the same\n",
    "after applying the same sorting function to it. It’s already sorted, so\n",
    "new applications of the sort function won’t change it.\n",
    "Use QuickCheck and the following helper functions to demonstrate\n",
    "idempotence for the following:\n",
    "\n",
    "```haskell\n",
    "twice f = f . f\n",
    "fourTimes = twice . twice\n",
    "```"
   ]
  },
  {
   "cell_type": "markdown",
   "id": "87e517a5",
   "metadata": {},
   "source": [
    "1. \n",
    "```haskell\n",
    "f x =\n",
    "    (capitalizeWord x\n",
    "    == twice capitalizeWord x)\n",
    "    &&\n",
    "    (capitalizeWord x\n",
    "    == fourTimes capitalizeWord x)\n",
    "```\n",
    "\n",
    "> <span style=\"color: green\">**Answer:**</span> Trivial!"
   ]
  },
  {
   "cell_type": "markdown",
   "id": "411fa0f7",
   "metadata": {},
   "source": [
    "2.\n",
    "```haskell\n",
    "f' x =\n",
    "    (sort x\n",
    "    == twice sort x)\n",
    "    &&\n",
    "    (sort x\n",
    "    == fourTimes sort x)\n",
    "```\n",
    "\n",
    "> <span style=\"color: green\">**Answer:**</span> Trivial!"
   ]
  },
  {
   "cell_type": "markdown",
   "id": "246d6ae6",
   "metadata": {},
   "source": [
    "### Make a Gen random generator for the datatype\n"
   ]
  },
  {
   "cell_type": "markdown",
   "id": "3c023543",
   "metadata": {},
   "source": [
    "We demonstrated in the chapter how to make Gen generators for\n",
    "different datatypes. We are so certain you enjoyed that, we are going\n",
    "to ask you to do it for some new datatypes:"
   ]
  },
  {
   "cell_type": "markdown",
   "id": "e93eb895",
   "metadata": {},
   "source": [
    "1. Equal probabilities for each.\n",
    "```haskell\n",
    "data Fool =\n",
    "    Fulse\n",
    "  | Frue\n",
    "    deriving (Eq, Show)\n",
    "```"
   ]
  },
  {
   "cell_type": "code",
   "execution_count": null,
   "id": "b12ee555",
   "metadata": {},
   "outputs": [],
   "source": [
    "data Fool\n",
    "  = Fulse\n",
    "  | Frue\n",
    "  deriving (Eq, Show)\n",
    "\n",
    "instance Arbitrary Fool where\n",
    "  arbitrary = elements [Fulse, Frue]"
   ]
  },
  {
   "cell_type": "markdown",
   "id": "067e55f3",
   "metadata": {},
   "source": [
    "2. $\\frac{2}{3}$s chance of Fulse, $\\frac{1}{3}$ chance of Frue."
   ]
  },
  {
   "cell_type": "code",
   "execution_count": null,
   "id": "e81157bc",
   "metadata": {},
   "outputs": [],
   "source": [
    "data Fool\n",
    "  = Fulse\n",
    "  | Frue\n",
    "  deriving (Eq, Show)\n",
    "\n",
    "instance Arbitrary Fool where\n",
    "  arbitrary = frequency [(2, return Fulse), (1, return Frue)]"
   ]
  },
  {
   "cell_type": "markdown",
   "id": "c0e1c51b",
   "metadata": {},
   "source": [
    "### Validating ciphers\n",
    "As a final exercise, create QuickCheck properties that verify your Cae-\n",
    "sar and Vigenère ciphers return the same data after encoding and\n",
    "decoding a string.\n",
    "\n",
    "> <span style=\"color: green\">**Answer:**</span>: See cipher directory in the current path as this notebook."
   ]
  }
 ],
 "metadata": {
  "kernelspec": {
   "display_name": "Haskell",
   "language": "haskell",
   "name": "haskell"
  },
  "language_info": {
   "codemirror_mode": "ihaskell",
   "file_extension": ".hs",
   "mimetype": "text/x-haskell",
   "name": "haskell",
   "pygments_lexer": "Haskell",
   "version": "9.6.4"
  }
 },
 "nbformat": 4,
 "nbformat_minor": 5
}
