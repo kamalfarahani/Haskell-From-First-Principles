{
 "cells": [
  {
   "cell_type": "markdown",
   "id": "b8fca3e7",
   "metadata": {},
   "source": [
    "## Testing"
   ]
  },
  {
   "cell_type": "markdown",
   "id": "a887e7ad",
   "metadata": {},
   "source": [
    "### Intermission: Short Exercise\n",
    "\n",
    "In the Chapter Exercises at the end of Recursion, you were given this exercise:\n",
    "\n",
    "Write a function that multiplies two numbers using recursive summation. The type should be `(Eq a, Num a) => a -> a -> a` although, depending on how you do it, you might also consider adding an `Ord` constraint.\n",
    "If you still have your answer, great! If not, rewrite it and then\n",
    "write hspec tests for it.\n",
    "\n",
    "The above examples demonstrate the basics of writing individual tests to test particular values. If you’d like to see a more developed example, you could refer to Chris’s library, `Bloodhound`."
   ]
  },
  {
   "cell_type": "code",
   "execution_count": 1,
   "id": "46bcc1b5",
   "metadata": {},
   "outputs": [],
   "source": [
    "myMult :: (Eq a, Num a) => a -> a -> a\n",
    "myMult x y = go x y 0\n",
    "    where\n",
    "        go x y count\n",
    "            | x == 0 = count\n",
    "            | otherwise = go (x - 1) y (count + y)"
   ]
  },
  {
   "cell_type": "code",
   "execution_count": null,
   "id": "5fba5cff",
   "metadata": {},
   "outputs": [],
   "source": [
    "import Test.Hspec\n",
    "\n",
    "\n",
    "testMyMult :: IO ()\n",
    "testMyMult = hspec $ do\n",
    "    describe \"MyMult\" $ do\n",
    "        it \"10 * 5 = 50\" $ do\n",
    "            myMult 10 5 `shouldBe` 50\n",
    "        it \"5 * 5 = 25\" $ do\n",
    "            myMult 5 5 `shouldBe` 25"
   ]
  },
  {
   "cell_type": "markdown",
   "id": "91771b02",
   "metadata": {},
   "source": [
    "### Arbitrary Typeclass\n",
    "\n",
    "The `Arbitrary` typeclass in Haskell is part of the `QuickCheck` library and is used for property-based testing. It provides a way to generate random values of a specific type for use in test cases. This allows you to write tests that cover a wide range of possible inputs, helping to ensure the robustness of your code.\n",
    "\n",
    "**Key Points:**\n",
    "\n",
    "- **Type Constraint:** The `Arbitrary` typeclass has a type constraint `Arbitrary a => a`, which means that any type `a` that has an instance of `Arbitrary` can be used to generate random values of that type.\n",
    "- **`arbitrary` Function:** The core function within `Arbitrary` is `arbitrary`. This function takes no arguments and returns a random value of the type `a` for which the instance is defined.\n",
    "- **Importance in Testing:** By using `arbitrary` to generate random inputs, you can test your functions with a variety of edge cases and unexpected values. This helps to catch potential bugs that might not be revealed by using only hand-crafted test cases.\n",
    "\n",
    "**Example 1: Generating Random Integers**\n",
    "\n",
    "```haskell\n",
    "import Test.QuickCheck\n",
    "\n",
    "data Point = Point Double Double\n",
    "  deriving (Eq, Show)\n",
    "\n",
    "instance Arbitrary Point where\n",
    "  arbitrary = do\n",
    "    x <- arbitrary\n",
    "    y <- arbitrary\n",
    "    return (Point x y)\n",
    "```\n",
    "\n",
    "In this example:\n",
    "\n",
    "1. We define a simple `Point` data type to hold two integer coordinates.\n",
    "2. We provide an `Arbitrary` instance for `Point`, which allows us to generate random `Point` values for testing purposes. remember that `Double` is an instance of `Arbitrary` already.\n",
    "\n",
    "**Example 2: Generating Random Booleans**\n",
    "\n",
    "```haskell\n",
    "instance Arbitrary Bool where\n",
    "  arbitrary = elements [True, False]  -- Generate True or False\n",
    "```\n",
    "\n",
    "This simple instance allows you to generate random `Bool` values (either `True` or `False`) for testing purposes.\n",
    "\n",
    "**Additional Considerations:**\n",
    "\n",
    "- Creating good `Arbitrary` instances can be challenging for complex types. You might need to combine different techniques like random selection from a list of possible values, recursive generation for nested types, or shrinking large values to smaller ones.\n",
    "- The `generic-random` package offers tools to help define `Arbitrary` instances for common data types.\n",
    "\n",
    "By understanding and using the `Arbitrary` typeclass effectively, you can write more robust and comprehensive tests for your Haskell code."
   ]
  },
  {
   "cell_type": "code",
   "execution_count": null,
   "id": "844afd27",
   "metadata": {},
   "outputs": [],
   "source": []
  }
 ],
 "metadata": {
  "kernelspec": {
   "display_name": "Haskell",
   "language": "haskell",
   "name": "haskell"
  },
  "language_info": {
   "codemirror_mode": "ihaskell",
   "file_extension": ".hs",
   "mimetype": "text/x-haskell",
   "name": "haskell",
   "pygments_lexer": "Haskell",
   "version": "9.6.4"
  }
 },
 "nbformat": 4,
 "nbformat_minor": 5
}
