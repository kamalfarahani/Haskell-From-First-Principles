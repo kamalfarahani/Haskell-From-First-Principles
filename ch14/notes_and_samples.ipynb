{
 "cells": [
  {
   "cell_type": "markdown",
   "id": "b8fca3e7",
   "metadata": {},
   "source": [
    "## Testing"
   ]
  },
  {
   "cell_type": "markdown",
   "id": "a887e7ad",
   "metadata": {},
   "source": [
    "### Intermission: Short Exercise\n",
    "\n",
    "In the Chapter Exercises at the end of Recursion, you were given this exercise:\n",
    "\n",
    "Write a function that multiplies two numbers using recursive summation. The type should be `(Eq a, Num a) => a -> a -> a` although, depending on how you do it, you might also consider adding an `Ord` constraint.\n",
    "If you still have your answer, great! If not, rewrite it and then\n",
    "write hspec tests for it.\n",
    "\n",
    "The above examples demonstrate the basics of writing individual tests to test particular values. If you’d like to see a more developed example, you could refer to Chris’s library, `Bloodhound`."
   ]
  },
  {
   "cell_type": "code",
   "execution_count": null,
   "id": "46bcc1b5",
   "metadata": {},
   "outputs": [],
   "source": [
    "myMult :: (Eq a, Num a) => a -> a -> a\n",
    "myMult x y = go x y 0\n",
    "    where\n",
    "        go x y count\n",
    "            | x == 0 = count\n",
    "            | otherwise = go (x - 1) y (count + y)"
   ]
  },
  {
   "cell_type": "code",
   "execution_count": null,
   "id": "5fba5cff",
   "metadata": {},
   "outputs": [
    {
     "ename": "",
     "evalue": "",
     "output_type": "error",
     "traceback": [
      "<interactive>:1:1: error:\n    Could not find module ‘Test.Hspec’\n    Use -v (or `:set -v` in ghci) to see a list of the files searched for."
     ]
    }
   ],
   "source": [
    "import Test.Hspec\n",
    "\n",
    "\n",
    "testMyMult :: IO ()\n",
    "testMyMult = hspec $ do\n",
    "    describe \"MyMult\" $ do\n",
    "        it \"10 * 5 = 50\" $ do\n",
    "            myMult 10 5 `shouldBe` 50\n",
    "        it \"5 * 5 = 25\" $ do\n",
    "            myMult 5 5 `shouldBe` 25"
   ]
  },
  {
   "cell_type": "code",
   "execution_count": null,
   "id": "006417e3",
   "metadata": {},
   "outputs": [],
   "source": []
  }
 ],
 "metadata": {
  "kernelspec": {
   "display_name": "Haskell",
   "language": "haskell",
   "name": "haskell"
  },
  "language_info": {
   "codemirror_mode": "ihaskell",
   "file_extension": ".hs",
   "mimetype": "text/x-haskell",
   "name": "haskell",
   "pygments_lexer": "Haskell",
   "version": "9.6.4"
  }
 },
 "nbformat": 4,
 "nbformat_minor": 5
}
