{
 "cells": [
  {
   "cell_type": "markdown",
   "id": "4797effb",
   "metadata": {},
   "source": [
    "## Algebraic Data Types (ADTs)\n",
    "\n",
    "In Haskell, Algebraic Data Types (ADTs) are a powerful tool for defining custom data structures. They allow you to create complex data types by combining simpler ones. Here's a breakdown of the concept:\n",
    "\n",
    "**Building Blocks:**\n",
    "\n",
    "* **Data Constructors:** These are like building blocks that create specific variants of your data type. Each constructor can have zero or more arguments to hold specific values.\n",
    "* **Sum vs. Product Types:**\n",
    "    * **Sum Types (Discriminated Unions):** Represent a choice between different possibilities. The data type can be one of several variants defined by the constructors. (Think \"either/or\")\n",
    "    * **Product Types (Records):** Combine multiple values of potentially different types into a single unit. (Think \"and\")\n",
    "\n",
    "**Putting it Together:**\n",
    "\n",
    "The `data` keyword is used to define an ADT. You specify the type name, followed by an equal sign (`=`) and then a list of constructors separated by the `|` symbol. Each constructor defines a variant of the data type.\n",
    "\n",
    "**Example: Point in 2D or 3D**\n",
    "\n",
    "```haskell\n",
    "data Point = Point2D Double Double | Point3D Double Double Double\n",
    "```\n",
    "\n",
    "* This defines a `Point` data type.\n",
    "* It has two constructors:\n",
    "    * `Point2D`: Takes two `Double` arguments for x and y coordinates (2D point).\n",
    "    * `Point3D`: Takes three `Double` arguments for x, y, and z coordinates (3D point).\n",
    "\n",
    "**Benefits of ADTs:**\n",
    "\n",
    "* **Type Safety:** Enforces data integrity by clearly defining the possible structures your data can take.\n",
    "* **Pattern Matching:** Enables elegant and concise code for working with different variants of the data type.\n",
    "* **Modularity:** Promotes code reusability and maintainability by encapsulating data and related operations.\n",
    "\n",
    "By combining sum and product types, you can create intricate data structures that precisely model real-world concepts in your Haskell programs."
   ]
  },
  {
   "cell_type": "markdown",
   "id": "ac728fd3",
   "metadata": {},
   "source": [
    "### Constructors\n",
    "\n",
    "There are two kinds of constructors in Haskell:\n",
    "1. Type constructors and\n",
    "2. Data constructors.\n",
    "\n",
    "Although the term constructor is often used to describe all type constructors and data constructors, we can make a distinction between **constants and constructors**. Type and data constructors that\n",
    "take no arguments are constants. They can only store a fixed type and amount of data. So, in the Bool datatype, for example, Bool is a type constant, a concrete type that isn’t waiting for any additional information in the form of an argument in order to be fully realized as a type."
   ]
  },
  {
   "cell_type": "markdown",
   "id": "fcd16168",
   "metadata": {},
   "source": [
    "### Type constructors and kinds\n",
    "\n",
    "In Haskell, types and kinds are two closely related concepts that define how your data is structured and manipulated. Here's a breakdown of each:\n",
    "\n",
    "**Type Constructors:**\n",
    "\n",
    "* **Think of them as blueprints:** They define the template for creating specific data types. Similar to functions, they take arguments (called type variables) and return a new type.\n",
    "* **Example:** The list constructor `[]` is a type constructor. It takes a type variable `a` (representing any type) and creates a list type `[a]`. You can use this blueprint to create lists of integers (`[Int]`), strings (`[String]`), or even other lists (`[[Int]]`).\n",
    "\n",
    "**Kinds:**\n",
    "\n",
    "* **Kinds define the \"type\" of types:** They specify what kind of value a type constructor actually produces.\n",
    "* **Think of them as categories:** Just like numbers have a kind of \"number\", types in Haskell have a kind that describes their structure.\n",
    "* **Kinds in Haskell are denoted with an asterisk (*):**\n",
    "    * `*`: Represents a concrete type (like `Int`, `String`, or a user-defined data type).\n",
    "    * `* -> *`: Represents a function type.\n",
    "> <span style=\"color: red\">**Note:**</span> Kinds are the types of types, or types one level up. We represent\n",
    "kinds in Haskell with `*`. We know something is a fully applied, concrete type when it is represented as `*`. When it is `* -> *`, it, like a function, is still waiting to be applied."
   ]
  },
  {
   "cell_type": "code",
   "execution_count": 5,
   "id": "99b50f1a",
   "metadata": {},
   "outputs": [
    {
     "data": {
      "text/html": [
       "<style>/* Styles used for the Hoogle display in the pager */\n",
       ".hoogle-doc {\n",
       "display: block;\n",
       "padding-bottom: 1.3em;\n",
       "padding-left: 0.4em;\n",
       "}\n",
       ".hoogle-code {\n",
       "display: block;\n",
       "font-family: monospace;\n",
       "white-space: pre;\n",
       "}\n",
       ".hoogle-text {\n",
       "display: block;\n",
       "}\n",
       ".hoogle-name {\n",
       "color: green;\n",
       "font-weight: bold;\n",
       "}\n",
       ".hoogle-head {\n",
       "font-weight: bold;\n",
       "}\n",
       ".hoogle-sub {\n",
       "display: block;\n",
       "margin-left: 0.4em;\n",
       "}\n",
       ".hoogle-package {\n",
       "font-weight: bold;\n",
       "font-style: italic;\n",
       "}\n",
       ".hoogle-module {\n",
       "font-weight: bold;\n",
       "}\n",
       ".hoogle-class {\n",
       "font-weight: bold;\n",
       "}\n",
       "\n",
       ".get-type {\n",
       "color: green;\n",
       "font-weight: bold;\n",
       "font-family: monospace;\n",
       "display: block;\n",
       "white-space: pre-wrap;\n",
       "}\n",
       ".show-type {\n",
       "color: green;\n",
       "font-weight: bold;\n",
       "font-family: monospace;\n",
       "margin-left: 1em;\n",
       "}\n",
       ".mono {\n",
       "font-family: monospace;\n",
       "display: block;\n",
       "}\n",
       ".err-msg {\n",
       "color: red;\n",
       "font-style: italic;\n",
       "font-family: monospace;\n",
       "white-space: pre;\n",
       "display: block;\n",
       "}\n",
       "#unshowable {\n",
       "color: red;\n",
       "font-weight: bold;\n",
       "}\n",
       ".err-msg.in.collapse {\n",
       "padding-top: 0.7em;\n",
       "}\n",
       "\n",
       ".highlight-code {\n",
       "white-space: pre;\n",
       "font-family: monospace;\n",
       "}\n",
       "\n",
       ".suggestion-warning { \n",
       "font-weight: bold;\n",
       "color: rgb(200, 130, 0);\n",
       "}\n",
       ".suggestion-error { \n",
       "font-weight: bold;\n",
       "color: red;\n",
       "}\n",
       ".suggestion-name {\n",
       "font-weight: bold;\n",
       "}\n",
       "\n",
       "</style><span class='get-type'>Int :: *</span>"
      ],
      "text/plain": [
       "Int :: *"
      ]
     },
     "metadata": {},
     "output_type": "display_data"
    }
   ],
   "source": [
    ":k Int"
   ]
  },
  {
   "cell_type": "code",
   "execution_count": 6,
   "id": "e2f5f2e6",
   "metadata": {},
   "outputs": [
    {
     "data": {
      "text/html": [
       "<style>/* Styles used for the Hoogle display in the pager */\n",
       ".hoogle-doc {\n",
       "display: block;\n",
       "padding-bottom: 1.3em;\n",
       "padding-left: 0.4em;\n",
       "}\n",
       ".hoogle-code {\n",
       "display: block;\n",
       "font-family: monospace;\n",
       "white-space: pre;\n",
       "}\n",
       ".hoogle-text {\n",
       "display: block;\n",
       "}\n",
       ".hoogle-name {\n",
       "color: green;\n",
       "font-weight: bold;\n",
       "}\n",
       ".hoogle-head {\n",
       "font-weight: bold;\n",
       "}\n",
       ".hoogle-sub {\n",
       "display: block;\n",
       "margin-left: 0.4em;\n",
       "}\n",
       ".hoogle-package {\n",
       "font-weight: bold;\n",
       "font-style: italic;\n",
       "}\n",
       ".hoogle-module {\n",
       "font-weight: bold;\n",
       "}\n",
       ".hoogle-class {\n",
       "font-weight: bold;\n",
       "}\n",
       "\n",
       ".get-type {\n",
       "color: green;\n",
       "font-weight: bold;\n",
       "font-family: monospace;\n",
       "display: block;\n",
       "white-space: pre-wrap;\n",
       "}\n",
       ".show-type {\n",
       "color: green;\n",
       "font-weight: bold;\n",
       "font-family: monospace;\n",
       "margin-left: 1em;\n",
       "}\n",
       ".mono {\n",
       "font-family: monospace;\n",
       "display: block;\n",
       "}\n",
       ".err-msg {\n",
       "color: red;\n",
       "font-style: italic;\n",
       "font-family: monospace;\n",
       "white-space: pre;\n",
       "display: block;\n",
       "}\n",
       "#unshowable {\n",
       "color: red;\n",
       "font-weight: bold;\n",
       "}\n",
       ".err-msg.in.collapse {\n",
       "padding-top: 0.7em;\n",
       "}\n",
       "\n",
       ".highlight-code {\n",
       "white-space: pre;\n",
       "font-family: monospace;\n",
       "}\n",
       "\n",
       ".suggestion-warning { \n",
       "font-weight: bold;\n",
       "color: rgb(200, 130, 0);\n",
       "}\n",
       ".suggestion-error { \n",
       "font-weight: bold;\n",
       "color: red;\n",
       "}\n",
       ".suggestion-name {\n",
       "font-weight: bold;\n",
       "}\n",
       "\n",
       "</style><span class='get-type'>[] :: * -> *</span>"
      ],
      "text/plain": [
       "[] :: * -> *"
      ]
     },
     "metadata": {},
     "output_type": "display_data"
    }
   ],
   "source": [
    ":k []"
   ]
  },
  {
   "cell_type": "code",
   "execution_count": null,
   "id": "6d0f6f5c",
   "metadata": {},
   "outputs": [
    {
     "data": {
      "text/html": [
       "<style>/* Styles used for the Hoogle display in the pager */\n",
       ".hoogle-doc {\n",
       "display: block;\n",
       "padding-bottom: 1.3em;\n",
       "padding-left: 0.4em;\n",
       "}\n",
       ".hoogle-code {\n",
       "display: block;\n",
       "font-family: monospace;\n",
       "white-space: pre;\n",
       "}\n",
       ".hoogle-text {\n",
       "display: block;\n",
       "}\n",
       ".hoogle-name {\n",
       "color: green;\n",
       "font-weight: bold;\n",
       "}\n",
       ".hoogle-head {\n",
       "font-weight: bold;\n",
       "}\n",
       ".hoogle-sub {\n",
       "display: block;\n",
       "margin-left: 0.4em;\n",
       "}\n",
       ".hoogle-package {\n",
       "font-weight: bold;\n",
       "font-style: italic;\n",
       "}\n",
       ".hoogle-module {\n",
       "font-weight: bold;\n",
       "}\n",
       ".hoogle-class {\n",
       "font-weight: bold;\n",
       "}\n",
       "\n",
       ".get-type {\n",
       "color: green;\n",
       "font-weight: bold;\n",
       "font-family: monospace;\n",
       "display: block;\n",
       "white-space: pre-wrap;\n",
       "}\n",
       ".show-type {\n",
       "color: green;\n",
       "font-weight: bold;\n",
       "font-family: monospace;\n",
       "margin-left: 1em;\n",
       "}\n",
       ".mono {\n",
       "font-family: monospace;\n",
       "display: block;\n",
       "}\n",
       ".err-msg {\n",
       "color: red;\n",
       "font-style: italic;\n",
       "font-family: monospace;\n",
       "white-space: pre;\n",
       "display: block;\n",
       "}\n",
       "#unshowable {\n",
       "color: red;\n",
       "font-weight: bold;\n",
       "}\n",
       ".err-msg.in.collapse {\n",
       "padding-top: 0.7em;\n",
       "}\n",
       "\n",
       ".highlight-code {\n",
       "white-space: pre;\n",
       "font-family: monospace;\n",
       "}\n",
       "\n",
       ".suggestion-warning { \n",
       "font-weight: bold;\n",
       "color: rgb(200, 130, 0);\n",
       "}\n",
       ".suggestion-error { \n",
       "font-weight: bold;\n",
       "color: red;\n",
       "}\n",
       ".suggestion-name {\n",
       "font-weight: bold;\n",
       "}\n",
       "\n",
       "</style><span class='get-type'>Maybe :: * -> *</span>"
      ],
      "text/plain": [
       "Maybe :: * -> *"
      ]
     },
     "metadata": {},
     "output_type": "display_data"
    }
   ],
   "source": [
    ":k Maybe"
   ]
  },
  {
   "cell_type": "markdown",
   "id": "998fb298",
   "metadata": {},
   "source": [
    "### Exercises: Dog Types\n",
    "\n",
    "Given the following data declarations, answer the questions.\n",
    "\n",
    "```haskell\n",
    "\n",
    "data Doggies a = Husky a | Mastiff a deriving (Eq, Show)\n",
    "\n",
    "\n",
    "data DogueDeBordeaux doge = DogueDeBordeaux doge\n",
    "```\n",
    "\n",
    "1. Is Doggies a type constructor or a data constructor? \n",
    "    > <span style=\"color:green\">**Answer:**</span> It is a type constructor.\n",
    "2. What is the kind of Doggies?\n",
    "    > <span style=\"color:green\">**Answer:**</span> The kind is `* -> *`\n",
    "3. What is the kind of Doggies String?\n",
    "    > <span style=\"color:green\">**Answer:**</span> The kind is `*`\n",
    "4. What is the type of Husky 10?\n",
    "    > <span style=\"color:green\">**Answer:**</span> The type is `Num a => Doggies a`\n",
    "5. What is the type of Husky (10 :: Integer)?\n",
    "    > <span style=\"color:green\">**Answer:**</span> The type is `Doggies Integer` \n",
    "6. What is the type of Mastiff \"Scooby Doo\"?\n",
    "    > <span style=\"color:green\">**Answer:**</span> The type is `Doggies String`\n",
    "7. Is DogueDeBordeaux a type constructor or a data constructor?\n",
    "    > <span style=\"color:green\">**Answer:**</span> It is both a type constructor and a data constructor.\n",
    "8. What is the type of DogueDeBordeaux?\n",
    "    > <span style=\"color:green\">**Answer:**</span> The type is `a -> DogueDeBordeaux a`\n",
    "9. What is the type of DogueDeBordeaux \"doggie!\"\n",
    "    > <span style=\"color:green\">**Answer:**</span> The type is `DogueDeBordeaux String`"
   ]
  },
  {
   "cell_type": "markdown",
   "id": "f33ebf92",
   "metadata": {},
   "source": [
    "### Exercise: Vehicles\n",
    "\n",
    "```haskell\n",
    "data Price = Price Integer deriving (Eq, Show)\n",
    "\n",
    "data Manufacturer = Mini | Mazda | Tata deriving (Eq, Show)\n",
    "\n",
    "data Airline = PapuAir | CatapultsR'Us | TakeYourChancesUnited deriving (Eq, Show)\n",
    "\n",
    "data Vehicle = Car Manufacturer Price | Plane Airline deriving (Eq, Show)\n",
    "```\n",
    "\n",
    "For these exercises, we’ll use the datatypes defined in the above\n",
    "section. It would be good if you’d typed them all into a source file\n",
    "already, but if you hadn’t, please do so now. You can then define\n",
    "some sample data on your own, or use these to get you started:\n",
    "\n",
    "```haskell\n",
    "myCar = Car Mini (Price 14000)\n",
    "\n",
    "urCar = Car Mazda (Price 20000)\n",
    "\n",
    "clownCar = Car Tata (Price 7000)\n",
    "\n",
    "doge = Plane PapuAir\n",
    "```"
   ]
  },
  {
   "cell_type": "code",
   "execution_count": 6,
   "id": "ce9175a7",
   "metadata": {},
   "outputs": [
    {
     "data": {
      "text/html": [
       "<style>/* Styles used for the Hoogle display in the pager */\n",
       ".hoogle-doc {\n",
       "display: block;\n",
       "padding-bottom: 1.3em;\n",
       "padding-left: 0.4em;\n",
       "}\n",
       ".hoogle-code {\n",
       "display: block;\n",
       "font-family: monospace;\n",
       "white-space: pre;\n",
       "}\n",
       ".hoogle-text {\n",
       "display: block;\n",
       "}\n",
       ".hoogle-name {\n",
       "color: green;\n",
       "font-weight: bold;\n",
       "}\n",
       ".hoogle-head {\n",
       "font-weight: bold;\n",
       "}\n",
       ".hoogle-sub {\n",
       "display: block;\n",
       "margin-left: 0.4em;\n",
       "}\n",
       ".hoogle-package {\n",
       "font-weight: bold;\n",
       "font-style: italic;\n",
       "}\n",
       ".hoogle-module {\n",
       "font-weight: bold;\n",
       "}\n",
       ".hoogle-class {\n",
       "font-weight: bold;\n",
       "}\n",
       "\n",
       ".get-type {\n",
       "color: green;\n",
       "font-weight: bold;\n",
       "font-family: monospace;\n",
       "display: block;\n",
       "white-space: pre-wrap;\n",
       "}\n",
       ".show-type {\n",
       "color: green;\n",
       "font-weight: bold;\n",
       "font-family: monospace;\n",
       "margin-left: 1em;\n",
       "}\n",
       ".mono {\n",
       "font-family: monospace;\n",
       "display: block;\n",
       "}\n",
       ".err-msg {\n",
       "color: red;\n",
       "font-style: italic;\n",
       "font-family: monospace;\n",
       "white-space: pre;\n",
       "display: block;\n",
       "}\n",
       "#unshowable {\n",
       "color: red;\n",
       "font-weight: bold;\n",
       "}\n",
       ".err-msg.in.collapse {\n",
       "padding-top: 0.7em;\n",
       "}\n",
       "\n",
       ".highlight-code {\n",
       "white-space: pre;\n",
       "font-family: monospace;\n",
       "}\n",
       "\n",
       ".suggestion-warning { \n",
       "font-weight: bold;\n",
       "color: rgb(200, 130, 0);\n",
       "}\n",
       ".suggestion-error { \n",
       "font-weight: bold;\n",
       "color: red;\n",
       "}\n",
       ".suggestion-name {\n",
       "font-weight: bold;\n",
       "}\n",
       "\n",
       "</style><div class=\"suggestion-name\" style=\"clear:both;\">Use newtype instead of data</div><div class=\"suggestion-row\" style=\"float: left;\"><div class=\"suggestion-warning\">Found:</div><div class=\"highlight-code\" id=\"haskell\">data Price\n",
       "  = Price Integer\n",
       "  deriving (Eq, Show)</div></div><div class=\"suggestion-row\" style=\"float: left;\"><div class=\"suggestion-warning\">Why Not:</div><div class=\"highlight-code\" id=\"haskell\">newtype Price\n",
       "  = Price Integer\n",
       "  deriving (Eq, Show)</div></div>"
      ],
      "text/plain": [
       "Line 1: Use newtype instead of data\n",
       "Found:\n",
       "data Price\n",
       "  = Price Integer\n",
       "  deriving (Eq, Show)\n",
       "Why not:\n",
       "newtype Price\n",
       "  = Price Integer\n",
       "  deriving (Eq, Show)"
      ]
     },
     "metadata": {},
     "output_type": "display_data"
    }
   ],
   "source": [
    "data Price = Price Integer deriving (Eq, Show)\n",
    "\n",
    "data Manufacturer = Mini | Mazda | Tata deriving (Eq, Show)\n",
    "\n",
    "data Airline = PapuAir | CatapultsR'Us | TakeYourChancesUnited deriving (Eq, Show)\n",
    "\n",
    "data Vehicle = Car Manufacturer Price | Plane Airline deriving (Eq, Show)"
   ]
  },
  {
   "cell_type": "markdown",
   "id": "9ee9865d",
   "metadata": {},
   "source": [
    "1. What is the type of `myCar`?\n",
    "\n",
    "> <span style=\"color: green\">**Answer:**</span> The type of `myCar` is `Vehicle`"
   ]
  },
  {
   "cell_type": "markdown",
   "id": "d02b2c9b",
   "metadata": {},
   "source": [
    "2. Given the following, define the functions:\n",
    "\n",
    "```haskell\n",
    "isCar :: Vehicle -> Bool\n",
    "isCar = undefined\n",
    "\n",
    "isPlane :: Vehicle -> Bool\n",
    "isPlane = undefined\n",
    "\n",
    "areCars :: [Vehicle] -> [Bool]\n",
    "areCars = undefined\n",
    "```"
   ]
  },
  {
   "cell_type": "code",
   "execution_count": 8,
   "id": "a86cbae1",
   "metadata": {},
   "outputs": [],
   "source": [
    "isCar :: Vehicle -> Bool\n",
    "isCar (Car _ _) = True\n",
    "isCar _ = False\n",
    "\n",
    "isPlane :: Vehicle -> Bool\n",
    "isPlane (Plane _) = True\n",
    "isPlane _ = False\n",
    "\n",
    "areCars :: [Vehicle] -> [Bool]\n",
    "areCars = map isCar"
   ]
  },
  {
   "cell_type": "markdown",
   "id": "3d177e69",
   "metadata": {},
   "source": [
    "3. Now we’re going to write a function to tell us the manufacturer of a piece of data:\n",
    "\n",
    "```haskell\n",
    "getManu :: Vehicle -> Manufacturer\n",
    "getManu = undefined\n",
    "```"
   ]
  },
  {
   "cell_type": "code",
   "execution_count": 9,
   "id": "d6b783da",
   "metadata": {},
   "outputs": [],
   "source": [
    "getManu :: Vehicle -> Manufacturer\n",
    "getManu (Car m _) = m"
   ]
  },
  {
   "cell_type": "markdown",
   "id": "1cf7f1ea",
   "metadata": {},
   "source": [
    "4. Given that we’re returning the Manufacturer, what will happen if you use this on `Plane` data?\n",
    "\n",
    "> <span style=\"color: green\">**Answer:**</span> We will get an error."
   ]
  },
  {
   "cell_type": "code",
   "execution_count": 10,
   "id": "8dc07610",
   "metadata": {},
   "outputs": [
    {
     "ename": "",
     "evalue": "",
     "output_type": "error",
     "traceback": [
      "<interactive>:2:1-21: Non-exhaustive patterns in function getManu"
     ]
    }
   ],
   "source": [
    "getManu (Plane PapuAir)"
   ]
  },
  {
   "cell_type": "markdown",
   "id": "b0ca69e2",
   "metadata": {},
   "source": [
    "5. All right. Let’s say you’ve decided to add the size of the plane as an argument to the Plane constructor. Add that to your datatypes in the appropriate places and change your data and functions appropriately."
   ]
  },
  {
   "cell_type": "code",
   "execution_count": 12,
   "id": "c1afc1f1",
   "metadata": {},
   "outputs": [
    {
     "data": {
      "text/html": [
       "<style>/* Styles used for the Hoogle display in the pager */\n",
       ".hoogle-doc {\n",
       "display: block;\n",
       "padding-bottom: 1.3em;\n",
       "padding-left: 0.4em;\n",
       "}\n",
       ".hoogle-code {\n",
       "display: block;\n",
       "font-family: monospace;\n",
       "white-space: pre;\n",
       "}\n",
       ".hoogle-text {\n",
       "display: block;\n",
       "}\n",
       ".hoogle-name {\n",
       "color: green;\n",
       "font-weight: bold;\n",
       "}\n",
       ".hoogle-head {\n",
       "font-weight: bold;\n",
       "}\n",
       ".hoogle-sub {\n",
       "display: block;\n",
       "margin-left: 0.4em;\n",
       "}\n",
       ".hoogle-package {\n",
       "font-weight: bold;\n",
       "font-style: italic;\n",
       "}\n",
       ".hoogle-module {\n",
       "font-weight: bold;\n",
       "}\n",
       ".hoogle-class {\n",
       "font-weight: bold;\n",
       "}\n",
       "\n",
       ".get-type {\n",
       "color: green;\n",
       "font-weight: bold;\n",
       "font-family: monospace;\n",
       "display: block;\n",
       "white-space: pre-wrap;\n",
       "}\n",
       ".show-type {\n",
       "color: green;\n",
       "font-weight: bold;\n",
       "font-family: monospace;\n",
       "margin-left: 1em;\n",
       "}\n",
       ".mono {\n",
       "font-family: monospace;\n",
       "display: block;\n",
       "}\n",
       ".err-msg {\n",
       "color: red;\n",
       "font-style: italic;\n",
       "font-family: monospace;\n",
       "white-space: pre;\n",
       "display: block;\n",
       "}\n",
       "#unshowable {\n",
       "color: red;\n",
       "font-weight: bold;\n",
       "}\n",
       ".err-msg.in.collapse {\n",
       "padding-top: 0.7em;\n",
       "}\n",
       "\n",
       ".highlight-code {\n",
       "white-space: pre;\n",
       "font-family: monospace;\n",
       "}\n",
       "\n",
       ".suggestion-warning { \n",
       "font-weight: bold;\n",
       "color: rgb(200, 130, 0);\n",
       "}\n",
       ".suggestion-error { \n",
       "font-weight: bold;\n",
       "color: red;\n",
       "}\n",
       ".suggestion-name {\n",
       "font-weight: bold;\n",
       "}\n",
       "\n",
       "</style><div class=\"suggestion-name\" style=\"clear:both;\">Use newtype instead of data</div><div class=\"suggestion-row\" style=\"float: left;\"><div class=\"suggestion-warning\">Found:</div><div class=\"highlight-code\" id=\"haskell\">data Size\n",
       "  = Size Integer\n",
       "  deriving (Eq, Show)</div></div><div class=\"suggestion-row\" style=\"float: left;\"><div class=\"suggestion-warning\">Why Not:</div><div class=\"highlight-code\" id=\"haskell\">newtype Size\n",
       "  = Size Integer\n",
       "  deriving (Eq, Show)</div></div>"
      ],
      "text/plain": [
       "Line 1: Use newtype instead of data\n",
       "Found:\n",
       "data Size\n",
       "  = Size Integer\n",
       "  deriving (Eq, Show)\n",
       "Why not:\n",
       "newtype Size\n",
       "  = Size Integer\n",
       "  deriving (Eq, Show)"
      ]
     },
     "metadata": {},
     "output_type": "display_data"
    }
   ],
   "source": [
    "data Size = Size Integer deriving (Eq, Show)\n",
    "\n",
    "data Vehicle = Car Manufacturer Price | Plane Airline Size deriving (Eq, Show)"
   ]
  },
  {
   "cell_type": "code",
   "execution_count": 13,
   "id": "eb7b57b5",
   "metadata": {},
   "outputs": [],
   "source": [
    "isCar :: Vehicle -> Bool\n",
    "isCar (Car _ _) = True\n",
    "isCar _ = False\n",
    "\n",
    "isPlane :: Vehicle -> Bool\n",
    "isPlane (Plane _ _) = True\n",
    "isPlane _ = False\n",
    "\n",
    "areCars :: [Vehicle] -> [Bool]\n",
    "areCars = map isCar\n",
    "\n",
    "getManu :: Vehicle -> Manufacturer\n",
    "getManu (Car m _) = m"
   ]
  },
  {
   "cell_type": "markdown",
   "id": "563362c2",
   "metadata": {},
   "source": [
    "### Exercises: Cardinality\n",
    "\n",
    "While we haven’t explicitly described the rules for calculating the\n",
    "cardinality of datatypes yet, you might already have an idea of how\n",
    "to do it for simple datatypes with nullary constructors. Try not to\n",
    "overthink these exercises — follow your intuition based on what you\n",
    "know."
   ]
  },
  {
   "cell_type": "markdown",
   "id": "9beb6702",
   "metadata": {},
   "source": [
    "1.\n",
    "```haskell\n",
    "data PugType = PugData\n",
    "```\n",
    "\n",
    "> <span style=\"color:green\">**Answer:**</span> The cardinality of the `PugType` type is `1`."
   ]
  },
  {
   "cell_type": "markdown",
   "id": "83fa983b",
   "metadata": {},
   "source": [
    "2. For this one, recall that `Bool` is also defined with the `|`:\n",
    "``` haskell\n",
    "data Airline =\n",
    "      PapuAir\n",
    "    | CatapultsR'Us\n",
    "    | TakeYourChancesUnited\n",
    "```\n",
    "\n",
    "> <span style=\"color:green\">**Answer:**</span> The Cardinality is `3`"
   ]
  },
  {
   "cell_type": "markdown",
   "id": "44f4c8df",
   "metadata": {},
   "source": [
    "3. Given what we know about Int8, what’s the cardinality of Int16?\n",
    "\n",
    "> <span style=\"color: green\">**Answer:**</span> `Int16` has a cardinality of $2^{16} = 65536$."
   ]
  },
  {
   "cell_type": "markdown",
   "id": "142d1f76",
   "metadata": {},
   "source": [
    "4. Use the `REPL` and `maxBound` and `minBound` to examine `Int` and `Integer`. What can you say about the cardinality of those types?\n",
    "\n",
    "> <span style=\"color:green\">**Answer:**</span> The cardinality of `Int` is $2^{64}$. The Integer is unbounded and its cardinality is $\\aleph_0$."
   ]
  },
  {
   "cell_type": "code",
   "execution_count": 17,
   "id": "a029e464",
   "metadata": {},
   "outputs": [
    {
     "data": {
      "text/plain": [
       "9223372036854775807"
      ]
     },
     "metadata": {},
     "output_type": "display_data"
    }
   ],
   "source": [
    "maxBoundInt :: Int\n",
    "maxBoundInt = maxBound\n",
    "maxBoundInt"
   ]
  },
  {
   "cell_type": "code",
   "execution_count": 20,
   "id": "384a197f",
   "metadata": {},
   "outputs": [
    {
     "data": {
      "text/plain": [
       "-9223372036854775808"
      ]
     },
     "metadata": {},
     "output_type": "display_data"
    }
   ],
   "source": [
    "minBoundInt :: Int\n",
    "minBoundInt = minBound\n",
    "minBoundInt"
   ]
  },
  {
   "cell_type": "code",
   "execution_count": 21,
   "id": "ad24ee1c",
   "metadata": {},
   "outputs": [
    {
     "ename": "",
     "evalue": "",
     "output_type": "error",
     "traceback": [
      "<interactive>:2:19: error: [GHC-39999]\n    • No instance for ‘Bounded Integer’ arising from a use of ‘maxBound’\n    • In the expression: maxBound\n      In an equation for ‘maxBoundInteger’: maxBoundInteger = maxBound"
     ]
    }
   ],
   "source": [
    "maxBoundInteger :: Integer\n",
    "maxBoundInteger = maxBound"
   ]
  },
  {
   "cell_type": "markdown",
   "id": "94b7ee5e",
   "metadata": {},
   "source": [
    "5. Extra credit (impress your friends!): What’s the connection between the `8` in `Int8` and that type’s cardinality of `256`?\n",
    "\n",
    "> <span style=\"color: green\">**Answer:**</span> $2^8 = 256$."
   ]
  },
  {
   "cell_type": "markdown",
   "id": "5fbc30da",
   "metadata": {},
   "source": [
    "### Exercises: For Example\n",
    "\n",
    "Given the following declaration:\n",
    "\n",
    "```haskell\n",
    "data Example = MakeExample deriving Show\n",
    "```\n",
    "\n",
    "1. You can query the type of a value in GHCi with the `:type` command, also abbreviated `:t`.\n",
    "\n",
    "**Example:**\n",
    "```haskell\n",
    "Prelude> :t False\n",
    "False :: Bool\n",
    "```\n",
    "\n",
    "What is the type of data constructor `MakeExample`? What happens when you request the type of Example?\n",
    "\n",
    "> <span style=\"color: green;\">**Answer:**</span> Type of `MakeExample` is `Example`"
   ]
  },
  {
   "cell_type": "markdown",
   "id": "c7661465",
   "metadata": {},
   "source": [
    "3. Try making a new datatype like `Example` but with a single type argument added to `MakeExample`, such as `Int`. What has changed when you query `MakeExample` with `:type` in GHCi?\n",
    "\n",
    "> <span style=\"color: green\">**Answer:**</span> `MakeExample` now has the type `Int -> Example`"
   ]
  },
  {
   "cell_type": "code",
   "execution_count": 22,
   "id": "7cf86a76",
   "metadata": {},
   "outputs": [
    {
     "data": {
      "text/html": [
       "<style>/* Styles used for the Hoogle display in the pager */\n",
       ".hoogle-doc {\n",
       "display: block;\n",
       "padding-bottom: 1.3em;\n",
       "padding-left: 0.4em;\n",
       "}\n",
       ".hoogle-code {\n",
       "display: block;\n",
       "font-family: monospace;\n",
       "white-space: pre;\n",
       "}\n",
       ".hoogle-text {\n",
       "display: block;\n",
       "}\n",
       ".hoogle-name {\n",
       "color: green;\n",
       "font-weight: bold;\n",
       "}\n",
       ".hoogle-head {\n",
       "font-weight: bold;\n",
       "}\n",
       ".hoogle-sub {\n",
       "display: block;\n",
       "margin-left: 0.4em;\n",
       "}\n",
       ".hoogle-package {\n",
       "font-weight: bold;\n",
       "font-style: italic;\n",
       "}\n",
       ".hoogle-module {\n",
       "font-weight: bold;\n",
       "}\n",
       ".hoogle-class {\n",
       "font-weight: bold;\n",
       "}\n",
       "\n",
       ".get-type {\n",
       "color: green;\n",
       "font-weight: bold;\n",
       "font-family: monospace;\n",
       "display: block;\n",
       "white-space: pre-wrap;\n",
       "}\n",
       ".show-type {\n",
       "color: green;\n",
       "font-weight: bold;\n",
       "font-family: monospace;\n",
       "margin-left: 1em;\n",
       "}\n",
       ".mono {\n",
       "font-family: monospace;\n",
       "display: block;\n",
       "}\n",
       ".err-msg {\n",
       "color: red;\n",
       "font-style: italic;\n",
       "font-family: monospace;\n",
       "white-space: pre;\n",
       "display: block;\n",
       "}\n",
       "#unshowable {\n",
       "color: red;\n",
       "font-weight: bold;\n",
       "}\n",
       ".err-msg.in.collapse {\n",
       "padding-top: 0.7em;\n",
       "}\n",
       "\n",
       ".highlight-code {\n",
       "white-space: pre;\n",
       "font-family: monospace;\n",
       "}\n",
       "\n",
       ".suggestion-warning { \n",
       "font-weight: bold;\n",
       "color: rgb(200, 130, 0);\n",
       "}\n",
       ".suggestion-error { \n",
       "font-weight: bold;\n",
       "color: red;\n",
       "}\n",
       ".suggestion-name {\n",
       "font-weight: bold;\n",
       "}\n",
       "\n",
       "</style><div class=\"suggestion-name\" style=\"clear:both;\">Use newtype instead of data</div><div class=\"suggestion-row\" style=\"float: left;\"><div class=\"suggestion-warning\">Found:</div><div class=\"highlight-code\" id=\"haskell\">data Example2\n",
       "  = MakeExample Int\n",
       "  deriving (Show, Eq)</div></div><div class=\"suggestion-row\" style=\"float: left;\"><div class=\"suggestion-warning\">Why Not:</div><div class=\"highlight-code\" id=\"haskell\">newtype Example2\n",
       "  = MakeExample Int\n",
       "  deriving (Show, Eq)</div></div>"
      ],
      "text/plain": [
       "Line 1: Use newtype instead of data\n",
       "Found:\n",
       "data Example2\n",
       "  = MakeExample Int\n",
       "  deriving (Show, Eq)\n",
       "Why not:\n",
       "newtype Example2\n",
       "  = MakeExample Int\n",
       "  deriving (Show, Eq)"
      ]
     },
     "metadata": {},
     "output_type": "display_data"
    }
   ],
   "source": [
    "data Example2 = MakeExample Int deriving (Show, Eq)"
   ]
  },
  {
   "cell_type": "code",
   "execution_count": null,
   "id": "1ddacd46",
   "metadata": {},
   "outputs": [
    {
     "data": {
      "text/html": [
       "<style>/* Styles used for the Hoogle display in the pager */\n",
       ".hoogle-doc {\n",
       "display: block;\n",
       "padding-bottom: 1.3em;\n",
       "padding-left: 0.4em;\n",
       "}\n",
       ".hoogle-code {\n",
       "display: block;\n",
       "font-family: monospace;\n",
       "white-space: pre;\n",
       "}\n",
       ".hoogle-text {\n",
       "display: block;\n",
       "}\n",
       ".hoogle-name {\n",
       "color: green;\n",
       "font-weight: bold;\n",
       "}\n",
       ".hoogle-head {\n",
       "font-weight: bold;\n",
       "}\n",
       ".hoogle-sub {\n",
       "display: block;\n",
       "margin-left: 0.4em;\n",
       "}\n",
       ".hoogle-package {\n",
       "font-weight: bold;\n",
       "font-style: italic;\n",
       "}\n",
       ".hoogle-module {\n",
       "font-weight: bold;\n",
       "}\n",
       ".hoogle-class {\n",
       "font-weight: bold;\n",
       "}\n",
       "\n",
       ".get-type {\n",
       "color: green;\n",
       "font-weight: bold;\n",
       "font-family: monospace;\n",
       "display: block;\n",
       "white-space: pre-wrap;\n",
       "}\n",
       ".show-type {\n",
       "color: green;\n",
       "font-weight: bold;\n",
       "font-family: monospace;\n",
       "margin-left: 1em;\n",
       "}\n",
       ".mono {\n",
       "font-family: monospace;\n",
       "display: block;\n",
       "}\n",
       ".err-msg {\n",
       "color: red;\n",
       "font-style: italic;\n",
       "font-family: monospace;\n",
       "white-space: pre;\n",
       "display: block;\n",
       "}\n",
       "#unshowable {\n",
       "color: red;\n",
       "font-weight: bold;\n",
       "}\n",
       ".err-msg.in.collapse {\n",
       "padding-top: 0.7em;\n",
       "}\n",
       "\n",
       ".highlight-code {\n",
       "white-space: pre;\n",
       "font-family: monospace;\n",
       "}\n",
       "\n",
       ".suggestion-warning { \n",
       "font-weight: bold;\n",
       "color: rgb(200, 130, 0);\n",
       "}\n",
       ".suggestion-error { \n",
       "font-weight: bold;\n",
       "color: red;\n",
       "}\n",
       ".suggestion-name {\n",
       "font-weight: bold;\n",
       "}\n",
       "\n",
       "</style><span class='get-type'>MakeExample :: Int -> Example2</span>"
      ],
      "text/plain": [
       "MakeExample :: Int -> Example2"
      ]
     },
     "metadata": {},
     "output_type": "display_data"
    }
   ],
   "source": [
    ":t MakeExample"
   ]
  },
  {
   "cell_type": "markdown",
   "id": "b22275c3",
   "metadata": {},
   "source": [
    "### Using `newtype` to create a new type\n",
    "\n",
    "In Haskell, `newtype` is a keyword used to create a new type that acts like a wrapper around an existing type. It provides several benefits for improving your code's structure and clarity.\n",
    "\n",
    "Here's a breakdown of what `newtype` does:\n",
    "\n",
    "* **Creates a new type name:** You define a new name for the type, making your code more readable and emphasizing the specific meaning you want to convey.\n",
    "* **Wraps an existing type:** Under the hood, the new type refers to the original type. For example, you can wrap an `Integer` type with `newtype`.\n",
    "* **Maintains underlying representation:** Importantly, `newtype` doesn't change the internal storage of the data. An `Integer` wrapped in a newtype is still an integer in terms of memory usage.\n",
    "\n",
    "**Why use newtype?**\n",
    "\n",
    "There are several reasons to use `newtype` in Haskell:\n",
    "\n",
    "* **Improved type safety:** By creating a distinct type, `newtype` helps prevent accidental misuse of the wrapped type. Functions expecting the newtype won't accept the underlying type directly, reducing errors.\n",
    "* **Clearer semantics:** You can use `newtype` to assign a specific meaning to the wrapped type. For instance, you could create a `newtype` for representing Celsius temperatures.\n",
    "* **Type class overloading:** `Newtype` allows you to define separate instances of type classes for the new type, even though it behaves the same as the underlying type at runtime.\n",
    "\n",
    "**Example:**\n",
    "\n",
    "Here's an example of defining a `newtype` for representing Celsius temperatures:\n",
    "\n",
    "```haskell\n",
    "newtype Celsius = Celsius Integer\n",
    "\n",
    "toFahrenheit :: Celsius -> Float\n",
    "toFahrenheit (Celsius temp) = (fromIntegral temp * 9.0 / 5.0) + 32\n",
    "```\n",
    "\n",
    "In this example:\n",
    "\n",
    "* `Celsius` is a new type created using `newtype`.\n",
    "* It wraps the `Integer` type to represent temperatures in Celsius.\n",
    "* The `toFahrenheit` function takes a `Celsius` value and converts it to Fahrenheit using the wrapped integer value.\n",
    "\n",
    "Even though the internal representation is an integer, the `Celsius` type makes the code clearer and avoids accidentally using the temperature value as a regular integer.\n",
    "\n",
    "> <span style=\"color: red\">**Note:**</span> `newtype` is not a type synonym. A newtype cannot be a product type, sum type, or contain nullary constructors, but it has a few advantages over a vanilla data declaration. One is that it has no runtime overhead, as it reuses the representation of the type it contains.\n",
    "\n",
    "> <span style=\"color: red\">**Note:**</span>  On the surface, for the human writers and readers of code, the distinction can be helpful in tracking where data came from and what it’s being used for, but the difference is irrelevant to the compiler."
   ]
  },
  {
   "cell_type": "code",
   "execution_count": 2,
   "id": "700fb5dc",
   "metadata": {},
   "outputs": [],
   "source": [
    "newtype Goats = Goats Int deriving (Eq, Show)\n",
    "\n",
    "newtype Cows = Cows Int deriving (Eq, Show)\n",
    "\n",
    "class TooMany a where\n",
    "    tooMany :: a -> Bool\n",
    "\n",
    "instance TooMany Goats where\n",
    "    tooMany (Goats n) = n > 42\n",
    "\n",
    "instance TooMany Cows where\n",
    "    tooMany (Cows n) = n > 100"
   ]
  },
  {
   "cell_type": "code",
   "execution_count": 3,
   "id": "af897655",
   "metadata": {},
   "outputs": [],
   "source": [
    "goats = Goats 50\n",
    "cows = Cows 50"
   ]
  },
  {
   "cell_type": "code",
   "execution_count": 4,
   "id": "b1d1ff6d",
   "metadata": {},
   "outputs": [
    {
     "data": {
      "text/plain": [
       "True"
      ]
     },
     "metadata": {},
     "output_type": "display_data"
    }
   ],
   "source": [
    "tooMany goats"
   ]
  },
  {
   "cell_type": "code",
   "execution_count": 5,
   "id": "48646a73",
   "metadata": {},
   "outputs": [
    {
     "data": {
      "text/plain": [
       "False"
      ]
     },
     "metadata": {},
     "output_type": "display_data"
    }
   ],
   "source": [
    "tooMany cows"
   ]
  },
  {
   "cell_type": "markdown",
   "id": "bc94b33a",
   "metadata": {},
   "source": [
    "### Exercises: Logic Goats\n",
    "\n",
    "1. Reusing the `TooMany` typeclass, write an instance of the typeclass for the type `(Int, String)`. This will require adding a language pragma named `FlexibleInstances` if you do not use a `newtype` GHC will tell you what to do."
   ]
  },
  {
   "cell_type": "code",
   "execution_count": 8,
   "id": "a338a802",
   "metadata": {},
   "outputs": [],
   "source": [
    "class TooMany a where\n",
    "    tooMany :: a -> Bool\n",
    "\n",
    "instance TooMany (Int, String) where\n",
    "    tooMany (n, _) = n > 42"
   ]
  },
  {
   "cell_type": "markdown",
   "id": "ee84f20c",
   "metadata": {},
   "source": [
    "2. Make another `TooMany` instance for `(Int, Int)`. Sum the values together under the assumption this is a count of goats from two fields."
   ]
  },
  {
   "cell_type": "code",
   "execution_count": 9,
   "id": "97087b47",
   "metadata": {},
   "outputs": [],
   "source": [
    "instance TooMany (Int, Int) where\n",
    "    tooMany (a, b) = (a + b) > 42"
   ]
  },
  {
   "cell_type": "markdown",
   "id": "223c06d7",
   "metadata": {},
   "source": [
    "3. Make another `TooMany` instance, this time for `(Num a, TooMany a) => (a, a)`. This can mean whatever you want, such as summing the two numbers together."
   ]
  },
  {
   "cell_type": "code",
   "execution_count": 10,
   "id": "6d25495f",
   "metadata": {},
   "outputs": [],
   "source": [
    "instance (Num a, TooMany a) => TooMany (a, a) where\n",
    "    tooMany (x, y) = tooMany (x + y)"
   ]
  },
  {
   "cell_type": "markdown",
   "id": "6c583ffe",
   "metadata": {},
   "source": [
    "### Exercises: Pity the Bool"
   ]
  },
  {
   "cell_type": "markdown",
   "id": "e0d213a2",
   "metadata": {},
   "source": [
    "1. Given a datatype\n",
    "\n",
    "```haskell\n",
    "data BigSmall =\n",
    "    Big Bool\n",
    "  | Small Bool\n",
    "  deriving (Eq, Show)\n",
    "```\n",
    "\n",
    "What is the cardinality of this datatype?\n",
    "> <span style=\"color: blue;\">**Hint:**</span> We already know Bool’s cardinality. Show your work as demonstrated earlier.\n",
    "\n",
    "> <span style=\"color: green;\">**Answer:**</span> The cardinality is $2 + 2 = 4$"
   ]
  },
  {
   "cell_type": "markdown",
   "id": "ef6a13e9",
   "metadata": {},
   "source": [
    "2. Given a datatype\n",
    "```haskell\n",
    "-- bring Int8 in scope\n",
    "import Data.Int\n",
    "\n",
    "data NumberOrBool =\n",
    "    Numba Int8\n",
    "  | BoolyBool Bool\n",
    "  deriving (Eq, Show)\n",
    "\n",
    "-- parentheses due to syntactic\n",
    "-- collision between (-) minus\n",
    "-- and the negate function\n",
    "let myNumba = Numba (-128)\n",
    "```\n",
    "What is the cardinality of `NumberOrBool`? What happens if you\n",
    "try to create a Numba with a numeric literal larger than `127`? And\n",
    "with a numeric literal smaller than `(-128)`?\n",
    "\n",
    "> <span style=\"color: green\">**Answer:**</span> The cardinality of `NumberOrBool` is $2 + 2^{8}$. If we give a value outside the range, the varibale value will wrap around and take the remainder of the value modulo 256. "
   ]
  },
  {
   "cell_type": "markdown",
   "id": "f81c5114",
   "metadata": {},
   "source": [
    "### Record Syntax\n",
    "\n",
    "Haskell offers two ways to define and work with records:\n",
    "In Haskell, record syntax is a convenient way to define data types with named fields. It allows you to define a data structure with multiple fields and provides automatic accessor functions for each field. This makes it easy to access or update specific fields of a record.\n",
    "\n",
    "To define a record type, you specify the name of the type and its fields along with their types. Here's the general syntax:\n",
    "\n",
    "```haskell\n",
    "data TypeName = TypeName { field1 :: Type1, field2 :: Type2, ... }\n",
    "```\n",
    "\n",
    "Let's look at an example to understand record syntax better. Suppose we want to represent a person's information, including their name, age, and occupation. We can define a record type called `Person` using record syntax:\n",
    "\n",
    "```haskell\n",
    "data Person = Person { name :: String, age :: Int, occupation :: String }\n",
    "```\n",
    "\n",
    "In this example, `Person` is the name of the record type, and it has three fields: `name`, `age`, and `occupation`. The types of these fields are `String`, `Int`, and `String`, respectively.\n",
    "\n",
    "With record syntax, Haskell automatically generates accessor functions for each field. The accessor functions have the same names as the fields and allow you to retrieve the value of a specific field from a record.\n",
    "\n",
    "For example, given a record `person` of type `Person`, you can access the `name` field using the `name` accessor function:\n",
    "\n",
    "```haskell\n",
    "let person = Person { name = \"Alice\", age = 30, occupation = \"Engineer\" }\n",
    "let personName = name person  -- Accessing the 'name' field\n",
    "```\n",
    "\n",
    "In this case, `personName` will be the string `\"Alice\"`. Similarly, you can access the `age` and `occupation` fields using the corresponding accessor functions.\n",
    "\n",
    "Record syntax also provides a convenient way to update specific fields of a record. You can use the accessor functions in combination with the record update syntax to create a new record with updated field values.\n",
    "\n",
    "```haskell\n",
    "let updatedPerson = person { age = 31 }  -- Updating the 'age' field\n",
    "```\n",
    "\n",
    "In this example, `updatedPerson` will be a new record of type `Person` with the same values as the original `person` record, except for the `age` field, which is set to `31`. The `name` and `occupation` fields remain unchanged.\n",
    "\n",
    "Using record syntax can make your code more readable and maintainable, especially when dealing with complex data structures with many fields. It eliminates the need to define accessor functions manually and provides a consistent way to access and update fields across different records of the same type."
   ]
  },
  {
   "cell_type": "code",
   "execution_count": 15,
   "id": "de457d13",
   "metadata": {},
   "outputs": [],
   "source": [
    "data Person = Person { name :: String , age :: Int } deriving Show"
   ]
  },
  {
   "cell_type": "code",
   "execution_count": 21,
   "id": "1d255024",
   "metadata": {},
   "outputs": [
    {
     "data": {
      "text/plain": [
       "Person {name = \"John\", age = 30}"
      ]
     },
     "metadata": {},
     "output_type": "display_data"
    }
   ],
   "source": [
    "john = Person { name = \"John\", age = 30 }\n",
    "john"
   ]
  },
  {
   "cell_type": "code",
   "execution_count": null,
   "id": "c7e846a0",
   "metadata": {},
   "outputs": [
    {
     "data": {
      "text/plain": [
       "30"
      ]
     },
     "metadata": {},
     "output_type": "display_data"
    }
   ],
   "source": [
    "age john"
   ]
  },
  {
   "cell_type": "code",
   "execution_count": null,
   "id": "ecdf12cb",
   "metadata": {},
   "outputs": [
    {
     "data": {
      "text/plain": [
       "Person {name = \"Bob\", age = 30}"
      ]
     },
     "metadata": {},
     "output_type": "display_data"
    }
   ],
   "source": [
    "bob = john { name = \"Bob\" }\n",
    "bob"
   ]
  },
  {
   "cell_type": "markdown",
   "id": "abc63861",
   "metadata": {},
   "source": [
    "### Exercises: How Does Your Garden Grow?\n",
    "\n",
    "1. Given the type\n",
    "\n",
    "```haskell\n",
    "data FlowerType = Gardenia\n",
    "    | Daisy\n",
    "    | Rose\n",
    "    | Lilac\n",
    "    deriving Show\n",
    "\n",
    "type Gardener = String\n",
    "\n",
    "data Garden =\n",
    "    Garden Gardener FlowerType\n",
    "    deriving Show\n",
    "```\n",
    "\n",
    "What is the sum of products normal form of Garden?\n",
    "\n",
    "> <span style=\"color:green\">**Answer:**</span>\n",
    "```haskell\n",
    "data Garden = (Gardener, FlowerType)\n",
    "    = (Gardener, Gardenia) | (Gardener, Daisy) | (Gardener, Rose) | (Gardener, Lilac)\n",
    "    = Either (Gardener, Gardenia) (Either (Gardener, Daisy) (Either (Gardener, Rose) (Gardener, Lilac)))\n",
    "```"
   ]
  },
  {
   "cell_type": "markdown",
   "id": "0763e7ab",
   "metadata": {},
   "source": [
    "### Exersise: Programmers\n",
    "\n",
    "```haskell\n",
    "data OperatingSystem =\n",
    "    GnuPlusLinux\n",
    "    | OpenBSDPlusNevermindJustBSDStill\n",
    "    | Mac\n",
    "    | Windows\n",
    "    deriving (Eq, Show)\n",
    "\n",
    "data ProgLang =\n",
    "    Haskell\n",
    "    | Agda\n",
    "    | Idris\n",
    "    | PureScript\n",
    "    deriving (Eq, Show)\n",
    "\n",
    "data Programmer =\n",
    "    Programmer { os :: OperatingSystem\n",
    "               , lang :: ProgLang } deriving (Eq, Show)\n",
    "```\n",
    "\n",
    "Given the following code, Write a function that generates all possible values of `Programmer`. Use\n",
    "the provided lists of inhabitants of `OperatingSystem` and `ProgLang`.\n",
    "\n",
    "```haskell\n",
    "allOperatingSystems :: [OperatingSystem]\n",
    "allOperatingSystems =\n",
    "    [ GnuPlusLinux\n",
    "    , OpenBSDPlusNevermindJustBSDStill\n",
    "    , Mac\n",
    "    , Windows\n",
    "    ]\n",
    "\n",
    "allProgLanguages :: [ProgLang]\n",
    "allProgLanguages =\n",
    "    [ Haskell\n",
    "    , Agda\n",
    "    , Idris\n",
    "    , PureScript\n",
    "    ]\n",
    "\n",
    "allProgrammers :: [Programmer]\n",
    "allProgrammers = undefined\n",
    "```"
   ]
  },
  {
   "cell_type": "code",
   "execution_count": 34,
   "id": "21e7b507",
   "metadata": {},
   "outputs": [],
   "source": [
    "data OperatingSystem =\n",
    "    GnuPlusLinux\n",
    "    | OpenBSDPlusNevermindJustBSDStill\n",
    "    | Mac\n",
    "    | Windows\n",
    "    deriving (Eq, Show)\n",
    "\n",
    "data ProgLang =\n",
    "    Haskell\n",
    "    | Agda\n",
    "    | Idris\n",
    "    | PureScript\n",
    "    deriving (Eq, Show)\n",
    "\n",
    "data Programmer =\n",
    "    Programmer { os :: OperatingSystem\n",
    "               , lang :: ProgLang } deriving (Eq, Show)\n",
    "\n",
    "\n",
    "allOperatingSystems :: [OperatingSystem]\n",
    "allOperatingSystems =\n",
    "    [ GnuPlusLinux\n",
    "    , OpenBSDPlusNevermindJustBSDStill\n",
    "    , Mac\n",
    "    , Windows\n",
    "    ]\n",
    "\n",
    "allProgLanguages :: [ProgLang]\n",
    "allProgLanguages =\n",
    "    [ Haskell\n",
    "    , Agda\n",
    "    , Idris\n",
    "    , PureScript\n",
    "    ]"
   ]
  },
  {
   "cell_type": "code",
   "execution_count": 35,
   "id": "7f98f953",
   "metadata": {},
   "outputs": [],
   "source": [
    "allProgrammers = \n",
    "    [\n",
    "        Programmer os lang | \n",
    "        os <- allOperatingSystems,\n",
    "        lang <- allProgLanguages\n",
    "    ]"
   ]
  },
  {
   "cell_type": "code",
   "execution_count": null,
   "id": "f6c46925",
   "metadata": {},
   "outputs": [
    {
     "data": {
      "text/plain": [
       "[Programmer {os = GnuPlusLinux, lang = Haskell},Programmer {os = GnuPlusLinux, lang = Agda},Programmer {os = GnuPlusLinux, lang = Idris},Programmer {os = GnuPlusLinux, lang = PureScript},Programmer {os = OpenBSDPlusNevermindJustBSDStill, lang = Haskell},Programmer {os = OpenBSDPlusNevermindJustBSDStill, lang = Agda},Programmer {os = OpenBSDPlusNevermindJustBSDStill, lang = Idris},Programmer {os = OpenBSDPlusNevermindJustBSDStill, lang = PureScript},Programmer {os = Mac, lang = Haskell},Programmer {os = Mac, lang = Agda},Programmer {os = Mac, lang = Idris},Programmer {os = Mac, lang = PureScript},Programmer {os = Windows, lang = Haskell},Programmer {os = Windows, lang = Agda},Programmer {os = Windows, lang = Idris},Programmer {os = Windows, lang = PureScript}]"
      ]
     },
     "metadata": {},
     "output_type": "display_data"
    }
   ],
   "source": [
    "allProgrammers"
   ]
  },
  {
   "cell_type": "markdown",
   "id": "d9eeeca2",
   "metadata": {},
   "source": [
    "### Exercises: The Quad\n",
    "\n",
    "Determine how many unique inhabitants each type has.\n",
    "\n",
    "<span style=\"color:blue\">**Suggestion:**</span> do the arithmetic unless you want to verify. Writing\n",
    "them out gets tedious quickly.\n",
    "\n",
    "```haskell\n",
    "data Quad = One | Two | Three | Four deriving (Eq, Show)\n",
    "```"
   ]
  },
  {
   "cell_type": "markdown",
   "id": "2d489ff2",
   "metadata": {},
   "source": [
    "1.\n",
    "```haskell\n",
    "eQuad :: Either Quad Quad\n",
    "eQuad = ???\n",
    "```\n",
    "\n",
    "> <span style=\"color:green\">**Answer**</span>: $4 + 4 = 8$"
   ]
  },
  {
   "cell_type": "markdown",
   "id": "11d64c28",
   "metadata": {},
   "source": [
    "2.\n",
    "```haskell\n",
    "prodQuad :: (Quad, Quad)\n",
    "```\n",
    "\n",
    "> <span style=color:green>**Answer:**</span> $4 \\times 4 = 16$"
   ]
  },
  {
   "cell_type": "markdown",
   "id": "9cfc40ed",
   "metadata": {},
   "source": [
    "3.\n",
    "```haskell\n",
    "funcQuad :: Quad -> Quad\n",
    "```\n",
    "\n",
    "> <span style=\"color:green\">**Answer:**</span> $4^4 = 256$"
   ]
  },
  {
   "cell_type": "markdown",
   "id": "a9118625",
   "metadata": {},
   "source": [
    "4. \n",
    "```haskell\n",
    "prodTBool :: (Bool, Bool, Bool)\n",
    "```\n",
    "\n",
    "> <span style=\"color:green\">**Answer:**</span> $4 \\times 4 \\times 4 = 64$"
   ]
  },
  {
   "cell_type": "markdown",
   "id": "7746def4",
   "metadata": {},
   "source": [
    "5.\n",
    "```haskell\n",
    "gTwo :: Bool -> Bool -> Bool\n",
    "```\n",
    "\n",
    "> <span style=\"color:green\">**Answer:**</span> $(2 ^ 2) ^ 2 = 16$"
   ]
  },
  {
   "cell_type": "markdown",
   "id": "e810ee24",
   "metadata": {},
   "source": [
    "6. Hint: 5 digit number\n",
    "\n",
    "```haskell\n",
    "fTwo :: Bool -> Quad -> Quad\n",
    "```\n",
    "\n",
    "> <span style=\"color:green\">**Answer:**</span> $(4 ^ 4) ^ 2 = 65536$"
   ]
  },
  {
   "cell_type": "markdown",
   "id": "e7c0940c",
   "metadata": {},
   "source": [
    "### Higher Kinded datatypes\n",
    "\n",
    "What if you want to define a data type that works with different kinds of existing data types? That's where higher-kinded datatypes (HKDs) come in.\n",
    "\n",
    "Here's the key concept:\n",
    "\n",
    "* **Regular Types vs. Higher-Kinded Types:**\n",
    "    * Regular types have a kind of `*`, meaning they represent actual data values like `Int` or `String`.\n",
    "    * Higher-kinded types have a kind that involves type constructors. For instance, `Maybe` has a kind of `* -> *` because it takes a type and builds a new type `Maybe a`. \n",
    "\n",
    "HKDs essentially act like templates for creating new data types that work with various concrete types. They achieve this through:\n",
    "\n",
    "1. **Type Variables:** HKDs use type variables that act as placeholders for concrete types. Imagine a data type `Box a` where `a` can be any type.\n",
    "2. **Kind Signatures:** These signatures define the kind of an HKD. For example, `Box :: * -> *` signifies `Box` takes a type and returns a new type.\n",
    "\n",
    "**Examples:**\n",
    "\n",
    "1. **Generic `Person` with Maybe:**\n",
    "\n",
    "Imagine a `Person` data type with name and age. You can define a generic `Person` that can hold either a `Person` value or nothing using `Maybe`:\n",
    "\n",
    "```haskell\n",
    "data Person = Person { pName :: String, pAge :: Int }\n",
    "\n",
    "data MaybePerson f = MaybePerson { mpName :: f String, mpAge :: f Int }\n",
    "```\n",
    "\n",
    "Here, `MaybePerson` is an HKD. It takes a type constructor `f` (like `Maybe`) and creates `MaybePerson f` which can hold a `Maybe String` and `Maybe Int`. \n",
    "\n",
    "2. **Generic Validation:**\n",
    "\n",
    "You can write generic validation functions that work with different data types by using HKDs and the `Generic` extension. This allows defining a single validation function for various `Person` types like `MaybePerson`.\n",
    "\n",
    "**Benefits of HKDs:**\n",
    "\n",
    "* **Code Reusability:**  Write functions that work with a wider range of data types.\n",
    "* **Type Safety:** Ensures type compatibility at the type level.\n",
    "* **Genericity:**  Create generic abstractions that handle different data structures."
   ]
  }
 ],
 "metadata": {
  "kernelspec": {
   "display_name": "Haskell",
   "language": "haskell",
   "name": "haskell"
  },
  "language_info": {
   "codemirror_mode": "ihaskell",
   "file_extension": ".hs",
   "mimetype": "text/x-haskell",
   "name": "haskell",
   "pygments_lexer": "Haskell",
   "version": "9.6.3"
  }
 },
 "nbformat": 4,
 "nbformat_minor": 5
}
