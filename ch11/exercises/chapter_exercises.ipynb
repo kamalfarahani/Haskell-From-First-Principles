{
 "cells": [
  {
   "cell_type": "markdown",
   "id": "9864ff32",
   "metadata": {},
   "source": [
    "## Chapter Exercises"
   ]
  },
  {
   "cell_type": "markdown",
   "id": "d3a44b32",
   "metadata": {},
   "source": [
    "### Multiple choice"
   ]
  },
  {
   "cell_type": "markdown",
   "id": "906e2b7d",
   "metadata": {},
   "source": [
    "1. Given the following datatype:\n",
    "\n",
    "```haskell\n",
    "data Weekday =\n",
    "    Monday\n",
    "  | Tuesday\n",
    "  | Wednesday\n",
    "  | Thursday\n",
    "  | Friday\n",
    "```\n",
    "we can say:\n",
    "\n",
    "- a) Weekday is a type with five data constructors  ✅\n",
    "- b) Weekday is a tree with five branches\n",
    "- c) Weekday is a product type\n",
    "- d) Weekday takes five arguments"
   ]
  },
  {
   "cell_type": "markdown",
   "id": "48f12b1a",
   "metadata": {},
   "source": [
    "2. and with the same datatype definition in mind, what is the type of the following function, `f`?\n",
    "\n",
    "```haskell\n",
    "f Friday = \"Miller Time\"\n",
    "```\n",
    "- a) `f :: [Char]`\n",
    "- b) `f :: String -> String`\n",
    "- c) `f :: Weekday -> String` ✅\n",
    "- d) `f :: Day -> Beer`"
   ]
  },
  {
   "cell_type": "markdown",
   "id": "c0a04db7",
   "metadata": {},
   "source": [
    "3. Types defined with the data keyword\n",
    "- a) must have at least one argument\n",
    "- b) must begin with a capital letter ✅\n",
    "- c) must be polymorphic\n",
    "- d) cannot be imported from modules"
   ]
  },
  {
   "cell_type": "markdown",
   "id": "ffede1b5",
   "metadata": {},
   "source": [
    "4. The function `g xs = xs !! (length xs - 1)`\n",
    "- a) is recursive and may not terminate\n",
    "- b) delivers the head of `xs`\n",
    "- c) delivers the final element of `xs` ✅\n",
    "- d) has the same type as `xs`"
   ]
  },
  {
   "cell_type": "markdown",
   "id": "647e31a7",
   "metadata": {},
   "source": [
    "### Ciphers\n",
    "In the Lists chapter, you wrote a Caesar cipher. Now, we want to\n",
    "expand on that idea by writing a Vigenère cipher. A Vigenère cipher is another substitution cipher, based on a Caesar cipher, but it\n",
    "uses a series of Caesar ciphers for polyalphabetic substitution. The\n",
    "substitution for each letter in the plaintext is determined by a fixed\n",
    "keyword.\n",
    "So, for example, if you want to encode the message `“meet at dawn”` the first step is to pick a keyword that will determine which\n",
    "Caesar cipher to use. We’ll use the keyword `“ALLY”` here. You repeat\n",
    "the keyword for as many characters as there are in your original\n",
    "message:\n",
    "```\n",
    "MEET AT DAWN\n",
    "ALLY AL LYAL\n",
    "```\n",
    "Now the number of rightward shifts to make to encode each\n",
    "character is set by the character of the keyword that lines up with it.\n",
    "The `’A’` means a shift of `0`, so the initial M will remain M. But the `’L’`\n",
    "for our second character sets a rightward shift of `11`, so `’E’` becomes\n",
    "`’P’`. And so on, so “meet at dawn” encoded with the keyword `“ALLY”`\n",
    "becomes `“MPPR AE OYWY”`."
   ]
  },
  {
   "cell_type": "code",
   "execution_count": null,
   "id": "aeb53290",
   "metadata": {},
   "outputs": [],
   "source": [
    "module Vingere where\n",
    "\n",
    "import Data.Char\n",
    "\n",
    "\n",
    "encrypt :: [(Char, Char)] -> String\n",
    "encrypt =\n",
    "    map (shift . codeToShift)\n",
    "    where\n",
    "        padding                = ord 'A'\n",
    "        codeToShift (x, code)  = (x, ord code - padding)\n",
    "        shift (char, shift)    = chr ((((ord char - padding ) + shift ) `mod` 26) + padding)\n",
    "\n",
    "\n",
    "vingere :: String -> String -> String\n",
    "vingere text key =\n",
    "    restoreNonAlpha $ encrypt charAndCode\n",
    "    where\n",
    "        cycledKey             = cycle (toUpperString key)\n",
    "        charAndCode           = zip clearedText cycledKey\n",
    "        clearedText           = removeNonAlpha (toUpperString text)\n",
    "        toUpperString         = map toUpper\n",
    "        removeNonAlpha        = filter isAlpha\n",
    "        restoreNonAlpha text' = foldl selector \"\" text\n",
    "            where\n",
    "                selector :: String -> Char -> String\n",
    "                selector acc x = \n",
    "                    if not (isAlpha x)\n",
    "                    then acc ++ [x]\n",
    "                    else acc ++ [text' !! (length acc - getNonAlpha acc)]\n",
    "                    where\n",
    "                        getNonAlpha :: String -> Int\n",
    "                        getNonAlpha str = \n",
    "                            sum $ map (\\char -> if isAlpha char then 0 else 1) str"
   ]
  },
  {
   "cell_type": "markdown",
   "id": "2065d25b",
   "metadata": {},
   "source": [
    "### As-patterns\n",
    "\n",
    "***As-patterns*** in Haskell are a nifty way to be able to pattern match on\n",
    "part of something and still refer to the entire original value. Some\n",
    "examples:\n",
    "\n",
    "```haskell\n",
    "f :: Show a => (a, b) -> IO (a, b)\n",
    "f t@(a, _) = do\n",
    "    print a\n",
    "    return t\n",
    "```\n",
    "\n",
    "Here we pattern-matched on a tuple so we could get at the first\n",
    "value for printing, but used the `@` symbol to introduce a binding\n",
    "named `t` in order to refer to the whole tuple rather than just a part.\n",
    "\n",
    "```haskell\n",
    "Prelude> f (1, 2)\n",
    "1\n",
    "(1,2)\n",
    "```\n",
    "\n",
    "We can use as-patterns with pattern matching on arbitrary data\n",
    "constructors, which includes lists:\n",
    "\n",
    "```haskell\n",
    "doubleUp :: [a] -> [a]\n",
    "doubleUp [] = []\n",
    "doubleUp xs@(x:_) = x : xs\n",
    "\n",
    "Prelude> doubleUp []\n",
    "[]\n",
    "\n",
    "Prelude> doubleUp [1]\n",
    "[1,1]\n",
    "\n",
    "Prelude> doubleUp [1, 2]\n",
    "[1,1,2]\n",
    "\n",
    "Prelude> doubleUp [1, 2, 3]\n",
    "[1,1,2,3]\n",
    "```\n",
    "\n",
    "Use as-patterns in implementing the following functions:\n",
    "\n",
    "1. This should return True if (and only if) all the values in the first list appear in the second list, though they need not be contiguous.\n",
    "```haskell\n",
    "isSubseqOf :: (Eq a)\n",
    "    => [a]\n",
    "    -> [a]\n",
    "    -> Bool\n",
    "```"
   ]
  },
  {
   "cell_type": "code",
   "execution_count": 3,
   "id": "30f5c5dd",
   "metadata": {},
   "outputs": [],
   "source": [
    "import Data.List (elemIndex)\n",
    "\n",
    "isSubseqOf :: (Eq a)\n",
    "    => [a]\n",
    "    -> [a]\n",
    "    -> Bool\n",
    "\n",
    "isSubseqOf [] _ = True\n",
    "isSubseqOf xs@(x:xs') ys =\n",
    "    case elemIndex x ys of\n",
    "        Nothing -> False\n",
    "        Just i -> isSubseqOf xs' (drop i ys)"
   ]
  },
  {
   "cell_type": "code",
   "execution_count": 4,
   "id": "760704f5",
   "metadata": {},
   "outputs": [
    {
     "data": {
      "text/plain": [
       "False"
      ]
     },
     "metadata": {},
     "output_type": "display_data"
    }
   ],
   "source": [
    "isSubseqOf \"blah\" \"halbwoot\""
   ]
  },
  {
   "cell_type": "code",
   "execution_count": 5,
   "id": "b63522c0",
   "metadata": {},
   "outputs": [
    {
     "data": {
      "text/plain": [
       "True"
      ]
     },
     "metadata": {},
     "output_type": "display_data"
    }
   ],
   "source": [
    "isSubseqOf \"blah\" \"wootblah\""
   ]
  },
  {
   "cell_type": "markdown",
   "id": "edc6ec8f",
   "metadata": {},
   "source": [
    "2. Split a sentence into words, then tuple each word with the capitalized form of each.\n",
    "```haskell\n",
    "capitalizeWords :: String -> [(String, String)]\n",
    "\n",
    "Prelude> capitalizeWords \"hello world\"\n",
    "[(\"hello\", \"Hello\"), (\"world\", \"World\")]\n",
    "```"
   ]
  },
  {
   "cell_type": "code",
   "execution_count": 10,
   "id": "95274470",
   "metadata": {},
   "outputs": [],
   "source": [
    "import Data.Char ( toUpper, toLower )\n",
    "\n",
    "\n",
    "capitalize :: String -> String\n",
    "capitalize (x:xs) = toUpper x : map toLower xs\n",
    "\n",
    "capitalizeWords :: String -> [(String, String)]\n",
    "capitalizeWords text =\n",
    "    zip (words text) (map capitalize (words text))"
   ]
  },
  {
   "cell_type": "code",
   "execution_count": 11,
   "id": "40f4fd35",
   "metadata": {},
   "outputs": [
    {
     "data": {
      "text/plain": [
       "[(\"hello\",\"Hello\"),(\"world\",\"World\")]"
      ]
     },
     "metadata": {},
     "output_type": "display_data"
    }
   ],
   "source": [
    "capitalizeWords \"hello world\""
   ]
  },
  {
   "cell_type": "markdown",
   "id": "9a8d703c",
   "metadata": {},
   "source": [
    "### Language exercises\n",
    "\n",
    "1. Write a function that capitalizes a word.\n",
    "\n",
    "```haskell\n",
    "capitalizeWord :: String -> String\n",
    "capitalizeWord = undefined\n",
    "```\n",
    "\n",
    "Example output.\n",
    "\n",
    "```haskell\n",
    "Prelude> capitalizeWord \"Chortle\"\n",
    "\"Chortle\"\n",
    "Prelude> capitalizeWord \"chortle\"\n",
    "\"Chortle\"\n",
    "```"
   ]
  },
  {
   "cell_type": "code",
   "execution_count": 12,
   "id": "3d19df2c",
   "metadata": {},
   "outputs": [],
   "source": [
    "capitalizeWord :: String -> String\n",
    "capitalizeWord (x:xs) = toUpper x : map toLower xs"
   ]
  },
  {
   "cell_type": "markdown",
   "id": "474f2ab0",
   "metadata": {},
   "source": [
    "2. Write a function that capitalizes sentences in a paragraph. Recognize when a new sentence has begun by checking for periods. Reuse the `capitalizeWord` function."
   ]
  },
  {
   "cell_type": "code",
   "execution_count": 24,
   "id": "5274041e",
   "metadata": {},
   "outputs": [],
   "source": [
    "splitOn :: Char -> String -> [String]\n",
    "splitOn c text =\n",
    "    case nextSubstring of\n",
    "        [] -> []\n",
    "        _  -> nextSubstring : splitOn c rest\n",
    "    where\n",
    "        nextSubstring = getNext text\n",
    "        rest = drop (length (takeWhile (== c) text ++ nextSubstring)) text\n",
    "        getNext = takeWhile (/= c) . dropWhile (== c)"
   ]
  },
  {
   "cell_type": "code",
   "execution_count": 49,
   "id": "35c091cb",
   "metadata": {},
   "outputs": [],
   "source": [
    "import Data.List (intercalate)\n",
    "\n",
    "capitalizeParagraph :: String -> String\n",
    "capitalizeParagraph text = \n",
    "    intercalate \". \" (map capitalizeSentence sentences) ++ \".\"\n",
    "    where\n",
    "        sentences = splitOn '.' text\n",
    "        capitalizeSentence sentence =\n",
    "            case words sentence of\n",
    "                [] -> \"\"\n",
    "                first:rest -> unwords $ capitalizeWord first : rest"
   ]
  },
  {
   "cell_type": "code",
   "execution_count": null,
   "id": "75a2b85f",
   "metadata": {},
   "outputs": [
    {
     "data": {
      "text/plain": [
       "\"Blah. Woot ha. Im going home.\""
      ]
     },
     "metadata": {},
     "output_type": "display_data"
    }
   ],
   "source": [
    "let s = \"blah. woot ha. im going home.\"\n",
    "capitalizeParagraph s"
   ]
  },
  {
   "cell_type": "markdown",
   "id": "5100ca33",
   "metadata": {},
   "source": [
    "### Phone exercise\n",
    "\n",
    "Remember old-fashioned phone inputs for writing text where\n",
    "you had to press a button multiple times to get different letters to\n",
    "come up? You may still have to do this when you try to search for a\n",
    "movie to watch using your television remote control. You’re going\n",
    "to write code to translate sequences of button presses into strings\n",
    "and vice versa.\n",
    "\n",
    "So! Here is the layout of the phone:\n",
    "|  |  |  |\n",
    "| --- | --- | --- |\n",
    "| 1 | 2 ABC | 3 DEF |\n",
    "| 4 GHI | 5 JKL | 6 MNO |\n",
    "| 7 PQRS | 8 TUV | 9 WXYZ |\n",
    "| * ^ | 0 + _ | # . , |\n",
    "\n",
    "Where star `(*)` gives you capitalization of the letter you’re writing\n",
    "to your friends, and 0 is your space bar. To represent the digit itself,\n",
    "you press that digit once more than the letters it represents. If you\n",
    "press a button one more than is required to type the digit, it wraps\n",
    "around to the first letter. For example:\n",
    "\n",
    "```\n",
    "2 -> 'A'\n",
    "22 -> 'B'\n",
    "222 -> 'C'\n",
    "2222 -> '2'\n",
    "22222 -> 'A'\n",
    "```\n",
    "So on and so forth. We’re going to kick this around."
   ]
  },
  {
   "cell_type": "markdown",
   "id": "1feafe86",
   "metadata": {},
   "source": [
    "1. Create a data structure that captures the phone layout above. The data structure should be able to express enough of how the layout works that you can use it to dictate the behavior of the functions in the following exercises.\n",
    "\n",
    "```haskell\n",
    "-- fill in the rest.\n",
    "data DaPhone = DaPhone\n",
    "```"
   ]
  },
  {
   "cell_type": "code",
   "execution_count": 58,
   "id": "b2ec0a30",
   "metadata": {},
   "outputs": [],
   "source": [
    "type Button = (Char, String)\n",
    "\n",
    "newtype DaPhone =\n",
    "    DaPhone [Button]\n",
    "\n",
    "\n",
    "daPhone = DaPhone [\n",
    "    ('1', \"1\"), ('2', \"abc2\"), ('3', \"def3\"),\n",
    "    ('4', \"ghi4\"), ('5', \"jkl5\"), ('6', \"mno6\"),\n",
    "    ('7', \"pqrs7\"), ('8', \"tuv8\"), ('9', \"wxyz9\"),\n",
    "    ('*', \"\"), ('0', \" +_0\"), ('#', \".,\")]"
   ]
  },
  {
   "cell_type": "markdown",
   "id": "5f2dd301",
   "metadata": {},
   "source": [
    "2. Convert the following conversations into the keypresses required to express them. We’re going to suggest types and functions to fill in order to accomplish the goal, but they’re not obligatory. If you want to do it differently, go right ahead.\n",
    "\n",
    "```haskell\n",
    "convo :: [String]\n",
    "convo =\n",
    "    [\"Wanna play 20 questions\",\n",
    "    \"Ya\",\n",
    "    \"U 1st haha\",\n",
    "    \"Lol ok. Have u ever tasted alcohol\",\n",
    "    \"Lol ya\",\n",
    "    \"Wow ur cool haha. Ur turn\",\n",
    "    \"Ok. Do u think I am pretty Lol\",\n",
    "    \"Lol ya\",\n",
    "    \"Just making sure rofl ur turn\"]\n",
    "\n",
    "-- validButtons = \"1234567890*#\"\n",
    "type Digit = Char\n",
    "\n",
    "-- Valid presses: 1 and up\n",
    "type Presses = Int\n",
    "\n",
    "reverseTaps :: DaPhone\n",
    "    -> Char\n",
    "    -> [(Digit, Presses)]\n",
    "reverseTaps = undefined\n",
    "\n",
    "-- assuming the default phone definition\n",
    "-- 'a' -> [('2', 1)]\n",
    "-- 'A' -> [('*', 1), ('2', 1)]\n",
    "cellPhonesDead :: DaPhone\n",
    "    -> String\n",
    "    -> [(Digit, Presses)]\n",
    "cellPhonesDead = undefined\n",
    "```"
   ]
  },
  {
   "cell_type": "code",
   "execution_count": 59,
   "id": "0b57bcbe",
   "metadata": {},
   "outputs": [],
   "source": [
    "import Data.Char\n",
    "import Data.List\n",
    "\n",
    "\n",
    "convo :: [String]\n",
    "convo =\n",
    "    [\"Wanna play 20 questions\",\n",
    "    \"Ya\",\n",
    "    \"U 1st haha\",\n",
    "    \"Lol ok. Have u ever tasted alcohol\",\n",
    "    \"Lol ya\",\n",
    "    \"Wow ur cool haha. Ur turn\",\n",
    "    \"Ok. Do u think I am pretty Lol\",\n",
    "    \"Lol ya\",\n",
    "    \"Just making sure rofl ur turn\"]\n",
    "\n",
    "-- validButtons = \"1234567890*#\"\n",
    "type Digit = Char\n",
    "\n",
    "-- Valid presses: 1 and up\n",
    "type Presses = Int\n",
    "\n",
    "reverseTaps :: DaPhone\n",
    "    -> Char\n",
    "    -> [(Digit, Presses)]\n",
    "reverseTaps (DaPhone phoneLayout) char = \n",
    "    if isUpper char\n",
    "    then [('*', 1), taps (toLower char)]\n",
    "    else [taps char]\n",
    "    where\n",
    "        taps c =\n",
    "            (key, presses)\n",
    "            where\n",
    "                presses = presses' + 1\n",
    "                doesButtonContain (_, ls) = c `elem` ls\n",
    "                Just (key, letters) = find doesButtonContain phoneLayout\n",
    "                Just presses' = elemIndex c letters\n",
    "                \n",
    "-- assuming the default phone definition\n",
    "-- 'a' -> [('2', 1)]\n",
    "-- 'A' -> [('*', 1), ('2', 1)]\n",
    "cellPhonesDead :: DaPhone\n",
    "    -> String\n",
    "    -> [(Digit, Presses)]\n",
    "cellPhonesDead daPhone = concatMap (reverseTaps daPhone)"
   ]
  },
  {
   "cell_type": "code",
   "execution_count": 62,
   "id": "7e412f65",
   "metadata": {},
   "outputs": [
    {
     "data": {
      "text/plain": [
       "[[('*',1),('9',1),('2',1),('6',2),('6',2),('2',1),('0',1),('7',1),('5',3),('2',1),('9',3),('0',1),('2',4),('0',4),('0',1),('7',2),('8',2),('3',2),('7',4),('8',1),('4',3),('6',3),('6',2),('7',4)],[('*',1),('9',3),('2',1)],[('*',1),('8',2),('0',1),('1',1),('7',4),('8',1),('0',1),('4',2),('2',1),('4',2),('2',1)],[('*',1),('5',3),('6',3),('5',3),('0',1),('6',3),('5',2),('#',1),('0',1),('*',1),('4',2),('2',1),('8',3),('3',2),('0',1),('8',2),('0',1),('3',2),('8',3),('3',2),('7',3),('0',1),('8',1),('2',1),('7',4),('8',1),('3',2),('3',1),('0',1),('2',1),('5',3),('2',3),('6',3),('4',2),('6',3),('5',3)],[('*',1),('5',3),('6',3),('5',3),('0',1),('9',3),('2',1)],[('*',1),('9',1),('6',3),('9',1),('0',1),('8',2),('7',3),('0',1),('2',3),('6',3),('6',3),('5',3),('0',1),('4',2),('2',1),('4',2),('2',1),('#',1),('0',1),('*',1),('8',2),('7',3),('0',1),('8',1),('8',2),('7',3),('6',2)],[('*',1),('6',3),('5',2),('#',1),('0',1),('*',1),('3',1),('6',3),('0',1),('8',2),('0',1),('8',1),('4',2),('4',3),('6',2),('5',2),('0',1),('*',1),('4',3),('0',1),('2',1),('6',1),('0',1),('7',1),('7',3),('3',2),('8',1),('8',1),('9',3),('0',1),('*',1),('5',3),('6',3),('5',3)],[('*',1),('5',3),('6',3),('5',3),('0',1),('9',3),('2',1)],[('*',1),('5',1),('8',2),('7',4),('8',1),('0',1),('6',1),('2',1),('5',2),('4',3),('6',2),('4',1),('0',1),('7',4),('8',2),('7',3),('3',2),('0',1),('7',3),('6',3),('3',3),('5',3),('0',1),('8',2),('7',3),('0',1),('8',1),('8',2),('7',3),('6',2)]]"
      ]
     },
     "metadata": {},
     "output_type": "display_data"
    }
   ],
   "source": [
    "map (cellPhonesDead daPhone) convo"
   ]
  },
  {
   "cell_type": "markdown",
   "id": "458a1302",
   "metadata": {},
   "source": [
    "3. How many times do digits need to be pressed for each message?\n",
    "```haskell\n",
    "fingerTaps :: [(Digit, Presses)] -> Presses\n",
    "fingerTaps = undefined\n",
    "```"
   ]
  },
  {
   "cell_type": "code",
   "execution_count": 51,
   "id": "9f13fde6",
   "metadata": {},
   "outputs": [],
   "source": [
    "fingerTaps :: [(Digit, Presses)] -> Presses\n",
    "fingerTaps = sum . map snd"
   ]
  },
  {
   "cell_type": "markdown",
   "id": "13d0c25d",
   "metadata": {},
   "source": [
    "4. What was the most popular letter for each message? What was its cost? You’ll want to combine `reverseTaps` and `fingerTaps` to figure out what it cost in taps. `reverseTaps` is a list because you need to press a different button in order to get capitals.\n",
    "\n",
    "```haskell\n",
    "mostPopularLetter :: String -> Char\n",
    "mostPopularLetter = undefined\n",
    "```"
   ]
  },
  {
   "cell_type": "code",
   "execution_count": 65,
   "id": "4c07e227",
   "metadata": {},
   "outputs": [],
   "source": [
    "import Data.List (nub)\n",
    "\n",
    "\n",
    "mostPopularLetter :: String -> Char\n",
    "mostPopularLetter text = \n",
    "    snd $ maximum countsAndChars\n",
    "    where\n",
    "        countsAndChars = map count uniques\n",
    "        count c = (length $ filter (==c) text, c)\n",
    "        uniques = nub text"
   ]
  },
  {
   "cell_type": "code",
   "execution_count": 73,
   "id": "20c78926",
   "metadata": {},
   "outputs": [
    {
     "data": {
      "text/plain": [
       "'l'"
      ]
     },
     "metadata": {},
     "output_type": "display_data"
    }
   ],
   "source": [
    "mostPopularLetter \"Hello, World!\""
   ]
  },
  {
   "cell_type": "markdown",
   "id": "ea587f8a",
   "metadata": {},
   "source": [
    "### Hutton’s Razor\n",
    "\n",
    "Hutton’s Razor is a very simple expression language that expresses\n",
    "integer literals and addition of values in that expression language.\n",
    "The “trick” to it is that it’s recursive and the two expressions you’re\n",
    "summing together could be literals or themselves further addition\n",
    "operations. This sort of datatype is stereotypical of expression languages\n",
    "used to motivate ideas in research papers and functional\n",
    "pearls. Evaluating or folding a datatype is also in some sense what\n",
    "you’re doing most of the time while programming anyway.\n",
    "\n",
    "1. Your first task is to write the “eval” function which reduces an expression to a final sum.\n",
    "\n",
    "```haskell\n",
    "data Expr = \n",
    "    Lit Integer\n",
    "  | Add Expr Expr\n",
    "\n",
    "eval :: Expr -> Integer\n",
    "eval = error \"do it to it\"\n",
    "```"
   ]
  },
  {
   "cell_type": "code",
   "execution_count": 74,
   "id": "8cf534c4",
   "metadata": {},
   "outputs": [],
   "source": [
    "data Expr = \n",
    "    Lit Integer\n",
    "  | Add Expr Expr\n",
    "\n",
    "eval :: Expr -> Integer\n",
    "eval (Lit n) = n\n",
    "eval (Add x y) = eval x + eval y"
   ]
  },
  {
   "cell_type": "code",
   "execution_count": 75,
   "id": "4f3b4a44",
   "metadata": {},
   "outputs": [
    {
     "data": {
      "text/plain": [
       "9002"
      ]
     },
     "metadata": {},
     "output_type": "display_data"
    }
   ],
   "source": [
    "eval (Add (Lit 1) (Lit 9001))"
   ]
  },
  {
   "cell_type": "markdown",
   "id": "510070ad",
   "metadata": {},
   "source": [
    "2. Write a printer for the expressions.\n",
    "\n",
    "```haskell\n",
    "printExpr :: Expr -> String\n",
    "printExpr = undefined\n",
    "```\n",
    "\n",
    "Expected output:\n",
    "\n",
    "```haskell\n",
    "\n",
    "Prelude> printExpr (Add (Lit 1) (Lit 9001))\n",
    "\"1 + 9001\"\n",
    "Prelude> let a1 = Add (Lit 9001) (Lit 1)\n",
    "Prelude> let a2 = Add a1 (Lit 20001)\n",
    "Prelude> let a3 = Add (Lit 1) a2\n",
    "Prelude> printExpr a3\n",
    "\"1 + 9001 + 1 + 20001\"\n",
    "```"
   ]
  },
  {
   "cell_type": "code",
   "execution_count": 76,
   "id": "a2ebfd32",
   "metadata": {},
   "outputs": [],
   "source": [
    "printExpr :: Expr -> String\n",
    "printExpr (Lit n) = show n\n",
    "printExpr (Add x y) = printExpr x ++ \" + \" ++ printExpr y"
   ]
  },
  {
   "cell_type": "code",
   "execution_count": null,
   "id": "b3969c63",
   "metadata": {},
   "outputs": [
    {
     "data": {
      "text/plain": [
       "\"1 + 9001 + 1 + 20001\""
      ]
     },
     "metadata": {},
     "output_type": "display_data"
    }
   ],
   "source": [
    "let a1 = Add (Lit 9001) (Lit 1)\n",
    "let a2 = Add a1 (Lit 20001)\n",
    "let a3 = Add (Lit 1) a2\n",
    "printExpr a3"
   ]
  }
 ],
 "metadata": {
  "kernelspec": {
   "display_name": "Haskell",
   "language": "haskell",
   "name": "haskell"
  },
  "language_info": {
   "codemirror_mode": "ihaskell",
   "file_extension": ".hs",
   "mimetype": "text/x-haskell",
   "name": "haskell",
   "pygments_lexer": "Haskell",
   "version": "9.6.4"
  }
 },
 "nbformat": 4,
 "nbformat_minor": 5
}
