{
 "cells": [
  {
   "cell_type": "markdown",
   "id": "9864ff32",
   "metadata": {},
   "source": [
    "## Chapter Exercises"
   ]
  },
  {
   "cell_type": "markdown",
   "id": "d3a44b32",
   "metadata": {},
   "source": [
    "### Multiple choice"
   ]
  },
  {
   "cell_type": "markdown",
   "id": "906e2b7d",
   "metadata": {},
   "source": [
    "1. Given the following datatype:\n",
    "\n",
    "```haskell\n",
    "data Weekday =\n",
    "    Monday\n",
    "  | Tuesday\n",
    "  | Wednesday\n",
    "  | Thursday\n",
    "  | Friday\n",
    "```\n",
    "we can say:\n",
    "\n",
    "- a) Weekday is a type with five data constructors  ✅\n",
    "- b) Weekday is a tree with five branches\n",
    "- c) Weekday is a product type\n",
    "- d) Weekday takes five arguments"
   ]
  },
  {
   "cell_type": "markdown",
   "id": "48f12b1a",
   "metadata": {},
   "source": [
    "2. and with the same datatype definition in mind, what is the type of the following function, `f`?\n",
    "\n",
    "```haskell\n",
    "f Friday = \"Miller Time\"\n",
    "```\n",
    "- a) `f :: [Char]`\n",
    "- b) `f :: String -> String`\n",
    "- c) `f :: Weekday -> String` ✅\n",
    "- d) `f :: Day -> Beer`"
   ]
  },
  {
   "cell_type": "markdown",
   "id": "c0a04db7",
   "metadata": {},
   "source": [
    "3. Types defined with the data keyword\n",
    "- a) must have at least one argument\n",
    "- b) must begin with a capital letter ✅\n",
    "- c) must be polymorphic\n",
    "- d) cannot be imported from modules"
   ]
  },
  {
   "cell_type": "markdown",
   "id": "ffede1b5",
   "metadata": {},
   "source": [
    "4. The function `g xs = xs !! (length xs - 1)`\n",
    "- a) is recursive and may not terminate\n",
    "- b) delivers the head of `xs`\n",
    "- c) delivers the final element of `xs` ✅\n",
    "- d) has the same type as `xs`"
   ]
  },
  {
   "cell_type": "markdown",
   "id": "647e31a7",
   "metadata": {},
   "source": [
    "### Ciphers\n",
    "In the Lists chapter, you wrote a Caesar cipher. Now, we want to\n",
    "expand on that idea by writing a Vigenère cipher. A Vigenère cipher is another substitution cipher, based on a Caesar cipher, but it\n",
    "uses a series of Caesar ciphers for polyalphabetic substitution. The\n",
    "substitution for each letter in the plaintext is determined by a fixed\n",
    "keyword.\n",
    "So, for example, if you want to encode the message `“meet at dawn”` the first step is to pick a keyword that will determine which\n",
    "Caesar cipher to use. We’ll use the keyword `“ALLY”` here. You repeat\n",
    "the keyword for as many characters as there are in your original\n",
    "message:\n",
    "```\n",
    "MEET AT DAWN\n",
    "ALLY AL LYAL\n",
    "```\n",
    "Now the number of rightward shifts to make to encode each\n",
    "character is set by the character of the keyword that lines up with it.\n",
    "The `’A’` means a shift of `0`, so the initial M will remain M. But the `’L’`\n",
    "for our second character sets a rightward shift of `11`, so `’E’` becomes\n",
    "`’P’`. And so on, so “meet at dawn” encoded with the keyword `“ALLY”`\n",
    "becomes `“MPPR AE OYWY”`."
   ]
  },
  {
   "cell_type": "code",
   "execution_count": null,
   "id": "aeb53290",
   "metadata": {},
   "outputs": [],
   "source": [
    "module Vingere where\n",
    "\n",
    "import Data.Char\n",
    "\n",
    "\n",
    "encrypt :: [(Char, Char)] -> String\n",
    "encrypt =\n",
    "    map (shift . codeToShift)\n",
    "    where\n",
    "        padding                = ord 'A'\n",
    "        codeToShift (x, code)  = (x, ord code - padding)\n",
    "        shift (char, shift)    = chr ((((ord char - padding ) + shift ) `mod` 26) + padding)\n",
    "\n",
    "\n",
    "vingere :: String -> String -> String\n",
    "vingere text key =\n",
    "    restoreNonAlpha $ encrypt charAndCode\n",
    "    where\n",
    "        cycledKey             = cycle (toUpperString key)\n",
    "        charAndCode           = zip clearedText cycledKey\n",
    "        clearedText           = removeNonAlpha (toUpperString text)\n",
    "        toUpperString         = map toUpper\n",
    "        removeNonAlpha        = filter isAlpha\n",
    "        restoreNonAlpha text' = foldl selector \"\" text\n",
    "            where\n",
    "                selector :: String -> Char -> String\n",
    "                selector acc x = \n",
    "                    if not (isAlpha x)\n",
    "                    then acc ++ [x]\n",
    "                    else acc ++ [text' !! (length acc - getNonAlpha acc)]\n",
    "                    where\n",
    "                        getNonAlpha :: String -> Int\n",
    "                        getNonAlpha str = \n",
    "                            sum $ map (\\char -> if isAlpha char then 0 else 1) str"
   ]
  },
  {
   "cell_type": "markdown",
   "id": "2065d25b",
   "metadata": {},
   "source": [
    "### As-patterns\n",
    "\n",
    "***As-patterns*** in Haskell are a nifty way to be able to pattern match on\n",
    "part of something and still refer to the entire original value. Some\n",
    "examples:\n",
    "\n",
    "```haskell\n",
    "f :: Show a => (a, b) -> IO (a, b)\n",
    "f t@(a, _) = do\n",
    "    print a\n",
    "    return t\n",
    "```\n",
    "\n",
    "Here we pattern-matched on a tuple so we could get at the first\n",
    "value for printing, but used the `@` symbol to introduce a binding\n",
    "named `t` in order to refer to the whole tuple rather than just a part.\n",
    "\n",
    "```haskell\n",
    "Prelude> f (1, 2)\n",
    "1\n",
    "(1,2)\n",
    "```\n",
    "\n",
    "We can use as-patterns with pattern matching on arbitrary data\n",
    "constructors, which includes lists:\n",
    "\n",
    "```haskell\n",
    "doubleUp :: [a] -> [a]\n",
    "doubleUp [] = []\n",
    "doubleUp xs@(x:_) = x : xs\n",
    "\n",
    "Prelude> doubleUp []\n",
    "[]\n",
    "\n",
    "Prelude> doubleUp [1]\n",
    "[1,1]\n",
    "\n",
    "Prelude> doubleUp [1, 2]\n",
    "[1,1,2]\n",
    "\n",
    "Prelude> doubleUp [1, 2, 3]\n",
    "[1,1,2,3]\n",
    "```\n",
    "\n",
    "Use as-patterns in implementing the following functions:\n",
    "\n",
    "1. This should return True if (and only if) all the values in the first list appear in the second list, though they need not be contiguous.\n",
    "```haskell\n",
    "isSubseqOf :: (Eq a)\n",
    "    => [a]\n",
    "    -> [a]\n",
    "    -> Bool\n",
    "```"
   ]
  },
  {
   "cell_type": "code",
   "execution_count": 3,
   "id": "30f5c5dd",
   "metadata": {},
   "outputs": [],
   "source": [
    "import Data.List (elemIndex)\n",
    "\n",
    "isSubseqOf :: (Eq a)\n",
    "    => [a]\n",
    "    -> [a]\n",
    "    -> Bool\n",
    "\n",
    "isSubseqOf [] _ = True\n",
    "isSubseqOf xs@(x:xs') ys =\n",
    "    case elemIndex x ys of\n",
    "        Nothing -> False\n",
    "        Just i -> isSubseqOf xs' (drop i ys)"
   ]
  },
  {
   "cell_type": "code",
   "execution_count": 4,
   "id": "760704f5",
   "metadata": {},
   "outputs": [
    {
     "data": {
      "text/plain": [
       "False"
      ]
     },
     "metadata": {},
     "output_type": "display_data"
    }
   ],
   "source": [
    "isSubseqOf \"blah\" \"halbwoot\""
   ]
  },
  {
   "cell_type": "code",
   "execution_count": 5,
   "id": "b63522c0",
   "metadata": {},
   "outputs": [
    {
     "data": {
      "text/plain": [
       "True"
      ]
     },
     "metadata": {},
     "output_type": "display_data"
    }
   ],
   "source": [
    "isSubseqOf \"blah\" \"wootblah\""
   ]
  },
  {
   "cell_type": "markdown",
   "id": "edc6ec8f",
   "metadata": {},
   "source": [
    "2. Split a sentence into words, then tuple each word with the capitalized form of each.\n",
    "```haskell\n",
    "capitalizeWords :: String -> [(String, String)]\n",
    "\n",
    "Prelude> capitalizeWords \"hello world\"\n",
    "[(\"hello\", \"Hello\"), (\"world\", \"World\")]\n",
    "```"
   ]
  },
  {
   "cell_type": "code",
   "execution_count": 10,
   "id": "95274470",
   "metadata": {},
   "outputs": [],
   "source": [
    "import Data.Char ( toUpper, toLower )\n",
    "\n",
    "\n",
    "capitalize :: String -> String\n",
    "capitalize (x:xs) = toUpper x : map toLower xs\n",
    "\n",
    "capitalizeWords :: String -> [(String, String)]\n",
    "capitalizeWords text =\n",
    "    zip (words text) (map capitalize (words text))"
   ]
  },
  {
   "cell_type": "code",
   "execution_count": 11,
   "id": "40f4fd35",
   "metadata": {},
   "outputs": [
    {
     "data": {
      "text/plain": [
       "[(\"hello\",\"Hello\"),(\"world\",\"World\")]"
      ]
     },
     "metadata": {},
     "output_type": "display_data"
    }
   ],
   "source": [
    "capitalizeWords \"hello world\""
   ]
  },
  {
   "cell_type": "markdown",
   "id": "9a8d703c",
   "metadata": {},
   "source": [
    "### Language exercises\n",
    "\n",
    "1. Write a function that capitalizes a word.\n",
    "\n",
    "```haskell\n",
    "capitalizeWord :: String -> String\n",
    "capitalizeWord = undefined\n",
    "```\n",
    "\n",
    "Example output.\n",
    "\n",
    "```haskell\n",
    "Prelude> capitalizeWord \"Chortle\"\n",
    "\"Chortle\"\n",
    "Prelude> capitalizeWord \"chortle\"\n",
    "\"Chortle\"\n",
    "```"
   ]
  },
  {
   "cell_type": "code",
   "execution_count": 12,
   "id": "3d19df2c",
   "metadata": {},
   "outputs": [],
   "source": [
    "capitalizeWord :: String -> String\n",
    "capitalizeWord (x:xs) = toUpper x : map toLower xs"
   ]
  },
  {
   "cell_type": "markdown",
   "id": "474f2ab0",
   "metadata": {},
   "source": [
    "2. Write a function that capitalizes sentences in a paragraph. Recognize when a new sentence has begun by checking for periods. Reuse the `capitalizeWord` function."
   ]
  },
  {
   "cell_type": "code",
   "execution_count": 24,
   "id": "5274041e",
   "metadata": {},
   "outputs": [],
   "source": [
    "splitOn :: Char -> String -> [String]\n",
    "splitOn c text =\n",
    "    case nextSubstring of\n",
    "        [] -> []\n",
    "        _  -> nextSubstring : splitOn c rest\n",
    "    where\n",
    "        nextSubstring = getNext text\n",
    "        rest = drop (length (takeWhile (== c) text ++ nextSubstring)) text\n",
    "        getNext = takeWhile (/= c) . dropWhile (== c)"
   ]
  },
  {
   "cell_type": "code",
   "execution_count": 49,
   "id": "35c091cb",
   "metadata": {},
   "outputs": [],
   "source": [
    "import Data.List (intercalate)\n",
    "\n",
    "capitalizeParagraph :: String -> String\n",
    "capitalizeParagraph text = \n",
    "    intercalate \". \" (map capitalizeSentence sentences) ++ \".\"\n",
    "    where\n",
    "        sentences = splitOn '.' text\n",
    "        capitalizeSentence sentence =\n",
    "            case words sentence of\n",
    "                [] -> \"\"\n",
    "                first:rest -> unwords $ capitalizeWord first : rest"
   ]
  },
  {
   "cell_type": "code",
   "execution_count": null,
   "id": "75a2b85f",
   "metadata": {},
   "outputs": [
    {
     "data": {
      "text/plain": [
       "\"Blah. Woot ha. Im going home.\""
      ]
     },
     "metadata": {},
     "output_type": "display_data"
    }
   ],
   "source": [
    "let s = \"blah. woot ha. im going home.\"\n",
    "capitalizeParagraph s"
   ]
  },
  {
   "cell_type": "code",
   "execution_count": null,
   "id": "064983a0",
   "metadata": {},
   "outputs": [],
   "source": []
  }
 ],
 "metadata": {
  "kernelspec": {
   "display_name": "Haskell",
   "language": "haskell",
   "name": "haskell"
  },
  "language_info": {
   "codemirror_mode": "ihaskell",
   "file_extension": ".hs",
   "mimetype": "text/x-haskell",
   "name": "haskell",
   "pygments_lexer": "Haskell",
   "version": "9.6.4"
  }
 },
 "nbformat": 4,
 "nbformat_minor": 5
}
