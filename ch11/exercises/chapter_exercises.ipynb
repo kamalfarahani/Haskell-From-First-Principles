{
 "cells": [
  {
   "cell_type": "markdown",
   "id": "5090e9bd",
   "metadata": {},
   "source": [
    "## Chapter Exercises"
   ]
  },
  {
   "cell_type": "markdown",
   "id": "d5d975e7",
   "metadata": {},
   "source": [
    "### Multiple choice"
   ]
  },
  {
   "cell_type": "markdown",
   "id": "8047f231",
   "metadata": {},
   "source": [
    "1. Given the following datatype:\n",
    "\n",
    "```haskell\n",
    "data Weekday =\n",
    "    Monday\n",
    "  | Tuesday\n",
    "  | Wednesday\n",
    "  | Thursday\n",
    "  | Friday\n",
    "```\n",
    "we can say:\n",
    "\n",
    "- a) Weekday is a type with five data constructors  ✅\n",
    "- b) Weekday is a tree with five branches\n",
    "- c) Weekday is a product type\n",
    "- d) Weekday takes five arguments"
   ]
  },
  {
   "cell_type": "markdown",
   "id": "65844194",
   "metadata": {},
   "source": [
    "2. and with the same datatype definition in mind, what is the type of the following function, `f`?\n",
    "\n",
    "```haskell\n",
    "f Friday = \"Miller Time\"\n",
    "```\n",
    "- a) `f :: [Char]`\n",
    "- b) `f :: String -> String`\n",
    "- c) `f :: Weekday -> String` ✅\n",
    "- d) `f :: Day -> Beer`"
   ]
  },
  {
   "cell_type": "markdown",
   "id": "2b1168ce",
   "metadata": {},
   "source": [
    "3. Types defined with the data keyword\n",
    "- a) must have at least one argument\n",
    "- b) must begin with a capital letter ✅\n",
    "- c) must be polymorphic\n",
    "- d) cannot be imported from modules"
   ]
  },
  {
   "cell_type": "markdown",
   "id": "920a1275",
   "metadata": {},
   "source": [
    "4. The function `g xs = xs !! (length xs - 1)`\n",
    "- a) is recursive and may not terminate\n",
    "- b) delivers the head of `xs`\n",
    "- c) delivers the final element of `xs` ✅\n",
    "- d) has the same type as `xs`"
   ]
  },
  {
   "cell_type": "markdown",
   "id": "8868d39e",
   "metadata": {},
   "source": [
    "### Ciphers\n",
    "In the Lists chapter, you wrote a Caesar cipher. Now, we want to\n",
    "expand on that idea by writing a Vigenère cipher. A Vigenère cipher is another substitution cipher, based on a Caesar cipher, but it\n",
    "uses a series of Caesar ciphers for polyalphabetic substitution. The\n",
    "substitution for each letter in the plaintext is determined by a fixed\n",
    "keyword.\n",
    "So, for example, if you want to encode the message `“meet at dawn”` the first step is to pick a keyword that will determine which\n",
    "Caesar cipher to use. We’ll use the keyword `“ALLY”` here. You repeat\n",
    "the keyword for as many characters as there are in your original\n",
    "message:\n",
    "```\n",
    "MEET AT DAWN\n",
    "ALLY AL LYAL\n",
    "```\n",
    "Now the number of rightward shifts to make to encode each\n",
    "character is set by the character of the keyword that lines up with it.\n",
    "The `’A’` means a shift of `0`, so the initial M will remain M. But the `’L’`\n",
    "for our second character sets a rightward shift of `11`, so `’E’` becomes\n",
    "`’P’`. And so on, so “meet at dawn” encoded with the keyword `“ALLY”`\n",
    "becomes `“MPPR AE OYWY”`."
   ]
  },
  {
   "cell_type": "code",
   "execution_count": null,
   "id": "3c40300d",
   "metadata": {},
   "outputs": [],
   "source": [
    "import Data.Char\n",
    "\n",
    "\n",
    "encrypt :: [(Char, Char)] -> String\n",
    "encrypt =\n",
    "    map (shift . codeToShift)\n",
    "    where\n",
    "        padding                = ord 'A'\n",
    "        codeToShift :: (Char, Char) -> (Char, Int)\n",
    "        codeToShift (x, code)  = (x, ord code - padding)\n",
    "        shift :: (Char, Int) -> Char\n",
    "        shift (char, shift)    = chr ((((ord char - padding ) + shift ) `mod` 26) + padding)\n",
    "\n",
    "\n",
    "vingere :: String -> String -> String\n",
    "vingere text key =\n",
    "    restoreNonAlpha $ encrypt charAndCode\n",
    "    where\n",
    "        charAndCode         = zip clearedText cycledKey\n",
    "        clearedText         = removeNonAlpha (toUpperString text)\n",
    "        cycledKey           = cycle (toUpperString key)\n",
    "        toUpperString :: String -> String\n",
    "        toUpperString = map toUpper\n",
    "        removeNonAlpha :: String -> String\n",
    "        removeNonAlpha = filter isAlpha\n",
    "        restoreNonAlpha :: String -> String\n",
    "        restoreNonAlpha text' = foldl selector \"\" text\n",
    "            where\n",
    "                selector :: String -> Char -> String\n",
    "                selector acc x = \n",
    "                    if not (isAlpha x)\n",
    "                    then acc ++ [x]\n",
    "                    else acc ++ [text' !! (length acc - getNonAlpha acc)]\n",
    "                    where\n",
    "                        getNonAlpha :: String -> Int\n",
    "                        getNonAlpha str = \n",
    "                            sum $ map (\\char -> if isAlpha char then 0 else 1) str"
   ]
  },
  {
   "cell_type": "code",
   "execution_count": null,
   "id": "4531db15",
   "metadata": {},
   "outputs": [],
   "source": []
  }
 ],
 "metadata": {
  "kernelspec": {
   "display_name": "Haskell",
   "language": "haskell",
   "name": "haskell"
  },
  "language_info": {
   "codemirror_mode": "ihaskell",
   "file_extension": ".hs",
   "mimetype": "text/x-haskell",
   "name": "haskell",
   "pygments_lexer": "Haskell",
   "version": "9.6.3"
  }
 },
 "nbformat": 4,
 "nbformat_minor": 5
}
