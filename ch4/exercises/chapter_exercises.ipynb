{
 "cells": [
  {
   "cell_type": "markdown",
   "id": "05f51b15",
   "metadata": {},
   "source": [
    "## Chapter Exercises\n",
    "\n",
    "As in previous chapters, you will gain more by working out the answer\n",
    "before you check what GHCi tells you, but be sure to use your REPL\n",
    "to check your answers to the following exercises. Also, you will need\n",
    "to have the awesome, also, and allAwesome code from above in scope\n",
    "for this REPL session. For convenience of reference, here are those\n",
    "values again:"
   ]
  },
  {
   "cell_type": "code",
   "execution_count": 1,
   "id": "3485e76e",
   "metadata": {},
   "outputs": [],
   "source": [
    "awesome = [\"Papuchon\", \"curry\", \":)\"]\n",
    "also = [\"Quake\", \"The Simons\"]\n",
    "allAwesome = [awesome, also]"
   ]
  },
  {
   "cell_type": "markdown",
   "id": "a67c2368",
   "metadata": {},
   "source": [
    "`length` is a function that takes a list and returns a result that tells\n",
    "how many items are in the list.\n",
    "\n",
    "1. Given the definition of length above, what would the type signature be? How many arguments, of what type does it take? What is the type of the result it evaluates to?\n",
    "\n",
    "> Answer: `length :: [a] -> Int` it takes a list as argument and returns an `Int` value\n"
   ]
  },
  {
   "cell_type": "markdown",
   "id": "e7db7489",
   "metadata": {},
   "source": [
    "2. What are the results of the following expressions?\n",
    "    - `length [1, 2, 3, 4, 5]` $\\to 5$ \n",
    "    - `length [(1, 2), (2, 3), (3, 4)]` $\\to 3$\n",
    "    - `length allAwesome` $\\to 2$\n",
    "    - `length (concat allAwesome)`$\\to 5$"
   ]
  },
  {
   "cell_type": "markdown",
   "id": "a900c469",
   "metadata": {},
   "source": [
    "3. Given what we know about numeric types and the type signature of length, look at these two expressions. One works and one returns an error. Determine which will return an error and why. (n.b., you will find `Foldable t => t a` representing `[a]`, as with concat in the previous chapter. Again, consider `Foldable t` to represent a list here, even though list is only one of the possible types.)\n",
    "\n",
    "```haskell\n",
    "Prelude> 6 / 3\n",
    "-- and\n",
    "Prelude> 6 / length [1, 2, 3]\n",
    "```\n",
    "> **<span style=\"color:green\">Answer:</span>** The first expression returns no error but the second one `6 / length [1, 2, 3]` returns error. because `length x` returns a value of type `Int` and the `/` requires for the types to implement `Fractional` typeclass, so it returns an error."
   ]
  },
  {
   "cell_type": "markdown",
   "id": "4b331c43",
   "metadata": {},
   "source": [
    "4. How can you fix the broken code from the preceding exercise using a different division function/operator?\n",
    "\n",
    "> **<span style=\"color:green\">Answer:</span>** We can use `div` function"
   ]
  },
  {
   "cell_type": "code",
   "execution_count": 4,
   "id": "f4053e76",
   "metadata": {},
   "outputs": [
    {
     "data": {
      "text/plain": [
       "2"
      ]
     },
     "metadata": {},
     "output_type": "display_data"
    }
   ],
   "source": [
    " div 6  (length [1, 2, 3])"
   ]
  },
  {
   "cell_type": "markdown",
   "id": "dc7a7921",
   "metadata": {},
   "source": [
    "5. What is the type of the expression `2 + 3 == 5`? What would we expect as a result?\n",
    "\n",
    "> **<span style=\"color:green\">Answer:</span>** The type is `Bool` and the value would be `True`"
   ]
  },
  {
   "cell_type": "markdown",
   "id": "bc9b1287",
   "metadata": {},
   "source": [
    "6. What is the type and expected result value of the following:\n",
    "\n",
    "```haskell\n",
    "Prelude> let x = 5\n",
    "Prelude> x + 3 == 5\n",
    "```\n",
    "\n",
    "> **<span style=\"color:green\">Answer:</span>** The type is `Bool` and the value would be `False`"
   ]
  },
  {
   "cell_type": "markdown",
   "id": "a385d89b",
   "metadata": {},
   "source": [
    "7. Below are some bits of code. Which will work? Why or why not? If they will work, what value would these reduce to?\n",
    "\n",
    "```haskell\n",
    "Prelude> length allAwesome == 2\n",
    "Prelude> length [1, 'a', 3, 'b']\n",
    "Prelude> length allAwesome + length awesome\n",
    "Prelude> (8 == 8) && ('b' < 'a')\n",
    "Prelude> (8 == 8) && 9\n",
    "```"
   ]
  },
  {
   "cell_type": "code",
   "execution_count": 5,
   "id": "4f5e1cf8",
   "metadata": {},
   "outputs": [
    {
     "data": {
      "text/plain": [
       "True"
      ]
     },
     "metadata": {},
     "output_type": "display_data"
    }
   ],
   "source": [
    "length allAwesome == 2"
   ]
  },
  {
   "cell_type": "code",
   "execution_count": 6,
   "id": "d3af8696",
   "metadata": {},
   "outputs": [
    {
     "ename": "",
     "evalue": "",
     "output_type": "error",
     "traceback": [
      "<interactive>:1:9: error: [GHC-39999]\n    • No instance for ‘Num Char’ arising from the literal ‘1’\n    • In the expression: 1\n      In the first argument of ‘length’, namely ‘[1, 'a', 3, 'b']’\n      In the expression: length [1, 'a', 3, 'b']"
     ]
    }
   ],
   "source": [
    "length [1, 'a', 3, 'b']"
   ]
  },
  {
   "cell_type": "code",
   "execution_count": 7,
   "id": "560d25e6",
   "metadata": {},
   "outputs": [
    {
     "data": {
      "text/plain": [
       "5"
      ]
     },
     "metadata": {},
     "output_type": "display_data"
    }
   ],
   "source": [
    "length allAwesome + length awesome"
   ]
  },
  {
   "cell_type": "code",
   "execution_count": 8,
   "id": "58243625",
   "metadata": {},
   "outputs": [
    {
     "data": {
      "text/plain": [
       "False"
      ]
     },
     "metadata": {},
     "output_type": "display_data"
    }
   ],
   "source": [
    "(8 == 8) && ('b' < 'a')"
   ]
  },
  {
   "cell_type": "code",
   "execution_count": 9,
   "id": "ab0f3631",
   "metadata": {},
   "outputs": [
    {
     "ename": "",
     "evalue": "",
     "output_type": "error",
     "traceback": [
      "<interactive>:1:13: error: [GHC-39999]\n    • No instance for ‘Num Bool’ arising from the literal ‘9’\n    • In the second argument of ‘(&&)’, namely ‘9’\n      In the expression: (8 == 8) && 9\n      In an equation for ‘it’: it = (8 == 8) && 9"
     ]
    }
   ],
   "source": [
    "(8 == 8) && 9"
   ]
  },
  {
   "cell_type": "markdown",
   "id": "fd8a5f05",
   "metadata": {},
   "source": [
    "8. Write a function that tells you whether or not a given String (or list) is a palindrome. Here you’ll want to use a function called reverse a predefined function that does what it sounds like.\n",
    "\n",
    "```haskell\n",
    "reverse :: [a] -> [a]\n",
    "reverse \"blah\"\n",
    "\"halb\"\n",
    "isPalindrome :: (Eq a) => [a] -> Bool\n",
    "isPalindrome x = undefined\n",
    "```"
   ]
  },
  {
   "cell_type": "code",
   "execution_count": 14,
   "id": "457e5ea2",
   "metadata": {},
   "outputs": [],
   "source": [
    "isPalindrome :: (Eq a) => [a] -> Bool\n",
    "isPalindrome x =\n",
    "    reverse x == x"
   ]
  },
  {
   "cell_type": "code",
   "execution_count": 16,
   "id": "718939e2",
   "metadata": {},
   "outputs": [
    {
     "data": {
      "text/plain": [
       "False"
      ]
     },
     "metadata": {},
     "output_type": "display_data"
    }
   ],
   "source": [
    "isPalindrome \"coco\""
   ]
  },
  {
   "cell_type": "code",
   "execution_count": 18,
   "id": "308722e1",
   "metadata": {},
   "outputs": [
    {
     "data": {
      "text/plain": [
       "True"
      ]
     },
     "metadata": {},
     "output_type": "display_data"
    }
   ],
   "source": [
    "isPalindrome \"AAA\""
   ]
  },
  {
   "cell_type": "markdown",
   "id": "a4588e5b",
   "metadata": {},
   "source": [
    "9. Write a function to return the absolute value of a number using if-then-else\n",
    "```haskell\n",
    "myAbs :: Integer -> Integer\n",
    "myAbs = undefined\n",
    "```"
   ]
  },
  {
   "cell_type": "code",
   "execution_count": 19,
   "id": "3606c087",
   "metadata": {},
   "outputs": [],
   "source": [
    "myAbs :: Integer -> Integer\n",
    "myAbs x = \n",
    "    if x < 0\n",
    "    then -x\n",
    "    else x"
   ]
  },
  {
   "cell_type": "code",
   "execution_count": 20,
   "id": "fcd770d0",
   "metadata": {},
   "outputs": [
    {
     "data": {
      "text/plain": [
       "10"
      ]
     },
     "metadata": {},
     "output_type": "display_data"
    }
   ],
   "source": [
    "myAbs 10"
   ]
  },
  {
   "cell_type": "code",
   "execution_count": 21,
   "id": "611773a7",
   "metadata": {},
   "outputs": [
    {
     "data": {
      "text/plain": [
       "10"
      ]
     },
     "metadata": {},
     "output_type": "display_data"
    }
   ],
   "source": [
    "myAbs (-10)"
   ]
  },
  {
   "cell_type": "markdown",
   "id": "bd36ad56",
   "metadata": {},
   "source": [
    "10. Fill in the definition of the following function, using fst and snd:\n",
    "\n",
    "```haskell\n",
    "f :: (a, b) -> (c, d) -> ((b, d), (a, c))\n",
    "f = undefined\n",
    "```"
   ]
  },
  {
   "cell_type": "code",
   "execution_count": 22,
   "id": "6b99e65e",
   "metadata": {},
   "outputs": [],
   "source": [
    "f :: (a, b) -> (c, d) -> ((b, d), (a, c))\n",
    "f x y = \n",
    "    ((snd x, snd y), (fst x, fst y))"
   ]
  },
  {
   "cell_type": "code",
   "execution_count": 23,
   "id": "c9d093e0",
   "metadata": {},
   "outputs": [
    {
     "data": {
      "text/plain": [
       "((2,4),(1,3))"
      ]
     },
     "metadata": {},
     "output_type": "display_data"
    }
   ],
   "source": [
    "f (1, 2) (3, 4)"
   ]
  },
  {
   "cell_type": "markdown",
   "id": "7de58c94",
   "metadata": {},
   "source": [
    "### Correcting syntax\n",
    "\n",
    "In the following examples, you’ll be shown syntactically incorrect\n",
    "code. Type it in and try to correct it in your text editor, validating it\n",
    "with GHC or GHCi."
   ]
  },
  {
   "cell_type": "markdown",
   "id": "f9cf72d8",
   "metadata": {},
   "source": [
    "1. Here, we want a function that adds 1 to the length of a string argument and returns that result.\n",
    "\n",
    "```haskell\n",
    "x = (+)\n",
    "F xs = w 'x' 1\n",
    "    where w = length xs\n",
    "```"
   ]
  },
  {
   "cell_type": "code",
   "execution_count": 25,
   "id": "bdf7b8ee",
   "metadata": {},
   "outputs": [],
   "source": [
    "x = (+)\n",
    "\n",
    "f xs = w `x` 1\n",
    "    where w = length xs"
   ]
  },
  {
   "cell_type": "code",
   "execution_count": 27,
   "id": "db46127e",
   "metadata": {},
   "outputs": [
    {
     "data": {
      "text/plain": [
       "4"
      ]
     },
     "metadata": {},
     "output_type": "display_data"
    }
   ],
   "source": [
    "f ['a', 'b', 'c']"
   ]
  },
  {
   "cell_type": "markdown",
   "id": "4f46613f",
   "metadata": {},
   "source": [
    "2. This is supposed to be the identity function, id.\n",
    "\n",
    "```haskell\n",
    "\\X = x\n",
    "```"
   ]
  },
  {
   "cell_type": "code",
   "execution_count": 29,
   "id": "9121c08c",
   "metadata": {},
   "outputs": [
    {
     "data": {
      "text/html": [
       "<style>/* Styles used for the Hoogle display in the pager */\n",
       ".hoogle-doc {\n",
       "display: block;\n",
       "padding-bottom: 1.3em;\n",
       "padding-left: 0.4em;\n",
       "}\n",
       ".hoogle-code {\n",
       "display: block;\n",
       "font-family: monospace;\n",
       "white-space: pre;\n",
       "}\n",
       ".hoogle-text {\n",
       "display: block;\n",
       "}\n",
       ".hoogle-name {\n",
       "color: green;\n",
       "font-weight: bold;\n",
       "}\n",
       ".hoogle-head {\n",
       "font-weight: bold;\n",
       "}\n",
       ".hoogle-sub {\n",
       "display: block;\n",
       "margin-left: 0.4em;\n",
       "}\n",
       ".hoogle-package {\n",
       "font-weight: bold;\n",
       "font-style: italic;\n",
       "}\n",
       ".hoogle-module {\n",
       "font-weight: bold;\n",
       "}\n",
       ".hoogle-class {\n",
       "font-weight: bold;\n",
       "}\n",
       "\n",
       ".get-type {\n",
       "color: green;\n",
       "font-weight: bold;\n",
       "font-family: monospace;\n",
       "display: block;\n",
       "white-space: pre-wrap;\n",
       "}\n",
       ".show-type {\n",
       "color: green;\n",
       "font-weight: bold;\n",
       "font-family: monospace;\n",
       "margin-left: 1em;\n",
       "}\n",
       ".mono {\n",
       "font-family: monospace;\n",
       "display: block;\n",
       "}\n",
       ".err-msg {\n",
       "color: red;\n",
       "font-style: italic;\n",
       "font-family: monospace;\n",
       "white-space: pre;\n",
       "display: block;\n",
       "}\n",
       "#unshowable {\n",
       "color: red;\n",
       "font-weight: bold;\n",
       "}\n",
       ".err-msg.in.collapse {\n",
       "padding-top: 0.7em;\n",
       "}\n",
       "\n",
       ".highlight-code {\n",
       "white-space: pre;\n",
       "font-family: monospace;\n",
       "}\n",
       "\n",
       ".suggestion-warning { \n",
       "font-weight: bold;\n",
       "color: rgb(200, 130, 0);\n",
       "}\n",
       ".suggestion-error { \n",
       "font-weight: bold;\n",
       "color: red;\n",
       "}\n",
       ".suggestion-name {\n",
       "font-weight: bold;\n",
       "}\n",
       "\n",
       "</style><div class=\"suggestion-name\" style=\"clear:both;\">Redundant lambda</div><div class=\"suggestion-row\" style=\"float: left;\"><div class=\"suggestion-warning\">Found:</div><div class=\"highlight-code\" id=\"haskell\">f = \\ x -> x</div></div><div class=\"suggestion-row\" style=\"float: left;\"><div class=\"suggestion-warning\">Why Not:</div><div class=\"highlight-code\" id=\"haskell\">f x = x</div></div><div class=\"suggestion-name\" style=\"clear:both;\">Use id</div><div class=\"suggestion-row\" style=\"float: left;\"><div class=\"suggestion-warning\">Found:</div><div class=\"highlight-code\" id=\"haskell\">\\ x -> x</div></div><div class=\"suggestion-row\" style=\"float: left;\"><div class=\"suggestion-warning\">Why Not:</div><div class=\"highlight-code\" id=\"haskell\">id</div></div>"
      ],
      "text/plain": [
       "Line 1: Redundant lambda\n",
       "Found:\n",
       "f = \\ x -> x\n",
       "Why not:\n",
       "f x = xLine 1: Use id\n",
       "Found:\n",
       "\\ x -> x\n",
       "Why not:\n",
       "id"
      ]
     },
     "metadata": {},
     "output_type": "display_data"
    }
   ],
   "source": [
    "f = \\x -> x"
   ]
  },
  {
   "cell_type": "markdown",
   "id": "2372e0e2",
   "metadata": {},
   "source": [
    "3. When fixed, this function will return `1` from the value `(1, 2)`:\n",
    "\n",
    "```haskell\n",
    "f (a b) = A\n",
    "```"
   ]
  },
  {
   "cell_type": "code",
   "execution_count": 31,
   "id": "9e6e58c5",
   "metadata": {},
   "outputs": [],
   "source": [
    "f :: (a, b) -> a\n",
    "f (a, b) = a"
   ]
  },
  {
   "cell_type": "code",
   "execution_count": null,
   "id": "9db79ad0",
   "metadata": {},
   "outputs": [
    {
     "data": {
      "text/plain": [
       "1"
      ]
     },
     "metadata": {},
     "output_type": "display_data"
    }
   ],
   "source": [
    "f (1, 2)"
   ]
  },
  {
   "cell_type": "markdown",
   "id": "87689a75",
   "metadata": {},
   "source": [
    "### Match the function names to their types"
   ]
  },
  {
   "cell_type": "markdown",
   "id": "aca795dc",
   "metadata": {},
   "source": [
    "1. Which of the following types is the type of show?\n",
    "    - `show a => a -> String`\n",
    "    - `Show a -> a -> String`\n",
    "    - `Show a => a -> String` ✅"
   ]
  },
  {
   "cell_type": "markdown",
   "id": "3abe9356",
   "metadata": {},
   "source": [
    "2. Which of the following types is the type of `(==)`?\n",
    "    - `a -> a -> Bool`\n",
    "    - `Eq a => a -> a -> Bool` ✅\n",
    "    - `Eq a -> a -> a -> Bool`\n",
    "    - `Eq a => A -> Bool`"
   ]
  },
  {
   "cell_type": "markdown",
   "id": "ea5b02e6",
   "metadata": {},
   "source": [
    "3. Which of the following types is the type of `fst`?\n",
    "    - `(a, b) -> a` ✅\n",
    "    - `b -> a`\n",
    "    - `(a, b) -> b`"
   ]
  },
  {
   "cell_type": "markdown",
   "id": "95b5819a",
   "metadata": {},
   "source": [
    "4. Which of the following types is the type of `(+)`?\n",
    "    * `(+) :: Num a -> a -> a -> Bool`\n",
    "    * `(+) :: Num a => a -> a -> Bool`\n",
    "    * `(+) :: num a => a -> a -> a`\n",
    "    * `(+) :: Num a => a -> a -> a` ✅\n",
    "    * `(+) :: a -> a -> a`"
   ]
  }
 ],
 "metadata": {
  "kernelspec": {
   "display_name": "Haskell",
   "language": "haskell",
   "name": "haskell"
  },
  "language_info": {
   "codemirror_mode": "ihaskell",
   "file_extension": ".hs",
   "mimetype": "text/x-haskell",
   "name": "haskell",
   "pygments_lexer": "Haskell",
   "version": "9.6.3"
  }
 },
 "nbformat": 4,
 "nbformat_minor": 5
}
