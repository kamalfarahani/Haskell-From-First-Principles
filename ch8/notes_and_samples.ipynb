{
 "cells": [
  {
   "cell_type": "markdown",
   "id": "63383d2c",
   "metadata": {},
   "source": [
    "## Recursion\n",
    "\n",
    "Recursion in Haskell is a powerful technique where a function defines itself in terms of simpler versions of itself. It's like a recipe that refers to itself with smaller amounts of ingredients until you reach a basic step you can handle. This allows you to solve problems by breaking them down into smaller, similar subproblems.\n",
    "\n",
    "Here are two key parts to writing a good recursive function in Haskell:\n",
    "\n",
    "1. **Base Case(s):** This is the stopping condition, the simplest case where the function doesn't need to call itself anymore and can directly return a result.\n",
    "\n",
    "2. **Recursive Case:** This is where the function calls itself with a smaller version of the original problem. The problem gets smaller with each call until it reaches the base case.\n",
    "\n",
    "**Examples:**\n",
    "\n",
    "* **Factorial:**\n",
    "\n",
    "This function calculates the factorial of a number. The factorial of a number is the product of all positive integers less than or equal to that number.\n",
    "\n",
    "```haskell\n",
    "factorial :: Int -> Int\n",
    "factorial 0 = 1  -- Base case: factorial of 0 is 1\n",
    "factorial n = n * factorial (n-1)  -- Recursive case: factorial of n is n times the factorial of n-1\n",
    "```\n",
    "\n",
    "Here, the base case is `factorial 0`, which simply returns 1. The recursive case is where `factorial n` calls itself with `n-1`, effectively calculating the factorial of a smaller number and multiplying it by `n` to get the final result.\n",
    "\n",
    "* **Reversing a List:**\n",
    "\n",
    "This function reverses the order of elements in a list.\n",
    "\n",
    "```haskell\n",
    "reverseList :: [a] -> [a]\n",
    "reverseList [] = []  -- Base case: empty list is its own reverse\n",
    "reverseList (head:tail) = reverseList tail ++ [head]  -- Recursive case: reverse the tail and append the head to the end\n",
    "```\n",
    "\n",
    "The base case is an empty list (`[]`), which is already reversed. The recursive case breaks down the list into its head (`head`) and tail (`tail`). It then reverses the tail using the `reverseList` function itself and adds the `head` to the end to get the reversed list.\n",
    "\n",
    "These are just a few examples. Recursion is a fundamental concept in Haskell and can be used to solve various problems like calculating Fibonacci numbers, traversing data structures, and implementing algorithms.\n"
   ]
  },
  {
   "cell_type": "code",
   "execution_count": 13,
   "id": "f592f041",
   "metadata": {},
   "outputs": [],
   "source": [
    "factorial :: Integer -> Integer\n",
    "factorial 0 = 1\n",
    "factorial n = n * factorial (n - 1)"
   ]
  },
  {
   "cell_type": "code",
   "execution_count": 14,
   "id": "248e188c",
   "metadata": {},
   "outputs": [
    {
     "data": {
      "text/plain": [
       "1762952551090244663872161047107075788761409536026565516041574063347346955087248316436555574598462315773196047662837978913145847497199871623320096254145331200000000000000000000000000"
      ]
     },
     "metadata": {},
     "output_type": "display_data"
    }
   ],
   "source": [
    "factorial 111"
   ]
  },
  {
   "cell_type": "markdown",
   "id": "f0e96908",
   "metadata": {},
   "source": [
    "### Intermission: Exercise\n",
    "\n",
    "Write out the evaluation of the following. It might be a little less noisy if you do so with the form that didn’t use `(.)`.\n",
    "\n",
    "```haskell\n",
    "applyTimes 5 (+1) 5\n",
    "```\n",
    "\n",
    "> **<span style=\"color:green\">Answer:<span/>** Trivial!"
   ]
  },
  {
   "cell_type": "markdown",
   "id": "1bdaa3ab",
   "metadata": {},
   "source": [
    "### Bottom\n",
    "\n",
    "In Haskell, the term \"Bottom\" refers to a type of computation that never terminates successfully. It represents a program that either gets stuck in an infinite loop or encounters an error that prevents it from returning a proper value. There isn't a specific symbol for Bottom in code, but it's a theoretical concept.\n",
    "\n",
    "Here's how Bottom applies in Haskell:\n",
    "\n",
    "1. **Non-terminating Loops:** Imagine a function that keeps calling itself without a base case, resulting in an infinite loop. This loop would be considered a Bottom value because it never reaches a point where it can return a result.\n",
    "\n",
    "2. **Errors:** Functions that encounter errors like division by zero or accessing an invalid index also represent Bottom. These errors prevent the function from completing its intended calculation and returning a valid output.\n",
    "\n",
    "**While Bottom itself isn't directly used in code, there are functions and concepts that relate to it:**\n",
    "\n",
    "* **`undefined`:** This built-in function essentially throws an error, indicating the program can't proceed. It's a way to signal a Bottom situation.\n",
    "\n",
    "* **Non-exhaustive Patterns:** Sometimes, pattern matching in Haskell functions might not cover all possible cases. This can lead to unexpected behavior or potential Bottoms if an unmatched case arises during execution.\n",
    "\n",
    "**Example (demonstrating `undefined`):**\n",
    "\n",
    "```haskell\n",
    "divide :: Int -> Int -> Int\n",
    "divide x 0 = undefined  -- Error case (division by zero) -> Bottom\n",
    "divide x y = x `div` y\n",
    "```\n",
    "\n",
    "This `divide` function illustrates a Bottom situation. If `y` is zero, the function uses `undefined` which signifies an error and essentially represents Bottom. The program can't continue the division and never returns a proper value.\n",
    "\n",
    "**Remember:** Bottom is a theoretical concept, but it's helpful to understand how errors, infinite loops, and certain functions can lead to computations that fall under this category. "
   ]
  },
  {
   "cell_type": "code",
   "execution_count": 2,
   "id": "bb56f03e",
   "metadata": {},
   "outputs": [],
   "source": [
    "f :: Bool -> Int\n",
    "f True = error \"Blah\"\n",
    "f False = 0"
   ]
  },
  {
   "cell_type": "code",
   "execution_count": 3,
   "id": "0410d45b",
   "metadata": {},
   "outputs": [
    {
     "ename": "",
     "evalue": "",
     "output_type": "error",
     "traceback": [
      "Blah\nCallStack (from HasCallStack):\n  error, called at <interactive>:2:10 in interactive:Ghci36"
     ]
    }
   ],
   "source": [
    "f True"
   ]
  },
  {
   "cell_type": "markdown",
   "id": "9ded8bf1",
   "metadata": {},
   "source": [
    "### Type aliases\n",
    "\n",
    "In Haskell, type aliases allow you to create alternative names for existing types. They are useful for improving code readability and providing descriptive names for complex types. Type aliases do not create new types; they are simply aliases for existing ones.\n",
    "\n",
    "To define a type alias in Haskell, you can use the `type` keyword followed by the alias name and the original type. Here's an example:\n",
    "\n",
    "```haskell\n",
    "type Point = (Double, Double)\n",
    "```\n",
    "\n",
    "In this example, we define a type alias `Point` for the tuple `(Double, Double)`. Now, wherever you would use `(Double, Double)` in your code, you can use `Point` instead. It provides a more descriptive name and makes the code more readable.\n",
    "\n",
    "Here's how you can use the `Point` type alias:\n",
    "\n",
    "```haskell\n",
    "distance :: Point -> Point -> Double\n",
    "distance (x1, y1) (x2, y2) = sqrt ((x2 - x1)^2 + (y2 - y1)^2)\n",
    "\n",
    "origin :: Point\n",
    "origin = (0.0, 0.0)\n",
    "\n",
    "main :: IO ()\n",
    "main = do\n",
    "  let p1 = (3.0, 4.0)\n",
    "      p2 = (6.0, 8.0)\n",
    "      d = distance p1 p2\n",
    "  putStrLn $ \"The distance between \" ++ show p1 ++ \" and \" ++ show p2 ++ \" is \" ++ show d\n",
    "```\n",
    "\n",
    "In this example, we define a function `distance` that calculates the Euclidean distance between two points of type `Point`. The `origin` is a point at coordinates `(0.0, 0.0)`. In the `main` function, we create two points `p1` and `p2` and calculate the distance between them using the `distance` function.\n",
    "\n",
    "By using the `Point` type alias, the code becomes more readable and self-explanatory. It's easier to understand that `Point` represents a tuple of two `Double` values, and it improves the code's clarity and maintainability.\n",
    "\n",
    "Type aliases can be used with any existing types in Haskell, including primitive types, custom data types, and even other type aliases. They are a powerful tool for managing complex type signatures and making your code more expressive."
   ]
  },
  {
   "cell_type": "code",
   "execution_count": 12,
   "id": "0ea022e2",
   "metadata": {},
   "outputs": [],
   "source": [
    "dividedBy :: Integral a => a -> a -> (a, a)\n",
    "dividedBy num denom = go num denom 0\n",
    "    where go n d count\n",
    "            | n < d = (count, n)\n",
    "            | otherwise = go (n - d) d (count + 1)"
   ]
  }
 ],
 "metadata": {
  "kernelspec": {
   "display_name": "Haskell",
   "language": "haskell",
   "name": "haskell"
  },
  "language_info": {
   "codemirror_mode": "ihaskell",
   "file_extension": ".hs",
   "mimetype": "text/x-haskell",
   "name": "haskell",
   "pygments_lexer": "Haskell",
   "version": "9.6.4"
  }
 },
 "nbformat": 4,
 "nbformat_minor": 5
}
