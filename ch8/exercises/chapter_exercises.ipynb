{
 "cells": [
  {
   "cell_type": "markdown",
   "id": "e3611ce4",
   "metadata": {},
   "source": [
    "## Chapter Exercises\n",
    "\n",
    "### Review of types\n",
    "\n",
    "1. What is the type of `[[True, False], [True, True], [False, True]]`?\n",
    "    - a) `Bool`\n",
    "    - b) mostly `True`\n",
    "    - c) `[a]`\n",
    "    - d) `[[Bool]]` ✅\n",
    "\n",
    "\n",
    "2. Which of the following has the same type as `[[True, False],[True, True], [False, True]]`?\n",
    "    - a) `[(True, False), (True, True), (False, True)]`\n",
    "    - b) `[[3 == 3], [6 > 5], [3 < 4]]` ✅\n",
    "    - c) `[3 == 3, 6 > 5, 3 < 4]`\n",
    "    - d) `[\"Bool\", \"more Bool\", \"Booly Bool!\"]`\n",
    "\n",
    "3. For the following function\n",
    "```haskell\n",
    "func :: [a] -> [a] -> [a]\n",
    "func x y = x ++ y\n",
    "```\n",
    "   which of the following is true?\n",
    "   - a) x and y must be of the same type\n",
    "   - b) x and y must both be lists\n",
    "   - c) if x is a String then y must be a String\n",
    "   - d) all of the above ✅\n",
    "\n",
    "4. For the func code above, which is a valid application of `func` to both of its arguments?\n",
    "  - a) `func \"Hello World\"`\n",
    "  - b) `func \"Hello\" \"World\"` ✅\n",
    "  - c) `func [1, 2, 3] \"a, b, c\"\n",
    "  - d) `func [\"Hello\", \"World\"]`"
   ]
  },
  {
   "cell_type": "markdown",
   "id": "16ac4890",
   "metadata": {},
   "source": [
    "### Reviewing currying\n",
    "\n",
    "Given the following definitions, tell us what value results from further applications.\n",
    "\n",
    "```haskell\n",
    "cattyConny :: String -> String -> String\n",
    "cattyConny x y = x ++ \" mrow \" ++ y\n",
    "\n",
    "-- fill in the types\n",
    "flippy = flip cattyConny\n",
    "appedCatty = cattyConny \"woops\"\n",
    "frappe = flippy \"haha\"\n",
    "```\n",
    "\n",
    "1. What is the value of `appedCatty \"woohoo!\"` ? $\\to$ `\"woops mrow woohoo!\"`\n",
    "2. `frappe \"1\"` $\\to$ `\"1 mrow haha\"`\n",
    "3. `frappe (appedCatty \"2\")` $\\to$ `\"woops mrow 2 mrow haha\"`\n",
    "4. `appedCatty (frappe \"blue\")` $\\to$ `\"woops mrow blue mrow haha\"`\n",
    "5. `cattyConny (frappe \"pink\") (cattyConny \"green\" (appedCatty \"blue\"))` $\\to$ `\"pink mrow haha mrow green mrow woops mrow blue\"`\n",
    "6. `cattyConny (flippy \"Pugs\" \"are\") \"awesome\"` $\\to$ `\"are mrow Pugs mrow awesome\"`"
   ]
  },
  {
   "cell_type": "markdown",
   "id": "f65b7c0b",
   "metadata": {},
   "source": [
    "### Recursion\n",
    "\n",
    "1. Write out the steps for reducing `dividedBy 15 2` to its final answer according to the Haskell code.\n",
    "\n",
    "> **<span style=\"color:green\">Answer:<span/>** Trivial!"
   ]
  },
  {
   "cell_type": "markdown",
   "id": "c9f898d3",
   "metadata": {},
   "source": [
    "2. Write a function that recursively sums all numbers from `1` to `n`, `n` being the argument. So that if `n` was `5`, you’d add `1 + 2 + 3 + 4 + 5` to get `15`. The type should be `(Eq a, Num a) => a -> a`.\n",
    "\n",
    "> **<span style=\"color:green\">Answer:<span/>**"
   ]
  },
  {
   "cell_type": "code",
   "execution_count": 16,
   "id": "22d22857",
   "metadata": {},
   "outputs": [],
   "source": [
    "summy :: (Eq a, Num a) => a -> a\n",
    "summy 0 = 0\n",
    "summy n = n + summy (n - 1)"
   ]
  },
  {
   "cell_type": "markdown",
   "id": "d057cdfa",
   "metadata": {},
   "source": [
    "3. Write a function that multiplies two integral numbers using recursive summation. The type should be `(Integral a) => a -> a -> a`.\n",
    "\n",
    "> **<span style=\"color:green\">Answer:<span/>**"
   ]
  },
  {
   "cell_type": "code",
   "execution_count": 17,
   "id": "a9202e55",
   "metadata": {},
   "outputs": [],
   "source": [
    "myMul :: Integral a => a -> a -> a\n",
    "myMul x y\n",
    "    | y == 0 = 0\n",
    "    | y < 0 = -myMul x (-y)\n",
    "    | otherwise = x + myMul x (y - 1)"
   ]
  },
  {
   "cell_type": "code",
   "execution_count": 24,
   "id": "07319843",
   "metadata": {},
   "outputs": [
    {
     "data": {
      "text/plain": [
       "12"
      ]
     },
     "metadata": {},
     "output_type": "display_data"
    }
   ],
   "source": [
    "myMul 3 4"
   ]
  },
  {
   "cell_type": "code",
   "execution_count": 22,
   "id": "d640c481",
   "metadata": {},
   "outputs": [
    {
     "data": {
      "text/plain": [
       "-12"
      ]
     },
     "metadata": {},
     "output_type": "display_data"
    }
   ],
   "source": [
    "myMul 3 (-4)"
   ]
  },
  {
   "cell_type": "markdown",
   "id": "2fa29743",
   "metadata": {},
   "source": [
    "### Fixing dividedBy\n",
    "\n",
    "Our dividedBy function wasn’t quite ideal. For one thing. It was a\n",
    "partial function and doesn’t return a result (bottom) when given a\n",
    "divisor that is `0` or less.\n",
    "Using the pre-existing div function we can see how negative numbers should be handled:\n",
    "```haskell\n",
    "Prelude> div 10 2\n",
    "5\n",
    "Prelude> div 10 (-2)\n",
    "-5\n",
    "Prelude> div (-10) (-2)\n",
    "5\n",
    "Prelude> div (-10) (2)\n",
    "-5\n",
    "```\n",
    "\n",
    "The next issue is how to handle zero. Zero is undefined for division in math, so we ought to use a datatype that lets us say there was no sensible result when the user divides by zero. If you need inspiration, consider using the following datatype to handle this.\n",
    "\n",
    "```haskell\n",
    "data DividedResult = Result Integer | DividedByZero\n",
    "```"
   ]
  },
  {
   "cell_type": "code",
   "execution_count": 9,
   "id": "5b984400",
   "metadata": {},
   "outputs": [],
   "source": [
    "data DividedResult = Result Integer | DividedByZero deriving Show"
   ]
  },
  {
   "cell_type": "code",
   "execution_count": 10,
   "id": "818fcf84",
   "metadata": {},
   "outputs": [],
   "source": [
    "sign :: (Num a, Ord a) => a -> a\n",
    "sign x\n",
    "    | x > 0 = 1\n",
    "    | x < 0 = -1\n",
    "    | otherwise = 0"
   ]
  },
  {
   "cell_type": "code",
   "execution_count": 15,
   "id": "38b245ad",
   "metadata": {},
   "outputs": [],
   "source": [
    "dividedBy :: Integral a => a -> a -> DividedResult\n",
    "dividedBy _ 0 = DividedByZero\n",
    "dividedBy num denom =\n",
    "    go num denom 0\n",
    "    where go n d count\n",
    "                    | sign n == sign d && abs n < abs d = Result count\n",
    "                    | otherwise = go n' d count'\n",
    "                    where (n', count') = if \n",
    "                            abs (n - d) < abs n \n",
    "                            then (n - d, count + 1) \n",
    "                            else (n + d, count - 1)"
   ]
  },
  {
   "cell_type": "code",
   "execution_count": 20,
   "id": "a3593ecb",
   "metadata": {},
   "outputs": [
    {
     "data": {
      "text/plain": [
       "Result 5"
      ]
     },
     "metadata": {},
     "output_type": "display_data"
    }
   ],
   "source": [
    "dividedBy 11 2"
   ]
  },
  {
   "cell_type": "code",
   "execution_count": 21,
   "id": "dd50bf4b",
   "metadata": {},
   "outputs": [
    {
     "data": {
      "text/plain": [
       "Result (-6)"
      ]
     },
     "metadata": {},
     "output_type": "display_data"
    }
   ],
   "source": [
    "dividedBy 11 (-2)"
   ]
  },
  {
   "cell_type": "code",
   "execution_count": 22,
   "id": "73d14766",
   "metadata": {},
   "outputs": [
    {
     "data": {
      "text/plain": [
       "Result (-6)"
      ]
     },
     "metadata": {},
     "output_type": "display_data"
    }
   ],
   "source": [
    "dividedBy (-11) 2"
   ]
  },
  {
   "cell_type": "code",
   "execution_count": null,
   "id": "32fa5e32",
   "metadata": {},
   "outputs": [
    {
     "data": {
      "text/plain": [
       "Result 5"
      ]
     },
     "metadata": {},
     "output_type": "display_data"
    }
   ],
   "source": [
    "dividedBy (-11) (-2)"
   ]
  },
  {
   "cell_type": "code",
   "execution_count": null,
   "id": "0c169706",
   "metadata": {},
   "outputs": [
    {
     "data": {
      "text/plain": [
       "DividedByZero"
      ]
     },
     "metadata": {},
     "output_type": "display_data"
    }
   ],
   "source": [
    "dividedBy 11 0"
   ]
  },
  {
   "cell_type": "markdown",
   "id": "176b6c00",
   "metadata": {},
   "source": [
    "### McCarthy 91 function\n",
    "\n",
    "We’re going to describe a function in English, then in math notation,\n",
    "then show you what your function should return for some test inputs.\n",
    "Your task is to write the function in Haskell.\n",
    "\n",
    "The McCarthy 91 function yields x − 10 when x > 100 and 91 otherwise. The function is recursive.\n",
    "\n",
    "\n",
    "$$\n",
    "M(n) =\n",
    "\\begin{cases}\n",
    "    M(M(n + 11)) & \\text{if } n \\leq 100 \\\\\n",
    "    n - 10       & \\text{if } n > 100\n",
    "\\end{cases}\n",
    "$$\n",
    "\n",
    "You haven’t seen map yet, but all you need to know right now is\n",
    "that it applies a function to each member of a list and returns the\n",
    "resulting list. It’ll be explained in more detail in the next chapter.\n",
    "\n",
    "```haskell\n",
    "Prelude> map mc91 [95..110]\n",
    "[91,91,91,91,91,91,91,92,93,94,95,96,97,98,99,100]\n",
    "```"
   ]
  },
  {
   "cell_type": "code",
   "execution_count": 30,
   "id": "82f6aa60",
   "metadata": {},
   "outputs": [],
   "source": [
    "mc91 :: (Ord a, Num a) => a -> a\n",
    "mc91 n\n",
    "    | n <= 100 = (mc91 . mc91) (n + 11)\n",
    "    | otherwise = n - 10"
   ]
  },
  {
   "cell_type": "code",
   "execution_count": null,
   "id": "1add9361",
   "metadata": {},
   "outputs": [
    {
     "data": {
      "text/plain": [
       "[91,91,91,91,91,91,91,92,93,94,95,96,97,98,99,100]"
      ]
     },
     "metadata": {},
     "output_type": "display_data"
    }
   ],
   "source": [
    "map mc91 [95..110]"
   ]
  },
  {
   "cell_type": "markdown",
   "id": "113792dd",
   "metadata": {},
   "source": [
    "### Numbers into Words\n",
    "\n",
    "```haskell\n",
    "module WordNumber where\n",
    "\n",
    "import Data.List (intersperse)\n",
    "\n",
    "digitToWord :: Int -> String\n",
    "digitToWord n = undefined\n",
    "\n",
    "digits :: Int -> [Int]\n",
    "digits n = undefined\n",
    "\n",
    "wordNumber :: Int -> String\n",
    "wordNumber n = undefined\n",
    "```\n",
    "\n",
    "Here undefined is a placeholder to show you where you need to\n",
    "fill in the functions. The `n` to the right of the function names is the\n",
    "argument which will be an integer.\n",
    "Fill in the implementations of the functions above so that `wordNumber`\n",
    "returns the English word version of the `Int` value. You will first write\n",
    "a function that turns integers from `0-9` into their corresponding\n",
    "English words, ”one,” ”two,” and so on. Then you will write a function\n",
    "that takes the integer, separates the digits, and returns it as a list of\n",
    "integers. Finally you will need to apply the first function to the list\n",
    "produced by the second function and turn it into a single string with\n",
    "interspersed hyphens.\n",
    "We’ve laid out multiple functions for you to consider as you tackle\n",
    "the problem. You may not need all of them, depending on how you\n",
    "solve it — these are suggestions. Play with them and look up their\n",
    "documentation to understand them in deeper detail.\n",
    "\n",
    "You will probably find this difficult.\n",
    "\n",
    "```haskell\n",
    "div :: Integral a => a -> a -> a\n",
    "mod :: Integral a => a -> a -> a\n",
    "map :: (a -> b) -> [a] -> [b]\n",
    "concat :: [[a]] -> [a]\n",
    "intersperse :: a -> [a] -> [a]\n",
    "(++) :: [a] -> [a] -> [a]\n",
    "(:[]) :: a -> [a]\n",
    "```"
   ]
  },
  {
   "cell_type": "code",
   "execution_count": null,
   "id": "bb688318",
   "metadata": {},
   "outputs": [],
   "source": []
  }
 ],
 "metadata": {
  "kernelspec": {
   "display_name": "Haskell",
   "language": "haskell",
   "name": "haskell"
  },
  "language_info": {
   "codemirror_mode": "ihaskell",
   "file_extension": ".hs",
   "mimetype": "text/x-haskell",
   "name": "haskell",
   "pygments_lexer": "Haskell",
   "version": "9.6.3"
  }
 },
 "nbformat": 4,
 "nbformat_minor": 5
}
