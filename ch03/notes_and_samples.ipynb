{
 "cells": [
  {
   "cell_type": "markdown",
   "id": "6c0ff754",
   "metadata": {},
   "source": [
    "## Chapter 3: Strings and Lists"
   ]
  },
  {
   "cell_type": "markdown",
   "id": "5cc3f715",
   "metadata": {},
   "source": [
    "### putStrLn function\n",
    "\n",
    "In Haskell, the `putStrLn` function is used to print a string followed by a newline character to the standard output. It has the following type signature:\n",
    "\n",
    "```haskell\n",
    "putStrLn :: String -> IO ()\n",
    "```\n",
    "\n",
    "The `putStrLn` function takes a `String` as its argument and returns an `IO ()` action. The `IO` type constructor is used to represent actions that have side effects, such as reading from or writing to the console. The `()` type represents an empty tuple, so `IO ()` represents an action that performs some effect but does not produce any meaningful value.\n",
    "\n",
    "When you use `putStrLn` in a Haskell program, it will print the specified string to the console, followed by a newline character. For example, consider the following code:\n",
    "\n",
    "```haskell\n",
    "main :: IO ()\n",
    "main = putStrLn \"Hello, World!\"\n",
    "```\n",
    "\n",
    "When you run this program, it will output:\n",
    "\n",
    "```\n",
    "Hello, World!\n",
    "```\n",
    "\n",
    "The `putStrLn` function is commonly used for simple console output in Haskell programs, especially for printing messages or debugging information. It is worth noting that since Haskell is a purely functional language, the `IO` monad is used to encapsulate side effects like printing, ensuring that they are handled in a controlled and predictable manner."
   ]
  },
  {
   "cell_type": "code",
   "execution_count": 1,
   "id": "5f22e164",
   "metadata": {},
   "outputs": [],
   "source": [
    "main :: IO ()\n",
    "main = putStrLn \"Hello, World!\""
   ]
  },
  {
   "cell_type": "code",
   "execution_count": 2,
   "id": "cce42747",
   "metadata": {},
   "outputs": [
    {
     "data": {
      "text/plain": [
       "Hello, World!"
      ]
     },
     "metadata": {},
     "output_type": "display_data"
    }
   ],
   "source": [
    "main"
   ]
  },
  {
   "cell_type": "markdown",
   "id": "a313a009",
   "metadata": {},
   "source": [
    "### concat function\n",
    "\n",
    "In Haskell, the `concat` function is used to concatenate a list of lists into a single list. It takes a list of lists as its argument and returns a single list that contains all the elements from the input lists, concatenated together. The type signature of `concat` is as follows:\n",
    "\n",
    "```haskell\n",
    "concat :: Foldable t => t [a] -> [a]\n",
    "```\n",
    "\n",
    "The `concat` function works by flattening the nested lists. It traverses each list in the input list, taking each element and appending it to the result. Here's an example to illustrate its usage:\n",
    "\n",
    "```haskell\n",
    "concatenated :: [Int]\n",
    "concatenated = concat [[1, 2, 3], [4, 5, 6], [7, 8, 9]]\n",
    "\n",
    "main :: IO ()\n",
    "main = print concatenated\n",
    "```\n",
    "\n",
    "When you run this program, it will output:\n",
    "\n",
    "```\n",
    "[1,2,3,4,5,6,7,8,9]\n",
    "```\n",
    "\n",
    "In this example, the `concat` function takes the list of lists `[[1, 2, 3], [4, 5, 6], [7, 8, 9]]` and concatenates them into a single list `[1, 2, 3, 4, 5, 6, 7, 8, 9]`.\n",
    "\n",
    "The `concat` function is a useful tool for working with nested lists in Haskell. It enables you to flatten the structure and treat the entire collection as a single list. It can be particularly handy when dealing with lists of lists that need to be combined or processed together."
   ]
  },
  {
   "cell_type": "code",
   "execution_count": 3,
   "id": "a7521fd5",
   "metadata": {},
   "outputs": [],
   "source": [
    "myGreeting :: String\n",
    "myGreeting = \"Hello\" ++ \" World\"\n",
    "\n",
    "hello :: String\n",
    "hello = \"Hello\"\n",
    "\n",
    "world :: String\n",
    "world = \"World\"\n",
    "\n",
    "main :: IO ()\n",
    "main = do\n",
    "    putStrLn myGreeting\n",
    "    putStrLn $ concat [hello, \" \", world]"
   ]
  },
  {
   "cell_type": "code",
   "execution_count": 4,
   "id": "3e5c63df",
   "metadata": {},
   "outputs": [
    {
     "data": {
      "text/plain": [
       "Hello World\n",
       "Hello World"
      ]
     },
     "metadata": {},
     "output_type": "display_data"
    }
   ],
   "source": [
    "main"
   ]
  },
  {
   "cell_type": "markdown",
   "id": "b3ea14c0",
   "metadata": {},
   "source": [
    "###  Top-level versus local definitions\n",
    "We can contrast a top-level definition with a local definition. To\n",
    "be locally defined would mean the declaration is nested within some\n",
    "other expression and is not visible outside that expression. We practiced this in the previous chapter with let and where. Here’s an example for review:"
   ]
  },
  {
   "cell_type": "code",
   "execution_count": 5,
   "id": "ff29a3ce",
   "metadata": {},
   "outputs": [],
   "source": [
    "topLevelFunction :: Integer -> Integer\n",
    "topLevelFunction x =\n",
    "    x + y + 10\n",
    "    where y :: Integer\n",
    "          y = 2\n",
    "\n",
    "topLevelValue :: Integer\n",
    "topLevelValue = 10"
   ]
  },
  {
   "cell_type": "markdown",
   "id": "c8a1d9e5",
   "metadata": {},
   "source": [
    "### Exercises: Scope"
   ]
  },
  {
   "cell_type": "markdown",
   "id": "24959464",
   "metadata": {},
   "source": [
    "1. These lines of code are from a REPL session. Is y in scope for z?\n",
    "\n",
    "```haskell\n",
    "Prelude> let x = 5\n",
    "Prelude> let y = 7\n",
    "Prelude> let z = x * y\n",
    "```\n",
    "\n",
    "> Answer: yes `y` is defined top level and is in scope"
   ]
  },
  {
   "cell_type": "markdown",
   "id": "eb434718",
   "metadata": {},
   "source": [
    "2. These lines of code are from a REPL session. Is h in scope for g? Go with your gut here.\n",
    "\n",
    "```haskell\n",
    "Prelude> let f = 3\n",
    "Prelude> let g = 6 * f + h\n",
    "```\n",
    "\n",
    "> Answer: no `h` is not in scope because it is not defined anywhere"
   ]
  },
  {
   "cell_type": "markdown",
   "id": "4f511ac4",
   "metadata": {},
   "source": [
    "3. This code sample is from a source file. Is everything we need to execute area in scope?\n",
    "\n",
    "```haskell\n",
    "area d = pi * (r * r)\n",
    "r = d / 2\n",
    "```\n",
    "\n",
    "> Answer: no `d` is not defined in a scope that is visible for `r` "
   ]
  },
  {
   "cell_type": "markdown",
   "id": "4fa62660",
   "metadata": {},
   "source": [
    "4. This code is also from a source file. Now are r and d in scope for area?\n",
    "\n",
    "```haskell\n",
    "area d = pi * (r * r)\n",
    "    where r = d / 2\n",
    "```\n",
    "\n",
    "> Answer: yes!"
   ]
  },
  {
   "cell_type": "markdown",
   "id": "1ba57666",
   "metadata": {},
   "source": [
    "### Exercises: Syntax Errors"
   ]
  },
  {
   "cell_type": "markdown",
   "id": "dd61339b",
   "metadata": {},
   "source": [
    "Read the syntax of the following functions and decide whether it\n",
    "will compile. Test them in your REPL and try to fix the syntax errors\n",
    "where they occur."
   ]
  },
  {
   "cell_type": "markdown",
   "id": "11e8f970",
   "metadata": {},
   "source": [
    "1. \n",
    "```haskell\n",
    "++ [1, 2, 3] [4, 5, 6]\n",
    "```\n",
    "\n",
    "> Answer: this code will not compile, because the `++` operator is not in parantheses."
   ]
  },
  {
   "cell_type": "code",
   "execution_count": 1,
   "id": "5b736259",
   "metadata": {},
   "outputs": [
    {
     "data": {
      "text/plain": [
       "[1,2,3,4,5,6]"
      ]
     },
     "metadata": {},
     "output_type": "display_data"
    }
   ],
   "source": [
    "(++) [1, 2, 3] [4, 5, 6]"
   ]
  },
  {
   "cell_type": "markdown",
   "id": "10d3b8bf",
   "metadata": {},
   "source": [
    "2. \n",
    "```haskell\n",
    "'<3' ++ ' Haskell'\n",
    "```\n",
    "\n",
    "> Answer: this code will not compile, because Strings are in single quotes."
   ]
  },
  {
   "cell_type": "code",
   "execution_count": 3,
   "id": "d1b07acf",
   "metadata": {},
   "outputs": [
    {
     "data": {
      "text/plain": [
       "\"<3 Haskell\""
      ]
     },
     "metadata": {},
     "output_type": "display_data"
    }
   ],
   "source": [
    "\"<3\" ++ \" Haskell\""
   ]
  },
  {
   "cell_type": "markdown",
   "id": "eac69d4e",
   "metadata": {},
   "source": [
    "3.\n",
    "```haskell\n",
    "concat [\"<3\", \" Haskell\"]\n",
    "```\n",
    "\n",
    "> Answer: this code will compile."
   ]
  },
  {
   "cell_type": "code",
   "execution_count": 4,
   "id": "1513ecc3",
   "metadata": {},
   "outputs": [
    {
     "data": {
      "text/html": [
       "<style>/* Styles used for the Hoogle display in the pager */\n",
       ".hoogle-doc {\n",
       "display: block;\n",
       "padding-bottom: 1.3em;\n",
       "padding-left: 0.4em;\n",
       "}\n",
       ".hoogle-code {\n",
       "display: block;\n",
       "font-family: monospace;\n",
       "white-space: pre;\n",
       "}\n",
       ".hoogle-text {\n",
       "display: block;\n",
       "}\n",
       ".hoogle-name {\n",
       "color: green;\n",
       "font-weight: bold;\n",
       "}\n",
       ".hoogle-head {\n",
       "font-weight: bold;\n",
       "}\n",
       ".hoogle-sub {\n",
       "display: block;\n",
       "margin-left: 0.4em;\n",
       "}\n",
       ".hoogle-package {\n",
       "font-weight: bold;\n",
       "font-style: italic;\n",
       "}\n",
       ".hoogle-module {\n",
       "font-weight: bold;\n",
       "}\n",
       ".hoogle-class {\n",
       "font-weight: bold;\n",
       "}\n",
       "\n",
       ".get-type {\n",
       "color: green;\n",
       "font-weight: bold;\n",
       "font-family: monospace;\n",
       "display: block;\n",
       "white-space: pre-wrap;\n",
       "}\n",
       ".show-type {\n",
       "color: green;\n",
       "font-weight: bold;\n",
       "font-family: monospace;\n",
       "margin-left: 1em;\n",
       "}\n",
       ".mono {\n",
       "font-family: monospace;\n",
       "display: block;\n",
       "}\n",
       ".err-msg {\n",
       "color: red;\n",
       "font-style: italic;\n",
       "font-family: monospace;\n",
       "white-space: pre;\n",
       "display: block;\n",
       "}\n",
       "#unshowable {\n",
       "color: red;\n",
       "font-weight: bold;\n",
       "}\n",
       ".err-msg.in.collapse {\n",
       "padding-top: 0.7em;\n",
       "}\n",
       "\n",
       ".highlight-code {\n",
       "white-space: pre;\n",
       "font-family: monospace;\n",
       "}\n",
       "\n",
       ".suggestion-warning { \n",
       "font-weight: bold;\n",
       "color: rgb(200, 130, 0);\n",
       "}\n",
       ".suggestion-error { \n",
       "font-weight: bold;\n",
       "color: red;\n",
       "}\n",
       ".suggestion-name {\n",
       "font-weight: bold;\n",
       "}\n",
       "\n",
       "</style><div class=\"suggestion-name\" style=\"clear:both;\">Use ++</div><div class=\"suggestion-row\" style=\"float: left;\"><div class=\"suggestion-warning\">Found:</div><div class=\"highlight-code\" id=\"haskell\">concat [\"<3\", \" Haskell\"]</div></div><div class=\"suggestion-row\" style=\"float: left;\"><div class=\"suggestion-warning\">Why Not:</div><div class=\"highlight-code\" id=\"haskell\">\"<3\" ++ \" Haskell\"</div></div>"
      ],
      "text/plain": [
       "Line 1: Use ++\n",
       "Found:\n",
       "concat [\"<3\", \" Haskell\"]\n",
       "Why not:\n",
       "\"<3\" ++ \" Haskell\""
      ]
     },
     "metadata": {},
     "output_type": "display_data"
    },
    {
     "data": {
      "text/plain": [
       "\"<3 Haskell\""
      ]
     },
     "metadata": {},
     "output_type": "display_data"
    }
   ],
   "source": [
    "concat [\"<3\", \" Haskell\"]"
   ]
  },
  {
   "cell_type": "markdown",
   "id": "6b12e5d0",
   "metadata": {},
   "source": [
    "### `:`  operator\n",
    "\n",
    "In Haskell, the `:` operator, often referred to as the \"cons\" operator, is used to prepend an element to the beginning of a list. It combines an element with an existing list and creates a new list.\n",
    "\n",
    "The `:` operator has the following type signature:\n",
    "\n",
    "```\n",
    "(:) :: a -> [a] -> [a]\n",
    "```\n",
    "\n",
    "It takes an element of type `a` and a list of type `[a]`, and returns a new list of type `[a]`. The element is added to the front of the list.\n",
    "\n",
    "Here's an example to illustrate its usage:\n",
    "\n",
    "```haskell\n",
    "myList = 1 : [2, 3, 4]\n",
    "```\n",
    "\n",
    "In this example, `1` is prepended to the list `[2, 3, 4]` using the `:` operator. The resulting list `myList` will be `[1, 2, 3, 4]`.\n",
    "\n",
    "The `:` operator is a fundamental building block for working with lists in Haskell. It allows you to construct and deconstruct lists efficiently. It is often used in pattern matching and recursion when manipulating lists. For example, you can use it to extract the head and tail of a list:\n",
    "\n",
    "```haskell\n",
    "head' :: [a] -> a\n",
    "head' (x : _) = x\n",
    "\n",
    "tail' :: [a] -> [a]\n",
    "tail' (_ : xs) = xs\n",
    "```\n",
    "\n",
    "In these functions, the `:` operator is used to pattern match on the structure of the list and extract the head (`x`) and tail (`xs`)."
   ]
  },
  {
   "cell_type": "code",
   "execution_count": 12,
   "id": "73d5ed24",
   "metadata": {},
   "outputs": [
    {
     "data": {
      "text/plain": [
       "[1,2,3,4,5,6,7,8,9,10]"
      ]
     },
     "metadata": {},
     "output_type": "display_data"
    }
   ],
   "source": [
    "myList = 1 : [2, 3, 4, 5, 6, 7, 8, 9, 10]\n",
    "print myList"
   ]
  },
  {
   "cell_type": "markdown",
   "id": "31bd4b16",
   "metadata": {},
   "source": [
    "### `head` and `tail` functions\n",
    "\n",
    "In Haskell, the `head` and `tail` functions are used to extract elements from a list. Here's a brief explanation of each function:\n",
    "\n",
    "1. `head`: The `head` function takes a non-empty list and returns its first element. It has the following type signature:\n",
    "\n",
    "   ```haskell\n",
    "   head :: [a] -> a\n",
    "   ```\n",
    "\n",
    "   For example, if you have a list `[1, 2, 3, 4]`, calling `head` on it will return `1`.\n",
    "\n",
    "   Note that using `head` on an empty list will result in a runtime error. This is because an empty list does not have a first element.\n",
    "\n",
    "2. `tail`: The `tail` function takes a non-empty list and returns a new list containing all the elements of the original list except the first one. It has the following type signature:\n",
    "\n",
    "   ```haskell\n",
    "   tail :: [a] -> [a]\n",
    "   ```\n",
    "\n",
    "   For example, if you have a list `[1, 2, 3, 4]`, calling `tail` on it will return `[2, 3, 4]`.\n",
    "\n",
    "   Similar to `head`, using `tail` on an empty list will result in a runtime error. An empty list does not have any elements to remove.\n",
    "\n",
    "**It's important to note that both `head` and `tail` assume that the list passed to them is non-empty.** If you're uncertain whether a list is empty or not, it's a good practice to handle the empty case separately using pattern matching or other techniques to avoid runtime errors."
   ]
  },
  {
   "cell_type": "code",
   "execution_count": 13,
   "id": "f028b058",
   "metadata": {},
   "outputs": [
    {
     "data": {
      "text/plain": [
       "1"
      ]
     },
     "metadata": {},
     "output_type": "display_data"
    }
   ],
   "source": [
    "head [1, 2, 3]"
   ]
  },
  {
   "cell_type": "code",
   "execution_count": 14,
   "id": "05cddb22",
   "metadata": {},
   "outputs": [
    {
     "data": {
      "text/plain": [
       "[2,3]"
      ]
     },
     "metadata": {},
     "output_type": "display_data"
    }
   ],
   "source": [
    "tail [1, 2, 3]"
   ]
  },
  {
   "cell_type": "markdown",
   "id": "c7964206",
   "metadata": {},
   "source": [
    "### `take` and `drop` functions\n",
    "\n",
    "In Haskell, the `take` and `drop` functions are used to extract a specified number of elements from a list. Here's a brief explanation of each function:\n",
    "\n",
    "1. `take`: The `take` function takes an integer `n` and a list, and returns a new list containing the first `n` elements of the original list. It has the following type signature:\n",
    "\n",
    "   ```haskell\n",
    "   take :: Int -> [a] -> [a]\n",
    "   ```\n",
    "\n",
    "   For example, if you have a list `[1, 2, 3, 4]`, calling `take 2` on it will return `[1, 2]`. Similarly, `take 0` will return an empty list `[]`, and `take 5` on a list with fewer than 5 elements will return the entire list.\n",
    "\n",
    "   If the specified number `n` is negative or zero, `take` will always return an empty list.\n",
    "\n",
    "2. `drop`: The `drop` function takes an integer `n` and a list, and returns a new list containing all the elements of the original list except the first `n` elements. It has the following type signature:\n",
    "\n",
    "   ```haskell\n",
    "   drop :: Int -> [a] -> [a]\n",
    "   ```\n",
    "\n",
    "   For example, if you have a list `[1, 2, 3, 4]`, calling `drop 2` on it will return `[3, 4]`. Similarly, `drop 0` will return the entire original list, and `drop 5` on a list with fewer than 5 elements will return an empty list `[]`.\n",
    "\n",
    "   If the specified number `n` is zero, `drop` will return the entire original list.\n",
    "\n",
    "Both `take` and `drop` functions are useful for working with lists and manipulating their contents. It's important to note that if the specified number `n` is larger than the length of the list, `take` will simply return the entire list and `drop` will return an empty list without any errors."
   ]
  },
  {
   "cell_type": "code",
   "execution_count": 15,
   "id": "df9a3751",
   "metadata": {},
   "outputs": [],
   "source": [
    "myList = [1, 2, 3, 4, 5, 6, 7, 8, 9, 10]"
   ]
  },
  {
   "cell_type": "code",
   "execution_count": 16,
   "id": "5c352315",
   "metadata": {},
   "outputs": [
    {
     "data": {
      "text/plain": [
       "[1,2,3]"
      ]
     },
     "metadata": {},
     "output_type": "display_data"
    }
   ],
   "source": [
    "take 3 myList"
   ]
  },
  {
   "cell_type": "code",
   "execution_count": null,
   "id": "9f22e14d",
   "metadata": {},
   "outputs": [
    {
     "data": {
      "text/plain": [
       "[4,5,6,7,8,9,10]"
      ]
     },
     "metadata": {},
     "output_type": "display_data"
    }
   ],
   "source": [
    "drop 3 myList"
   ]
  },
  {
   "cell_type": "markdown",
   "id": "78618b5a",
   "metadata": {},
   "source": [
    "### `!!` operator\n",
    "In Haskell, the `!!` operator is used to access elements from a list by their index. It is called the \"list indexing operator\". Here's a brief explanation of how it works:\n",
    "\n",
    "The `!!` operator takes an index `n` and a list, and returns the element at the specified index in the list. It has the following type signature:\n",
    "\n",
    "```haskell\n",
    "(!!) :: [a] -> Int -> a\n",
    "```\n",
    "\n",
    "For example, if you have a list `[1, 2, 3, 4]`, calling `!! 2` on it will return `3`. The index is zero-based, so the first element of the list has an index of 0, the second element has an index of 1, and so on.\n",
    "\n",
    "It's important to note that the `!!` operator assumes that the index is within the bounds of the list. If you provide an index that is out of range, it will result in a runtime error. For example, trying to access the element at index 5 in a list with only 4 elements will cause an error.\n",
    "\n",
    "To handle the possibility of an index being out of range, you can use functions like `length` to check the length of the list before accessing an element, or use safe alternatives like `Maybe` types or pattern matching to handle such cases.\n",
    "\n",
    "Here's an example using pattern matching to handle the case when the index is out of range:\n",
    "\n",
    "```haskell\n",
    "getElementAtIndex :: [a] -> Int -> Maybe a\n",
    "getElementAtIndex [] _ = Nothing\n",
    "getElementAtIndex (x:xs) n\n",
    "  | n < 0     = Nothing\n",
    "  | n == 0    = Just x\n",
    "  | otherwise = getElementAtIndex xs (n - 1)\n",
    "```\n",
    "\n",
    "In this example, `getElementAtIndex` takes a list and an index, and returns a `Maybe a` type. If the index is out of range or the list is empty, it returns `Nothing`. Otherwise, it recursively traverses the list, decrementing the index until it reaches the desired position and returns `Just x`, where `x` is the element at that position."
   ]
  },
  {
   "cell_type": "code",
   "execution_count": null,
   "id": "7cebcc07",
   "metadata": {},
   "outputs": [
    {
     "data": {
      "text/plain": [
       "4"
      ]
     },
     "metadata": {},
     "output_type": "display_data"
    }
   ],
   "source": [
    "myList = [1, 2, 3, 4, 5, 6, 7, 8, 9, 10]\n",
    "myList !! 3"
   ]
  }
 ],
 "metadata": {
  "kernelspec": {
   "display_name": "Haskell",
   "language": "haskell",
   "name": "haskell"
  },
  "language_info": {
   "codemirror_mode": "ihaskell",
   "file_extension": ".hs",
   "mimetype": "text/x-haskell",
   "name": "haskell",
   "pygments_lexer": "Haskell",
   "version": "9.6.3"
  }
 },
 "nbformat": 4,
 "nbformat_minor": 5
}
