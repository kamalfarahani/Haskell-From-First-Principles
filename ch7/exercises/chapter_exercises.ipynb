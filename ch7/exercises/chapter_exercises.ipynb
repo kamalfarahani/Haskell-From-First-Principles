{
 "cells": [
  {
   "cell_type": "markdown",
   "id": "49be5997",
   "metadata": {},
   "source": [
    "## Chapter Exercises"
   ]
  },
  {
   "cell_type": "markdown",
   "id": "5c3c6fd8",
   "metadata": {},
   "source": [
    "### Multiple choice\n",
    "\n",
    "\n",
    "1. A polymorphic function\n",
    "    - a) changes things into sheep when invoked\n",
    "    - b) has multiple arguments\n",
    "    - c) has a concrete type\n",
    "    - d) may resolve to values of different types, depending on inputs ✅\n",
    "\n",
    "2. Two functions named `f` and `g` have types `Char -> String` and `String -> [String]` respectively. The composed function `g . f` has the type\n",
    "    - a) `Char -> String`\n",
    "    - b) `Char -> [String]` ✅\n",
    "    - c) `[[String]]`\n",
    "    - d) `Char -> String -> [String]`\n",
    "\n",
    "3. A function `f` has the type `Ord a => a -> a -> Bool` and we apply it to one numeric value. What is the type now?\n",
    "    - a) `Ord a => a -> Bool`\n",
    "    - b) `Num -> Num -> Bool`\n",
    "    - c) `Ord a => a -> a -> Integer`\n",
    "    - d) `(Ord a, Num a) => a -> Bool` ✅\n",
    "\n",
    "4. A function with the type `(a -> b) -> c`\n",
    "    - a) requires values of three different types\n",
    "    - b) is a higher-order function ✅\n",
    "    - c) must take a tuple as its first argument\n",
    "    - d) has its parameters in alphabetical order\n",
    "\n",
    "5. Given the following definition of `f`, what is the type of `f True`?\n",
    "    ```haskell\n",
    "    f :: a -> a\n",
    "    f x = x\n",
    "    ```\n",
    "    - a) `f True :: Bool` ✅\n",
    "    - b) `f True :: String`\n",
    "    - c) `f True :: Bool -> Bool`\n",
    "    - d) `f True :: a`"
   ]
  },
  {
   "cell_type": "markdown",
   "id": "6e732a91",
   "metadata": {},
   "source": [
    "### Let’s write code\n",
    "\n",
    "1. The following function returns the tens digit of an integral argument.\n",
    "```haskell\n",
    "tensDigit :: Integral a => a -> a\n",
    "tensDigit x = d\n",
    "    where xLast = x `div` 10\n",
    "          d = xLast `mod` 10\n",
    "```\n",
    "\n",
    "- a) First, rewrite it using divMod.\n",
    "- b) Does the divMod version have the same type as the original version?"
   ]
  },
  {
   "cell_type": "code",
   "execution_count": 3,
   "id": "77c0a91b",
   "metadata": {},
   "outputs": [],
   "source": [
    "tensDigit :: Integral a => a -> a\n",
    "tensDigit x = result\n",
    "    where (d, _) = divMod x 10\n",
    "          result = d `mod` 10"
   ]
  },
  {
   "cell_type": "code",
   "execution_count": 4,
   "id": "69516efc",
   "metadata": {},
   "outputs": [
    {
     "data": {
      "text/plain": [
       "0"
      ]
     },
     "metadata": {},
     "output_type": "display_data"
    }
   ],
   "source": [
    "tensDigit 102"
   ]
  },
  {
   "cell_type": "code",
   "execution_count": 5,
   "id": "13dbdd8c",
   "metadata": {},
   "outputs": [
    {
     "data": {
      "text/html": [
       "<style>/* Styles used for the Hoogle display in the pager */\n",
       ".hoogle-doc {\n",
       "display: block;\n",
       "padding-bottom: 1.3em;\n",
       "padding-left: 0.4em;\n",
       "}\n",
       ".hoogle-code {\n",
       "display: block;\n",
       "font-family: monospace;\n",
       "white-space: pre;\n",
       "}\n",
       ".hoogle-text {\n",
       "display: block;\n",
       "}\n",
       ".hoogle-name {\n",
       "color: green;\n",
       "font-weight: bold;\n",
       "}\n",
       ".hoogle-head {\n",
       "font-weight: bold;\n",
       "}\n",
       ".hoogle-sub {\n",
       "display: block;\n",
       "margin-left: 0.4em;\n",
       "}\n",
       ".hoogle-package {\n",
       "font-weight: bold;\n",
       "font-style: italic;\n",
       "}\n",
       ".hoogle-module {\n",
       "font-weight: bold;\n",
       "}\n",
       ".hoogle-class {\n",
       "font-weight: bold;\n",
       "}\n",
       "\n",
       ".get-type {\n",
       "color: green;\n",
       "font-weight: bold;\n",
       "font-family: monospace;\n",
       "display: block;\n",
       "white-space: pre-wrap;\n",
       "}\n",
       ".show-type {\n",
       "color: green;\n",
       "font-weight: bold;\n",
       "font-family: monospace;\n",
       "margin-left: 1em;\n",
       "}\n",
       ".mono {\n",
       "font-family: monospace;\n",
       "display: block;\n",
       "}\n",
       ".err-msg {\n",
       "color: red;\n",
       "font-style: italic;\n",
       "font-family: monospace;\n",
       "white-space: pre;\n",
       "display: block;\n",
       "}\n",
       "#unshowable {\n",
       "color: red;\n",
       "font-weight: bold;\n",
       "}\n",
       ".err-msg.in.collapse {\n",
       "padding-top: 0.7em;\n",
       "}\n",
       "\n",
       ".highlight-code {\n",
       "white-space: pre;\n",
       "font-family: monospace;\n",
       "}\n",
       "\n",
       ".suggestion-warning { \n",
       "font-weight: bold;\n",
       "color: rgb(200, 130, 0);\n",
       "}\n",
       ".suggestion-error { \n",
       "font-weight: bold;\n",
       "color: red;\n",
       "}\n",
       ".suggestion-name {\n",
       "font-weight: bold;\n",
       "}\n",
       "\n",
       "</style><span class='get-type'>tensDigit :: forall a. Integral a => a -> a</span>"
      ],
      "text/plain": [
       "tensDigit :: forall a. Integral a => a -> a"
      ]
     },
     "metadata": {},
     "output_type": "display_data"
    }
   ],
   "source": [
    ":t tensDigit"
   ]
  },
  {
   "cell_type": "markdown",
   "id": "6db587af",
   "metadata": {},
   "source": [
    "> **<span style=\"color:green\">Answer:<span/>** The Type is the same"
   ]
  },
  {
   "cell_type": "markdown",
   "id": "926118d4",
   "metadata": {},
   "source": [
    "- c) Next, let’s change it so that we’re getting the hundreds digit instead. You could start it like this (though that may not be the only possibility):\n",
    "\n",
    "```haskell\n",
    "hunsD x = d2\n",
    "    where d = undefined\n",
    "    ...\n",
    "```"
   ]
  },
  {
   "cell_type": "code",
   "execution_count": 7,
   "id": "cbe546a6",
   "metadata": {},
   "outputs": [],
   "source": [
    "hunD x = d2\n",
    "    where y = x `div` 100\n",
    "          d2 = y `mod` 10"
   ]
  },
  {
   "cell_type": "code",
   "execution_count": 9,
   "id": "adb70bcc",
   "metadata": {},
   "outputs": [
    {
     "data": {
      "text/plain": [
       "2"
      ]
     },
     "metadata": {},
     "output_type": "display_data"
    }
   ],
   "source": [
    "hunD 12239"
   ]
  },
  {
   "cell_type": "markdown",
   "id": "6d37ef66",
   "metadata": {},
   "source": [
    "2. Implement the function of the type `a -> a -> Bool -> a` once each using a case expression and once with a guard.\n",
    "\n",
    "```haskell\n",
    "foldBool :: a -> a -> Bool -> a\n",
    "foldBool =\n",
    "    error\n",
    "    \"Error: Need to implement foldBool!\"\n",
    "```"
   ]
  },
  {
   "cell_type": "code",
   "execution_count": 14,
   "id": "453953ad",
   "metadata": {},
   "outputs": [
    {
     "data": {
      "text/html": [
       "<style>/* Styles used for the Hoogle display in the pager */\n",
       ".hoogle-doc {\n",
       "display: block;\n",
       "padding-bottom: 1.3em;\n",
       "padding-left: 0.4em;\n",
       "}\n",
       ".hoogle-code {\n",
       "display: block;\n",
       "font-family: monospace;\n",
       "white-space: pre;\n",
       "}\n",
       ".hoogle-text {\n",
       "display: block;\n",
       "}\n",
       ".hoogle-name {\n",
       "color: green;\n",
       "font-weight: bold;\n",
       "}\n",
       ".hoogle-head {\n",
       "font-weight: bold;\n",
       "}\n",
       ".hoogle-sub {\n",
       "display: block;\n",
       "margin-left: 0.4em;\n",
       "}\n",
       ".hoogle-package {\n",
       "font-weight: bold;\n",
       "font-style: italic;\n",
       "}\n",
       ".hoogle-module {\n",
       "font-weight: bold;\n",
       "}\n",
       ".hoogle-class {\n",
       "font-weight: bold;\n",
       "}\n",
       "\n",
       ".get-type {\n",
       "color: green;\n",
       "font-weight: bold;\n",
       "font-family: monospace;\n",
       "display: block;\n",
       "white-space: pre-wrap;\n",
       "}\n",
       ".show-type {\n",
       "color: green;\n",
       "font-weight: bold;\n",
       "font-family: monospace;\n",
       "margin-left: 1em;\n",
       "}\n",
       ".mono {\n",
       "font-family: monospace;\n",
       "display: block;\n",
       "}\n",
       ".err-msg {\n",
       "color: red;\n",
       "font-style: italic;\n",
       "font-family: monospace;\n",
       "white-space: pre;\n",
       "display: block;\n",
       "}\n",
       "#unshowable {\n",
       "color: red;\n",
       "font-weight: bold;\n",
       "}\n",
       ".err-msg.in.collapse {\n",
       "padding-top: 0.7em;\n",
       "}\n",
       "\n",
       ".highlight-code {\n",
       "white-space: pre;\n",
       "font-family: monospace;\n",
       "}\n",
       "\n",
       ".suggestion-warning { \n",
       "font-weight: bold;\n",
       "color: rgb(200, 130, 0);\n",
       "}\n",
       ".suggestion-error { \n",
       "font-weight: bold;\n",
       "color: red;\n",
       "}\n",
       ".suggestion-name {\n",
       "font-weight: bold;\n",
       "}\n",
       "\n",
       "</style><div class=\"suggestion-name\" style=\"clear:both;\">Use if</div><div class=\"suggestion-row\" style=\"float: left;\"><div class=\"suggestion-warning\">Found:</div><div class=\"highlight-code\" id=\"haskell\">case predicate of\n",
       "  True -> y\n",
       "  False -> x</div></div><div class=\"suggestion-row\" style=\"float: left;\"><div class=\"suggestion-warning\">Why Not:</div><div class=\"highlight-code\" id=\"haskell\">if predicate then y else x</div></div>"
      ],
      "text/plain": [
       "Line 3: Use if\n",
       "Found:\n",
       "case predicate of\n",
       "  True -> y\n",
       "  False -> x\n",
       "Why not:\n",
       "if predicate then y else x"
      ]
     },
     "metadata": {},
     "output_type": "display_data"
    }
   ],
   "source": [
    "foldBool :: a -> a -> Bool -> a\n",
    "foldBool x y predicate =\n",
    "    case predicate of\n",
    "        True -> y\n",
    "        False -> x"
   ]
  },
  {
   "cell_type": "code",
   "execution_count": 15,
   "id": "533e5a85",
   "metadata": {},
   "outputs": [],
   "source": [
    "foldBool :: a -> a -> Bool -> a\n",
    "foldBool x y predicate\n",
    "    | predicate = y\n",
    "    | not predicate = x"
   ]
  },
  {
   "cell_type": "markdown",
   "id": "56c4138e",
   "metadata": {},
   "source": [
    "3. Fill in the definition. Note that the first argument to our function is also a function which can be applied to values. Your second argument is a tuple, which can be used for pattern matching:\n",
    "\n",
    "```haskell\n",
    "g :: (a -> b) -> (a, c) -> (b, c)\n",
    "g = undefined\n",
    "```\n",
    "\n",
    "> **<span style=\"color:green\">Answer:<span/>**\n",
    "\n",
    "```haskell\n",
    "g :: (a -> b) -> (a, c) -> (b, c)\n",
    "g f (a, c) = (f a, c)\n",
    "```"
   ]
  },
  {
   "cell_type": "markdown",
   "id": "06380d3e",
   "metadata": {},
   "source": [
    "4. For this next exercise, you’ll experiment with writing pointfree versions of existing code. This involves some new information, so read the following explanation carefully. Typeclasses are dispatched by type. Read is a typeclass like Show, but it is the dual or “opposite” of Show. In general, the Read typeclass isn’t something you should plan to use a lot, but this exercise is structured to teach you something about the interaction between typeclasses and types. The function read in the Read typeclass has the type:\n",
    "\n",
    "```haskell\n",
    "read :: Read a => String -> a\n",
    "```\n",
    "\n",
    "> Notice a pattern?\n",
    "\n",
    "> Write the following code into a source file. Then load it and run it in GHCi to make sure you understand why the evaluation results in the answers you see.\n",
    "\n",
    "```haskell\n",
    "read :: Read a => String -> a\n",
    "show :: Show a => a -> String\n",
    "```\n",
    "\n",
    "```haskell\n",
    "module Arith4 where\n",
    "\n",
    "-- id :: a -> a\n",
    "-- id x = x\n",
    "\n",
    "roundTrip :: (Show a, Read a) => a -> a\n",
    "roundTrip a = read (show a)\n",
    "\n",
    "main = do\n",
    "    print (roundTrip 4)\n",
    "    print (id 4)\n",
    "```"
   ]
  },
  {
   "cell_type": "code",
   "execution_count": 19,
   "id": "499a5559",
   "metadata": {},
   "outputs": [
    {
     "data": {
      "text/html": [
       "<style>/* Styles used for the Hoogle display in the pager */\n",
       ".hoogle-doc {\n",
       "display: block;\n",
       "padding-bottom: 1.3em;\n",
       "padding-left: 0.4em;\n",
       "}\n",
       ".hoogle-code {\n",
       "display: block;\n",
       "font-family: monospace;\n",
       "white-space: pre;\n",
       "}\n",
       ".hoogle-text {\n",
       "display: block;\n",
       "}\n",
       ".hoogle-name {\n",
       "color: green;\n",
       "font-weight: bold;\n",
       "}\n",
       ".hoogle-head {\n",
       "font-weight: bold;\n",
       "}\n",
       ".hoogle-sub {\n",
       "display: block;\n",
       "margin-left: 0.4em;\n",
       "}\n",
       ".hoogle-package {\n",
       "font-weight: bold;\n",
       "font-style: italic;\n",
       "}\n",
       ".hoogle-module {\n",
       "font-weight: bold;\n",
       "}\n",
       ".hoogle-class {\n",
       "font-weight: bold;\n",
       "}\n",
       "\n",
       ".get-type {\n",
       "color: green;\n",
       "font-weight: bold;\n",
       "font-family: monospace;\n",
       "display: block;\n",
       "white-space: pre-wrap;\n",
       "}\n",
       ".show-type {\n",
       "color: green;\n",
       "font-weight: bold;\n",
       "font-family: monospace;\n",
       "margin-left: 1em;\n",
       "}\n",
       ".mono {\n",
       "font-family: monospace;\n",
       "display: block;\n",
       "}\n",
       ".err-msg {\n",
       "color: red;\n",
       "font-style: italic;\n",
       "font-family: monospace;\n",
       "white-space: pre;\n",
       "display: block;\n",
       "}\n",
       "#unshowable {\n",
       "color: red;\n",
       "font-weight: bold;\n",
       "}\n",
       ".err-msg.in.collapse {\n",
       "padding-top: 0.7em;\n",
       "}\n",
       "\n",
       ".highlight-code {\n",
       "white-space: pre;\n",
       "font-family: monospace;\n",
       "}\n",
       "\n",
       ".suggestion-warning { \n",
       "font-weight: bold;\n",
       "color: rgb(200, 130, 0);\n",
       "}\n",
       ".suggestion-error { \n",
       "font-weight: bold;\n",
       "color: red;\n",
       "}\n",
       ".suggestion-name {\n",
       "font-weight: bold;\n",
       "}\n",
       "\n",
       "</style><div class=\"suggestion-name\" style=\"clear:both;\">Redundant id</div><div class=\"suggestion-row\" style=\"float: left;\"><div class=\"suggestion-warning\">Found:</div><div class=\"highlight-code\" id=\"haskell\">id 4</div></div><div class=\"suggestion-row\" style=\"float: left;\"><div class=\"suggestion-warning\">Why Not:</div><div class=\"highlight-code\" id=\"haskell\">4</div></div>"
      ],
      "text/plain": [
       "Line 6: Redundant id\n",
       "Found:\n",
       "id 4\n",
       "Why not:\n",
       "4"
      ]
     },
     "metadata": {},
     "output_type": "display_data"
    }
   ],
   "source": [
    "roundTrip :: (Show a, Read a) => a -> a\n",
    "roundTrip a = read (show a)\n",
    "\n",
    "main = do\n",
    "    print (roundTrip 4)\n",
    "    print (id 4)"
   ]
  },
  {
   "cell_type": "code",
   "execution_count": 20,
   "id": "f5014dac",
   "metadata": {},
   "outputs": [
    {
     "data": {
      "text/plain": [
       "4\n",
       "4"
      ]
     },
     "metadata": {},
     "output_type": "display_data"
    }
   ],
   "source": [
    "main"
   ]
  },
  {
   "cell_type": "markdown",
   "id": "6d903b1f",
   "metadata": {},
   "source": [
    "5. Next, write a pointfree version of `roundTrip`. (n.b., This refers to the function definition, not to its application in `main`.)\n",
    "\n",
    "> **<span style=\"color:green\">Answer:<span/>**\n",
    "\n",
    "```haskell\n",
    "roundTrip :: (Show a, Read a) => a -> a\n",
    "roundTrip = read . show\n",
    "```"
   ]
  },
  {
   "cell_type": "markdown",
   "id": "febb58bb",
   "metadata": {},
   "source": [
    "6. We will continue to use the code in module `Arith4` for this exercise as well. When we apply show to a value such as `(1 :: Int)`, the a that implements Show is `Int`, so GHC will use the `Int` instance of the Show typeclass to stringify our Int of 1. However, read expects a `String` argument in order to return an `a`. The `String` argument that is the first argument to read tells the function nothing about what type the de-stringified result should be. In the type signature `roundTrip` currently has, it knows because the type variables are the same, so the type that is the input to show has to be the same type as the output of read. Your task now is to change the type of roundTrip in `Arith4` to `(Show a, Read b) => a -> b`. How might we tell GHC which instance of Read to dispatch against the String now? Make the expressionprint (`roundTrip 4`) work. You will only need the has the type syntax of `::` and parentheses for scoping."
   ]
  },
  {
   "cell_type": "code",
   "execution_count": null,
   "id": "2c7fe5de",
   "metadata": {},
   "outputs": [],
   "source": [
    "roundTrip :: (Show a, Read b) => a -> b\n",
    "roundTrip = read . show"
   ]
  },
  {
   "cell_type": "code",
   "execution_count": null,
   "id": "ce0858f4",
   "metadata": {},
   "outputs": [
    {
     "ename": "",
     "evalue": "",
     "output_type": "error",
     "traceback": [
      "Prelude.read: no parse"
     ]
    }
   ],
   "source": [
    "roundTrip 4"
   ]
  },
  {
   "cell_type": "code",
   "execution_count": null,
   "id": "d4efa678",
   "metadata": {},
   "outputs": [
    {
     "data": {
      "text/plain": [
       "4"
      ]
     },
     "metadata": {},
     "output_type": "display_data"
    }
   ],
   "source": [
    "roundTrip 4 :: Int"
   ]
  }
 ],
 "metadata": {
  "kernelspec": {
   "display_name": "Haskell",
   "language": "haskell",
   "name": "haskell"
  },
  "language_info": {
   "codemirror_mode": "ihaskell",
   "file_extension": ".hs",
   "mimetype": "text/x-haskell",
   "name": "haskell",
   "pygments_lexer": "Haskell",
   "version": "9.6.4"
  }
 },
 "nbformat": 4,
 "nbformat_minor": 5
}
