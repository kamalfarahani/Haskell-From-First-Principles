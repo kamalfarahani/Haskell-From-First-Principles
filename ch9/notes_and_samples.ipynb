{
 "cells": [
  {
   "cell_type": "markdown",
   "id": "bc3f84d8",
   "metadata": {},
   "source": [
    "## Lists\n",
    "\n",
    "In Haskell, the `List` data type is a fundamental data structure that represents a sequence of elements. Lists in Haskell are homogeneous, meaning they can only contain elements of the same type. The `List` type is defined recursively as either an empty list or a head element followed by a tail, which is another list.\n",
    "\n",
    "The list datatype in Haskell is defined like this:\n",
    "```haskell\n",
    "data [] a = [] | a : [a]\n",
    "```\n",
    "\n",
    "The syntax for defining a list in Haskell is to enclose the elements within square brackets `[ ]` and separate them by commas. Here are some examples:\n",
    "\n",
    "```haskell\n",
    "emptyList :: [Int]\n",
    "emptyList = []\n",
    "\n",
    "numbers :: [Int]\n",
    "numbers = [1, 2, 3, 4, 5]\n",
    "\n",
    "characters :: [Char]\n",
    "characters = ['H', 'e', 'l', 'l', 'o']\n",
    "```\n",
    "\n",
    "In the above examples, `emptyList` is an empty list of type `[Int]`, `numbers` is a list of type `[Int]` containing the numbers 1 to 5, and `characters` is a list of type `[Char]` containing the characters 'H', 'e', 'l', 'l', and 'o'.\n",
    "\n",
    "One interesting feature of lists in Haskell is the ability to represent infinite lists. Since Haskell is a lazy language, it supports the concept of lazily evaluated infinite lists. You can define an infinite list by specifying a recursive definition that generates the elements on demand. Here's an example:\n",
    "\n",
    "```haskell\n",
    "naturalNumbers :: [Int]\n",
    "naturalNumbers = [0..]\n",
    "```\n",
    "\n",
    "In the example above, `naturalNumbers` is an infinite list of type `[Int]` that represents the sequence of natural numbers starting from 0 and going to infinity. By using the range notation `[0..]`, Haskell lazily generates the elements of the list as needed. For example, you can take the first 10 elements of `naturalNumbers` using the `take` function:\n",
    "\n",
    "```haskell\n",
    "take 10 naturalNumbers  -- Output: [0, 1, 2, 3, 4, 5, 6, 7, 8, 9]\n",
    "```\n",
    "\n",
    "In this case, Haskell generates only the first 10 elements of the infinite list.\n",
    "\n",
    "Infinite lists can be useful in various scenarios, such as generating an infinite stream of values or representing mathematical sequences. Haskell's laziness ensures that only the necessary elements are computed, allowing you to work with infinite structures efficiently."
   ]
  },
  {
   "cell_type": "markdown",
   "id": "8530e5a5",
   "metadata": {},
   "source": [
    "### Pattern Matching On Lists\n",
    "\n",
    "\n",
    "To perform pattern matching on lists in Haskell, you can use the `[]` pattern to match an empty list and the `x:xs` pattern to match a non-empty list where `x` is the head of the list and `xs` is the tail.\n",
    "\n",
    "Here's an example that demonstrates pattern matching on lists:\n",
    "\n",
    "```haskell\n",
    "sumList :: [Int] -> Int\n",
    "sumList []     = 0               -- Pattern match an empty list\n",
    "sumList (x:xs) = x + sumList xs  -- Pattern match a non-empty list\n",
    "```\n",
    "\n",
    "In the above example, the `sumList` function calculates the sum of all elements in a list. The pattern matching is used to handle two cases: when the list is empty, the function returns 0, and when the list has at least one element, it adds the head (`x`) to the sum of the remaining elements (`sumList xs`).\n",
    "\n",
    "You can also use pattern matching to extract specific elements from a list. Here's an example:\n",
    "\n",
    "```haskell\n",
    "headAndTail :: [a] -> (a, [a])\n",
    "headAndTail []     = error \"Empty list\"\n",
    "headAndTail (x:xs) = (x, xs)\n",
    "```\n",
    "\n",
    "In the `headAndTail` function, the pattern `(x:xs)` matches a non-empty list and extracts the head (`x`) and tail (`xs`). The function then returns a tuple containing the head and the tail.\n",
    "\n",
    "Pattern matching on lists can be extended to handle more complex patterns. For example, you can match specific elements at specific positions in the list or use guards to perform conditional matching."
   ]
  },
  {
   "cell_type": "code",
   "execution_count": 1,
   "id": "c1c46bbc",
   "metadata": {},
   "outputs": [],
   "source": [
    "safeHead :: [a] -> Maybe a\n",
    "safeHead [] = Nothing\n",
    "safeHead (x:_) = Just x"
   ]
  },
  {
   "cell_type": "code",
   "execution_count": null,
   "id": "fa7f055b",
   "metadata": {},
   "outputs": [],
   "source": [
    "safeTail :: [a] -> Maybe [a]\n",
    "safeTail [] = Nothing\n",
    "safeTail (_:xs) = Just xs"
   ]
  },
  {
   "cell_type": "markdown",
   "id": "c685efa9",
   "metadata": {},
   "source": [
    "### Exercise: EnumFromTo\n",
    "\n",
    "Write your own enumFromTo definitions for the types provided. Do\n",
    "not use range syntax to do so. It should return the same results as if\n",
    "you did `[start..stop]`. Replace the `undefined`, an value which results\n",
    "in an error when evaluated, with your own definition.\n",
    "\n",
    "```haskell\n",
    "eftBool :: Bool -> Bool -> [Bool]\n",
    "eftBool = undefined\n",
    "\n",
    "eftOrd :: Ordering -> Ordering -> [Ordering]\n",
    "eftOrd = undefined\n",
    "\n",
    "eftInt :: Int -> Int -> [Int]\n",
    "eftInt = undefined\n",
    "\n",
    "eftChar :: Char -> Char -> [Char]\n",
    "eftChar = undefined\n",
    "```"
   ]
  },
  {
   "cell_type": "code",
   "execution_count": 26,
   "id": "2be23c12",
   "metadata": {},
   "outputs": [],
   "source": [
    "eftGeneric:: (Enum a, Bounded a, Ord a) => a -> a -> [a]\n",
    "eftGeneric x y \n",
    "    | y < x = []\n",
    "    | otherwise =\n",
    "        if x == maxBound\n",
    "        then [x]\n",
    "        else x : eftGeneric (succ x) y"
   ]
  },
  {
   "cell_type": "code",
   "execution_count": 27,
   "id": "78a85c65",
   "metadata": {},
   "outputs": [],
   "source": [
    "eftBool :: Bool -> Bool -> [Bool]\n",
    "eftBool = eftGeneric"
   ]
  },
  {
   "cell_type": "code",
   "execution_count": 28,
   "id": "b9e73869",
   "metadata": {},
   "outputs": [],
   "source": [
    "eftOrd :: Ordering -> Ordering -> [Ordering]\n",
    "eftOrd = eftGeneric"
   ]
  },
  {
   "cell_type": "code",
   "execution_count": 29,
   "id": "be41b649",
   "metadata": {},
   "outputs": [],
   "source": [
    "eftInt :: Int -> Int -> [Int]\n",
    "eftInt = eftGeneric"
   ]
  },
  {
   "cell_type": "code",
   "execution_count": null,
   "id": "626488ff",
   "metadata": {},
   "outputs": [],
   "source": [
    "eftChar :: Char -> Char -> [Char]\n",
    "eftChar = eftGeneric"
   ]
  },
  {
   "cell_type": "markdown",
   "id": "0539a845",
   "metadata": {},
   "source": [
    "### Extracting portions of lists\n",
    "\n",
    "#### `take`, `drop`, and `splitAt`\n",
    "\n",
    "The `take`, `drop`, and `splitAt` functions are used to manipulate lists. They allow you to extract or remove elements from a list based on certain conditions. Here's an explanation of each function along with examples:\n",
    "\n",
    "1. `take :: Int -> [a] -> [a]` function:\n",
    "The `take` function takes an integer `n` and a list `xs` as arguments and returns a new list containing the first `n` elements of `xs`. If `n` is greater than the length of `xs`, the entire list `xs` is returned.\n",
    "\n",
    "Example:\n",
    "```haskell\n",
    "take 3 [1, 2, 3, 4, 5] -- Output: [1, 2, 3]\n",
    "take 10 [1, 2, 3]      -- Output: [1, 2, 3]\n",
    "```\n",
    "\n",
    "2. `drop :: Int -> [a] -> [a]` function:\n",
    "The `drop` function also takes an integer `n` and a list `xs` as arguments and returns a new list that contains all the elements of `xs` except the first `n` elements. If `n` is greater than the length of `xs`, an empty list is returned.\n",
    "\n",
    "Example:\n",
    "```haskell\n",
    "drop 2 [1, 2, 3, 4, 5] -- Output: [3, 4, 5]\n",
    "drop 10 [1, 2, 3]      -- Output: []\n",
    "```\n",
    "\n",
    "3. `splitAt :: Int -> [a] -> ([a], [a])` function:\n",
    "The `splitAt` function takes an integer `n` and a list `xs` as arguments and returns a tuple containing two lists. The first list contains the first `n` elements of `xs`, and the second list contains the remaining elements.\n",
    "\n",
    "Example:\n",
    "```haskell\n",
    "splitAt 2 [1, 2, 3, 4, 5] -- Output: ([1, 2], [3, 4, 5])\n",
    "splitAt 10 [1, 2, 3]      -- Output: ([1, 2, 3], [])\n",
    "```\n",
    "\n",
    "These functions are useful for manipulating lists in various ways, such as extracting a portion of a list, removing elements from the beginning of a list, or splitting a list into two parts at a specific index.\n",
    "\n",
    "#### `takeWhile` and `dropWhile`\n",
    "\n",
    "Both `takeWhile` and `dropWhile` are higher-order functions that operate on lists. They allow you to extract or remove elements from a list based on a specified condition.\n",
    "\n",
    "1. `takeWhile` function:\n",
    "   The `takeWhile` function takes a predicate function and a list as input. It returns the longest prefix of the list for which all elements satisfy the predicate. In other words, it takes elements from the beginning of the list until the predicate becomes `False`.\n",
    "\n",
    "   The type signature of `takeWhile` is:\n",
    "   ```haskell\n",
    "   takeWhile :: (a -> Bool) -> [a] -> [a]\n",
    "   ```\n",
    "\n",
    "   Here's an example usage of `takeWhile`:\n",
    "\n",
    "   ```haskell\n",
    "   -- Take elements from the list until a negative number is encountered\n",
    "   positives = takeWhile (> 0) [1, 2, 3, -4, 5, 6]\n",
    "   ```\n",
    "\n",
    "   In this example, `takeWhile (> 0)` takes elements from the list `[1, 2, 3, -4, 5, 6]` until it encounters `-4`, which is the first element that doesn't satisfy the condition `(> 0)`. The resulting list `positives` would be `[1, 2, 3]`.\n",
    "\n",
    "2. `dropWhile` function:\n",
    "   The `dropWhile` function takes a predicate function and a list as input. It returns the remainder of the list after removing the elements that satisfy the predicate. In other words, it drops elements from the beginning of the list until the predicate becomes `False`, and returns the remaining elements.\n",
    "\n",
    "   The type signature of `dropWhile` is:\n",
    "   ```haskell\n",
    "   dropWhile :: (a -> Bool) -> [a] -> [a]\n",
    "   ```\n",
    "\n",
    "   Here's an example usage of `dropWhile`:\n",
    "\n",
    "   ```haskell\n",
    "   -- Drop elements from the list until an even number is encountered\n",
    "   odds = dropWhile even [2, 4, 6, 7, 8, 9]\n",
    "   ```\n",
    "\n",
    "   In this example, `dropWhile even` drops elements from the list `[2, 4, 6, 7, 8, 9]` until it encounters `7`, which is the first odd number. The resulting list `odds` would be `[7, 8, 9]`.\n",
    "\n",
    "Both `takeWhile` and `dropWhile` are useful for working with infinite or large lists, as they allow you to lazily process the elements based on a condition without evaluating the entire list."
   ]
  },
  {
   "cell_type": "markdown",
   "id": "092ba168",
   "metadata": {},
   "source": [
    "### Exercises: Thy Fearful Symmetry"
   ]
  },
  {
   "cell_type": "markdown",
   "id": "58dc1f83",
   "metadata": {},
   "source": [
    "1. Using `takeWhile` and `dropWhile`, write a function that takes a string and returns a list of strings, using spaces to separate the elements of the string into words, as in the following sample:\n",
    "\n",
    "```haskell\n",
    "Prelude> myWords \"sheryl wants fun\"\n",
    "[\"wallfish\", \"wants\", \"fun\"]\n",
    "```"
   ]
  },
  {
   "cell_type": "code",
   "execution_count": 18,
   "id": "ef5ba8d4",
   "metadata": {},
   "outputs": [],
   "source": [
    "myWords :: String -> [String]\n",
    "myWords \"\" = []\n",
    "myWords text =\n",
    "    takeWhile (/= ' ') text : myWords nextText\n",
    "    where dropWhileSpace = dropWhile (== ' ')\n",
    "          nextText = dropWhileSpace  (dropWhile (/= ' ') text)"
   ]
  },
  {
   "cell_type": "code",
   "execution_count": 19,
   "id": "56e53cb4",
   "metadata": {},
   "outputs": [
    {
     "data": {
      "text/plain": [
       "[\"sheryl\",\"wants\",\"fun\"]"
      ]
     },
     "metadata": {},
     "output_type": "display_data"
    }
   ],
   "source": [
    "myWords \"sheryl     wants fun\""
   ]
  },
  {
   "cell_type": "markdown",
   "id": "8a095595",
   "metadata": {},
   "source": [
    "2. Next, write a function that takes a string and returns a list of strings, using newline separators to break up the string as in the following (your job is to fill in the undefined function):\n",
    "\n",
    "```haskell\n",
    "module PoemLines where\n",
    "\n",
    "firstSen = \"Tyger Tyger, burning bright\\n\"\n",
    "secondSen = \"In the forests of the night\\n\"\n",
    "thirdSen = \"What immortal hand or eye\\n\"\n",
    "fourthSen = \"Could frame thy fearful symmetry?\"\n",
    "sentences = firstSen ++ secondSen ++ thirdSen ++ fourthSen\n",
    "-- putStrLn sentences -- should print\n",
    "-- Tyger Tyger, burning bright\n",
    "-- In the forests of the night\n",
    "-- What immortal hand or eye\n",
    "-- Could frame thy fearful symmetry?\n",
    "\n",
    "-- Implement this\n",
    "myLines :: String -> [String]\n",
    "myLines = undefined\n",
    "-- What we want 'myLines sentences'\n",
    "-- to equal\n",
    "\n",
    "shouldEqual =\n",
    "[ \"Tyger Tyger, burning bright\"\n",
    "    , \"In the forests of the night\"\n",
    "    , \"What immortal hand or eye\"\n",
    "    , \"Could frame thy fearful symmetry?\"\n",
    "]\n",
    "\n",
    "-- The main function here is a small test\n",
    "-- to ensure you've written your function\n",
    "-- correctly.\n",
    "main :: IO ()\n",
    "main =\n",
    "    print $\n",
    "    \"Are they equal? \"\n",
    "    ++ show (myLines sentences\n",
    "    == shouldEqual)\n",
    "```"
   ]
  },
  {
   "cell_type": "code",
   "execution_count": 5,
   "id": "f78b7f45",
   "metadata": {},
   "outputs": [],
   "source": [
    "firstSen = \"Tyger Tyger, burning bright\\n\"\n",
    "secondSen = \"In the forests of the night\\n\"\n",
    "thirdSen = \"What immortal hand or eye\\n\"\n",
    "fourthSen = \"Could frame thy fearful symmetry?\"\n",
    "sentences = firstSen ++ secondSen ++ thirdSen ++ fourthSen\n",
    "-- putStrLn sentences -- should print\n",
    "-- Tyger Tyger, burning bright\n",
    "-- In the forests of the night\n",
    "-- What immortal hand or eye\n",
    "-- Could frame thy fearful symmetry?\n",
    "\n",
    "-- Implement this\n",
    "myLines :: String -> [String]\n",
    "myLines \"\" = []\n",
    "myLines text = \n",
    "    takeWhile (/= '\\n') text : myLines newText\n",
    "    where dropNewline = dropWhile (== '\\n')\n",
    "          newText = dropNewline $ dropWhile (/= '\\n') text\n",
    "\n",
    "shouldEqual =\n",
    "    [ \"Tyger Tyger, burning bright\"\n",
    "        , \"In the forests of the night\"\n",
    "        , \"What immortal hand or eye\"\n",
    "        , \"Could frame thy fearful symmetry?\"\n",
    "    ]\n",
    "\n",
    "-- The main function here is a small test\n",
    "-- to ensure you've written your function\n",
    "-- correctly.\n",
    "main :: IO ()\n",
    "main =\n",
    "    print $\n",
    "    \"Are they equal? \"\n",
    "    ++ show (myLines sentences\n",
    "    == shouldEqual)"
   ]
  },
  {
   "cell_type": "code",
   "execution_count": 6,
   "id": "c9cd9077",
   "metadata": {},
   "outputs": [
    {
     "data": {
      "text/plain": [
       "\"Are they equal? True\""
      ]
     },
     "metadata": {},
     "output_type": "display_data"
    }
   ],
   "source": [
    "main"
   ]
  },
  {
   "cell_type": "markdown",
   "id": "24dfdfd5",
   "metadata": {},
   "source": [
    "3. Now let’s look at what those two functions have in common. Try writing a new function that parameterizes the character you’re breaking the string argument on and rewrite `myWords` and `myLines` using it."
   ]
  },
  {
   "cell_type": "code",
   "execution_count": null,
   "id": "e46ed95a",
   "metadata": {},
   "outputs": [],
   "source": []
  }
 ],
 "metadata": {
  "kernelspec": {
   "display_name": "Haskell",
   "language": "haskell",
   "name": "haskell"
  },
  "language_info": {
   "codemirror_mode": "ihaskell",
   "file_extension": ".hs",
   "mimetype": "text/x-haskell",
   "name": "haskell",
   "pygments_lexer": "Haskell",
   "version": "9.6.3"
  }
 },
 "nbformat": 4,
 "nbformat_minor": 5
}
