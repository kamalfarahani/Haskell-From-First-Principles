{
 "cells": [
  {
   "cell_type": "markdown",
   "id": "bc3f84d8",
   "metadata": {},
   "source": [
    "## Lists\n",
    "\n",
    "In Haskell, the `List` data type is a fundamental data structure that represents a sequence of elements. Lists in Haskell are homogeneous, meaning they can only contain elements of the same type. The `List` type is defined recursively as either an empty list or a head element followed by a tail, which is another list.\n",
    "\n",
    "The list datatype in Haskell is defined like this:\n",
    "```haskell\n",
    "data [] a = [] | a : [a]\n",
    "```\n",
    "\n",
    "The syntax for defining a list in Haskell is to enclose the elements within square brackets `[ ]` and separate them by commas. Here are some examples:\n",
    "\n",
    "```haskell\n",
    "emptyList :: [Int]\n",
    "emptyList = []\n",
    "\n",
    "numbers :: [Int]\n",
    "numbers = [1, 2, 3, 4, 5]\n",
    "\n",
    "characters :: [Char]\n",
    "characters = ['H', 'e', 'l', 'l', 'o']\n",
    "```\n",
    "\n",
    "In the above examples, `emptyList` is an empty list of type `[Int]`, `numbers` is a list of type `[Int]` containing the numbers 1 to 5, and `characters` is a list of type `[Char]` containing the characters 'H', 'e', 'l', 'l', and 'o'.\n",
    "\n",
    "One interesting feature of lists in Haskell is the ability to represent infinite lists. Since Haskell is a lazy language, it supports the concept of lazily evaluated infinite lists. You can define an infinite list by specifying a recursive definition that generates the elements on demand. Here's an example:\n",
    "\n",
    "```haskell\n",
    "naturalNumbers :: [Int]\n",
    "naturalNumbers = [0..]\n",
    "```\n",
    "\n",
    "In the example above, `naturalNumbers` is an infinite list of type `[Int]` that represents the sequence of natural numbers starting from 0 and going to infinity. By using the range notation `[0..]`, Haskell lazily generates the elements of the list as needed. For example, you can take the first 10 elements of `naturalNumbers` using the `take` function:\n",
    "\n",
    "```haskell\n",
    "take 10 naturalNumbers  -- Output: [0, 1, 2, 3, 4, 5, 6, 7, 8, 9]\n",
    "```\n",
    "\n",
    "In this case, Haskell generates only the first 10 elements of the infinite list.\n",
    "\n",
    "Infinite lists can be useful in various scenarios, such as generating an infinite stream of values or representing mathematical sequences. Haskell's laziness ensures that only the necessary elements are computed, allowing you to work with infinite structures efficiently."
   ]
  },
  {
   "cell_type": "markdown",
   "id": "8530e5a5",
   "metadata": {},
   "source": [
    "### Pattern Matching On Lists\n",
    "\n",
    "\n",
    "To perform pattern matching on lists in Haskell, you can use the `[]` pattern to match an empty list and the `x:xs` pattern to match a non-empty list where `x` is the head of the list and `xs` is the tail.\n",
    "\n",
    "Here's an example that demonstrates pattern matching on lists:\n",
    "\n",
    "```haskell\n",
    "sumList :: [Int] -> Int\n",
    "sumList []     = 0               -- Pattern match an empty list\n",
    "sumList (x:xs) = x + sumList xs  -- Pattern match a non-empty list\n",
    "```\n",
    "\n",
    "In the above example, the `sumList` function calculates the sum of all elements in a list. The pattern matching is used to handle two cases: when the list is empty, the function returns 0, and when the list has at least one element, it adds the head (`x`) to the sum of the remaining elements (`sumList xs`).\n",
    "\n",
    "You can also use pattern matching to extract specific elements from a list. Here's an example:\n",
    "\n",
    "```haskell\n",
    "headAndTail :: [a] -> (a, [a])\n",
    "headAndTail []     = error \"Empty list\"\n",
    "headAndTail (x:xs) = (x, xs)\n",
    "```\n",
    "\n",
    "In the `headAndTail` function, the pattern `(x:xs)` matches a non-empty list and extracts the head (`x`) and tail (`xs`). The function then returns a tuple containing the head and the tail.\n",
    "\n",
    "Pattern matching on lists can be extended to handle more complex patterns. For example, you can match specific elements at specific positions in the list or use guards to perform conditional matching."
   ]
  },
  {
   "cell_type": "code",
   "execution_count": 1,
   "id": "c1c46bbc",
   "metadata": {},
   "outputs": [],
   "source": [
    "safeHead :: [a] -> Maybe a\n",
    "safeHead [] = Nothing\n",
    "safeHead (x:_) = Just x"
   ]
  },
  {
   "cell_type": "code",
   "execution_count": null,
   "id": "fa7f055b",
   "metadata": {},
   "outputs": [],
   "source": [
    "safeTail :: [a] -> Maybe [a]\n",
    "safeTail [] = Nothing\n",
    "safeTail (_:xs) = Just xs"
   ]
  },
  {
   "cell_type": "markdown",
   "id": "c685efa9",
   "metadata": {},
   "source": [
    "### Exercise: EnumFromTo\n",
    "\n",
    "Write your own enumFromTo definitions for the types provided. Do\n",
    "not use range syntax to do so. It should return the same results as if\n",
    "you did `[start..stop]`. Replace the `undefined`, an value which results\n",
    "in an error when evaluated, with your own definition.\n",
    "\n",
    "```haskell\n",
    "eftBool :: Bool -> Bool -> [Bool]\n",
    "eftBool = undefined\n",
    "\n",
    "eftOrd :: Ordering -> Ordering -> [Ordering]\n",
    "eftOrd = undefined\n",
    "\n",
    "eftInt :: Int -> Int -> [Int]\n",
    "eftInt = undefined\n",
    "\n",
    "eftChar :: Char -> Char -> [Char]\n",
    "eftChar = undefined\n",
    "```"
   ]
  },
  {
   "cell_type": "code",
   "execution_count": 26,
   "id": "2be23c12",
   "metadata": {},
   "outputs": [],
   "source": [
    "eftGeneric:: (Enum a, Bounded a, Ord a) => a -> a -> [a]\n",
    "eftGeneric x y \n",
    "    | y < x = []\n",
    "    | otherwise =\n",
    "        if x == maxBound\n",
    "        then [x]\n",
    "        else x : eftGeneric (succ x) y"
   ]
  },
  {
   "cell_type": "code",
   "execution_count": 27,
   "id": "78a85c65",
   "metadata": {},
   "outputs": [],
   "source": [
    "eftBool :: Bool -> Bool -> [Bool]\n",
    "eftBool = eftGeneric"
   ]
  },
  {
   "cell_type": "code",
   "execution_count": 28,
   "id": "b9e73869",
   "metadata": {},
   "outputs": [],
   "source": [
    "eftOrd :: Ordering -> Ordering -> [Ordering]\n",
    "eftOrd = eftGeneric"
   ]
  },
  {
   "cell_type": "code",
   "execution_count": 29,
   "id": "be41b649",
   "metadata": {},
   "outputs": [],
   "source": [
    "eftInt :: Int -> Int -> [Int]\n",
    "eftInt = eftGeneric"
   ]
  },
  {
   "cell_type": "code",
   "execution_count": null,
   "id": "626488ff",
   "metadata": {},
   "outputs": [],
   "source": [
    "eftChar :: Char -> Char -> [Char]\n",
    "eftChar = eftGeneric"
   ]
  },
  {
   "cell_type": "markdown",
   "id": "0539a845",
   "metadata": {},
   "source": [
    "### Extracting portions of lists\n",
    "\n",
    "#### `take`, `drop`, and `splitAt`\n",
    "\n",
    "The `take`, `drop`, and `splitAt` functions are used to manipulate lists. They allow you to extract or remove elements from a list based on certain conditions. Here's an explanation of each function along with examples:\n",
    "\n",
    "1. `take :: Int -> [a] -> [a]` function:\n",
    "The `take` function takes an integer `n` and a list `xs` as arguments and returns a new list containing the first `n` elements of `xs`. If `n` is greater than the length of `xs`, the entire list `xs` is returned.\n",
    "\n",
    "Example:\n",
    "```haskell\n",
    "take 3 [1, 2, 3, 4, 5] -- Output: [1, 2, 3]\n",
    "take 10 [1, 2, 3]      -- Output: [1, 2, 3]\n",
    "```\n",
    "\n",
    "2. `drop :: Int -> [a] -> [a]` function:\n",
    "The `drop` function also takes an integer `n` and a list `xs` as arguments and returns a new list that contains all the elements of `xs` except the first `n` elements. If `n` is greater than the length of `xs`, an empty list is returned.\n",
    "\n",
    "Example:\n",
    "```haskell\n",
    "drop 2 [1, 2, 3, 4, 5] -- Output: [3, 4, 5]\n",
    "drop 10 [1, 2, 3]      -- Output: []\n",
    "```\n",
    "\n",
    "3. `splitAt :: Int -> [a] -> ([a], [a])` function:\n",
    "The `splitAt` function takes an integer `n` and a list `xs` as arguments and returns a tuple containing two lists. The first list contains the first `n` elements of `xs`, and the second list contains the remaining elements.\n",
    "\n",
    "Example:\n",
    "```haskell\n",
    "splitAt 2 [1, 2, 3, 4, 5] -- Output: ([1, 2], [3, 4, 5])\n",
    "splitAt 10 [1, 2, 3]      -- Output: ([1, 2, 3], [])\n",
    "```\n",
    "\n",
    "These functions are useful for manipulating lists in various ways, such as extracting a portion of a list, removing elements from the beginning of a list, or splitting a list into two parts at a specific index.\n",
    "\n",
    "#### `takeWhile` and `dropWhile`\n",
    "\n",
    "Both `takeWhile` and `dropWhile` are higher-order functions that operate on lists. They allow you to extract or remove elements from a list based on a specified condition.\n",
    "\n",
    "1. `takeWhile` function:\n",
    "   The `takeWhile` function takes a predicate function and a list as input. It returns the longest prefix of the list for which all elements satisfy the predicate. In other words, it takes elements from the beginning of the list until the predicate becomes `False`.\n",
    "\n",
    "   The type signature of `takeWhile` is:\n",
    "   ```haskell\n",
    "   takeWhile :: (a -> Bool) -> [a] -> [a]\n",
    "   ```\n",
    "\n",
    "   Here's an example usage of `takeWhile`:\n",
    "\n",
    "   ```haskell\n",
    "   -- Take elements from the list until a negative number is encountered\n",
    "   positives = takeWhile (> 0) [1, 2, 3, -4, 5, 6]\n",
    "   ```\n",
    "\n",
    "   In this example, `takeWhile (> 0)` takes elements from the list `[1, 2, 3, -4, 5, 6]` until it encounters `-4`, which is the first element that doesn't satisfy the condition `(> 0)`. The resulting list `positives` would be `[1, 2, 3]`.\n",
    "\n",
    "2. `dropWhile` function:\n",
    "   The `dropWhile` function takes a predicate function and a list as input. It returns the remainder of the list after removing the elements that satisfy the predicate. In other words, it drops elements from the beginning of the list until the predicate becomes `False`, and returns the remaining elements.\n",
    "\n",
    "   The type signature of `dropWhile` is:\n",
    "   ```haskell\n",
    "   dropWhile :: (a -> Bool) -> [a] -> [a]\n",
    "   ```\n",
    "\n",
    "   Here's an example usage of `dropWhile`:\n",
    "\n",
    "   ```haskell\n",
    "   -- Drop elements from the list until an even number is encountered\n",
    "   odds = dropWhile even [2, 4, 6, 7, 8, 9]\n",
    "   ```\n",
    "\n",
    "   In this example, `dropWhile even` drops elements from the list `[2, 4, 6, 7, 8, 9]` until it encounters `7`, which is the first odd number. The resulting list `odds` would be `[7, 8, 9]`.\n",
    "\n",
    "Both `takeWhile` and `dropWhile` are useful for working with infinite or large lists, as they allow you to lazily process the elements based on a condition without evaluating the entire list."
   ]
  },
  {
   "cell_type": "markdown",
   "id": "092ba168",
   "metadata": {},
   "source": [
    "### Exercises: Thy Fearful Symmetry"
   ]
  },
  {
   "cell_type": "markdown",
   "id": "58dc1f83",
   "metadata": {},
   "source": [
    "1. Using `takeWhile` and `dropWhile`, write a function that takes a string and returns a list of strings, using spaces to separate the elements of the string into words, as in the following sample:\n",
    "\n",
    "```haskell\n",
    "Prelude> myWords \"sheryl wants fun\"\n",
    "[\"wallfish\", \"wants\", \"fun\"]\n",
    "```"
   ]
  },
  {
   "cell_type": "code",
   "execution_count": 18,
   "id": "ef5ba8d4",
   "metadata": {},
   "outputs": [],
   "source": [
    "myWords :: String -> [String]\n",
    "myWords \"\" = []\n",
    "myWords text =\n",
    "    takeWhile (/= ' ') text : myWords nextText\n",
    "    where dropWhileSpace = dropWhile (== ' ')\n",
    "          nextText = dropWhileSpace  (dropWhile (/= ' ') text)"
   ]
  },
  {
   "cell_type": "code",
   "execution_count": 19,
   "id": "56e53cb4",
   "metadata": {},
   "outputs": [
    {
     "data": {
      "text/plain": [
       "[\"sheryl\",\"wants\",\"fun\"]"
      ]
     },
     "metadata": {},
     "output_type": "display_data"
    }
   ],
   "source": [
    "myWords \"sheryl     wants fun\""
   ]
  },
  {
   "cell_type": "markdown",
   "id": "8a095595",
   "metadata": {},
   "source": [
    "2. Next, write a function that takes a string and returns a list of strings, using newline separators to break up the string as in the following (your job is to fill in the undefined function):\n",
    "\n",
    "```haskell\n",
    "module PoemLines where\n",
    "\n",
    "firstSen = \"Tyger Tyger, burning bright\\n\"\n",
    "secondSen = \"In the forests of the night\\n\"\n",
    "thirdSen = \"What immortal hand or eye\\n\"\n",
    "fourthSen = \"Could frame thy fearful symmetry?\"\n",
    "sentences = firstSen ++ secondSen ++ thirdSen ++ fourthSen\n",
    "-- putStrLn sentences -- should print\n",
    "-- Tyger Tyger, burning bright\n",
    "-- In the forests of the night\n",
    "-- What immortal hand or eye\n",
    "-- Could frame thy fearful symmetry?\n",
    "\n",
    "-- Implement this\n",
    "myLines :: String -> [String]\n",
    "myLines = undefined\n",
    "-- What we want 'myLines sentences'\n",
    "-- to equal\n",
    "\n",
    "shouldEqual =\n",
    "[ \"Tyger Tyger, burning bright\"\n",
    "    , \"In the forests of the night\"\n",
    "    , \"What immortal hand or eye\"\n",
    "    , \"Could frame thy fearful symmetry?\"\n",
    "]\n",
    "\n",
    "-- The main function here is a small test\n",
    "-- to ensure you've written your function\n",
    "-- correctly.\n",
    "main :: IO ()\n",
    "main =\n",
    "    print $\n",
    "    \"Are they equal? \"\n",
    "    ++ show (myLines sentences\n",
    "    == shouldEqual)\n",
    "```"
   ]
  },
  {
   "cell_type": "code",
   "execution_count": 2,
   "id": "f78b7f45",
   "metadata": {},
   "outputs": [],
   "source": [
    "firstSen = \"Tyger Tyger, burning bright\\n\"\n",
    "secondSen = \"In the forests of the night\\n\"\n",
    "thirdSen = \"What immortal hand or eye\\n\"\n",
    "fourthSen = \"Could frame thy fearful symmetry?\"\n",
    "sentences = firstSen ++ secondSen ++ thirdSen ++ fourthSen\n",
    "-- putStrLn sentences -- should print\n",
    "-- Tyger Tyger, burning bright\n",
    "-- In the forests of the night\n",
    "-- What immortal hand or eye\n",
    "-- Could frame thy fearful symmetry?\n",
    "\n",
    "-- Implement this\n",
    "myLines :: String -> [String]\n",
    "myLines \"\" = []\n",
    "myLines text = \n",
    "    takeWhile (/= '\\n') text : myLines newText\n",
    "    where dropNewline = dropWhile (== '\\n')\n",
    "          newText = dropNewline $ dropWhile (/= '\\n') text\n",
    "\n",
    "shouldEqual =\n",
    "    [ \"Tyger Tyger, burning bright\"\n",
    "        , \"In the forests of the night\"\n",
    "        , \"What immortal hand or eye\"\n",
    "        , \"Could frame thy fearful symmetry?\"\n",
    "    ]\n",
    "\n",
    "-- The main function here is a small test\n",
    "-- to ensure you've written your function\n",
    "-- correctly.\n",
    "main :: IO ()\n",
    "main =\n",
    "    print $\n",
    "    \"Are they equal? \"\n",
    "    ++ show (myLines sentences\n",
    "    == shouldEqual)"
   ]
  },
  {
   "cell_type": "code",
   "execution_count": 3,
   "id": "c9cd9077",
   "metadata": {},
   "outputs": [
    {
     "data": {
      "text/plain": [
       "\"Are they equal? True\""
      ]
     },
     "metadata": {},
     "output_type": "display_data"
    }
   ],
   "source": [
    "main"
   ]
  },
  {
   "cell_type": "markdown",
   "id": "24dfdfd5",
   "metadata": {},
   "source": [
    "3. Now let’s look at what those two functions have in common. Try writing a new function that parameterizes the character you’re breaking the string argument on and rewrite `myWords` and `myLines` using it."
   ]
  },
  {
   "cell_type": "code",
   "execution_count": 1,
   "id": "e46ed95a",
   "metadata": {},
   "outputs": [],
   "source": [
    "charBreak :: Char -> String -> [String]\n",
    "charBreak _ \"\" = []\n",
    "charBreak c text =\n",
    "    takeWhile (/= c) text : charBreak c newText\n",
    "    where dropChars = dropWhile (== c)\n",
    "          newText = dropChars $ dropWhile (/= c) text"
   ]
  },
  {
   "cell_type": "code",
   "execution_count": 4,
   "id": "fd1d251a",
   "metadata": {},
   "outputs": [
    {
     "data": {
      "text/plain": [
       "[\"Tyger Tyger, burning bright\",\"In the forests of the night\",\"What immortal hand or eye\",\"Could frame thy fearful symmetry?\"]"
      ]
     },
     "metadata": {},
     "output_type": "display_data"
    }
   ],
   "source": [
    "charBreak '\\n' sentences"
   ]
  },
  {
   "cell_type": "code",
   "execution_count": 5,
   "id": "685e23d9",
   "metadata": {},
   "outputs": [
    {
     "data": {
      "text/plain": [
       "[\"Life\",\"of\",\"brain\"]"
      ]
     },
     "metadata": {},
     "output_type": "display_data"
    }
   ],
   "source": [
    "charBreak ' ' \"Life of brain\""
   ]
  },
  {
   "cell_type": "markdown",
   "id": "a57f1881",
   "metadata": {},
   "source": [
    "### List Comprehensions\n",
    "\n",
    "List comprehension is a powerful tool in Haskell for creating new lists based on existing ones. It provides a concise and readable way to express what might otherwise be a loop or a series of function applications.\n",
    "\n",
    "Here's how it works:\n",
    "\n",
    "**Basic Structure:**\n",
    "\n",
    "```haskell\n",
    "[expression | generator, condition, ...]\n",
    "```\n",
    "\n",
    "- **expression**: This is what you want to do with each element in the list. It can be a function call, a calculation, or just the element itself.\n",
    "- **generator**: This specifies where the elements come from. It's typically written as `variable <- list` where `variable` is a temporary name to hold each element and `list` is the source list (or another way to generate values).\n",
    "- **condition (optional)**: You can add a comma followed by a condition to filter the elements. Only elements that satisfy the condition will be included in the resulting list.\n",
    "\n",
    "**Examples:**\n",
    "\n",
    "1. **Squaring all numbers from 1 to 10:**\n",
    "\n",
    "```haskell\n",
    "squares = [x * x | x <- [1..10]]\n",
    "```\n",
    "\n",
    "This comprehension iterates through the list `[1..10]`, assigns each number to `x`, and squares it using `x * x`. The resulting list `squares` will contain all the squares from 1 to 100.\n",
    "\n",
    "2. **Doubling only the even numbers from a list:**\n",
    "\n",
    "```haskell\n",
    "numbers = [2, 4, 5, 1, 8]\n",
    "evenDoubles = [x * 2 | x <- numbers, even x]\n",
    "```\n",
    "\n",
    "Here, we use two parts:\n",
    "  - `x <- numbers`: iterates through the `numbers` list.\n",
    "  - `even x`: This is the condition, which checks if `x` is even using the `even` function. Only even numbers from `numbers` will be used for further processing.\n",
    "  - Finally, `x * 2` doubles each even number.\n",
    "\n",
    "**More Features:**\n",
    "\n",
    "- **Multiple Generators:** You can have multiple generators separated by commas to iterate through multiple lists simultaneously.\n",
    "- **Guards:** Similar to conditions, guards are expressions placed after the generator but before the pipe (`|`) that can further control which elements are included. Guards must evaluate to `True` for the element to be considered.\n",
    "\n",
    "List comprehensions offer a clean and functional way to manipulate lists in Haskell. They can often replace loops and improve code readability. For further exploration, you can look into using list comprehensions with guards and multiple generators."
   ]
  },
  {
   "cell_type": "code",
   "execution_count": 6,
   "id": "da19e5f8",
   "metadata": {},
   "outputs": [
    {
     "data": {
      "text/plain": [
       "[144,196,256,324,400,484,576,676,784,900,1024,1156,1296,1444,1600,1764,1936,2116,2304,2500,2704,2916,3136,3364,3600,3844,4096,4356,4624,4900,5184,5476,5776,6084,6400,6724,7056,7396,7744,8100,8464,8836,9216,9604,10000]"
      ]
     },
     "metadata": {},
     "output_type": "display_data"
    }
   ],
   "source": [
    "[x^2 | x <- [1..100], even x, x > 10]"
   ]
  },
  {
   "cell_type": "code",
   "execution_count": 8,
   "id": "321d010d",
   "metadata": {},
   "outputs": [
    {
     "data": {
      "text/plain": [
       "[(1,1,1),(1,1,2),(2,2,1),(4,2,2),(3,3,1),(9,3,2),(4,4,1),(16,4,2),(5,5,1),(25,5,2),(6,6,1),(36,6,2),(7,7,1),(49,7,2),(8,8,1),(64,8,2),(9,9,1),(81,9,2),(10,10,1),(100,10,2)]"
      ]
     },
     "metadata": {},
     "output_type": "display_data"
    }
   ],
   "source": [
    "[(x^y, x, y) | x <- [1..10], y <- [1, 2]]"
   ]
  },
  {
   "cell_type": "markdown",
   "id": "b8e485c0",
   "metadata": {},
   "source": [
    "### Exercises: Comprehend Thy Lists\n",
    "\n",
    "Take a look at the following functions, figure what you think the\n",
    "output lists will be, and then run them in your REPL to verify:\n",
    "\n",
    "```haskell\n",
    "mySqr = [x^2 | x <- [1..10]]\n",
    "\n",
    "[x | x <- mySqr, rem x 2 == 0]\n",
    "\n",
    "[(x, y) | x <- mySqr, y <- mySqr, x < 50, y > 50]\n",
    "\n",
    "take 5 [ (x, y) | x <- mySqr,\n",
    "        y <- mySqr,\n",
    "        x < 50, y > 50\n",
    "    ]\n",
    "```"
   ]
  },
  {
   "cell_type": "code",
   "execution_count": 9,
   "id": "5e2f21d6",
   "metadata": {},
   "outputs": [],
   "source": [
    "mySqr = [x^2 | x <- [1..10]]"
   ]
  },
  {
   "cell_type": "code",
   "execution_count": 10,
   "id": "74ceabb5",
   "metadata": {},
   "outputs": [
    {
     "data": {
      "text/html": [
       "<style>/* Styles used for the Hoogle display in the pager */\n",
       ".hoogle-doc {\n",
       "display: block;\n",
       "padding-bottom: 1.3em;\n",
       "padding-left: 0.4em;\n",
       "}\n",
       ".hoogle-code {\n",
       "display: block;\n",
       "font-family: monospace;\n",
       "white-space: pre;\n",
       "}\n",
       ".hoogle-text {\n",
       "display: block;\n",
       "}\n",
       ".hoogle-name {\n",
       "color: green;\n",
       "font-weight: bold;\n",
       "}\n",
       ".hoogle-head {\n",
       "font-weight: bold;\n",
       "}\n",
       ".hoogle-sub {\n",
       "display: block;\n",
       "margin-left: 0.4em;\n",
       "}\n",
       ".hoogle-package {\n",
       "font-weight: bold;\n",
       "font-style: italic;\n",
       "}\n",
       ".hoogle-module {\n",
       "font-weight: bold;\n",
       "}\n",
       ".hoogle-class {\n",
       "font-weight: bold;\n",
       "}\n",
       "\n",
       ".get-type {\n",
       "color: green;\n",
       "font-weight: bold;\n",
       "font-family: monospace;\n",
       "display: block;\n",
       "white-space: pre-wrap;\n",
       "}\n",
       ".show-type {\n",
       "color: green;\n",
       "font-weight: bold;\n",
       "font-family: monospace;\n",
       "margin-left: 1em;\n",
       "}\n",
       ".mono {\n",
       "font-family: monospace;\n",
       "display: block;\n",
       "}\n",
       ".err-msg {\n",
       "color: red;\n",
       "font-style: italic;\n",
       "font-family: monospace;\n",
       "white-space: pre;\n",
       "display: block;\n",
       "}\n",
       "#unshowable {\n",
       "color: red;\n",
       "font-weight: bold;\n",
       "}\n",
       ".err-msg.in.collapse {\n",
       "padding-top: 0.7em;\n",
       "}\n",
       "\n",
       ".highlight-code {\n",
       "white-space: pre;\n",
       "font-family: monospace;\n",
       "}\n",
       "\n",
       ".suggestion-warning { \n",
       "font-weight: bold;\n",
       "color: rgb(200, 130, 0);\n",
       "}\n",
       ".suggestion-error { \n",
       "font-weight: bold;\n",
       "color: red;\n",
       "}\n",
       ".suggestion-name {\n",
       "font-weight: bold;\n",
       "}\n",
       "\n",
       "</style><div class=\"suggestion-name\" style=\"clear:both;\">Use even</div><div class=\"suggestion-row\" style=\"float: left;\"><div class=\"suggestion-warning\">Found:</div><div class=\"highlight-code\" id=\"haskell\">rem x 2 == 0</div></div><div class=\"suggestion-row\" style=\"float: left;\"><div class=\"suggestion-warning\">Why Not:</div><div class=\"highlight-code\" id=\"haskell\">even x</div></div>"
      ],
      "text/plain": [
       "Line 1: Use even\n",
       "Found:\n",
       "rem x 2 == 0\n",
       "Why not:\n",
       "even x"
      ]
     },
     "metadata": {},
     "output_type": "display_data"
    },
    {
     "data": {
      "text/plain": [
       "[4,16,36,64,100]"
      ]
     },
     "metadata": {},
     "output_type": "display_data"
    }
   ],
   "source": [
    "[x | x <- mySqr, rem x 2 == 0]"
   ]
  },
  {
   "cell_type": "code",
   "execution_count": 11,
   "id": "539406aa",
   "metadata": {},
   "outputs": [
    {
     "data": {
      "text/html": [
       "<style>/* Styles used for the Hoogle display in the pager */\n",
       ".hoogle-doc {\n",
       "display: block;\n",
       "padding-bottom: 1.3em;\n",
       "padding-left: 0.4em;\n",
       "}\n",
       ".hoogle-code {\n",
       "display: block;\n",
       "font-family: monospace;\n",
       "white-space: pre;\n",
       "}\n",
       ".hoogle-text {\n",
       "display: block;\n",
       "}\n",
       ".hoogle-name {\n",
       "color: green;\n",
       "font-weight: bold;\n",
       "}\n",
       ".hoogle-head {\n",
       "font-weight: bold;\n",
       "}\n",
       ".hoogle-sub {\n",
       "display: block;\n",
       "margin-left: 0.4em;\n",
       "}\n",
       ".hoogle-package {\n",
       "font-weight: bold;\n",
       "font-style: italic;\n",
       "}\n",
       ".hoogle-module {\n",
       "font-weight: bold;\n",
       "}\n",
       ".hoogle-class {\n",
       "font-weight: bold;\n",
       "}\n",
       "\n",
       ".get-type {\n",
       "color: green;\n",
       "font-weight: bold;\n",
       "font-family: monospace;\n",
       "display: block;\n",
       "white-space: pre-wrap;\n",
       "}\n",
       ".show-type {\n",
       "color: green;\n",
       "font-weight: bold;\n",
       "font-family: monospace;\n",
       "margin-left: 1em;\n",
       "}\n",
       ".mono {\n",
       "font-family: monospace;\n",
       "display: block;\n",
       "}\n",
       ".err-msg {\n",
       "color: red;\n",
       "font-style: italic;\n",
       "font-family: monospace;\n",
       "white-space: pre;\n",
       "display: block;\n",
       "}\n",
       "#unshowable {\n",
       "color: red;\n",
       "font-weight: bold;\n",
       "}\n",
       ".err-msg.in.collapse {\n",
       "padding-top: 0.7em;\n",
       "}\n",
       "\n",
       ".highlight-code {\n",
       "white-space: pre;\n",
       "font-family: monospace;\n",
       "}\n",
       "\n",
       ".suggestion-warning { \n",
       "font-weight: bold;\n",
       "color: rgb(200, 130, 0);\n",
       "}\n",
       ".suggestion-error { \n",
       "font-weight: bold;\n",
       "color: red;\n",
       "}\n",
       ".suggestion-name {\n",
       "font-weight: bold;\n",
       "}\n",
       "\n",
       "</style><div class=\"suggestion-name\" style=\"clear:both;\">Move guards forward</div><div class=\"suggestion-row\" style=\"float: left;\"><div class=\"suggestion-warning\">Found:</div><div class=\"highlight-code\" id=\"haskell\">[(x, y) | x <- mySqr, y <- mySqr, x < 50, y > 50]</div></div><div class=\"suggestion-row\" style=\"float: left;\"><div class=\"suggestion-warning\">Why Not:</div><div class=\"highlight-code\" id=\"haskell\">[(x, y) | x <- mySqr, x < 50, y <- mySqr, y > 50]</div></div>"
      ],
      "text/plain": [
       "Line 1: Move guards forward\n",
       "Found:\n",
       "[(x, y) | x <- mySqr, y <- mySqr, x < 50, y > 50]\n",
       "Why not:\n",
       "[(x, y) | x <- mySqr, x < 50, y <- mySqr, y > 50]"
      ]
     },
     "metadata": {},
     "output_type": "display_data"
    },
    {
     "data": {
      "text/plain": [
       "[(1,64),(1,81),(1,100),(4,64),(4,81),(4,100),(9,64),(9,81),(9,100),(16,64),(16,81),(16,100),(25,64),(25,81),(25,100),(36,64),(36,81),(36,100),(49,64),(49,81),(49,100)]"
      ]
     },
     "metadata": {},
     "output_type": "display_data"
    }
   ],
   "source": [
    "[(x, y) | x <- mySqr, y <- mySqr, x < 50, y > 50]"
   ]
  },
  {
   "cell_type": "code",
   "execution_count": null,
   "id": "b13cd1b7",
   "metadata": {},
   "outputs": [
    {
     "data": {
      "text/html": [
       "<style>/* Styles used for the Hoogle display in the pager */\n",
       ".hoogle-doc {\n",
       "display: block;\n",
       "padding-bottom: 1.3em;\n",
       "padding-left: 0.4em;\n",
       "}\n",
       ".hoogle-code {\n",
       "display: block;\n",
       "font-family: monospace;\n",
       "white-space: pre;\n",
       "}\n",
       ".hoogle-text {\n",
       "display: block;\n",
       "}\n",
       ".hoogle-name {\n",
       "color: green;\n",
       "font-weight: bold;\n",
       "}\n",
       ".hoogle-head {\n",
       "font-weight: bold;\n",
       "}\n",
       ".hoogle-sub {\n",
       "display: block;\n",
       "margin-left: 0.4em;\n",
       "}\n",
       ".hoogle-package {\n",
       "font-weight: bold;\n",
       "font-style: italic;\n",
       "}\n",
       ".hoogle-module {\n",
       "font-weight: bold;\n",
       "}\n",
       ".hoogle-class {\n",
       "font-weight: bold;\n",
       "}\n",
       "\n",
       ".get-type {\n",
       "color: green;\n",
       "font-weight: bold;\n",
       "font-family: monospace;\n",
       "display: block;\n",
       "white-space: pre-wrap;\n",
       "}\n",
       ".show-type {\n",
       "color: green;\n",
       "font-weight: bold;\n",
       "font-family: monospace;\n",
       "margin-left: 1em;\n",
       "}\n",
       ".mono {\n",
       "font-family: monospace;\n",
       "display: block;\n",
       "}\n",
       ".err-msg {\n",
       "color: red;\n",
       "font-style: italic;\n",
       "font-family: monospace;\n",
       "white-space: pre;\n",
       "display: block;\n",
       "}\n",
       "#unshowable {\n",
       "color: red;\n",
       "font-weight: bold;\n",
       "}\n",
       ".err-msg.in.collapse {\n",
       "padding-top: 0.7em;\n",
       "}\n",
       "\n",
       ".highlight-code {\n",
       "white-space: pre;\n",
       "font-family: monospace;\n",
       "}\n",
       "\n",
       ".suggestion-warning { \n",
       "font-weight: bold;\n",
       "color: rgb(200, 130, 0);\n",
       "}\n",
       ".suggestion-error { \n",
       "font-weight: bold;\n",
       "color: red;\n",
       "}\n",
       ".suggestion-name {\n",
       "font-weight: bold;\n",
       "}\n",
       "\n",
       "</style><div class=\"suggestion-name\" style=\"clear:both;\">Move guards forward</div><div class=\"suggestion-row\" style=\"float: left;\"><div class=\"suggestion-warning\">Found:</div><div class=\"highlight-code\" id=\"haskell\">[(x, y) | x <- mySqr, y <- mySqr, x < 50, y > 50]</div></div><div class=\"suggestion-row\" style=\"float: left;\"><div class=\"suggestion-warning\">Why Not:</div><div class=\"highlight-code\" id=\"haskell\">[(x, y) | x <- mySqr, x < 50, y <- mySqr, y > 50]</div></div>"
      ],
      "text/plain": [
       "Line 1: Move guards forward\n",
       "Found:\n",
       "[(x, y) | x <- mySqr, y <- mySqr, x < 50, y > 50]\n",
       "Why not:\n",
       "[(x, y) | x <- mySqr, x < 50, y <- mySqr, y > 50]"
      ]
     },
     "metadata": {},
     "output_type": "display_data"
    },
    {
     "data": {
      "text/plain": [
       "[(1,64),(1,81),(1,100),(4,64),(4,81)]"
      ]
     },
     "metadata": {},
     "output_type": "display_data"
    }
   ],
   "source": [
    "take 5 [ (x, y) | x <- mySqr,\n",
    "        y <- mySqr,\n",
    "        x < 50,\n",
    "        y > 50\n",
    "    ]"
   ]
  },
  {
   "cell_type": "markdown",
   "id": "5986acce",
   "metadata": {},
   "source": [
    "### `elem` function\n",
    "\n",
    "The `elem :: (Foldable t, Eq a) => a -> t a -> Bool` function in Haskell is used to check if an element exists within a `Foldable` data structure. It takes two arguments:\n",
    "\n",
    "1. **Element (a):** The value you want to search for in the list. This can be any type (`a`) that supports equality comparison.\n",
    "2. **Foldable (t a):** This must be a foldable data structure (like lists, strings, sets, etc.) and contain elements of the same type (`a`) as the first argument.\n",
    "\n",
    "`elem` returns a `Bool` value:\n",
    "\n",
    "- **True:** If the element is found in the list.\n",
    "- **False:** If the element is not found in the list.\n",
    "\n",
    "**Example:**\n",
    "\n",
    "```haskell\n",
    "-- Check if the number 3 is present in the list\n",
    "result1 = elem 3 [1, 2, 3, 4, 5]  -- result1 will be True\n",
    "\n",
    "-- Check if the character 'x' is present in the string\n",
    "result2 = elem 'x' \"hello\"       -- result2 will be False\n",
    "```"
   ]
  },
  {
   "cell_type": "code",
   "execution_count": 7,
   "id": "5fe8a1c0",
   "metadata": {},
   "outputs": [],
   "source": [
    "acro :: String -> String\n",
    "acro text =\n",
    "    [c | c <- text, c `elem` ['A'..'Z']]"
   ]
  },
  {
   "cell_type": "code",
   "execution_count": 8,
   "id": "57e50dee",
   "metadata": {},
   "outputs": [
    {
     "data": {
      "text/plain": [
       "\"FFT\""
      ]
     },
     "metadata": {},
     "output_type": "display_data"
    }
   ],
   "source": [
    "acro \"Fast Fourier Transform\""
   ]
  },
  {
   "cell_type": "code",
   "execution_count": 9,
   "id": "3cb083c3",
   "metadata": {},
   "outputs": [
    {
     "data": {
      "text/plain": [
       "\"SCUBA\""
      ]
     },
     "metadata": {},
     "output_type": "display_data"
    }
   ],
   "source": [
    "acro \"Self Contained Underwater Breathing Apparatus\""
   ]
  },
  {
   "cell_type": "markdown",
   "id": "8485caf8",
   "metadata": {},
   "source": [
    "### Exercises: Square Cube\n",
    "\n",
    "Given the following:\n",
    "```haskell\n",
    "Prelude> let mySqr = [x^2 | x <- [1..5]]\n",
    "Prelude> let myCube = [y^3 | y <- [1..5]]\n",
    "```\n",
    "\n",
    "1. First write an expression that will make tuples of the outputs of `mySqr` and `myCube`."
   ]
  },
  {
   "cell_type": "code",
   "execution_count": 12,
   "id": "43f56857",
   "metadata": {},
   "outputs": [],
   "source": [
    "mySqr = [x^2 | x <- [1..5]]\n",
    "myCube = [y^3 | y <- [1..5]]"
   ]
  },
  {
   "cell_type": "code",
   "execution_count": 18,
   "id": "3aa5881f",
   "metadata": {},
   "outputs": [
    {
     "data": {
      "text/plain": [
       "[(1,1),(1,8),(1,27),(1,64),(1,125),(4,1),(4,8),(4,27),(4,64),(4,125),(9,1),(9,8),(9,27),(9,64),(9,125),(16,1),(16,8),(16,27),(16,64),(16,125),(25,1),(25,8),(25,27),(25,64),(25,125)]"
      ]
     },
     "metadata": {},
     "output_type": "display_data"
    }
   ],
   "source": [
    "[(x, y) | x <- mySqr, y <- myCube]"
   ]
  },
  {
   "cell_type": "markdown",
   "id": "ca91b086",
   "metadata": {},
   "source": [
    "2. Now alter that expression so that it only uses the `x` and `y` values that are less than `50`."
   ]
  },
  {
   "cell_type": "code",
   "execution_count": 20,
   "id": "1979e74f",
   "metadata": {},
   "outputs": [
    {
     "data": {
      "text/plain": [
       "[(1,1),(1,8),(1,27),(4,1),(4,8),(4,27),(9,1),(9,8),(9,27),(16,1),(16,8),(16,27),(25,1),(25,8),(25,27)]"
      ]
     },
     "metadata": {},
     "output_type": "display_data"
    }
   ],
   "source": [
    "[(x, y) | x <- mySqr, x < 50, y <- myCube, y < 50]"
   ]
  },
  {
   "cell_type": "markdown",
   "id": "41bacbf2",
   "metadata": {},
   "source": [
    "### Exercises: Bottom Madness\n",
    "\n",
    "Will it blow up?\n",
    "Will the following expressions return a value or be `⊥`?"
   ]
  },
  {
   "cell_type": "markdown",
   "id": "e57f98e4",
   "metadata": {},
   "source": [
    "1.\n",
    "```haskell\n",
    "[x^y | x <- [1..5], y <- [2, undefined]]\n",
    "```\n",
    "\n",
    "> **<span style=\"color:green\">Answer:</span>** This will blow up in the REPL"
   ]
  },
  {
   "cell_type": "code",
   "execution_count": 23,
   "id": "a302b819",
   "metadata": {},
   "outputs": [
    {
     "ename": "",
     "evalue": "",
     "output_type": "error",
     "traceback": [
      "Prelude.undefined\nCallStack (from HasCallStack):\n  undefined, called at <interactive>:1:30 in interactive:Ghci555"
     ]
    }
   ],
   "source": [
    "[x^y | x <- [1..5], y <- [2, undefined]]"
   ]
  },
  {
   "cell_type": "markdown",
   "id": "e8cf097e",
   "metadata": {},
   "source": [
    "2.\n",
    "```haskell\n",
    "take 1 $ [x^y | x <- [1..5], y <- [2, undefined]]\n",
    "```\n",
    "> **<span style=\"color:green\">Answer:</span>** This works because "
   ]
  },
  {
   "cell_type": "code",
   "execution_count": 25,
   "id": "8be52c64",
   "metadata": {},
   "outputs": [
    {
     "data": {
      "text/plain": [
       "[1]"
      ]
     },
     "metadata": {},
     "output_type": "display_data"
    }
   ],
   "source": [
    "take 1 $ [x^y | x <- [1..5], y <- [2, undefined]]"
   ]
  },
  {
   "cell_type": "markdown",
   "id": "235cc2e9",
   "metadata": {},
   "source": [
    "3.\n",
    "```haskell\n",
    "sum [1, undefined, 3]\n",
    "```\n",
    "\n",
    "> **<span style=\"color:green\">Answer:</span>** This will result in an error, becasue `sum` evaluates all the values including `undefined`."
   ]
  },
  {
   "cell_type": "code",
   "execution_count": null,
   "id": "06aece7f",
   "metadata": {},
   "outputs": [
    {
     "ename": "",
     "evalue": "",
     "output_type": "error",
     "traceback": [
      "Prelude.undefined\nCallStack (from HasCallStack):\n  undefined, called at <interactive>:1:9 in interactive:Ghci655"
     ]
    }
   ],
   "source": [
    "sum [1, undefined, 3]"
   ]
  },
  {
   "cell_type": "markdown",
   "id": "91f40b8c",
   "metadata": {},
   "source": [
    "4.\n",
    "```haskell\n",
    "length [1, 2, undefined]\n",
    "```\n",
    "\n",
    "> **<span style=\"color:green\">Answer:<span/>** This works because `length` only evaluates spines."
   ]
  },
  {
   "cell_type": "code",
   "execution_count": 30,
   "id": "4527338d",
   "metadata": {},
   "outputs": [
    {
     "data": {
      "text/plain": [
       "3"
      ]
     },
     "metadata": {},
     "output_type": "display_data"
    }
   ],
   "source": [
    "length [1, 2, undefined]"
   ]
  },
  {
   "cell_type": "markdown",
   "id": "22aeb1f6",
   "metadata": {},
   "source": [
    "5.\n",
    "```haskell\n",
    "length $ [1, 2, 3] ++ undefined\n",
    "```\n",
    "\n",
    "> **<span style=\"color:green\">Answer:<span/>** This will cause an error because `undefined` is evaluated in spine."
   ]
  },
  {
   "cell_type": "code",
   "execution_count": 31,
   "id": "32486599",
   "metadata": {},
   "outputs": [
    {
     "ename": "",
     "evalue": "",
     "output_type": "error",
     "traceback": [
      "Prelude.undefined\nCallStack (from HasCallStack):\n  undefined, called at <interactive>:1:23 in interactive:Ghci773"
     ]
    }
   ],
   "source": [
    "length $ [1, 2, 3] ++ undefined"
   ]
  },
  {
   "cell_type": "markdown",
   "id": "bde3d4bf",
   "metadata": {},
   "source": [
    "6.\n",
    "```haskell\n",
    "take 1 $ filter even [1, 2, 3, undefined]\n",
    "```\n",
    "\n",
    "> **<span style=\"color:green\">Answer:<span/>** This will work because we only need to evaluate the first even element which is 2."
   ]
  },
  {
   "cell_type": "code",
   "execution_count": 32,
   "id": "d039784f",
   "metadata": {},
   "outputs": [
    {
     "data": {
      "text/plain": [
       "[2]"
      ]
     },
     "metadata": {},
     "output_type": "display_data"
    }
   ],
   "source": [
    "take 1 $ filter even [1, 2, 3, undefined]\n"
   ]
  },
  {
   "cell_type": "markdown",
   "id": "e1946749",
   "metadata": {},
   "source": [
    "7.\n",
    "```haskell\n",
    "take 1 $ filter even [1, 3, undefined]\n",
    "```\n",
    "\n",
    "> **<span style=\"color:green\">Answer:<span/>** This will throw an error. because there is no even number beforre `undefined` so, we should evaluate all the elements of the list including `undefined`."
   ]
  },
  {
   "cell_type": "code",
   "execution_count": null,
   "id": "ce766739",
   "metadata": {},
   "outputs": [
    {
     "ename": "",
     "evalue": "",
     "output_type": "error",
     "traceback": [
      "Prelude.undefined\nCallStack (from HasCallStack):\n  undefined, called at <interactive>:1:29 in interactive:Ghci823"
     ]
    }
   ],
   "source": [
    "take 1 $ filter even [1, 3, undefined]"
   ]
  },
  {
   "cell_type": "markdown",
   "id": "b31d2226",
   "metadata": {},
   "source": [
    "8.\n",
    "```haskell\n",
    "take 1 $ filter odd [1, 3, undefined]\n",
    "```\n",
    "\n",
    "> **<span style=\"color:green\">Answer:<span/>** This works, the first odd element is 1 and we only need to evaluate that one element."
   ]
  },
  {
   "cell_type": "markdown",
   "id": "8fc9827e",
   "metadata": {},
   "source": [
    "9.\n",
    "```haskell\n",
    "take 2 $ filter odd [1, 3, undefined]\n",
    "```\n",
    "\n",
    "> **<span style=\"color:green\">Answer:<span/>** This also works, because the first two odd elements are before `undefined`."
   ]
  },
  {
   "cell_type": "markdown",
   "id": "bd2fb5ef",
   "metadata": {},
   "source": [
    "10.\n",
    "```haskell\n",
    "take 3 $ filter odd [1, 3, undefined]\n",
    "```\n",
    "\n",
    "> **<span style=\"color:green\">Answer:<span/>** This will blow up for pretty obvious reasons."
   ]
  },
  {
   "cell_type": "markdown",
   "id": "4f687847",
   "metadata": {},
   "source": [
    "### Intermission: Is it in normal form?\n",
    "\n",
    "For each expression below, determine whether it’s in:\n",
    "1. normal form, which implies weak head normal form;\n",
    "2. weak head normal form only; or,\n",
    "3. neither.\n",
    "Remember that an expression cannot be in normal form or weak\n",
    "head normal form if the outermost part of the expression isn’t a data\n",
    "constructor. It can’t be in normal form if any part of the expression\n",
    "is unevaluated."
   ]
  },
  {
   "cell_type": "markdown",
   "id": "8c1702c4",
   "metadata": {},
   "source": [
    "1.\n",
    "```haskell\n",
    "[1, 2, 3, 4, 5]\n",
    "```\n",
    "> **<span style=\"color:green\">Answer:<span/>** NF"
   ]
  },
  {
   "cell_type": "markdown",
   "id": "faa9c4e5",
   "metadata": {},
   "source": [
    "2.\n",
    "```haskell\n",
    "1 : 2 : 3 : 4 : _\n",
    "```\n",
    "\n",
    "> **<span style=\"color:green\">Answer:<span/>** WHNF"
   ]
  },
  {
   "cell_type": "markdown",
   "id": "636c0069",
   "metadata": {},
   "source": [
    "3.\n",
    "```haskell\n",
    "enumFromTo 1 10\n",
    "```\n",
    "\n",
    "> **<span style=\"color:green\">Answer:<span/>** neither"
   ]
  },
  {
   "cell_type": "markdown",
   "id": "b6840cd2",
   "metadata": {},
   "source": [
    "4.\n",
    "```haskell\n",
    "length [1, 2, 3, 4, 5]\n",
    "```\n",
    "\n",
    "> **<span style=\"color:green\">Answer:<span/>** neither"
   ]
  },
  {
   "cell_type": "markdown",
   "id": "9b6b5b44",
   "metadata": {},
   "source": [
    "5.\n",
    "```haskell\n",
    "sum (enumFromTo 1 10)\n",
    "```\n",
    "\n",
    "> **<span style=\"color:green\">Answer:<span/>** neither"
   ]
  },
  {
   "cell_type": "markdown",
   "id": "ce7d9db7",
   "metadata": {},
   "source": [
    "6.\n",
    "```haskell\n",
    "['a'..'m'] ++ ['n'..'z']\n",
    "```\n",
    "\n",
    "> **<span style=\"color:green\">Answer:<span/>** neither"
   ]
  },
  {
   "cell_type": "markdown",
   "id": "81fc1969",
   "metadata": {},
   "source": [
    "7.\n",
    "```haskell\n",
    "(_, 'b')\n",
    "```\n",
    "\n",
    "> **<span style=\"color:green\">Answer:<span/>** WHNF"
   ]
  },
  {
   "cell_type": "markdown",
   "id": "bf8701f0",
   "metadata": {},
   "source": [
    "### Exercises: More Bottoms\n",
    "\n",
    "1. Will the following expression return a value or be `⊥`?\n",
    "\n",
    "```haskell\n",
    "take 1 $ map (+1) [undefined, 2, 3]\n",
    "```\n",
    "\n",
    "> **<span style=\"color:green\">Answer:</span>** The result is `⊥`."
   ]
  },
  {
   "cell_type": "code",
   "execution_count": 2,
   "id": "861c36d6",
   "metadata": {},
   "outputs": [
    {
     "ename": "",
     "evalue": "",
     "output_type": "error",
     "traceback": [
      "Prelude.undefined\nCallStack (from HasCallStack):\n  undefined, called at <interactive>:1:20 in interactive:Ghci27"
     ]
    }
   ],
   "source": [
    "take 1 $ map (+1) [undefined, 2, 3]"
   ]
  },
  {
   "cell_type": "markdown",
   "id": "144abb8c",
   "metadata": {},
   "source": [
    "2. Will the following expression return a value?\n",
    "\n",
    "```haskell\n",
    "take 1 $ map (+1) [1, undefined, 3]\n",
    "```\n",
    "\n",
    "> **<span style=\"color: green;\">Answer:</span>** The result will be `[2]`."
   ]
  },
  {
   "cell_type": "code",
   "execution_count": 4,
   "id": "16463335",
   "metadata": {},
   "outputs": [
    {
     "data": {
      "text/plain": [
       "[2]"
      ]
     },
     "metadata": {},
     "output_type": "display_data"
    }
   ],
   "source": [
    "take 1 $ map (+1) [1, undefined, 3]"
   ]
  },
  {
   "cell_type": "markdown",
   "id": "243b1c4b",
   "metadata": {},
   "source": [
    "3. Will the following expression return a value?\n",
    "\n",
    "```haskell\n",
    "take 2 $ map (+1) [1, undefined, 3]\n",
    "```\n",
    "\n",
    "> **<span style=\"color:green\">Answer:</span>** The result is `⊥`"
   ]
  },
  {
   "cell_type": "code",
   "execution_count": null,
   "id": "d92204be",
   "metadata": {},
   "outputs": [
    {
     "ename": "",
     "evalue": "",
     "output_type": "error",
     "traceback": [
      "Prelude.undefined\nCallStack (from HasCallStack):\n  undefined, called at <interactive>:1:23 in interactive:Ghci111"
     ]
    }
   ],
   "source": [
    "take 2 $ map (+1) [1, undefined, 3]"
   ]
  },
  {
   "cell_type": "markdown",
   "id": "84a64a61",
   "metadata": {},
   "source": [
    "4. What does the following mystery function do? What is its type? Describe it (to yourself or a loved one) in standard English and then test it out in the `REPL` to make sure you were correct.\n",
    "\n",
    "```haskell\n",
    "itIsMystery xs =\n",
    "    map (\\x -> elem x \"aeiou\") xs\n",
    "```\n",
    "\n",
    "> **<span style=\"color:green\">Answer:</span>** This function will get a string as input and return a list of booleans which represents whether each character in the string is a vowel or not. The type is `String -> [Bool]`"
   ]
  },
  {
   "cell_type": "markdown",
   "id": "035a5237",
   "metadata": {},
   "source": [
    "5. What will be the result of the following functions:\n",
    "\n",
    "- a) `map (^2) [1..10]`\n",
    "- b) `map minimum [[1..10], [10..20], [20..30]]`\n",
    "- c) `map sum [[1..5], [1..5], [1..5]]`\n",
    "\n",
    "> **<span style=\"color:green\">Answer:</span>**\n",
    "- a) This will get a list `[1..10]` and returns a list which each element is squared.\n",
    "- b) This will get a list os lists `[[1..10], [10..20], [20..30]]` and returns a list which each element is the minimum of the corresponding list.\n",
    "- c) This will get a list of list `[[1..5], [1..5], [1..5]]` and return a list which each element is the sum of the corresponding list."
   ]
  },
  {
   "cell_type": "markdown",
   "id": "ab777303",
   "metadata": {},
   "source": [
    "6. Back in chapter `7`, you wrote a function called `foldBool`. That function exists in a module known as `Data.Bool` and is called `bool`. Write a function that does the same (or similar, if you wish) as the `map` (`if-then-else`) function you saw above but uses `bool` instead of the `if-then-else` syntax. Your first step should be bringing the bool function into scope by typing import `Data.Bool` at your Prelude prompt."
   ]
  },
  {
   "cell_type": "code",
   "execution_count": null,
   "id": "f8443e1f",
   "metadata": {},
   "outputs": [
    {
     "data": {
      "text/plain": [
       "[1,2,-3,4,5,6,7,8,9,10]"
      ]
     },
     "metadata": {},
     "output_type": "display_data"
    }
   ],
   "source": [
    "import Data.Bool\n",
    "\n",
    "map (\\x -> bool x (-x) (x == 3) ) [1..10]"
   ]
  }
 ],
 "metadata": {
  "kernelspec": {
   "display_name": "Haskell",
   "language": "haskell",
   "name": "haskell"
  },
  "language_info": {
   "codemirror_mode": "ihaskell",
   "file_extension": ".hs",
   "mimetype": "text/x-haskell",
   "name": "haskell",
   "pygments_lexer": "Haskell",
   "version": "9.6.3"
  }
 },
 "nbformat": 4,
 "nbformat_minor": 5
}
