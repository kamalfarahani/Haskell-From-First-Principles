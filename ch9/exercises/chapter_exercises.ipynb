{
 "cells": [
  {
   "cell_type": "markdown",
   "id": "42942f92",
   "metadata": {},
   "source": [
    "## Chapter Exercises"
   ]
  },
  {
   "cell_type": "markdown",
   "id": "5e3fb724",
   "metadata": {},
   "source": [
    "### `Data.Char`\n",
    "\n",
    "These first few exercises are straightforward but will introduce you to\n",
    "some new library functions and review some of what we’ve learned\n",
    "so far. Some of the functions we will use here are not standard in\n",
    "Prelude and so have to be imported from a module called `Data.Char`.\n",
    "You may do so in a source file (recommended) or at the Prelude\n",
    "prompt with the same phrase: `import Data.Char` (write that at the top\n",
    "of your source file). This brings into scope a bunch of new standard\n",
    "functions we can play with that operate on Char and `String` types.\n",
    "\n",
    "1. Query the types of `isUpper` and `toUpper`.\n",
    "2. Given the following behaviors, which would we use to write a function that filters all the uppercase letters out of a `String`? Write that function such that, given the input `\"HbEfLrLxO\"`, your function will return `\"HELLO\".`\n",
    "```haskell\n",
    "Prelude Data.Char> isUpper 'J'\n",
    "True\n",
    "Prelude Data.Char> toUpper 'j'\n",
    "'J'\n",
    "```\n",
    "3. Write a function that will capitalize the first letter of a string and return the entire string. For example, if given the argument `\"julie\"`, it will return `\"Julie\"`.\n",
    "4. Now make a new version of that function that is recursive such that if you give it the input `“woot”` it will holler back at you `\"WOOT\"`. The type signature won’t change, but you will want to add a base case.\n",
    "5. To do the final exercise in this section, we’ll need another standard function for lists called `head`. Query the type of `head` and experiment with it to see what it does. Now write a function that will capitalize the first letter of a `String` and return only that letter as the result.\n",
    "6. Cool. Good work. Now rewrite it as a composed function. Then, for fun, rewrite it pointfree."
   ]
  },
  {
   "cell_type": "markdown",
   "id": "ac9b40a8",
   "metadata": {},
   "source": [
    "#### 1"
   ]
  },
  {
   "cell_type": "code",
   "execution_count": 1,
   "id": "45f45bd0",
   "metadata": {},
   "outputs": [],
   "source": [
    "import Data.Char"
   ]
  },
  {
   "cell_type": "code",
   "execution_count": 2,
   "id": "ac1c1370",
   "metadata": {},
   "outputs": [
    {
     "data": {
      "text/html": [
       "<style>/* Styles used for the Hoogle display in the pager */\n",
       ".hoogle-doc {\n",
       "display: block;\n",
       "padding-bottom: 1.3em;\n",
       "padding-left: 0.4em;\n",
       "}\n",
       ".hoogle-code {\n",
       "display: block;\n",
       "font-family: monospace;\n",
       "white-space: pre;\n",
       "}\n",
       ".hoogle-text {\n",
       "display: block;\n",
       "}\n",
       ".hoogle-name {\n",
       "color: green;\n",
       "font-weight: bold;\n",
       "}\n",
       ".hoogle-head {\n",
       "font-weight: bold;\n",
       "}\n",
       ".hoogle-sub {\n",
       "display: block;\n",
       "margin-left: 0.4em;\n",
       "}\n",
       ".hoogle-package {\n",
       "font-weight: bold;\n",
       "font-style: italic;\n",
       "}\n",
       ".hoogle-module {\n",
       "font-weight: bold;\n",
       "}\n",
       ".hoogle-class {\n",
       "font-weight: bold;\n",
       "}\n",
       "\n",
       ".get-type {\n",
       "color: green;\n",
       "font-weight: bold;\n",
       "font-family: monospace;\n",
       "display: block;\n",
       "white-space: pre-wrap;\n",
       "}\n",
       ".show-type {\n",
       "color: green;\n",
       "font-weight: bold;\n",
       "font-family: monospace;\n",
       "margin-left: 1em;\n",
       "}\n",
       ".mono {\n",
       "font-family: monospace;\n",
       "display: block;\n",
       "}\n",
       ".err-msg {\n",
       "color: red;\n",
       "font-style: italic;\n",
       "font-family: monospace;\n",
       "white-space: pre;\n",
       "display: block;\n",
       "}\n",
       "#unshowable {\n",
       "color: red;\n",
       "font-weight: bold;\n",
       "}\n",
       ".err-msg.in.collapse {\n",
       "padding-top: 0.7em;\n",
       "}\n",
       "\n",
       ".highlight-code {\n",
       "white-space: pre;\n",
       "font-family: monospace;\n",
       "}\n",
       "\n",
       ".suggestion-warning { \n",
       "font-weight: bold;\n",
       "color: rgb(200, 130, 0);\n",
       "}\n",
       ".suggestion-error { \n",
       "font-weight: bold;\n",
       "color: red;\n",
       "}\n",
       ".suggestion-name {\n",
       "font-weight: bold;\n",
       "}\n",
       "\n",
       "</style><span class='get-type'>isUpper :: Char -> Bool</span>"
      ],
      "text/plain": [
       "isUpper :: Char -> Bool"
      ]
     },
     "metadata": {},
     "output_type": "display_data"
    }
   ],
   "source": [
    ":t isUpper"
   ]
  },
  {
   "cell_type": "code",
   "execution_count": 3,
   "id": "1fcde94d",
   "metadata": {},
   "outputs": [
    {
     "data": {
      "text/html": [
       "<style>/* Styles used for the Hoogle display in the pager */\n",
       ".hoogle-doc {\n",
       "display: block;\n",
       "padding-bottom: 1.3em;\n",
       "padding-left: 0.4em;\n",
       "}\n",
       ".hoogle-code {\n",
       "display: block;\n",
       "font-family: monospace;\n",
       "white-space: pre;\n",
       "}\n",
       ".hoogle-text {\n",
       "display: block;\n",
       "}\n",
       ".hoogle-name {\n",
       "color: green;\n",
       "font-weight: bold;\n",
       "}\n",
       ".hoogle-head {\n",
       "font-weight: bold;\n",
       "}\n",
       ".hoogle-sub {\n",
       "display: block;\n",
       "margin-left: 0.4em;\n",
       "}\n",
       ".hoogle-package {\n",
       "font-weight: bold;\n",
       "font-style: italic;\n",
       "}\n",
       ".hoogle-module {\n",
       "font-weight: bold;\n",
       "}\n",
       ".hoogle-class {\n",
       "font-weight: bold;\n",
       "}\n",
       "\n",
       ".get-type {\n",
       "color: green;\n",
       "font-weight: bold;\n",
       "font-family: monospace;\n",
       "display: block;\n",
       "white-space: pre-wrap;\n",
       "}\n",
       ".show-type {\n",
       "color: green;\n",
       "font-weight: bold;\n",
       "font-family: monospace;\n",
       "margin-left: 1em;\n",
       "}\n",
       ".mono {\n",
       "font-family: monospace;\n",
       "display: block;\n",
       "}\n",
       ".err-msg {\n",
       "color: red;\n",
       "font-style: italic;\n",
       "font-family: monospace;\n",
       "white-space: pre;\n",
       "display: block;\n",
       "}\n",
       "#unshowable {\n",
       "color: red;\n",
       "font-weight: bold;\n",
       "}\n",
       ".err-msg.in.collapse {\n",
       "padding-top: 0.7em;\n",
       "}\n",
       "\n",
       ".highlight-code {\n",
       "white-space: pre;\n",
       "font-family: monospace;\n",
       "}\n",
       "\n",
       ".suggestion-warning { \n",
       "font-weight: bold;\n",
       "color: rgb(200, 130, 0);\n",
       "}\n",
       ".suggestion-error { \n",
       "font-weight: bold;\n",
       "color: red;\n",
       "}\n",
       ".suggestion-name {\n",
       "font-weight: bold;\n",
       "}\n",
       "\n",
       "</style><span class='get-type'>toUpper :: Char -> Char</span>"
      ],
      "text/plain": [
       "toUpper :: Char -> Char"
      ]
     },
     "metadata": {},
     "output_type": "display_data"
    }
   ],
   "source": [
    ":t toUpper"
   ]
  },
  {
   "cell_type": "markdown",
   "id": "f9b80964",
   "metadata": {},
   "source": [
    "#### 2"
   ]
  },
  {
   "cell_type": "code",
   "execution_count": 5,
   "id": "fc3e3938",
   "metadata": {},
   "outputs": [],
   "source": [
    "filterUpper :: String -> String\n",
    "filterUpper = filter isUpper"
   ]
  },
  {
   "cell_type": "code",
   "execution_count": 6,
   "id": "9eb7f7fe",
   "metadata": {},
   "outputs": [
    {
     "data": {
      "text/plain": [
       "\"HELLO\""
      ]
     },
     "metadata": {},
     "output_type": "display_data"
    }
   ],
   "source": [
    "filterUpper \"HbEfLrLxO\""
   ]
  },
  {
   "cell_type": "markdown",
   "id": "38c43e6f",
   "metadata": {},
   "source": [
    "#### 3"
   ]
  },
  {
   "cell_type": "code",
   "execution_count": 8,
   "id": "eea044ff",
   "metadata": {},
   "outputs": [],
   "source": [
    "capitalizeFirst :: String -> String\n",
    "capitalizeFirst (c:cs) = toUpper c : cs"
   ]
  },
  {
   "cell_type": "code",
   "execution_count": 9,
   "id": "e6a2e398",
   "metadata": {},
   "outputs": [
    {
     "data": {
      "text/plain": [
       "\"Julie\""
      ]
     },
     "metadata": {},
     "output_type": "display_data"
    }
   ],
   "source": [
    "capitalizeFirst \"julie\""
   ]
  },
  {
   "cell_type": "markdown",
   "id": "56c337bc",
   "metadata": {},
   "source": [
    "#### 4"
   ]
  },
  {
   "cell_type": "code",
   "execution_count": 10,
   "id": "3e562d36",
   "metadata": {},
   "outputs": [
    {
     "data": {
      "text/html": [
       "<style>/* Styles used for the Hoogle display in the pager */\n",
       ".hoogle-doc {\n",
       "display: block;\n",
       "padding-bottom: 1.3em;\n",
       "padding-left: 0.4em;\n",
       "}\n",
       ".hoogle-code {\n",
       "display: block;\n",
       "font-family: monospace;\n",
       "white-space: pre;\n",
       "}\n",
       ".hoogle-text {\n",
       "display: block;\n",
       "}\n",
       ".hoogle-name {\n",
       "color: green;\n",
       "font-weight: bold;\n",
       "}\n",
       ".hoogle-head {\n",
       "font-weight: bold;\n",
       "}\n",
       ".hoogle-sub {\n",
       "display: block;\n",
       "margin-left: 0.4em;\n",
       "}\n",
       ".hoogle-package {\n",
       "font-weight: bold;\n",
       "font-style: italic;\n",
       "}\n",
       ".hoogle-module {\n",
       "font-weight: bold;\n",
       "}\n",
       ".hoogle-class {\n",
       "font-weight: bold;\n",
       "}\n",
       "\n",
       ".get-type {\n",
       "color: green;\n",
       "font-weight: bold;\n",
       "font-family: monospace;\n",
       "display: block;\n",
       "white-space: pre-wrap;\n",
       "}\n",
       ".show-type {\n",
       "color: green;\n",
       "font-weight: bold;\n",
       "font-family: monospace;\n",
       "margin-left: 1em;\n",
       "}\n",
       ".mono {\n",
       "font-family: monospace;\n",
       "display: block;\n",
       "}\n",
       ".err-msg {\n",
       "color: red;\n",
       "font-style: italic;\n",
       "font-family: monospace;\n",
       "white-space: pre;\n",
       "display: block;\n",
       "}\n",
       "#unshowable {\n",
       "color: red;\n",
       "font-weight: bold;\n",
       "}\n",
       ".err-msg.in.collapse {\n",
       "padding-top: 0.7em;\n",
       "}\n",
       "\n",
       ".highlight-code {\n",
       "white-space: pre;\n",
       "font-family: monospace;\n",
       "}\n",
       "\n",
       ".suggestion-warning { \n",
       "font-weight: bold;\n",
       "color: rgb(200, 130, 0);\n",
       "}\n",
       ".suggestion-error { \n",
       "font-weight: bold;\n",
       "color: red;\n",
       "}\n",
       ".suggestion-name {\n",
       "font-weight: bold;\n",
       "}\n",
       "\n",
       "</style><div class=\"suggestion-name\" style=\"clear:both;\">Use map</div><div class=\"suggestion-row\" style=\"float: left;\"><div class=\"suggestion-warning\">Found:</div><div class=\"highlight-code\" id=\"haskell\">capitalize [] = []\n",
       "capitalize (c : cs) = toUpper c : capitalize cs</div></div><div class=\"suggestion-row\" style=\"float: left;\"><div class=\"suggestion-warning\">Why Not:</div><div class=\"highlight-code\" id=\"haskell\">capitalize cs = map toUpper cs</div></div>"
      ],
      "text/plain": [
       "Line 2: Use map\n",
       "Found:\n",
       "capitalize [] = []\n",
       "capitalize (c : cs) = toUpper c : capitalize cs\n",
       "Why not:\n",
       "capitalize cs = map toUpper cs"
      ]
     },
     "metadata": {},
     "output_type": "display_data"
    }
   ],
   "source": [
    "capitalize :: String -> String\n",
    "capitalize [] = []\n",
    "capitalize (c : cs) = toUpper c : capitalize cs"
   ]
  },
  {
   "cell_type": "code",
   "execution_count": 11,
   "id": "4910506a",
   "metadata": {},
   "outputs": [
    {
     "data": {
      "text/plain": [
       "\"HELLO, WORLD\""
      ]
     },
     "metadata": {},
     "output_type": "display_data"
    }
   ],
   "source": [
    "capitalize \"Hello, World\""
   ]
  },
  {
   "cell_type": "markdown",
   "id": "c1548112",
   "metadata": {},
   "source": [
    "#### 5"
   ]
  },
  {
   "cell_type": "code",
   "execution_count": 12,
   "id": "f3ab58c2",
   "metadata": {},
   "outputs": [],
   "source": [
    "firstCap :: String -> Char\n",
    "firstCap text = toUpper $ head text"
   ]
  },
  {
   "cell_type": "code",
   "execution_count": 13,
   "id": "7beb8adc",
   "metadata": {},
   "outputs": [
    {
     "data": {
      "text/plain": [
       "'H'"
      ]
     },
     "metadata": {},
     "output_type": "display_data"
    }
   ],
   "source": [
    "firstCap \"hello world\""
   ]
  },
  {
   "cell_type": "markdown",
   "id": "ff2b61f2",
   "metadata": {},
   "source": [
    "#### 6"
   ]
  },
  {
   "cell_type": "code",
   "execution_count": null,
   "id": "be4ecb57",
   "metadata": {},
   "outputs": [],
   "source": [
    "firstCapPointFree :: String -> Char\n",
    "firstCapPointFree = toUpper . head"
   ]
  },
  {
   "cell_type": "code",
   "execution_count": null,
   "id": "dbb660cd",
   "metadata": {
    "scrolled": true
   },
   "outputs": [
    {
     "data": {
      "text/plain": [
       "'H'"
      ]
     },
     "metadata": {},
     "output_type": "display_data"
    }
   ],
   "source": [
    "firstCapPointFree \"hello world\""
   ]
  },
  {
   "cell_type": "markdown",
   "id": "71d4a32b",
   "metadata": {},
   "source": [
    "### Ciphers\n",
    "\n",
    "We’ll still be using `Data.Char` for this next exercise. You should save\n",
    "these exercises in a module called `Cipher` because we’ll be coming\n",
    "back to them in later chapters. You’ll be writing a Caesar cipher for\n",
    "now, but we’ll suggest some variations on the basic program in later\n",
    "chapters.\n",
    "\n",
    "A Caesar cipher is a simple substitution cipher, in which each\n",
    "letter is replaced by the letter that is a fixed number of places down\n",
    "the alphabet from it. You will find variations on this all over the place\n",
    "— you can shift leftward or rightward, for any number of spaces. A\n",
    "rightward shift of `3` means that `'A'` will become `'D'` and `'B'` will become\n",
    "`'E'`, for example. If you did a leftward shift of `5`, then `'a'` would become\n",
    "`'v'` and so forth.\n",
    "Your goal in this exercise is to write a basic Caesar cipher that\n",
    "shifts rightward. You can start by having the number of spaces to\n",
    "shift fixed, but it’s more challenging to write a cipher that allows\n",
    "you to vary the number of shifts so that you can encode your secret\n",
    "messages differently each time.\n",
    "There are Caesar ciphers written in Haskell all over the internet,\n",
    "but to maximize the likelihood that you can write yours without\n",
    "peeking at those, we’ll provide a couple of tips. When yours is working the way you want it to, we would encourage you to then look around and compare your solution to others out there.\n",
    "\n",
    "The first lines of your text file should look like this:\n",
    "\n",
    "```haskell\n",
    "module Cipher where\n",
    "\n",
    "import Data.Char\n",
    "```\n",
    "\n",
    "`Data.Char` includes two functions called ord and chr that can be\n",
    "used to associate a `Char` with its `Int` representation in the Unicode\n",
    "system and vice versa:\n",
    "\n",
    "```haskell\n",
    "*Cipher> :t chr\n",
    "chr :: Int -> Char\n",
    "*Cipher> :t ord\n",
    "ord :: Char -> Int\n",
    "```\n",
    "\n",
    "Using these functions is optional; there are other ways you can\n",
    "proceed with shifting, but using `chr` and `ord` might simplify the process a bit.\n",
    "\n",
    "You want your shift to wrap back around to the beginning of the\n",
    "alphabet, so that if you have a rightward shift of `3` from `'z'` you end\n",
    "up back at `'c'` and not somewhere in the vast Unicode hinterlands.\n",
    "Depending on how you’ve set things up, this might be a bit tricky.\n",
    "Consider starting from a base character (e.g., `'a'`) and using `mod` to\n",
    "ensure you’re only shifting over the `26` standard characters of the\n",
    "English alphabet.\n",
    "You should include an `unCaesar` function that will decipher your\n",
    "text as well. In a later chapter, we will test it."
   ]
  },
  {
   "cell_type": "code",
   "execution_count": 51,
   "id": "bc2d708f",
   "metadata": {},
   "outputs": [],
   "source": [
    "import Data.Char\n",
    "\n",
    "caesar :: Int -> String -> String\n",
    "caesar n = map encode\n",
    "    where \n",
    "        encode c\n",
    "            | not (isAlpha c) = c\n",
    "            | isUpper c = toUpper coded\n",
    "            | otherwise = coded\n",
    "            where padding = ord 'a'\n",
    "                  c'      = toLower c\n",
    "                  coded   = chr $ (ord c' - padding + n) `mod` 26 + padding\n",
    "\n",
    "\n",
    "unCaesar :: Int -> String -> String\n",
    "unCaesar n = caesar (-n)"
   ]
  },
  {
   "cell_type": "code",
   "execution_count": 52,
   "id": "9526725b",
   "metadata": {},
   "outputs": [],
   "source": [
    "code = caesar 2 \"Hello World!\""
   ]
  },
  {
   "cell_type": "code",
   "execution_count": 53,
   "id": "335320f9",
   "metadata": {},
   "outputs": [
    {
     "data": {
      "text/plain": [
       "\"Jgnnq Yqtnf!\""
      ]
     },
     "metadata": {},
     "output_type": "display_data"
    }
   ],
   "source": [
    "print code"
   ]
  },
  {
   "cell_type": "code",
   "execution_count": 54,
   "id": "ac2b5d8f",
   "metadata": {},
   "outputs": [
    {
     "data": {
      "text/plain": [
       "\"Hello World!\""
      ]
     },
     "metadata": {},
     "output_type": "display_data"
    }
   ],
   "source": [
    "unCaesar 2 code"
   ]
  },
  {
   "cell_type": "markdown",
   "id": "ee15876c",
   "metadata": {},
   "source": [
    "### Writing your own standard functions\n",
    "\n",
    "Below are the outlines of some standard functions. The goal here is\n",
    "to write your own versions of these to gain a deeper understanding\n",
    "of recursion over lists and how to make functions flexible enough\n",
    "to accept a variety of inputs. You could figure out how to look up\n",
    "the answers, but you won’t do that because you know you’d only be\n",
    "cheating yourself out of the knowledge. Right?\n",
    "\n",
    "Let’s look at an example of what we’re after here. The `and` function can take a list of `Bool` values and returns `True` if and only if no\n",
    "values in the list are `False`. Here’s how you might write your own\n",
    "version of it:\n",
    "```haskell\n",
    "myAnd :: [Bool] -> Bool\n",
    "myAnd [] = True\n",
    "myAnd (x:xs) =\n",
    "    if x == False\n",
    "    then False\n",
    "    else myAnd xs\n",
    "\n",
    "-- direct recursion, using (&&)\n",
    "myAnd :: [Bool] -> Bool\n",
    "myAnd [] = True\n",
    "myAnd (x:xs) = x && myAnd xs\n",
    "```\n",
    "\n",
    "\n",
    "And now the fun begins:"
   ]
  },
  {
   "cell_type": "markdown",
   "id": "20c30d4e",
   "metadata": {},
   "source": [
    "1. `myOr` returns `True` if any `Bool` in the list is `True`.\n",
    "\n",
    "```haskell\n",
    "myOr :: [Bool] -> Bool\n",
    "myOr = undefined\n",
    "```"
   ]
  },
  {
   "cell_type": "code",
   "execution_count": 55,
   "id": "97f5f106",
   "metadata": {},
   "outputs": [
    {
     "data": {
      "text/html": [
       "<style>/* Styles used for the Hoogle display in the pager */\n",
       ".hoogle-doc {\n",
       "display: block;\n",
       "padding-bottom: 1.3em;\n",
       "padding-left: 0.4em;\n",
       "}\n",
       ".hoogle-code {\n",
       "display: block;\n",
       "font-family: monospace;\n",
       "white-space: pre;\n",
       "}\n",
       ".hoogle-text {\n",
       "display: block;\n",
       "}\n",
       ".hoogle-name {\n",
       "color: green;\n",
       "font-weight: bold;\n",
       "}\n",
       ".hoogle-head {\n",
       "font-weight: bold;\n",
       "}\n",
       ".hoogle-sub {\n",
       "display: block;\n",
       "margin-left: 0.4em;\n",
       "}\n",
       ".hoogle-package {\n",
       "font-weight: bold;\n",
       "font-style: italic;\n",
       "}\n",
       ".hoogle-module {\n",
       "font-weight: bold;\n",
       "}\n",
       ".hoogle-class {\n",
       "font-weight: bold;\n",
       "}\n",
       "\n",
       ".get-type {\n",
       "color: green;\n",
       "font-weight: bold;\n",
       "font-family: monospace;\n",
       "display: block;\n",
       "white-space: pre-wrap;\n",
       "}\n",
       ".show-type {\n",
       "color: green;\n",
       "font-weight: bold;\n",
       "font-family: monospace;\n",
       "margin-left: 1em;\n",
       "}\n",
       ".mono {\n",
       "font-family: monospace;\n",
       "display: block;\n",
       "}\n",
       ".err-msg {\n",
       "color: red;\n",
       "font-style: italic;\n",
       "font-family: monospace;\n",
       "white-space: pre;\n",
       "display: block;\n",
       "}\n",
       "#unshowable {\n",
       "color: red;\n",
       "font-weight: bold;\n",
       "}\n",
       ".err-msg.in.collapse {\n",
       "padding-top: 0.7em;\n",
       "}\n",
       "\n",
       ".highlight-code {\n",
       "white-space: pre;\n",
       "font-family: monospace;\n",
       "}\n",
       "\n",
       ".suggestion-warning { \n",
       "font-weight: bold;\n",
       "color: rgb(200, 130, 0);\n",
       "}\n",
       ".suggestion-error { \n",
       "font-weight: bold;\n",
       "color: red;\n",
       "}\n",
       ".suggestion-name {\n",
       "font-weight: bold;\n",
       "}\n",
       "\n",
       "</style><div class=\"suggestion-name\" style=\"clear:both;\">Use foldr</div><div class=\"suggestion-row\" style=\"float: left;\"><div class=\"suggestion-warning\">Found:</div><div class=\"highlight-code\" id=\"haskell\">myOr [] = False\n",
       "myOr (x : xs) = x || myOr xs</div></div><div class=\"suggestion-row\" style=\"float: left;\"><div class=\"suggestion-warning\">Why Not:</div><div class=\"highlight-code\" id=\"haskell\">myOr xs = foldr (||) False xs</div></div>"
      ],
      "text/plain": [
       "Line 2: Use foldr\n",
       "Found:\n",
       "myOr [] = False\n",
       "myOr (x : xs) = x || myOr xs\n",
       "Why not:\n",
       "myOr xs = foldr (||) False xs"
      ]
     },
     "metadata": {},
     "output_type": "display_data"
    }
   ],
   "source": [
    "myOr :: [Bool] -> Bool\n",
    "myOr [] = False\n",
    "myOr (x:xs) = x || myOr xs"
   ]
  },
  {
   "cell_type": "markdown",
   "id": "e15dede6",
   "metadata": {},
   "source": [
    "2. `myAny` returns `True` if `a -> Bool` applied to any of the values in the list returns `True`.\n",
    "```haskell\n",
    "myAny :: (a -> Bool) -> [a] -> Bool\n",
    "myAny = undefined\n",
    "```"
   ]
  },
  {
   "cell_type": "code",
   "execution_count": 60,
   "id": "9a14fc61",
   "metadata": {},
   "outputs": [
    {
     "data": {
      "text/html": [
       "<style>/* Styles used for the Hoogle display in the pager */\n",
       ".hoogle-doc {\n",
       "display: block;\n",
       "padding-bottom: 1.3em;\n",
       "padding-left: 0.4em;\n",
       "}\n",
       ".hoogle-code {\n",
       "display: block;\n",
       "font-family: monospace;\n",
       "white-space: pre;\n",
       "}\n",
       ".hoogle-text {\n",
       "display: block;\n",
       "}\n",
       ".hoogle-name {\n",
       "color: green;\n",
       "font-weight: bold;\n",
       "}\n",
       ".hoogle-head {\n",
       "font-weight: bold;\n",
       "}\n",
       ".hoogle-sub {\n",
       "display: block;\n",
       "margin-left: 0.4em;\n",
       "}\n",
       ".hoogle-package {\n",
       "font-weight: bold;\n",
       "font-style: italic;\n",
       "}\n",
       ".hoogle-module {\n",
       "font-weight: bold;\n",
       "}\n",
       ".hoogle-class {\n",
       "font-weight: bold;\n",
       "}\n",
       "\n",
       ".get-type {\n",
       "color: green;\n",
       "font-weight: bold;\n",
       "font-family: monospace;\n",
       "display: block;\n",
       "white-space: pre-wrap;\n",
       "}\n",
       ".show-type {\n",
       "color: green;\n",
       "font-weight: bold;\n",
       "font-family: monospace;\n",
       "margin-left: 1em;\n",
       "}\n",
       ".mono {\n",
       "font-family: monospace;\n",
       "display: block;\n",
       "}\n",
       ".err-msg {\n",
       "color: red;\n",
       "font-style: italic;\n",
       "font-family: monospace;\n",
       "white-space: pre;\n",
       "display: block;\n",
       "}\n",
       "#unshowable {\n",
       "color: red;\n",
       "font-weight: bold;\n",
       "}\n",
       ".err-msg.in.collapse {\n",
       "padding-top: 0.7em;\n",
       "}\n",
       "\n",
       ".highlight-code {\n",
       "white-space: pre;\n",
       "font-family: monospace;\n",
       "}\n",
       "\n",
       ".suggestion-warning { \n",
       "font-weight: bold;\n",
       "color: rgb(200, 130, 0);\n",
       "}\n",
       ".suggestion-error { \n",
       "font-weight: bold;\n",
       "color: red;\n",
       "}\n",
       ".suggestion-name {\n",
       "font-weight: bold;\n",
       "}\n",
       "\n",
       "</style><div class=\"suggestion-name\" style=\"clear:both;\">Use foldr</div><div class=\"suggestion-row\" style=\"float: left;\"><div class=\"suggestion-warning\">Found:</div><div class=\"highlight-code\" id=\"haskell\">myAny f [] = False\n",
       "myAny f (x : xs) = f x || myAny f xs</div></div><div class=\"suggestion-row\" style=\"float: left;\"><div class=\"suggestion-warning\">Why Not:</div><div class=\"highlight-code\" id=\"haskell\">myAny f xs = foldr ((||) . f) False xs</div></div>"
      ],
      "text/plain": [
       "Line 2: Use foldr\n",
       "Found:\n",
       "myAny f [] = False\n",
       "myAny f (x : xs) = f x || myAny f xs\n",
       "Why not:\n",
       "myAny f xs = foldr ((||) . f) False xs"
      ]
     },
     "metadata": {},
     "output_type": "display_data"
    }
   ],
   "source": [
    "myAny :: (a -> Bool) -> [a] -> Bool\n",
    "myAny f [] = False\n",
    "myAny f (x : xs) = f x || myAny f xs"
   ]
  },
  {
   "cell_type": "code",
   "execution_count": 61,
   "id": "69a18535",
   "metadata": {},
   "outputs": [
    {
     "data": {
      "text/plain": [
       "False"
      ]
     },
     "metadata": {},
     "output_type": "display_data"
    }
   ],
   "source": [
    "myAny even [1, 3, 5]"
   ]
  },
  {
   "cell_type": "code",
   "execution_count": 62,
   "id": "2ae8a772",
   "metadata": {},
   "outputs": [
    {
     "data": {
      "text/plain": [
       "True"
      ]
     },
     "metadata": {},
     "output_type": "display_data"
    }
   ],
   "source": [
    "myAny odd [1, 3, 5]"
   ]
  },
  {
   "cell_type": "markdown",
   "id": "62254025",
   "metadata": {},
   "source": [
    "3. After you write the recursive `myElem`, write another version that uses any. The built-in version of elem in GHC 7.10 and newer has a type that uses Foldable instead of the list type specifically. You can ignore that and write the concrete version that works only for list.\n",
    "\n",
    "```haskell\n",
    "myElem :: Eq a => a -> [a] -> Bool\n",
    "\n",
    "Prelude> myElem 1 [1..10]\n",
    "True\n",
    "Prelude> myElem 1 [2..10]\n",
    "False\n",
    "```"
   ]
  },
  {
   "cell_type": "code",
   "execution_count": 63,
   "id": "ba6f8643",
   "metadata": {},
   "outputs": [
    {
     "data": {
      "text/html": [
       "<style>/* Styles used for the Hoogle display in the pager */\n",
       ".hoogle-doc {\n",
       "display: block;\n",
       "padding-bottom: 1.3em;\n",
       "padding-left: 0.4em;\n",
       "}\n",
       ".hoogle-code {\n",
       "display: block;\n",
       "font-family: monospace;\n",
       "white-space: pre;\n",
       "}\n",
       ".hoogle-text {\n",
       "display: block;\n",
       "}\n",
       ".hoogle-name {\n",
       "color: green;\n",
       "font-weight: bold;\n",
       "}\n",
       ".hoogle-head {\n",
       "font-weight: bold;\n",
       "}\n",
       ".hoogle-sub {\n",
       "display: block;\n",
       "margin-left: 0.4em;\n",
       "}\n",
       ".hoogle-package {\n",
       "font-weight: bold;\n",
       "font-style: italic;\n",
       "}\n",
       ".hoogle-module {\n",
       "font-weight: bold;\n",
       "}\n",
       ".hoogle-class {\n",
       "font-weight: bold;\n",
       "}\n",
       "\n",
       ".get-type {\n",
       "color: green;\n",
       "font-weight: bold;\n",
       "font-family: monospace;\n",
       "display: block;\n",
       "white-space: pre-wrap;\n",
       "}\n",
       ".show-type {\n",
       "color: green;\n",
       "font-weight: bold;\n",
       "font-family: monospace;\n",
       "margin-left: 1em;\n",
       "}\n",
       ".mono {\n",
       "font-family: monospace;\n",
       "display: block;\n",
       "}\n",
       ".err-msg {\n",
       "color: red;\n",
       "font-style: italic;\n",
       "font-family: monospace;\n",
       "white-space: pre;\n",
       "display: block;\n",
       "}\n",
       "#unshowable {\n",
       "color: red;\n",
       "font-weight: bold;\n",
       "}\n",
       ".err-msg.in.collapse {\n",
       "padding-top: 0.7em;\n",
       "}\n",
       "\n",
       ".highlight-code {\n",
       "white-space: pre;\n",
       "font-family: monospace;\n",
       "}\n",
       "\n",
       ".suggestion-warning { \n",
       "font-weight: bold;\n",
       "color: rgb(200, 130, 0);\n",
       "}\n",
       ".suggestion-error { \n",
       "font-weight: bold;\n",
       "color: red;\n",
       "}\n",
       ".suggestion-name {\n",
       "font-weight: bold;\n",
       "}\n",
       "\n",
       "</style><div class=\"suggestion-name\" style=\"clear:both;\">Use foldr</div><div class=\"suggestion-row\" style=\"float: left;\"><div class=\"suggestion-warning\">Found:</div><div class=\"highlight-code\" id=\"haskell\">myElem y [] = False\n",
       "myElem y (x : xs) = y == x || myElem y xs</div></div><div class=\"suggestion-row\" style=\"float: left;\"><div class=\"suggestion-warning\">Why Not:</div><div class=\"highlight-code\" id=\"haskell\">myElem y xs = foldr (\\ x -> (||) (y == x)) False xs</div></div>"
      ],
      "text/plain": [
       "Line 2: Use foldr\n",
       "Found:\n",
       "myElem y [] = False\n",
       "myElem y (x : xs) = y == x || myElem y xs\n",
       "Why not:\n",
       "myElem y xs = foldr (\\ x -> (||) (y == x)) False xs"
      ]
     },
     "metadata": {},
     "output_type": "display_data"
    }
   ],
   "source": [
    "myElem :: Eq a => a -> [a] -> Bool\n",
    "myElem y [] = False\n",
    "myElem y (x : xs) = y == x || myElem y xs"
   ]
  },
  {
   "cell_type": "markdown",
   "id": "54d3244e",
   "metadata": {},
   "source": [
    "4. Implement myReverse.\n",
    "```haskell\n",
    "myReverse :: [a] -> [a]\n",
    "myReverse = undefined\n",
    "Prelude> myReverse \"blah\"\n",
    "\"halb\"\n",
    "Prelude> myReverse [1..5]\n",
    "[5,4,3,2,1]\n",
    "```"
   ]
  },
  {
   "cell_type": "code",
   "execution_count": 68,
   "id": "54e12a5d",
   "metadata": {},
   "outputs": [],
   "source": [
    "myReverse :: [a] -> [a]\n",
    "myReverse [] = []\n",
    "myReverse (x : xs) = myReverse xs ++ [x]"
   ]
  },
  {
   "cell_type": "code",
   "execution_count": null,
   "id": "42c5b554",
   "metadata": {},
   "outputs": [
    {
     "data": {
      "text/plain": [
       "[3,2,1]"
      ]
     },
     "metadata": {},
     "output_type": "display_data"
    }
   ],
   "source": [
    "myReverse [1, 2, 3]"
   ]
  }
 ],
 "metadata": {
  "kernelspec": {
   "display_name": "Haskell",
   "language": "haskell",
   "name": "haskell"
  },
  "language_info": {
   "codemirror_mode": "ihaskell",
   "file_extension": ".hs",
   "mimetype": "text/x-haskell",
   "name": "haskell",
   "pygments_lexer": "Haskell",
   "version": "9.6.4"
  }
 },
 "nbformat": 4,
 "nbformat_minor": 5
}
