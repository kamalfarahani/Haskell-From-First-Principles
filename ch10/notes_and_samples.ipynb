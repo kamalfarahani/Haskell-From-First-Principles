{
 "cells": [
  {
   "cell_type": "markdown",
   "id": "168fb9e3",
   "metadata": {},
   "source": [
    "## Folding lists\n",
    "\n",
    "Folds are a powerful concept in Haskell that allow you to process a `Foldable` and reduce it to a single value. There are two main fold functions: `foldl` and `foldr`. Both take a function, a starting value (accumulator), and a foldable as arguments. They differ in the order they apply the function to the elements of the foldable."
   ]
  },
  {
   "cell_type": "markdown",
   "id": "7e0ac5c9",
   "metadata": {},
   "source": [
    "### `foldr`\n",
    "\n",
    "**What is `foldr`?**\n",
    "\n",
    "`foldr` is a powerful function in Haskell's `Data.Foldable` class that allows you to \"fold\" a list (or any foldable structure) from right to left, applying a binary function to each element and an accumulator value. It accumulates a single result based on the function and the list elements.\n",
    "\n",
    "**Signature and Breakdown:**\n",
    "\n",
    "```haskell\n",
    "foldr :: Foldable t => (a -> b -> b) -> b -> t a -> b\n",
    "```\n",
    "\n",
    "- `(a -> b -> b)`: This represents the binary function you'll use. It takes two arguments:\n",
    "    - `a`: The current element being processed from the list.\n",
    "    - `b`: The accumulator value, which holds the result of the previous fold operations.\n",
    "- `b`: This is the initial accumulator value you provide, used as the starting point for the folding process.\n",
    "- `t a`: This represents the type of the foldable structure. In most cases, it'll be a list `[a]`. `foldr` works with various foldable structures like lists, strings, trees, etc.\n",
    "\n",
    "**How it Works:**\n",
    "\n",
    "`foldr` iterates through the list from right to left. In each iteration:\n",
    "\n",
    "1. It takes the last element (`a`) and the current accumulator value (`b`).\n",
    "2. It applies the provided binary function (`(a -> b -> b)`) to these two values.\n",
    "3. The result of the function call becomes the new accumulator value (`b`) for the next iteration.\n",
    "4. This process repeats until the entire list is processed.\n",
    "\n",
    "**Key Points:**\n",
    "\n",
    "- **Right-to-Left:** `foldr` starts with the last element and works its way towards the first, unlike `foldl` which starts from the first element.\n",
    "- **Accumulator:** The accumulator value accumulates the result of applying the function to each element.\n",
    "- **Empty List:** If the list is empty (`[]`), `foldr` simply returns the initial accumulator value (`b`) you provided.\n",
    "\n",
    "**Examples:**\n",
    "\n",
    "1. **Summing a List:**\n",
    "\n",
    "   ```haskell\n",
    "   sum xs = foldr (+) 0 xs\n",
    "\n",
    "   sum [1, 2, 3, 4]  -- Output: 10\n",
    "   ```\n",
    "\n",
    "   Here, `(+)` is the binary function that adds two numbers. It's applied to each element and the accumulator, accumulating the sum.\n",
    "\n",
    "2. **Reversing a List:**\n",
    "\n",
    "   ```haskell\n",
    "   reverse xs = foldr (\\x xs -> xs ++ [x]) [] xs\n",
    "\n",
    "   reverse [1, 2, 3, 4]  -- Output: [4,3,2,1]\n",
    "   ```\n",
    "\n",
    "   In this example, the function `(\\x xs -> xs ++ [x])` prepends the current element (`x`) to the existing accumulator (`xs`), which is initially an empty list (`[]`). This effectively builds a new list in reverse order.\n",
    "\n",
    "3. **Concatenating Strings:**\n",
    "\n",
    "   ```haskell\n",
    "   concatWords xs = foldr (++) \"\" xs\n",
    "\n",
    "   concatWords [\"hello\", \" \", \"world\"]  -- Output: \"hello world\"\n",
    "   ```\n",
    "\n",
    "   Here, `(++)` is used to concatenate strings. The empty string (`\"\"`) is the initial accumulator, and each word is appended to it using `(++)` in the function.\n",
    "\n",
    "4. **Custom Logic:**\n",
    "\n",
    "   ```haskell\n",
    "   filterEven xs = foldr (\\x acc -> if even x then x : acc else acc) [] xs\n",
    "\n",
    "   filterEven [1, 2, 3, 4, 5]  -- Output: [2, 4]\n",
    "   ```\n",
    "\n",
    "   This example defines a custom function that checks if an element is even and adds it to the accumulator (`acc`) if it is. This effectively filters out odd numbers from the list.\n",
    "\n",
    "**Implementation:**\n",
    "```haskell\n",
    "foldr :: (a -> b -> b) -> b -> [a] -> b\n",
    "foldr _ acc [] = y\n",
    "foldr f acc (x:xs) = f x (foldr f y xs)\n",
    "```\n",
    "**In Conclusion:**\n",
    "\n",
    "`foldr` is a versatile function that allows for concise and efficient manipulation of foldable structures in Haskell. By understanding its right-to-left folding approach and the role of the accumulator, you can write elegant code to achieve various tasks like summing, reversing, filtering, and more."
   ]
  },
  {
   "cell_type": "markdown",
   "id": "2230af7e",
   "metadata": {},
   "source": [
    "> **<span style=\"color:red\">Note: </span>** Given this two-stage process and nonstrict evaluation, if `f` doesn’t evaluate its second argument (rest of the fold), no more of the spine will be forced. One of the consequences of this is that `foldr` can avoid evaluating not only some or all of the values in the list, but some or all of the list’s spine as well! For this reason, `foldr` can be used with lists that are potentially infinite!"
   ]
  },
  {
   "cell_type": "code",
   "execution_count": 4,
   "id": "101a4dca",
   "metadata": {},
   "outputs": [
    {
     "data": {
      "text/plain": [
       "5050"
      ]
     },
     "metadata": {},
     "output_type": "display_data"
    }
   ],
   "source": [
    "foldr (\\x acc -> if x < 100 then x + acc else x) 0 [1..]"
   ]
  },
  {
   "cell_type": "code",
   "execution_count": 5,
   "id": "d8797b79",
   "metadata": {},
   "outputs": [],
   "source": [
    "myAny :: (a -> Bool) -> [a] -> Bool\n",
    "myAny f = foldr (\\x acc -> f x || acc) False"
   ]
  },
  {
   "cell_type": "code",
   "execution_count": 6,
   "id": "21f257e7",
   "metadata": {},
   "outputs": [
    {
     "data": {
      "text/plain": [
       "True"
      ]
     },
     "metadata": {},
     "output_type": "display_data"
    }
   ],
   "source": [
    "myAny even [1..]"
   ]
  },
  {
   "cell_type": "markdown",
   "id": "2cf3dacf",
   "metadata": {},
   "source": [
    "### `foldl`\n",
    "\n",
    "`foldl` is another powerful function in Haskell's `Data.Foldable` class, but unlike `foldr`, it processes a list (or any foldable structure) from left to right. It also accumulates a single result based on a binary function applied to each element and an accumulator value.\n",
    "\n",
    "**Signature and Breakdown:**\n",
    "\n",
    "```haskell\n",
    "foldl :: Foldable t => (a -> b -> b) -> b -> t a -> b\n",
    "```\n",
    "\n",
    "This signature matches `foldr`'s structure:\n",
    "\n",
    "- `(a -> b -> b)`: The binary function you'll use. It takes two arguments:\n",
    "    - `a`: The current element being processed from the list.\n",
    "    - `b`: The accumulator value, which holds the result of the previous fold operations.\n",
    "- `b`: This is the initial accumulator value you provide, used as the starting point for the folding process.\n",
    "- `t a`: This represents the type of the foldable structure. In most cases, it'll be a list `[a]`.\n",
    "\n",
    "**How it Works:**\n",
    "\n",
    "`foldl` iterates through the list from left to right. In each iteration:\n",
    "\n",
    "1. It takes the **current element** (`a`) and the **current accumulator value** (`b`).\n",
    "2. It applies the provided binary function (`(a -> b -> b)`) to these two values.\n",
    "3. The result of the function call becomes the **new accumulator value** (`b`) for the next iteration. This effectively accumulates the results as you move through the list.\n",
    "4. This process repeats until the entire list is processed.\n",
    "\n",
    "**Key Points:**\n",
    "\n",
    "- **Left-to-Right:** `foldl` starts with the first element and works its way to the last, unlike `foldr` which starts from the right.\n",
    "- **Accumulator:** The accumulator value accumulates the result of applying the function to each element and the previous accumulator.\n",
    "- **Empty List:** If the list is empty (`[]`), `foldl` simply returns the initial accumulator value (`b`) you provided.\n",
    "\n",
    "**Examples:**\n",
    "\n",
    "1. **Summing a List:**\n",
    "\n",
    "   ```haskell\n",
    "   sum xs = foldl (+) 0 xs\n",
    "\n",
    "   sum [1, 2, 3, 4]  -- Output: 10\n",
    "   ```\n",
    "\n",
    "   Here, `(+)` is still the binary function that adds two numbers. However, in `foldl`, it's applied to the current element and the current accumulator (which starts as 0). The sum is built up from left to right.\n",
    "\n",
    "2. **Concatenating Strings:**\n",
    "\n",
    "   ```haskell\n",
    "   import Data.String (concat)\n",
    "\n",
    "   concatWords xs = foldl (++) \"\" xs\n",
    "\n",
    "   concatWords [\"hello\", \" \", \"world\"]  -- Output: \"hello world\"\n",
    "   ```\n",
    "\n",
    "   Similarly, `(++)` is used to concatenate strings, but this time, the empty string (`\"\"`) is prepended to each element as we move through the list from left to right, resulting in the final concatenated string.\n",
    "\n",
    "3. **Finding the Maximum:**\n",
    "\n",
    "   ```haskell\n",
    "   maximum xs = foldl (\\x acc -> max x acc) minBound xs\n",
    "\n",
    "   maximum [3, 1, 4, 2]  -- Output: 4\n",
    "   ```\n",
    "\n",
    "   This example uses `max` to find the maximum element. `minBound` is the smallest possible value for the numeric type, serving as the initial accumulator. In each iteration, `max` compares the current element with the current maximum (stored in the accumulator) and updates it if necessary.\n",
    "\n",
    "4. **Custom Logic:**\n",
    "\n",
    "   ```haskell\n",
    "   filterEven xs = foldl (\\acc x -> if even x then acc ++ [x] else acc) [] xs\n",
    "\n",
    "   filterEven [1, 2, 3, 4, 5]  -- Output: [2, 4]\n",
    "   ```\n",
    "\n",
    "   Here, a custom function checks if an element is even. If it is, it appends the element to the accumulator (`acc`), which is initially an empty list (`[]`). This effectively builds a new list containing only even numbers.\n",
    "\n",
    "\n",
    "**Implementation For Lists:**\n",
    "\n",
    "```haskell\n",
    "foldl :: (a -> b -> b) -> b -> [a] -> b\n",
    "foldl _ acc [] = y\n",
    "foldl f acc (x:xs) = foldl f (f x y) xs\n",
    "```\n",
    "\n",
    "**In Conclusion:**\n",
    "\n",
    "`foldl` provides a powerful way to manipulate lists and other foldable structures in Haskell from left to right. Understanding its working principles and accumulator usage allows you to write concise and expressive code for various tasks like summing, concatenating, filtering, and more.\n",
    "\n",
    "> **<span style=\"color: red;\">Note:</span>** An important difference between `foldr` and `foldl` is that a left fold has the successive steps of the fold as its first argument. The next recursion of the spine isn’t intermediated by the folding function as it is in foldr, which also means recursion of the spine is unconditional.\n",
    "\n",
    "> **<span style=\"color: red;\">Note:</span>** In most cases, when you need a left fold, you should use `foldl'`. This function, called “fold-l-prime”, works the same except it is strict. In other words, it forces evaluation of the values inside cons cells as it traverses the spine, rather than accumulating unevaluated expressions for each element of the list. The strict evaluation here means it has less negative effect on performance over long lists."
   ]
  },
  {
   "cell_type": "code",
   "execution_count": 12,
   "id": "79145069",
   "metadata": {},
   "outputs": [],
   "source": [
    "concat = foldl (++) []"
   ]
  },
  {
   "cell_type": "markdown",
   "id": "fe98056d",
   "metadata": {},
   "source": [
    "In Haskell, `scanr` and `scanl` are higher-order functions that are used to perform cumulative calculations on lists. They are similar to the `foldr` and `foldl` functions, respectively, but they also return a list of intermediate results.\n",
    "\n",
    "1. `scanr` (right scan):\n",
    "   - The `scanr` function applies a binary function to the elements of a list from right to left, accumulating the results along the way.\n",
    "   - The resulting list contains all the intermediate results, starting from the rightmost element and ending with the final result.\n",
    "   - The general syntax of `scanr` is `scanr :: (a -> b -> b) -> b -> [a] -> [b]`.\n",
    "   - Here's an example that demonstrates the usage of `scanr`:\n",
    "\n",
    "```haskell\n",
    "-- Example: Calculate the cumulative sums of a list from right to left\n",
    "cumulativeSum :: [Int] -> [Int]\n",
    "cumulativeSum xs = scanr (+) 0 xs\n",
    "\n",
    "-- Usage:\n",
    "-- cumulativeSum [1, 2, 3, 4] => [10, 9, 7, 4, 0]\n",
    "\n",
    "-- Example: Calculate the factorial of each number in a list from right to left\n",
    "factorialList :: [Int] -> [Int]\n",
    "factorialList xs = scanr (*) 1 xs\n",
    "\n",
    "-- Usage:\n",
    "-- factorialList [1, 2, 3, 4] => [24, 24, 12, 4, 1]\n",
    "```\n",
    "\n",
    "2. `scanl` (left scan):\n",
    "   - The `scanl` function applies a binary function to the elements of a list from left to right, accumulating the results along the way.\n",
    "   - The resulting list contains all the intermediate results, starting from the leftmost element and ending with the final result.\n",
    "   - The general syntax of `scanl` is `scanl :: (b -> a -> b) -> b -> [a] -> [b]`.\n",
    "   - Here's an example that demonstrates the usage of `scanl`:\n",
    "\n",
    "```haskell\n",
    "-- Example: Calculate the cumulative sums of a list from left to right\n",
    "cumulativeSum :: [Int] -> [Int]\n",
    "cumulativeSum xs = scanl (+) 0 xs\n",
    "\n",
    "-- Usage:\n",
    "-- cumulativeSum [1, 2, 3, 4] => [0, 1, 3, 6, 10]\n",
    "\n",
    "-- Example: Calculate the factorial of each number in a list from left to right\n",
    "factorialList :: [Int] -> [Int]\n",
    "factorialList xs = scanl (*) 1 xs\n",
    "\n",
    "-- Usage:\n",
    "-- factorialList [1, 2, 3, 4] => [1, 1, 2, 6, 24]\n",
    "```\n",
    "\n",
    "Both `scanr` and `scanl` are useful when you need to track the intermediate results of a fold operation. They can be used to efficiently compute cumulative calculations on lists and provide a convenient way to analyze the transformation of values throughout the folding process."
   ]
  },
  {
   "cell_type": "code",
   "execution_count": 13,
   "id": "d7714107",
   "metadata": {},
   "outputs": [
    {
     "data": {
      "text/plain": [
       "[55,54,52,49,45,40,34,27,19,10,0]"
      ]
     },
     "metadata": {},
     "output_type": "display_data"
    }
   ],
   "source": [
    "scanr (+) 0 [1..10]"
   ]
  },
  {
   "cell_type": "code",
   "execution_count": 14,
   "id": "85863e09",
   "metadata": {},
   "outputs": [
    {
     "data": {
      "text/plain": [
       "[0,1,3,6,10,15,21,28,36,45,55]"
      ]
     },
     "metadata": {},
     "output_type": "display_data"
    }
   ],
   "source": [
    "scanl (+) 0 [1..10]"
   ]
  },
  {
   "cell_type": "markdown",
   "id": "629844ca",
   "metadata": {},
   "source": [
    "### Exercise: Understanding Folds\n",
    "\n",
    "1. `foldr (*) 1 [1..5]` will return the same result as which of the following:\n",
    "    - a) `flip (*) 1 [1..5]`\n",
    "    - b) `foldl (flip (*)) 1 [1..5]` ✅\n",
    "    - c) `foldl (*) 1 [1..5]` ✅"
   ]
  },
  {
   "cell_type": "markdown",
   "id": "58af1d59",
   "metadata": {},
   "source": [
    "2. Write out the evaluation steps for\n",
    "```haskell\n",
    "foldl (flip (*)) 1 [1..3]\n",
    "```\n",
    "\n",
    "> **<span style=\"color:green\">Answer</span>:**\n",
    "```haskell\n",
    "foldl (flip (*)) 1 [1..3] =\n",
    "foldl (flip (*)) (1 * 1) [2..3] =\n",
    "foldl (flip (*)) ((1 * 1) * 2) [3] =\n",
    "foldl (flip (*)) (((1 * 1) * 2) * 3) [] =\n",
    "(1 * 1) * 2 * 3 =\n",
    "6\n",
    "```"
   ]
  },
  {
   "cell_type": "markdown",
   "id": "a7d5ff84",
   "metadata": {},
   "source": [
    "3. One difference between `foldr` and `foldl` is:\n",
    "    - a) `foldr`, but not `foldl`, traverses the spine of a list from right to left\n",
    "    - b) `foldr`, but not `foldl`, always forces the rest of the fold\n",
    "    - c) `foldr`, but not `foldl`, associates to the right ✅\n",
    "    - d) `foldr`, but not `foldl`, is recursiv"
   ]
  },
  {
   "cell_type": "markdown",
   "id": "6bfb281d",
   "metadata": {},
   "source": [
    "4. Folds are catamorphisms, which means they are generally used to\n",
    "    - a) reduce structure ✅\n",
    "    - b) expand structure\n",
    "    - c) render you catatonic\n",
    "    - d) generate infinite data structures"
   ]
  },
  {
   "cell_type": "markdown",
   "id": "30d7933f",
   "metadata": {},
   "source": [
    "5. The following are simple folds very similar to what you’ve already seen, but each has at least one error. Please fix them and test in your `REPL`:\n",
    "\n",
    "    - a) `foldr (++) [\"woot\", \"WOOT\", \"woot\"]`\n",
    "    - b) `foldr max [] \"fear is the little death\"`\n",
    "    - c) `foldr and True [False, True]`\n",
    "    - d) This one is more subtle than the previous. Can it ever return a different answer? `foldr (||) True [False, True]`\n",
    "    - e) `foldl ((++) . show) \"\" [1..5]`\n",
    "    - f) `foldr const 'a' [1..5]`\n",
    "    - g) `foldr const 0 \"tacos\"`\n",
    "    - h) `foldl (flip const) 0 \"burritos\"`\n",
    "    - i) `foldl (flip const) 'z' [1..5]`"
   ]
  },
  {
   "cell_type": "code",
   "execution_count": 17,
   "id": "486f9ff0",
   "metadata": {},
   "outputs": [
    {
     "data": {
      "text/html": [
       "<style>/* Styles used for the Hoogle display in the pager */\n",
       ".hoogle-doc {\n",
       "display: block;\n",
       "padding-bottom: 1.3em;\n",
       "padding-left: 0.4em;\n",
       "}\n",
       ".hoogle-code {\n",
       "display: block;\n",
       "font-family: monospace;\n",
       "white-space: pre;\n",
       "}\n",
       ".hoogle-text {\n",
       "display: block;\n",
       "}\n",
       ".hoogle-name {\n",
       "color: green;\n",
       "font-weight: bold;\n",
       "}\n",
       ".hoogle-head {\n",
       "font-weight: bold;\n",
       "}\n",
       ".hoogle-sub {\n",
       "display: block;\n",
       "margin-left: 0.4em;\n",
       "}\n",
       ".hoogle-package {\n",
       "font-weight: bold;\n",
       "font-style: italic;\n",
       "}\n",
       ".hoogle-module {\n",
       "font-weight: bold;\n",
       "}\n",
       ".hoogle-class {\n",
       "font-weight: bold;\n",
       "}\n",
       "\n",
       ".get-type {\n",
       "color: green;\n",
       "font-weight: bold;\n",
       "font-family: monospace;\n",
       "display: block;\n",
       "white-space: pre-wrap;\n",
       "}\n",
       ".show-type {\n",
       "color: green;\n",
       "font-weight: bold;\n",
       "font-family: monospace;\n",
       "margin-left: 1em;\n",
       "}\n",
       ".mono {\n",
       "font-family: monospace;\n",
       "display: block;\n",
       "}\n",
       ".err-msg {\n",
       "color: red;\n",
       "font-style: italic;\n",
       "font-family: monospace;\n",
       "white-space: pre;\n",
       "display: block;\n",
       "}\n",
       "#unshowable {\n",
       "color: red;\n",
       "font-weight: bold;\n",
       "}\n",
       ".err-msg.in.collapse {\n",
       "padding-top: 0.7em;\n",
       "}\n",
       "\n",
       ".highlight-code {\n",
       "white-space: pre;\n",
       "font-family: monospace;\n",
       "}\n",
       "\n",
       ".suggestion-warning { \n",
       "font-weight: bold;\n",
       "color: rgb(200, 130, 0);\n",
       "}\n",
       ".suggestion-error { \n",
       "font-weight: bold;\n",
       "color: red;\n",
       "}\n",
       ".suggestion-name {\n",
       "font-weight: bold;\n",
       "}\n",
       "\n",
       "</style><div class=\"suggestion-name\" style=\"clear:both;\">Use concat</div><div class=\"suggestion-row\" style=\"float: left;\"><div class=\"suggestion-warning\">Found:</div><div class=\"highlight-code\" id=\"haskell\">foldr (++) []</div></div><div class=\"suggestion-row\" style=\"float: left;\"><div class=\"suggestion-warning\">Why Not:</div><div class=\"highlight-code\" id=\"haskell\">concat</div></div>"
      ],
      "text/plain": [
       "Line 1: Use concat\n",
       "Found:\n",
       "foldr (++) []\n",
       "Why not:\n",
       "concat"
      ]
     },
     "metadata": {},
     "output_type": "display_data"
    },
    {
     "data": {
      "text/plain": [
       "\"wootWOOTwoot\""
      ]
     },
     "metadata": {},
     "output_type": "display_data"
    }
   ],
   "source": [
    "foldr (++) [] [\"woot\", \"WOOT\", \"woot\"]"
   ]
  },
  {
   "cell_type": "code",
   "execution_count": 21,
   "id": "a69eea4f",
   "metadata": {},
   "outputs": [
    {
     "data": {
      "text/plain": [
       "'t'"
      ]
     },
     "metadata": {},
     "output_type": "display_data"
    }
   ],
   "source": [
    "foldr max 'a' \"fear is the little death\""
   ]
  },
  {
   "cell_type": "code",
   "execution_count": 22,
   "id": "b103bc4c",
   "metadata": {},
   "outputs": [
    {
     "data": {
      "text/html": [
       "<style>/* Styles used for the Hoogle display in the pager */\n",
       ".hoogle-doc {\n",
       "display: block;\n",
       "padding-bottom: 1.3em;\n",
       "padding-left: 0.4em;\n",
       "}\n",
       ".hoogle-code {\n",
       "display: block;\n",
       "font-family: monospace;\n",
       "white-space: pre;\n",
       "}\n",
       ".hoogle-text {\n",
       "display: block;\n",
       "}\n",
       ".hoogle-name {\n",
       "color: green;\n",
       "font-weight: bold;\n",
       "}\n",
       ".hoogle-head {\n",
       "font-weight: bold;\n",
       "}\n",
       ".hoogle-sub {\n",
       "display: block;\n",
       "margin-left: 0.4em;\n",
       "}\n",
       ".hoogle-package {\n",
       "font-weight: bold;\n",
       "font-style: italic;\n",
       "}\n",
       ".hoogle-module {\n",
       "font-weight: bold;\n",
       "}\n",
       ".hoogle-class {\n",
       "font-weight: bold;\n",
       "}\n",
       "\n",
       ".get-type {\n",
       "color: green;\n",
       "font-weight: bold;\n",
       "font-family: monospace;\n",
       "display: block;\n",
       "white-space: pre-wrap;\n",
       "}\n",
       ".show-type {\n",
       "color: green;\n",
       "font-weight: bold;\n",
       "font-family: monospace;\n",
       "margin-left: 1em;\n",
       "}\n",
       ".mono {\n",
       "font-family: monospace;\n",
       "display: block;\n",
       "}\n",
       ".err-msg {\n",
       "color: red;\n",
       "font-style: italic;\n",
       "font-family: monospace;\n",
       "white-space: pre;\n",
       "display: block;\n",
       "}\n",
       "#unshowable {\n",
       "color: red;\n",
       "font-weight: bold;\n",
       "}\n",
       ".err-msg.in.collapse {\n",
       "padding-top: 0.7em;\n",
       "}\n",
       "\n",
       ".highlight-code {\n",
       "white-space: pre;\n",
       "font-family: monospace;\n",
       "}\n",
       "\n",
       ".suggestion-warning { \n",
       "font-weight: bold;\n",
       "color: rgb(200, 130, 0);\n",
       "}\n",
       ".suggestion-error { \n",
       "font-weight: bold;\n",
       "color: red;\n",
       "}\n",
       ".suggestion-name {\n",
       "font-weight: bold;\n",
       "}\n",
       "\n",
       "</style><div class=\"suggestion-name\" style=\"clear:both;\">Use and</div><div class=\"suggestion-row\" style=\"float: left;\"><div class=\"suggestion-warning\">Found:</div><div class=\"highlight-code\" id=\"haskell\">foldr (&&) True</div></div><div class=\"suggestion-row\" style=\"float: left;\"><div class=\"suggestion-warning\">Why Not:</div><div class=\"highlight-code\" id=\"haskell\">and</div></div>"
      ],
      "text/plain": [
       "Line 1: Use and\n",
       "Found:\n",
       "foldr (&&) True\n",
       "Why not:\n",
       "and"
      ]
     },
     "metadata": {},
     "output_type": "display_data"
    },
    {
     "data": {
      "text/plain": [
       "False"
      ]
     },
     "metadata": {},
     "output_type": "display_data"
    }
   ],
   "source": [
    "foldr (&&) True [False, True]"
   ]
  },
  {
   "cell_type": "code",
   "execution_count": 24,
   "id": "d9843f83",
   "metadata": {},
   "outputs": [
    {
     "data": {
      "text/html": [
       "<style>/* Styles used for the Hoogle display in the pager */\n",
       ".hoogle-doc {\n",
       "display: block;\n",
       "padding-bottom: 1.3em;\n",
       "padding-left: 0.4em;\n",
       "}\n",
       ".hoogle-code {\n",
       "display: block;\n",
       "font-family: monospace;\n",
       "white-space: pre;\n",
       "}\n",
       ".hoogle-text {\n",
       "display: block;\n",
       "}\n",
       ".hoogle-name {\n",
       "color: green;\n",
       "font-weight: bold;\n",
       "}\n",
       ".hoogle-head {\n",
       "font-weight: bold;\n",
       "}\n",
       ".hoogle-sub {\n",
       "display: block;\n",
       "margin-left: 0.4em;\n",
       "}\n",
       ".hoogle-package {\n",
       "font-weight: bold;\n",
       "font-style: italic;\n",
       "}\n",
       ".hoogle-module {\n",
       "font-weight: bold;\n",
       "}\n",
       ".hoogle-class {\n",
       "font-weight: bold;\n",
       "}\n",
       "\n",
       ".get-type {\n",
       "color: green;\n",
       "font-weight: bold;\n",
       "font-family: monospace;\n",
       "display: block;\n",
       "white-space: pre-wrap;\n",
       "}\n",
       ".show-type {\n",
       "color: green;\n",
       "font-weight: bold;\n",
       "font-family: monospace;\n",
       "margin-left: 1em;\n",
       "}\n",
       ".mono {\n",
       "font-family: monospace;\n",
       "display: block;\n",
       "}\n",
       ".err-msg {\n",
       "color: red;\n",
       "font-style: italic;\n",
       "font-family: monospace;\n",
       "white-space: pre;\n",
       "display: block;\n",
       "}\n",
       "#unshowable {\n",
       "color: red;\n",
       "font-weight: bold;\n",
       "}\n",
       ".err-msg.in.collapse {\n",
       "padding-top: 0.7em;\n",
       "}\n",
       "\n",
       ".highlight-code {\n",
       "white-space: pre;\n",
       "font-family: monospace;\n",
       "}\n",
       "\n",
       ".suggestion-warning { \n",
       "font-weight: bold;\n",
       "color: rgb(200, 130, 0);\n",
       "}\n",
       ".suggestion-error { \n",
       "font-weight: bold;\n",
       "color: red;\n",
       "}\n",
       ".suggestion-name {\n",
       "font-weight: bold;\n",
       "}\n",
       "\n",
       "</style><div class=\"suggestion-name\" style=\"clear:both;\">Use or</div><div class=\"suggestion-row\" style=\"float: left;\"><div class=\"suggestion-warning\">Found:</div><div class=\"highlight-code\" id=\"haskell\">foldr (||) False</div></div><div class=\"suggestion-row\" style=\"float: left;\"><div class=\"suggestion-warning\">Why Not:</div><div class=\"highlight-code\" id=\"haskell\">or</div></div>"
      ],
      "text/plain": [
       "Line 1: Use or\n",
       "Found:\n",
       "foldr (||) False\n",
       "Why not:\n",
       "or"
      ]
     },
     "metadata": {},
     "output_type": "display_data"
    },
    {
     "data": {
      "text/plain": [
       "True"
      ]
     },
     "metadata": {},
     "output_type": "display_data"
    }
   ],
   "source": [
    "foldr (||) False [False, True]"
   ]
  },
  {
   "cell_type": "code",
   "execution_count": 27,
   "id": "7747e35c",
   "metadata": {},
   "outputs": [
    {
     "data": {
      "text/plain": [
       "\"12345\""
      ]
     },
     "metadata": {},
     "output_type": "display_data"
    }
   ],
   "source": [
    "foldl (\\acc -> (acc ++) . show ) \"\" [1..5]"
   ]
  },
  {
   "cell_type": "code",
   "execution_count": 36,
   "id": "2eb95865",
   "metadata": {},
   "outputs": [
    {
     "data": {
      "text/html": [
       "<style>/* Styles used for the Hoogle display in the pager */\n",
       ".hoogle-doc {\n",
       "display: block;\n",
       "padding-bottom: 1.3em;\n",
       "padding-left: 0.4em;\n",
       "}\n",
       ".hoogle-code {\n",
       "display: block;\n",
       "font-family: monospace;\n",
       "white-space: pre;\n",
       "}\n",
       ".hoogle-text {\n",
       "display: block;\n",
       "}\n",
       ".hoogle-name {\n",
       "color: green;\n",
       "font-weight: bold;\n",
       "}\n",
       ".hoogle-head {\n",
       "font-weight: bold;\n",
       "}\n",
       ".hoogle-sub {\n",
       "display: block;\n",
       "margin-left: 0.4em;\n",
       "}\n",
       ".hoogle-package {\n",
       "font-weight: bold;\n",
       "font-style: italic;\n",
       "}\n",
       ".hoogle-module {\n",
       "font-weight: bold;\n",
       "}\n",
       ".hoogle-class {\n",
       "font-weight: bold;\n",
       "}\n",
       "\n",
       ".get-type {\n",
       "color: green;\n",
       "font-weight: bold;\n",
       "font-family: monospace;\n",
       "display: block;\n",
       "white-space: pre-wrap;\n",
       "}\n",
       ".show-type {\n",
       "color: green;\n",
       "font-weight: bold;\n",
       "font-family: monospace;\n",
       "margin-left: 1em;\n",
       "}\n",
       ".mono {\n",
       "font-family: monospace;\n",
       "display: block;\n",
       "}\n",
       ".err-msg {\n",
       "color: red;\n",
       "font-style: italic;\n",
       "font-family: monospace;\n",
       "white-space: pre;\n",
       "display: block;\n",
       "}\n",
       "#unshowable {\n",
       "color: red;\n",
       "font-weight: bold;\n",
       "}\n",
       ".err-msg.in.collapse {\n",
       "padding-top: 0.7em;\n",
       "}\n",
       "\n",
       ".highlight-code {\n",
       "white-space: pre;\n",
       "font-family: monospace;\n",
       "}\n",
       "\n",
       ".suggestion-warning { \n",
       "font-weight: bold;\n",
       "color: rgb(200, 130, 0);\n",
       "}\n",
       ".suggestion-error { \n",
       "font-weight: bold;\n",
       "color: red;\n",
       "}\n",
       ".suggestion-name {\n",
       "font-weight: bold;\n",
       "}\n",
       "\n",
       "</style><div class=\"suggestion-name\" style=\"clear:both;\">Redundant flip</div><div class=\"suggestion-row\" style=\"float: left;\"><div class=\"suggestion-warning\">Found:</div><div class=\"highlight-code\" id=\"haskell\">flip const</div></div><div class=\"suggestion-row\" style=\"float: left;\"><div class=\"suggestion-warning\">Why Not:</div><div class=\"highlight-code\" id=\"haskell\">\\ _ x -> x</div></div>"
      ],
      "text/plain": [
       "Line 1: Redundant flip\n",
       "Found:\n",
       "flip const\n",
       "Why not:\n",
       "\\ _ x -> x"
      ]
     },
     "metadata": {},
     "output_type": "display_data"
    },
    {
     "data": {
      "text/plain": [
       "'a'"
      ]
     },
     "metadata": {},
     "output_type": "display_data"
    }
   ],
   "source": [
    "foldr (flip const) 'a' [1..5]"
   ]
  },
  {
   "cell_type": "code",
   "execution_count": 37,
   "id": "8cc95628",
   "metadata": {},
   "outputs": [
    {
     "data": {
      "text/html": [
       "<style>/* Styles used for the Hoogle display in the pager */\n",
       ".hoogle-doc {\n",
       "display: block;\n",
       "padding-bottom: 1.3em;\n",
       "padding-left: 0.4em;\n",
       "}\n",
       ".hoogle-code {\n",
       "display: block;\n",
       "font-family: monospace;\n",
       "white-space: pre;\n",
       "}\n",
       ".hoogle-text {\n",
       "display: block;\n",
       "}\n",
       ".hoogle-name {\n",
       "color: green;\n",
       "font-weight: bold;\n",
       "}\n",
       ".hoogle-head {\n",
       "font-weight: bold;\n",
       "}\n",
       ".hoogle-sub {\n",
       "display: block;\n",
       "margin-left: 0.4em;\n",
       "}\n",
       ".hoogle-package {\n",
       "font-weight: bold;\n",
       "font-style: italic;\n",
       "}\n",
       ".hoogle-module {\n",
       "font-weight: bold;\n",
       "}\n",
       ".hoogle-class {\n",
       "font-weight: bold;\n",
       "}\n",
       "\n",
       ".get-type {\n",
       "color: green;\n",
       "font-weight: bold;\n",
       "font-family: monospace;\n",
       "display: block;\n",
       "white-space: pre-wrap;\n",
       "}\n",
       ".show-type {\n",
       "color: green;\n",
       "font-weight: bold;\n",
       "font-family: monospace;\n",
       "margin-left: 1em;\n",
       "}\n",
       ".mono {\n",
       "font-family: monospace;\n",
       "display: block;\n",
       "}\n",
       ".err-msg {\n",
       "color: red;\n",
       "font-style: italic;\n",
       "font-family: monospace;\n",
       "white-space: pre;\n",
       "display: block;\n",
       "}\n",
       "#unshowable {\n",
       "color: red;\n",
       "font-weight: bold;\n",
       "}\n",
       ".err-msg.in.collapse {\n",
       "padding-top: 0.7em;\n",
       "}\n",
       "\n",
       ".highlight-code {\n",
       "white-space: pre;\n",
       "font-family: monospace;\n",
       "}\n",
       "\n",
       ".suggestion-warning { \n",
       "font-weight: bold;\n",
       "color: rgb(200, 130, 0);\n",
       "}\n",
       ".suggestion-error { \n",
       "font-weight: bold;\n",
       "color: red;\n",
       "}\n",
       ".suggestion-name {\n",
       "font-weight: bold;\n",
       "}\n",
       "\n",
       "</style><div class=\"suggestion-name\" style=\"clear:both;\">Redundant flip</div><div class=\"suggestion-row\" style=\"float: left;\"><div class=\"suggestion-warning\">Found:</div><div class=\"highlight-code\" id=\"haskell\">flip const</div></div><div class=\"suggestion-row\" style=\"float: left;\"><div class=\"suggestion-warning\">Why Not:</div><div class=\"highlight-code\" id=\"haskell\">\\ _ x -> x</div></div>"
      ],
      "text/plain": [
       "Line 1: Redundant flip\n",
       "Found:\n",
       "flip const\n",
       "Why not:\n",
       "\\ _ x -> x"
      ]
     },
     "metadata": {},
     "output_type": "display_data"
    },
    {
     "data": {
      "text/plain": [
       "0"
      ]
     },
     "metadata": {},
     "output_type": "display_data"
    }
   ],
   "source": [
    "foldr (flip const) 0 \"tacos\""
   ]
  },
  {
   "cell_type": "code",
   "execution_count": 38,
   "id": "6ca2ca26",
   "metadata": {},
   "outputs": [
    {
     "data": {
      "text/plain": [
       "0"
      ]
     },
     "metadata": {},
     "output_type": "display_data"
    }
   ],
   "source": [
    "foldl const 0 \"burritos\""
   ]
  },
  {
   "cell_type": "code",
   "execution_count": 40,
   "id": "1eb84787",
   "metadata": {},
   "outputs": [
    {
     "data": {
      "text/plain": [
       "'z'"
      ]
     },
     "metadata": {},
     "output_type": "display_data"
    }
   ],
   "source": [
    "foldl const 'z' [1..5]"
   ]
  },
  {
   "cell_type": "markdown",
   "id": "3f2bb6f6",
   "metadata": {},
   "source": [
    "### Exercises: Database Processing\n",
    "\n",
    "Write the following functions for processing this data.\n",
    "\n",
    "```haskell\n",
    "import Data.Time\n",
    "\n",
    "data DatabaseItem = \n",
    "    DbString String | DbNumber Integer | DbDate UTCTime deriving (Eq, Ord, Show)\n",
    "\n",
    "theDatabase :: [DatabaseItem]\n",
    "theDatabase =\n",
    "    [ DbDate (UTCTime\n",
    "          (fromGregorian 1911 5 1)\n",
    "          (secondsToDiffTime 34123))\n",
    "    , DbNumber 9001\n",
    "    , DbString \"Hello, world!\"\n",
    "    , DbDate (UTCTime\n",
    "        (fromGregorian 1921 5 1)\n",
    "        (secondsToDiffTime 34123))\n",
    "    ]\n",
    "```\n",
    "\n",
    "1. Write a function that filters for `DbDate` values and returns a list of the `UTCTime` values inside them.\n",
    "```haskell\n",
    "filterDbDate :: [DatabaseItem] -> [UTCTime]\n",
    "filterDbDate = undefine\n",
    "```\n",
    "\n",
    "2. Write a function that filters for `DbNumber` values and returns a list of the `Integer` values inside them.\n",
    "```haskell\n",
    "filterDbNumber :: [DatabaseItem] -> [Integer]\n",
    "filterDbNumber = undefine\n",
    "```\n",
    "\n",
    "3. Write a function that gets the most recent date.\n",
    "```haskell\n",
    "mostRecent :: [DatabaseItem] -> UTCTime\n",
    "mostRecent = undefine\n",
    "```\n",
    "\n",
    "4. Write a function that sums all of the `DbNumber` values.\n",
    "```haskell\n",
    "sumDb :: [DatabaseItem] -> Integer\n",
    "sumDb = undefine\n",
    "```\n",
    "\n",
    "5. Write a function that gets the average of the `DbNumber` values.\n",
    "```haskell\n",
    "avgDb :: [DatabaseItem] -> Double\n",
    "avgDb = undefine\n",
    "```"
   ]
  },
  {
   "cell_type": "code",
   "execution_count": 7,
   "id": "b70634ba",
   "metadata": {},
   "outputs": [],
   "source": [
    "import Data.Time\n",
    "\n",
    "data DatabaseItem = \n",
    "    DbString String | DbNumber Integer | DbDate UTCTime deriving (Eq, Ord, Show)\n",
    "\n",
    "theDatabase :: [DatabaseItem]\n",
    "theDatabase = [\n",
    "    DbDate (UTCTime\n",
    "        (fromGregorian 1911 5 1)\n",
    "        (secondsToDiffTime 34123))\n",
    "    , DbNumber 9001\n",
    "    , DbString \"Hello, world!\"\n",
    "    , DbDate (UTCTime\n",
    "        (fromGregorian 1921 5 1)\n",
    "        (secondsToDiffTime 34123))\n",
    "    ]\n",
    "\n",
    "\n",
    "filterDbDate :: [DatabaseItem] -> [UTCTime]\n",
    "filterDbDate = \n",
    "    map (\\(DbDate x) -> x) . filter isDbDate . filter isDbDate\n",
    "    where\n",
    "        isDbDate :: DatabaseItem -> Bool\n",
    "        isDbDate (DbDate _) = True\n",
    "        isDbDate _ = False\n",
    "\n",
    "\n",
    "filterDbNumber :: [DatabaseItem] -> [Integer]\n",
    "filterDbNumber = \n",
    "    map (\\(DbNumber x) -> x) . filter isDbNumber\n",
    "    where\n",
    "        isDbNumber :: DatabaseItem -> Bool\n",
    "        isDbNumber (DbNumber _) = True\n",
    "        isDbNumber _ = False\n",
    "\n",
    "\n",
    "mostRecent :: [DatabaseItem] -> UTCTime\n",
    "mostRecent = \n",
    "    maximum . filterDbDate\n",
    "\n",
    "\n",
    "averageDb :: [DatabaseItem] -> Double\n",
    "averageDb = average . filterDbNumber\n",
    "    where\n",
    "        average :: [Integer] -> Double\n",
    "        average xs = fromIntegral (sum xs) / fromIntegral (length xs)"
   ]
  },
  {
   "cell_type": "code",
   "execution_count": 8,
   "id": "2cd2ad34",
   "metadata": {},
   "outputs": [
    {
     "data": {
      "text/plain": [
       "[1911-05-01 09:28:43 UTC,1921-05-01 09:28:43 UTC]"
      ]
     },
     "metadata": {},
     "output_type": "display_data"
    }
   ],
   "source": [
    "filterDbDate theDatabase"
   ]
  },
  {
   "cell_type": "code",
   "execution_count": null,
   "id": "2358bc7c",
   "metadata": {},
   "outputs": [
    {
     "data": {
      "text/plain": [
       "[9001]"
      ]
     },
     "metadata": {},
     "output_type": "display_data"
    }
   ],
   "source": [
    "filterDbNumber theDatabase"
   ]
  },
  {
   "cell_type": "code",
   "execution_count": null,
   "id": "bffad77d",
   "metadata": {},
   "outputs": [],
   "source": [
    "mostRecent "
   ]
  }
 ],
 "metadata": {
  "kernelspec": {
   "display_name": "Haskell",
   "language": "haskell",
   "name": "haskell"
  },
  "language_info": {
   "codemirror_mode": "ihaskell",
   "file_extension": ".hs",
   "mimetype": "text/x-haskell",
   "name": "haskell",
   "pygments_lexer": "Haskell",
   "version": "9.6.4"
  }
 },
 "nbformat": 4,
 "nbformat_minor": 5
}
