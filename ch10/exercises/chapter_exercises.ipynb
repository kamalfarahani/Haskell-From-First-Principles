{
 "cells": [
  {
   "cell_type": "markdown",
   "id": "0e512a28",
   "metadata": {},
   "source": [
    "## Chapter Exercises"
   ]
  },
  {
   "cell_type": "markdown",
   "id": "dbf4ab8f",
   "metadata": {},
   "source": [
    "### Warm-up and review\n",
    "\n",
    "For the following set of exercises, you are not expected to use folds.\n",
    "These are intended to review material from previous chapters. Feel\n",
    "free to use any syntax or structure from previous chapters that seems\n",
    "appropriate.\n",
    "\n",
    "1. Given the following sets of consonants and vowels:\n",
    "\n",
    "```\n",
    "stops = \"pbtdkg\"\n",
    "vowels = \"aeiou\"\n",
    "```\n",
    "\n",
    "- a) Write a function that takes inputs from `stops` and `vowels` and makes 3-tuples of all possible `stop-vowel-stop` combinations. These will not all correspond to real words in English, although the `stop-vowel-stop` pattern is common enough that many of them will."
   ]
  },
  {
   "cell_type": "code",
   "execution_count": 1,
   "id": "f8b7838f",
   "metadata": {},
   "outputs": [],
   "source": [
    "combinations :: [a] -> [b] -> [(a, b, a)]\n",
    "combinations s v = [(x, y, z) | x <- s, y <- v, z <- s]"
   ]
  },
  {
   "cell_type": "code",
   "execution_count": 2,
   "id": "da1027a6",
   "metadata": {},
   "outputs": [
    {
     "data": {
      "text/plain": [
       "[('p','a','p'),('p','a','b'),('p','a','t'),('p','a','d'),('p','a','k'),('p','a','g'),('p','e','p'),('p','e','b'),('p','e','t'),('p','e','d'),('p','e','k'),('p','e','g'),('p','i','p'),('p','i','b'),('p','i','t'),('p','i','d'),('p','i','k'),('p','i','g'),('p','o','p'),('p','o','b'),('p','o','t'),('p','o','d'),('p','o','k'),('p','o','g'),('p','u','p'),('p','u','b'),('p','u','t'),('p','u','d'),('p','u','k'),('p','u','g'),('b','a','p'),('b','a','b'),('b','a','t'),('b','a','d'),('b','a','k'),('b','a','g'),('b','e','p'),('b','e','b'),('b','e','t'),('b','e','d'),('b','e','k'),('b','e','g'),('b','i','p'),('b','i','b'),('b','i','t'),('b','i','d'),('b','i','k'),('b','i','g'),('b','o','p'),('b','o','b'),('b','o','t'),('b','o','d'),('b','o','k'),('b','o','g'),('b','u','p'),('b','u','b'),('b','u','t'),('b','u','d'),('b','u','k'),('b','u','g'),('t','a','p'),('t','a','b'),('t','a','t'),('t','a','d'),('t','a','k'),('t','a','g'),('t','e','p'),('t','e','b'),('t','e','t'),('t','e','d'),('t','e','k'),('t','e','g'),('t','i','p'),('t','i','b'),('t','i','t'),('t','i','d'),('t','i','k'),('t','i','g'),('t','o','p'),('t','o','b'),('t','o','t'),('t','o','d'),('t','o','k'),('t','o','g'),('t','u','p'),('t','u','b'),('t','u','t'),('t','u','d'),('t','u','k'),('t','u','g'),('d','a','p'),('d','a','b'),('d','a','t'),('d','a','d'),('d','a','k'),('d','a','g'),('d','e','p'),('d','e','b'),('d','e','t'),('d','e','d'),('d','e','k'),('d','e','g'),('d','i','p'),('d','i','b'),('d','i','t'),('d','i','d'),('d','i','k'),('d','i','g'),('d','o','p'),('d','o','b'),('d','o','t'),('d','o','d'),('d','o','k'),('d','o','g'),('d','u','p'),('d','u','b'),('d','u','t'),('d','u','d'),('d','u','k'),('d','u','g'),('k','a','p'),('k','a','b'),('k','a','t'),('k','a','d'),('k','a','k'),('k','a','g'),('k','e','p'),('k','e','b'),('k','e','t'),('k','e','d'),('k','e','k'),('k','e','g'),('k','i','p'),('k','i','b'),('k','i','t'),('k','i','d'),('k','i','k'),('k','i','g'),('k','o','p'),('k','o','b'),('k','o','t'),('k','o','d'),('k','o','k'),('k','o','g'),('k','u','p'),('k','u','b'),('k','u','t'),('k','u','d'),('k','u','k'),('k','u','g'),('g','a','p'),('g','a','b'),('g','a','t'),('g','a','d'),('g','a','k'),('g','a','g'),('g','e','p'),('g','e','b'),('g','e','t'),('g','e','d'),('g','e','k'),('g','e','g'),('g','i','p'),('g','i','b'),('g','i','t'),('g','i','d'),('g','i','k'),('g','i','g'),('g','o','p'),('g','o','b'),('g','o','t'),('g','o','d'),('g','o','k'),('g','o','g'),('g','u','p'),('g','u','b'),('g','u','t'),('g','u','d'),('g','u','k'),('g','u','g')]"
      ]
     },
     "metadata": {},
     "output_type": "display_data"
    }
   ],
   "source": [
    "stops = \"pbtdkg\"\n",
    "vowels = \"aeiou\"\n",
    "combinations stops vowels"
   ]
  },
  {
   "cell_type": "markdown",
   "id": "f4566ab0",
   "metadata": {},
   "source": [
    "- b) Modify that function so that it only returns the combinations that begin with a `p`."
   ]
  },
  {
   "cell_type": "code",
   "execution_count": 3,
   "id": "e52ee567",
   "metadata": {},
   "outputs": [],
   "source": [
    "combinationsAP s v = filter (\\(x, _, _) -> x == 'p') (combinations s v)"
   ]
  },
  {
   "cell_type": "code",
   "execution_count": 4,
   "id": "ea7bd61b",
   "metadata": {},
   "outputs": [
    {
     "data": {
      "text/plain": [
       "[('p','a','p'),('p','a','b'),('p','a','t'),('p','a','d'),('p','a','k'),('p','a','g'),('p','e','p'),('p','e','b'),('p','e','t'),('p','e','d'),('p','e','k'),('p','e','g'),('p','i','p'),('p','i','b'),('p','i','t'),('p','i','d'),('p','i','k'),('p','i','g'),('p','o','p'),('p','o','b'),('p','o','t'),('p','o','d'),('p','o','k'),('p','o','g'),('p','u','p'),('p','u','b'),('p','u','t'),('p','u','d'),('p','u','k'),('p','u','g')]"
      ]
     },
     "metadata": {},
     "output_type": "display_data"
    }
   ],
   "source": [
    "combinationsAP stops vowels"
   ]
  },
  {
   "cell_type": "markdown",
   "id": "bfc016f7",
   "metadata": {},
   "source": [
    "- c) Now set up lists of `nouns` and `verbs` (instead of `stops` and `vowels`) and modify the function to make tuples representing possible `noun-verb-noun` sentences."
   ]
  },
  {
   "cell_type": "code",
   "execution_count": 5,
   "id": "769a631a",
   "metadata": {},
   "outputs": [],
   "source": [
    "nouns = [\n",
    "    \"aardvark\",\n",
    "    \"albatross\",\n",
    "    \"alligator\",\n",
    "    \"ant\",\n",
    "    \"anteater\",\n",
    "    \"antelope\",\n",
    "    \"ape\",\n",
    "    \"armadillo\",\n",
    "    \"baboon\",\n",
    "    \"badger\",\n",
    "    \"bat\",\n",
    "    \"bear\",\n",
    "    \"beaver\",\n",
    "    \"bison\",\n",
    "    \"boar\",\n",
    "    \"buffalo\",\n",
    "    \"butterfly\"]\n",
    "\n",
    "verbs = [\n",
    "    \"abound\",\n",
    "    \"adorable\",\n",
    "    \"allow\",\n",
    "    \"amazing\",\n",
    "    \"angry\",\n",
    "    \"awesome\",\n",
    "    \"beautiful\",\n",
    "    \"bite\",\n",
    "    \"bleat\",\n",
    "    \"bless\",\n",
    "    \"breathe\",\n",
    "    \"burst\",\n",
    "    \"burn\"]"
   ]
  },
  {
   "cell_type": "code",
   "execution_count": 6,
   "id": "0aab2275",
   "metadata": {},
   "outputs": [
    {
     "data": {
      "text/plain": [
       "[(\"aardvark\",\"abound\",\"aardvark\"),(\"aardvark\",\"abound\",\"albatross\"),(\"aardvark\",\"abound\",\"alligator\"),(\"aardvark\",\"abound\",\"ant\"),(\"aardvark\",\"abound\",\"anteater\"),(\"aardvark\",\"abound\",\"antelope\"),(\"aardvark\",\"abound\",\"ape\"),(\"aardvark\",\"abound\",\"armadillo\"),(\"aardvark\",\"abound\",\"baboon\"),(\"aardvark\",\"abound\",\"badger\")]"
      ]
     },
     "metadata": {},
     "output_type": "display_data"
    }
   ],
   "source": [
    "take 10 $ combinations nouns verbs"
   ]
  },
  {
   "cell_type": "markdown",
   "id": "bdefc262",
   "metadata": {},
   "source": [
    "2. What does the following mystery function do? What is its type? Try to get a good sense of what it does before you test it in the `REPL` to verify it.\n",
    "\n",
    "```haskell\n",
    "seekritFunc x =\n",
    "    div (sum (map length (words x)))\n",
    "    (length (words x))\n",
    "```\n",
    "\n",
    "> <span style=\"color:green\">**Answer:**</span> This function will compute the result of divdiing the number of characters (except the spaces) by the number of words in the string. the type is `String -> Int`."
   ]
  },
  {
   "cell_type": "code",
   "execution_count": 10,
   "id": "336e20af",
   "metadata": {},
   "outputs": [],
   "source": [
    "seekritFunc x =\n",
    "    div (sum (map length (words x)))\n",
    "    (length (words x))"
   ]
  },
  {
   "cell_type": "code",
   "execution_count": 11,
   "id": "90e5a74e",
   "metadata": {},
   "outputs": [
    {
     "data": {
      "text/plain": [
       "5"
      ]
     },
     "metadata": {},
     "output_type": "display_data"
    }
   ],
   "source": [
    "seekritFunc \"Hello world\""
   ]
  },
  {
   "cell_type": "markdown",
   "id": "ea107b1d",
   "metadata": {},
   "source": [
    "3. We’d really like the answer to be more precise. Can you rewrite that using fractional division?"
   ]
  },
  {
   "cell_type": "code",
   "execution_count": 17,
   "id": "b3f54163",
   "metadata": {},
   "outputs": [],
   "source": [
    "seekritFunc :: String -> Double\n",
    "seekritFunc x =\n",
    "    charNum / wordNum\n",
    "    where\n",
    "        charNum = fromIntegral $ sum (map length (words x))\n",
    "        wordNum = fromIntegral $ length (words x)"
   ]
  },
  {
   "cell_type": "markdown",
   "id": "352612a5",
   "metadata": {},
   "source": [
    "### Rewriting functions using folds\n",
    "\n",
    "In the previous chapter, you wrote these functions using direct recursion over lists. The goal now is to rewrite them using folds. Where possible, to gain a deeper understanding of folding, try rewriting the fold version so that it is point-free."
   ]
  },
  {
   "cell_type": "markdown",
   "id": "6eecb566",
   "metadata": {},
   "source": [
    "1. `myOr` returns `True` if any `Bool` in the list is `True`.\n",
    "\n",
    "```haskell\n",
    "myOr :: [Bool] -> Bool\n",
    "myOr = undefined\n",
    "```"
   ]
  },
  {
   "cell_type": "code",
   "execution_count": 18,
   "id": "7631f04a",
   "metadata": {},
   "outputs": [
    {
     "data": {
      "text/html": [
       "<style>/* Styles used for the Hoogle display in the pager */\n",
       ".hoogle-doc {\n",
       "display: block;\n",
       "padding-bottom: 1.3em;\n",
       "padding-left: 0.4em;\n",
       "}\n",
       ".hoogle-code {\n",
       "display: block;\n",
       "font-family: monospace;\n",
       "white-space: pre;\n",
       "}\n",
       ".hoogle-text {\n",
       "display: block;\n",
       "}\n",
       ".hoogle-name {\n",
       "color: green;\n",
       "font-weight: bold;\n",
       "}\n",
       ".hoogle-head {\n",
       "font-weight: bold;\n",
       "}\n",
       ".hoogle-sub {\n",
       "display: block;\n",
       "margin-left: 0.4em;\n",
       "}\n",
       ".hoogle-package {\n",
       "font-weight: bold;\n",
       "font-style: italic;\n",
       "}\n",
       ".hoogle-module {\n",
       "font-weight: bold;\n",
       "}\n",
       ".hoogle-class {\n",
       "font-weight: bold;\n",
       "}\n",
       "\n",
       ".get-type {\n",
       "color: green;\n",
       "font-weight: bold;\n",
       "font-family: monospace;\n",
       "display: block;\n",
       "white-space: pre-wrap;\n",
       "}\n",
       ".show-type {\n",
       "color: green;\n",
       "font-weight: bold;\n",
       "font-family: monospace;\n",
       "margin-left: 1em;\n",
       "}\n",
       ".mono {\n",
       "font-family: monospace;\n",
       "display: block;\n",
       "}\n",
       ".err-msg {\n",
       "color: red;\n",
       "font-style: italic;\n",
       "font-family: monospace;\n",
       "white-space: pre;\n",
       "display: block;\n",
       "}\n",
       "#unshowable {\n",
       "color: red;\n",
       "font-weight: bold;\n",
       "}\n",
       ".err-msg.in.collapse {\n",
       "padding-top: 0.7em;\n",
       "}\n",
       "\n",
       ".highlight-code {\n",
       "white-space: pre;\n",
       "font-family: monospace;\n",
       "}\n",
       "\n",
       ".suggestion-warning { \n",
       "font-weight: bold;\n",
       "color: rgb(200, 130, 0);\n",
       "}\n",
       ".suggestion-error { \n",
       "font-weight: bold;\n",
       "color: red;\n",
       "}\n",
       ".suggestion-name {\n",
       "font-weight: bold;\n",
       "}\n",
       "\n",
       "</style><div class=\"suggestion-name\" style=\"clear:both;\">Use or</div><div class=\"suggestion-row\" style=\"float: left;\"><div class=\"suggestion-warning\">Found:</div><div class=\"highlight-code\" id=\"haskell\">foldr (||) False</div></div><div class=\"suggestion-row\" style=\"float: left;\"><div class=\"suggestion-warning\">Why Not:</div><div class=\"highlight-code\" id=\"haskell\">or</div></div>"
      ],
      "text/plain": [
       "Line 2: Use or\n",
       "Found:\n",
       "foldr (||) False\n",
       "Why not:\n",
       "or"
      ]
     },
     "metadata": {},
     "output_type": "display_data"
    }
   ],
   "source": [
    "myOr :: [Bool] -> Bool\n",
    "myOr = foldr (||) False"
   ]
  },
  {
   "cell_type": "markdown",
   "id": "b310f549",
   "metadata": {},
   "source": [
    "2. `myAny` returns `True` if `a -> Bool` applied to any of the values in the list returns `True`.\n",
    "\n",
    "```haskell\n",
    "myAny :: (a -> Bool) -> [a] -> Bool\n",
    "myAny = undefined\n",
    "```"
   ]
  },
  {
   "cell_type": "code",
   "execution_count": 23,
   "id": "a31520d9",
   "metadata": {},
   "outputs": [],
   "source": [
    "myAny :: (a -> Bool) -> [a] -> Bool\n",
    "myAny f = foldr ((||) . f) False"
   ]
  },
  {
   "cell_type": "markdown",
   "id": "fb5dbcfc",
   "metadata": {},
   "source": [
    "3. Write two versions of `myElem`. One version should use folding and the other should use `any`.\n",
    "\n",
    "```haskell\n",
    "myElem :: Eq a => a -> [a] -> Bool\n",
    "```"
   ]
  },
  {
   "cell_type": "code",
   "execution_count": 26,
   "id": "0bc35d03",
   "metadata": {},
   "outputs": [],
   "source": [
    "myElem :: Eq a => a -> [a] -> Bool\n",
    "myElem x = foldr ((||) . (== x)) False"
   ]
  },
  {
   "cell_type": "code",
   "execution_count": 27,
   "id": "dffe3d46",
   "metadata": {},
   "outputs": [
    {
     "data": {
      "text/html": [
       "<style>/* Styles used for the Hoogle display in the pager */\n",
       ".hoogle-doc {\n",
       "display: block;\n",
       "padding-bottom: 1.3em;\n",
       "padding-left: 0.4em;\n",
       "}\n",
       ".hoogle-code {\n",
       "display: block;\n",
       "font-family: monospace;\n",
       "white-space: pre;\n",
       "}\n",
       ".hoogle-text {\n",
       "display: block;\n",
       "}\n",
       ".hoogle-name {\n",
       "color: green;\n",
       "font-weight: bold;\n",
       "}\n",
       ".hoogle-head {\n",
       "font-weight: bold;\n",
       "}\n",
       ".hoogle-sub {\n",
       "display: block;\n",
       "margin-left: 0.4em;\n",
       "}\n",
       ".hoogle-package {\n",
       "font-weight: bold;\n",
       "font-style: italic;\n",
       "}\n",
       ".hoogle-module {\n",
       "font-weight: bold;\n",
       "}\n",
       ".hoogle-class {\n",
       "font-weight: bold;\n",
       "}\n",
       "\n",
       ".get-type {\n",
       "color: green;\n",
       "font-weight: bold;\n",
       "font-family: monospace;\n",
       "display: block;\n",
       "white-space: pre-wrap;\n",
       "}\n",
       ".show-type {\n",
       "color: green;\n",
       "font-weight: bold;\n",
       "font-family: monospace;\n",
       "margin-left: 1em;\n",
       "}\n",
       ".mono {\n",
       "font-family: monospace;\n",
       "display: block;\n",
       "}\n",
       ".err-msg {\n",
       "color: red;\n",
       "font-style: italic;\n",
       "font-family: monospace;\n",
       "white-space: pre;\n",
       "display: block;\n",
       "}\n",
       "#unshowable {\n",
       "color: red;\n",
       "font-weight: bold;\n",
       "}\n",
       ".err-msg.in.collapse {\n",
       "padding-top: 0.7em;\n",
       "}\n",
       "\n",
       ".highlight-code {\n",
       "white-space: pre;\n",
       "font-family: monospace;\n",
       "}\n",
       "\n",
       ".suggestion-warning { \n",
       "font-weight: bold;\n",
       "color: rgb(200, 130, 0);\n",
       "}\n",
       ".suggestion-error { \n",
       "font-weight: bold;\n",
       "color: red;\n",
       "}\n",
       ".suggestion-name {\n",
       "font-weight: bold;\n",
       "}\n",
       "\n",
       "</style><div class=\"suggestion-name\" style=\"clear:both;\">Eta reduce</div><div class=\"suggestion-row\" style=\"float: left;\"><div class=\"suggestion-warning\">Found:</div><div class=\"highlight-code\" id=\"haskell\">myElem x xs = any (== x) xs</div></div><div class=\"suggestion-row\" style=\"float: left;\"><div class=\"suggestion-warning\">Why Not:</div><div class=\"highlight-code\" id=\"haskell\">myElem x = any (== x)</div></div><div class=\"suggestion-name\" style=\"clear:both;\">Use elem</div><div class=\"suggestion-row\" style=\"float: left;\"><div class=\"suggestion-warning\">Found:</div><div class=\"highlight-code\" id=\"haskell\">any (== x)</div></div><div class=\"suggestion-row\" style=\"float: left;\"><div class=\"suggestion-warning\">Why Not:</div><div class=\"highlight-code\" id=\"haskell\">elem x</div></div>"
      ],
      "text/plain": [
       "Line 2: Eta reduce\n",
       "Found:\n",
       "myElem x xs = any (== x) xs\n",
       "Why not:\n",
       "myElem x = any (== x)Line 2: Use elem\n",
       "Found:\n",
       "any (== x)\n",
       "Why not:\n",
       "elem x"
      ]
     },
     "metadata": {},
     "output_type": "display_data"
    }
   ],
   "source": [
    "myElem :: Eq a => a -> [a] -> Bool\n",
    "myElem x xs = any (== x) xs"
   ]
  },
  {
   "cell_type": "markdown",
   "id": "d60408af",
   "metadata": {},
   "source": [
    "4. Implement `myReverse`, don’t worry about trying to make it lazy.\n",
    "```haskell\n",
    "myReverse :: [a] -> [a]\n",
    "myReverse = undefined\n",
    "```"
   ]
  },
  {
   "cell_type": "code",
   "execution_count": 30,
   "id": "85edecc0",
   "metadata": {},
   "outputs": [],
   "source": [
    "myReverse :: [a] -> [a]\n",
    "myReverse = foldl (flip (:)) []"
   ]
  },
  {
   "cell_type": "markdown",
   "id": "4858593c",
   "metadata": {},
   "source": [
    "5. Write `myMap` in terms of `foldr`. It should have the same behavior as the built-in `map`.\n",
    "```haskell\n",
    "myMap :: (a -> b) -> [a] -> [b]\n",
    "myMap = undefined\n",
    "```"
   ]
  },
  {
   "cell_type": "code",
   "execution_count": 32,
   "id": "892132e9",
   "metadata": {},
   "outputs": [],
   "source": [
    "myMap :: (a -> b) -> [a] -> [b]\n",
    "myMap f = foldr ((:) . f) []"
   ]
  },
  {
   "cell_type": "markdown",
   "id": "b495f994",
   "metadata": {},
   "source": [
    "6. Write `myFilter` in terms of `foldr`. It should have the same behavior as the built-in filter.\n",
    "```haskell\n",
    "myFilter :: (a -> Bool) -> [a] -> [a]\n",
    "myFilter = undefined\n",
    "```"
   ]
  },
  {
   "cell_type": "code",
   "execution_count": 34,
   "id": "c86f6bea",
   "metadata": {},
   "outputs": [],
   "source": [
    "myFilter :: (a -> Bool) -> [a] -> [a]\n",
    "myFilter f = foldr selector []\n",
    "    where \n",
    "        selector x acc = if f x \n",
    "        then x : acc\n",
    "        else acc"
   ]
  },
  {
   "cell_type": "markdown",
   "id": "c71a159d",
   "metadata": {},
   "source": [
    "7. `squish` flattens a list of lists into a list\n",
    "```haskell\n",
    "squish :: [[a]] -> [a]\n",
    "squish = undefined\n",
    "```"
   ]
  },
  {
   "cell_type": "code",
   "execution_count": 35,
   "id": "9a0061e1",
   "metadata": {},
   "outputs": [
    {
     "data": {
      "text/html": [
       "<style>/* Styles used for the Hoogle display in the pager */\n",
       ".hoogle-doc {\n",
       "display: block;\n",
       "padding-bottom: 1.3em;\n",
       "padding-left: 0.4em;\n",
       "}\n",
       ".hoogle-code {\n",
       "display: block;\n",
       "font-family: monospace;\n",
       "white-space: pre;\n",
       "}\n",
       ".hoogle-text {\n",
       "display: block;\n",
       "}\n",
       ".hoogle-name {\n",
       "color: green;\n",
       "font-weight: bold;\n",
       "}\n",
       ".hoogle-head {\n",
       "font-weight: bold;\n",
       "}\n",
       ".hoogle-sub {\n",
       "display: block;\n",
       "margin-left: 0.4em;\n",
       "}\n",
       ".hoogle-package {\n",
       "font-weight: bold;\n",
       "font-style: italic;\n",
       "}\n",
       ".hoogle-module {\n",
       "font-weight: bold;\n",
       "}\n",
       ".hoogle-class {\n",
       "font-weight: bold;\n",
       "}\n",
       "\n",
       ".get-type {\n",
       "color: green;\n",
       "font-weight: bold;\n",
       "font-family: monospace;\n",
       "display: block;\n",
       "white-space: pre-wrap;\n",
       "}\n",
       ".show-type {\n",
       "color: green;\n",
       "font-weight: bold;\n",
       "font-family: monospace;\n",
       "margin-left: 1em;\n",
       "}\n",
       ".mono {\n",
       "font-family: monospace;\n",
       "display: block;\n",
       "}\n",
       ".err-msg {\n",
       "color: red;\n",
       "font-style: italic;\n",
       "font-family: monospace;\n",
       "white-space: pre;\n",
       "display: block;\n",
       "}\n",
       "#unshowable {\n",
       "color: red;\n",
       "font-weight: bold;\n",
       "}\n",
       ".err-msg.in.collapse {\n",
       "padding-top: 0.7em;\n",
       "}\n",
       "\n",
       ".highlight-code {\n",
       "white-space: pre;\n",
       "font-family: monospace;\n",
       "}\n",
       "\n",
       ".suggestion-warning { \n",
       "font-weight: bold;\n",
       "color: rgb(200, 130, 0);\n",
       "}\n",
       ".suggestion-error { \n",
       "font-weight: bold;\n",
       "color: red;\n",
       "}\n",
       ".suggestion-name {\n",
       "font-weight: bold;\n",
       "}\n",
       "\n",
       "</style><div class=\"suggestion-name\" style=\"clear:both;\">Use concat</div><div class=\"suggestion-row\" style=\"float: left;\"><div class=\"suggestion-warning\">Found:</div><div class=\"highlight-code\" id=\"haskell\">foldr (++) []</div></div><div class=\"suggestion-row\" style=\"float: left;\"><div class=\"suggestion-warning\">Why Not:</div><div class=\"highlight-code\" id=\"haskell\">concat</div></div>"
      ],
      "text/plain": [
       "Line 2: Use concat\n",
       "Found:\n",
       "foldr (++) []\n",
       "Why not:\n",
       "concat"
      ]
     },
     "metadata": {},
     "output_type": "display_data"
    }
   ],
   "source": [
    "squish :: [[a]] -> [a]\n",
    "squish = foldr (++) []"
   ]
  },
  {
   "cell_type": "markdown",
   "id": "84bf6e8b",
   "metadata": {},
   "source": [
    "8. squishMap maps a function over a list and concatenates the results.\n",
    "```haskell\n",
    "squishMap :: (a -> [b]) -> [a] -> [b]\n",
    "squishMap = undefined\n",
    "```"
   ]
  },
  {
   "cell_type": "code",
   "execution_count": 38,
   "id": "c5a939ae",
   "metadata": {},
   "outputs": [],
   "source": [
    "squishMap :: (a -> [b]) -> [a] -> [b]\n",
    "squishMap f = squish . map f"
   ]
  },
  {
   "cell_type": "markdown",
   "id": "4bd1c8f6",
   "metadata": {},
   "source": [
    "9. `squishAgain` flattens a list of lists into a list. This time re-use the `squishMap` function.\n",
    "```haskell\n",
    "squishAgain :: [[a]] -> [a]\n",
    "squishAgain = undefined\n",
    "```"
   ]
  },
  {
   "cell_type": "code",
   "execution_count": 42,
   "id": "3f435f1f",
   "metadata": {},
   "outputs": [],
   "source": [
    "squishAgain :: [[a]] -> [a]\n",
    "squishAgain = squishMap id"
   ]
  },
  {
   "cell_type": "markdown",
   "id": "f9da3cc0",
   "metadata": {},
   "source": [
    "10. `myMaximumBy` takes a comparison function and a list and returns the greatest element of the list based on the last value that the comparison returned `GT` for.\n",
    "\n",
    "```haskell\n",
    "myMaximumBy :: (a -> a -> Ordering) -> [a] -> a\n",
    "myMaximumBy = undefined\n",
    "```"
   ]
  },
  {
   "cell_type": "code",
   "execution_count": 57,
   "id": "69445ac6",
   "metadata": {},
   "outputs": [],
   "source": [
    "myMaximumBy :: (a -> a -> Ordering) -> [a] -> a\n",
    "myMaximumBy f xs = foldr selector (last xs) xs\n",
    "    where\n",
    "        selector x acc\n",
    "            | f x acc == GT = x\n",
    "            | otherwise = acc"
   ]
  },
  {
   "cell_type": "markdown",
   "id": "f79693ac",
   "metadata": {},
   "source": [
    "11. `myMinimumBy` takes a comparison function and a list and returns the least element of the list based on the last value that the comparison returned `LT` for.\n",
    "\n",
    "```haskell\n",
    "myMinimumBy :: (a -> a -> Ordering) -> [a] -> a\n",
    "myMinimumBy = undefined\n",
    "```"
   ]
  },
  {
   "cell_type": "code",
   "execution_count": 58,
   "id": "fcad7929",
   "metadata": {},
   "outputs": [],
   "source": [
    "myMinimumBy :: (a -> a -> Ordering) -> [a] -> a\n",
    "myMinimumBy f xs = foldr selector (last xs) xs\n",
    "    where\n",
    "        selector x acc\n",
    "            | f x acc == LT = x\n",
    "            | otherwise = acc"
   ]
  }
 ],
 "metadata": {
  "kernelspec": {
   "display_name": "Haskell",
   "language": "haskell",
   "name": "haskell"
  },
  "language_info": {
   "codemirror_mode": "ihaskell",
   "file_extension": ".hs",
   "mimetype": "text/x-haskell",
   "name": "haskell",
   "pygments_lexer": "Haskell",
   "version": "9.6.4"
  }
 },
 "nbformat": 4,
 "nbformat_minor": 5
}
