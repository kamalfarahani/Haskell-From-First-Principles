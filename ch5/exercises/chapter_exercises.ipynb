{
 "cells": [
  {
   "cell_type": "markdown",
   "id": "4448fc7a",
   "metadata": {},
   "source": [
    "## Chapter Exercises\n",
    "\n",
    "Welcome to another round of \"Knowing is not enough; we must apply.\""
   ]
  },
  {
   "cell_type": "markdown",
   "id": "79e88c8a",
   "metadata": {},
   "source": [
    "### Multiple choice\n",
    "\n",
    "1. A value of type `[a]` is\n",
    "    * a) a list of alphabetic characters\n",
    "    * b) a list of lists\n",
    "    * c) a list whose elements are all of some type ✅\n",
    "    * d) a list whose elements are all of different types\n",
    "2. A function of type `[[a]] -> [a]` could\n",
    "    * a) take a list of strings as an argument ✅\n",
    "    * b) transform a character into a string\n",
    "    * c) transform a string into a list of strings\n",
    "    * d) take two arguments\n",
    "3. A function of type `[a] -> Int -> a`\n",
    "    * a) takes one argument\n",
    "    * b) returns one element of type `a` from a list ✅\n",
    "    * c) must return an Int value\n",
    "    * d) is completely fictional\n",
    "4. A function of type `(a, b) -> a`\n",
    "    * a) takes a list argument and returns a Char value\n",
    "    * b) has zero arguments\n",
    "    * c) takes a tuple argument and returns the first value ✅\n",
    "    * d) requires that a and b be of different types"
   ]
  },
  {
   "cell_type": "markdown",
   "id": "0c42ce01",
   "metadata": {},
   "source": [
    "### Determine the type\n",
    "\n",
    "For the following functions, determine the type of the specified value.\n",
    "We suggest you type them into a file and load the contents of the file\n",
    "in GHCi.\n",
    "Do your best to determine the most polymorphic type an expression\n",
    "could have in the following exercises."
   ]
  },
  {
   "cell_type": "markdown",
   "id": "9effde33",
   "metadata": {},
   "source": [
    "1. All function applications return a value. Determine the value returned by these function applications and the type of that value.\n",
    "    - a) `(* 9) 6` $\\to$ returns `36` type `Num a => a`\n",
    "    - b) `head [(0,\"doge\"),(1,\"kitteh\")]` $\\to$ returns `(0, \"doge\")` type `Num a => (a, [Char])`\n",
    "    - c) `head [(0 :: Integer ,\"doge\"),(1,\"kitteh\")]` $\\to$ returns `(0, \"doge\")` type `(Integer, [Char])`\n",
    "    - d) `if False then True else False` $\\to$ returns `False` type `Bool`\n",
    "    - e) `length [1, 2, 3, 4, 5]` $\\to$ returns `5` type `Int`\n",
    "    - f) `(length [1, 2, 3, 4]) > (length \"TACOCAT\")` $\\to$ returns `False` type `Bool` "
   ]
  },
  {
   "cell_type": "markdown",
   "id": "724dd731",
   "metadata": {},
   "source": [
    "2. Given\n",
    "```haskell\n",
    "x = 5\n",
    "y = x + 5\n",
    "w = y * 10\n",
    "```\n",
    "    What is the type of `w`?\n",
    "\n",
    "> **<span style=\"color:green\">Answer:</span>** `Num a => a`"
   ]
  },
  {
   "cell_type": "markdown",
   "id": "cb412625",
   "metadata": {},
   "source": [
    "3. Given\n",
    "```haskell\n",
    "x = 5\n",
    "y = x + 5\n",
    "z y = y * 10\n",
    "```\n",
    "    What is the type of `z`?\n",
    "\n",
    "> **<span style=\"color:green\">Answer:</span>** `Num a => a -> a`"
   ]
  },
  {
   "cell_type": "markdown",
   "id": "4e93a79f",
   "metadata": {},
   "source": [
    "4. Given\n",
    "```haskell\n",
    "x = 5\n",
    "y = x + 5\n",
    "f = 4 / y\n",
    "```\n",
    "    What is the type of f?\n",
    "\n",
    "> **<span style=\"color:green\">Answer:</span>** `Fractional a => a`"
   ]
  },
  {
   "cell_type": "markdown",
   "id": "1f8f2a22",
   "metadata": {},
   "source": [
    "5. Given\n",
    "```haskell\n",
    "x = \"Julie\"\n",
    "y = \" <3 \"\n",
    "z = \"Haskell\"\n",
    "f = x ++ y ++ z\n",
    "```\n",
    "    What is the type of `f`?\n",
    "\n",
    "> **<span style=\"color:green\">Answer:</span>** `[Char]`"
   ]
  },
  {
   "cell_type": "markdown",
   "id": "372b7c21",
   "metadata": {},
   "source": [
    "### Does it compile?\n",
    "\n",
    "For each set of expressions, figure out which expression, if any, causes\n",
    "the compiler to squawk at you (n.b. we do not mean literal squawking)\n",
    "and why. Fix it if you can."
   ]
  },
  {
   "cell_type": "markdown",
   "id": "4632e722",
   "metadata": {},
   "source": [
    "1.\n",
    "```haskell\n",
    "bigNum = (^) 5 $ 10\n",
    "wahoo = bigNum $ 10 -- this makes the compiler squawk\n",
    "```\n",
    "\n",
    "> **<span style=\"color:green\">Answer:</span>** `bigNum $ 10` makes the compiler squawk."
   ]
  },
  {
   "cell_type": "markdown",
   "id": "4b781cbc",
   "metadata": {},
   "source": [
    "2.\n",
    "```haskell\n",
    "x = print\n",
    "y = print \"woohoo!\"\n",
    "z = x \"hello world\"\n",
    "```\n",
    "\n",
    "> **<span style=\"color:green\">Answer:</span>** This compiles fine."
   ]
  },
  {
   "cell_type": "markdown",
   "id": "0fff1a54",
   "metadata": {},
   "source": [
    "3.\n",
    "```haskell\n",
    "a = (+)\n",
    "b = 5\n",
    "c = b 10 -- this makes the compiler squawk\n",
    "d = c 200\n",
    "```\n",
    "\n",
    "> **<span style=\"color:green\">Answer:</span>** `b 10` makes the compiler squawk because `b` is a not a function."
   ]
  },
  {
   "cell_type": "markdown",
   "id": "293f8aad",
   "metadata": {},
   "source": [
    "4.\n",
    "```haskell\n",
    "a = 12 + b\n",
    "b = 10000 * c -- this makes the compiler squawk\n",
    "```\n",
    "\n",
    "> **<span style=\"color:green\">Answer:</span>** `c` is not defined so the compiler squawks."
   ]
  },
  {
   "cell_type": "markdown",
   "id": "451cbfa3",
   "metadata": {},
   "source": [
    "### Type variable or specific type constructor?\n",
    "\n",
    "1. You will be shown a type declaration, and you should categorize each type. The choices are a fully polymorphic type variable, constrained polymorphic type variable, or concrete type constructor.\n",
    "\n",
    "```haskell\n",
    "f :: Num a => a -> b -> Int -> Int\n",
    "--           [0]  [1]  [2]     [3]\n",
    "```\n",
    "\n",
    "Here, the answer would be: constrained polymorphic (`Num`) (`[0]`), fully polymorphic (`[1]`), and concrete (`[2]` and `[3]`)."
   ]
  },
  {
   "cell_type": "markdown",
   "id": "90e55bc8",
   "metadata": {},
   "source": [
    "2. Categorize each component of the type signature as described in the previous example.\n",
    "```haskell\n",
    "f :: zed -> Zed -> Blah\n",
    "--   [0]    [1]    [2]\n",
    "```\n",
    "\n",
    "**<span style=\"color:green\">Answer:</span>** `[0]` is fully polymorphic, `[1]` is concrete, and `[2]` is concrete"
   ]
  },
  {
   "cell_type": "markdown",
   "id": "06277ae7",
   "metadata": {},
   "source": [
    "3. Categorize each component of the type signature\n",
    "```haskell\n",
    "f :: Enum b => a -> b -> C\n",
    "--            [0]  [1]  [2]\n",
    "```\n",
    "\n",
    "**<span style=\"color:green\">Answer:</span>** `[0]` is fully polymorphic, `[1]` is constrained polymorphic, and `[2]` is concrete"
   ]
  },
  {
   "cell_type": "markdown",
   "id": "8e91b0b4",
   "metadata": {},
   "source": [
    "4. Categorize each component of the type signature\n",
    "```haskell\n",
    "f :: f -> g -> C\n",
    "--  [0]    [1]  [2]\n",
    "```\n",
    "\n",
    "**<span style=\"color:green\">Answer:</span>** `[0]` is fully polymorphic, `[1]` is fully polymorphic, and `[2]` is concrete"
   ]
  },
  {
   "cell_type": "markdown",
   "id": "64e1cd49",
   "metadata": {},
   "source": [
    "### Write a type signature\n",
    "\n",
    "For the following expressions, please add a type signature. You should be able to rely on GHCi type inference to check your work, although you might not have precisely the same answer as GHCi gives (due to polymorphism, etc).\n",
    "\n",
    "1. While we haven’t fully explained this syntax yet, you’ve seen it in Chapter 2 and as a solution to an exercise in Chapter 4. This syntax is a way of destructuring a single element of a list by pattern matching.\n",
    "\n",
    "```haskell\n",
    "functionH ::\n",
    "functionH (x:_) = x\n",
    "```\n",
    "\n",
    "> **<span style=\"color:green\">Answer:</span>** `functionH :: [a] -> a`"
   ]
  },
  {
   "cell_type": "markdown",
   "id": "eafbedb3",
   "metadata": {},
   "source": [
    "2.\n",
    "```haskell\n",
    "functionC ::\n",
    "functionC x y =\n",
    "if (x > y) then True else False\n",
    "```\n",
    "> **<span style=\"color:green\">Answer:</span>** `functionC :: Ord a => a -> a -> Bool`"
   ]
  },
  {
   "cell_type": "markdown",
   "id": "dfefd2a3",
   "metadata": {},
   "source": [
    "3.\n",
    "```haskell\n",
    "functionS ::\n",
    "functionS (x, y) = y\n",
    "```\n",
    "\n",
    "> **<span style=\"color:green\">Answer:</span>** `functionS :: (a, b) -> b`"
   ]
  },
  {
   "cell_type": "markdown",
   "id": "570deb2b",
   "metadata": {},
   "source": [
    "### Given a type, write the function\n",
    "\n",
    "You will be shown a type and a function that needs to be written. Use\n",
    "the information the type provides to determine what the function\n",
    "should do. We’ll also tell you how many ways there are to write\n",
    "the function. Syntactically different but semantically equivalent\n",
    "implementations are not counted as being different. For example,\n",
    "writing a function one way then rewriting the semantically identical\n",
    "function but using anonymous lambda syntax does not count as two\n",
    "implementations."
   ]
  },
  {
   "cell_type": "markdown",
   "id": "9ba2ea02",
   "metadata": {},
   "source": [
    "1. There is only one function definition that typechecks and doesn’t go into an infinite loop when you run it.\n",
    "\n",
    "```haskell\n",
    "i :: a -> a\n",
    "i = undefined\n",
    "```\n",
    "\n",
    "\n",
    "> **<span style=\"color:green\">Answer:</span>**\n",
    "```haskell\n",
    "i a = a\n",
    "```"
   ]
  },
  {
   "cell_type": "markdown",
   "id": "65fa2fae",
   "metadata": {},
   "source": [
    "2. There is only one version that works.\n",
    "```haskell\n",
    "c :: a -> b -> a\n",
    "c = undefined\n",
    "```\n",
    "\n",
    "> **<span style=\"color:green\">Answer:</span>**\n",
    "\n",
    "```haskell\n",
    "c a b = a\n",
    "```"
   ]
  },
  {
   "cell_type": "markdown",
   "id": "b83d81f2",
   "metadata": {},
   "source": [
    "3. Given alpha equivalence are c'' and c (see above) the same thing?\n",
    "```haskell\n",
    "c'' :: b -> a -> b\n",
    "c'' = ?\n",
    "```\n",
    "\n",
    "> **<span style=\"color:green\">Answer:</span>** Yes they are alpha equivalent"
   ]
  },
  {
   "cell_type": "markdown",
   "id": "48199e82",
   "metadata": {},
   "source": [
    "4. Only one version that works.\n",
    "```haskell\n",
    "c' :: a -> b -> b\n",
    "c' = undefined\n",
    "```\n",
    "\n",
    "> **<span style=\"color:green\">Answer:</span>**\n",
    "```haskell\n",
    "c' a b = b\n",
    "```"
   ]
  },
  {
   "cell_type": "markdown",
   "id": "b0ce9bf0",
   "metadata": {},
   "source": [
    "5. There are multiple possibilities, at least two of which you’ve seen in previous chapters.\n",
    "\n",
    "```haskell\n",
    "r :: [a] -> [a]\n",
    "r = undefined\n",
    "```\n",
    "\n",
    "> **<span style=\"color:green\">Answer:</span>** Any function that returns a subset of the elements in the original list is valid for example\n",
    "\n",
    "```haskell\n",
    "r a = [a !! 2, a !! 3]\n",
    "```"
   ]
  },
  {
   "cell_type": "markdown",
   "id": "716426cb",
   "metadata": {},
   "source": [
    "6. Only one version that will typecheck.\n",
    "```haskell\n",
    "co :: (b -> c) -> (a -> b) -> a -> c\n",
    "co = undefined\n",
    "```\n",
    "\n",
    "> **<span style=\"color:green\">Answer:</span>**\n",
    "```haskell\n",
    "co bToC aToB a = bToC (aToB a)\n",
    "```"
   ]
  },
  {
   "cell_type": "markdown",
   "id": "2951687d",
   "metadata": {},
   "source": [
    "7. One version will typecheck.\n",
    "\n",
    "```haskell\n",
    "a :: (a -> c) -> a -> a\n",
    "a = undefined\n",
    "```\n",
    "\n",
    "> **<span style=\"color:green\">Answer:</span>**\n",
    "```haskell\n",
    "a aToC a = a\n",
    "```"
   ]
  },
  {
   "cell_type": "markdown",
   "id": "580b0d91",
   "metadata": {},
   "source": [
    "8. One version will typecheck.\n",
    "```haskell\n",
    "a' :: (a -> b) -> a -> b\n",
    "a' = undefined\n",
    "```\n",
    "\n",
    "> **<span style=\"color:green\">Answer:</span>**\n",
    "```haskell\n",
    "a' aToB a = aToB a\n",
    "```"
   ]
  },
  {
   "cell_type": "markdown",
   "id": "ea84ab03",
   "metadata": {},
   "source": [
    "### Fix it\n",
    "\n",
    "Won’t someone take pity on this poor broken code and fix it up? Be\n",
    "sure to check carefully for things like capitalization, parentheses, and\n",
    "indentation.\n",
    "\n",
    "1.\n",
    "```haskell\n",
    "module sing where\n",
    "\n",
    "fstString :: [Char] ++ [Char]\n",
    "fstString x = x ++ \" in the rain\"\n",
    "\n",
    "sndString :: [Char] -> Char\n",
    "sndString x = x ++ \" over the rainbow\"\n",
    "\n",
    "sing = if (x > y) then fstString x or sndString y\n",
    "where x = \"Singin\"\n",
    "      x = \"Somewhere\"\n",
    "```\n",
    "\n",
    "> **<span style=\"color:green\">Answer:</span>**\n",
    "```haskell\n",
    "module Sing where\n",
    "\n",
    "fstString :: [Char] -> [Char]\n",
    "fstString x = x ++ \" in the rain\"\n",
    "\n",
    "sndString :: [Char] -> [Char]\n",
    "sndString x = x ++ \" over the rainbow\"\n",
    "\n",
    "sing = if x > y \n",
    "    then fstString x \n",
    "    else sndString y \n",
    "    where x = \"Singin\"\n",
    "          y = \"Somewhere\"\n",
    "```"
   ]
  },
  {
   "cell_type": "markdown",
   "id": "d6906393",
   "metadata": {},
   "source": [
    "2. Now that it’s fixed, make a minor change and make it sing the other song. If you’re lucky, you’ll end up with both songs stuck in your head!\n",
    "\n",
    "> **<span style=\"color:green\">Answer:</span>**\n",
    "\n",
    "```haskell\n",
    "module Sing where\n",
    "\n",
    "fstString :: [Char] -> [Char]\n",
    "fstString x = x ++ \" in the rain\"\n",
    "\n",
    "sndString :: [Char] -> [Char]\n",
    "sndString x = x ++ \" over the rainbow\"\n",
    "\n",
    "sing = if x <= y \n",
    "    then fstString x \n",
    "    else sndString y \n",
    "    where x = \"Singin\"\n",
    "          y = \"Somewhere\"\n",
    "```"
   ]
  }
 ],
 "metadata": {
  "kernelspec": {
   "display_name": "Haskell",
   "language": "haskell",
   "name": "haskell"
  },
  "language_info": {
   "codemirror_mode": "ihaskell",
   "file_extension": ".hs",
   "mimetype": "text/x-haskell",
   "name": "haskell",
   "pygments_lexer": "Haskell",
   "version": "9.6.3"
  }
 },
 "nbformat": 4,
 "nbformat_minor": 5
}
