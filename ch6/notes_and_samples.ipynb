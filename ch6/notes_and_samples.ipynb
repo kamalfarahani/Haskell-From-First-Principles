{
 "cells": [
  {
   "cell_type": "markdown",
   "id": "cf4224b8",
   "metadata": {},
   "source": [
    "## Typeclasses\n",
    "\n",
    "Typeclasses are one of the most powerful features in Haskell, offering a unique way to achieve polymorphism and code reusability. Here's a breakdown of what they are:\n",
    "\n",
    "**Think of them as interfaces:**\n",
    "\n",
    "* Imagine typeclasses as contracts that define a set of functionalities (methods) different types can subscribe to.\n",
    "* A type becomes a member of a typeclass by providing its own implementation for the required methods. This ensures it fulfills the \"contract\" and can be used where the typeclass is expected.\n",
    "\n",
    "**Benefits of using typeclasses:**\n",
    "\n",
    "* **Generic code:** Write functions that work on various types as long as they belong to the same typeclass. No need for multiple versions for different types.\n",
    "* **Flexibility:** Different types can have different implementations for the same method, providing tailored behavior.\n",
    "* **Type safety:** Ensures functions only operate on types with appropriate functionalities, preventing errors.\n",
    "\n",
    "**Real-world examples:**\n",
    "\n",
    "* **`Eq` typeclass:** Defines how to compare things for equality (`==` operator). `Int`, `String`, and even custom data types can be members, each with their own way of checking equality.\n",
    "* **`Show` typeclass:** Defines how to convert things to strings (`show` function). Used for printing values, logging, and more.\n",
    "* **`Ord` typeclass:** Defines ordering (`<`, `>`) for types. Used for sorting, finding minimum/maximum values, etc.\n",
    "\n",
    "**Key points to remember:**\n",
    "\n",
    "* Typeclasses define **what** can be done, not **how** it's done.\n",
    "* Types implement the methods to provide the **how**.\n",
    "* Constraints on functions specify which typeclasses the arguments must belong to."
   ]
  },
  {
   "cell_type": "markdown",
   "id": "9cd411e6",
   "metadata": {},
   "source": [
    "### `Eq` Typeclass\n",
    "\n",
    "The `Eq` typeclass is used to define types that support equality comparisons. It provides the `==` (equal to) and `/=` (not equal to) operations for comparing values of the type.\n",
    "\n",
    "The `Eq` typeclass is defined as follows:\n",
    "\n",
    "```haskell\n",
    "class Eq a where\n",
    "    (==) :: a -> a -> Bool\n",
    "    (/=) :: a -> a -> Bool\n",
    "```\n",
    "\n",
    "The `Eq` typeclass has two methods: `(==)` and `(/=)`. The `(==)` function takes two values of the same type and returns a `Bool` indicating whether they are equal. The `(/=)` function is the negation of `(==)` — it returns `True` if the two values are not equal and `False` otherwise.\n",
    "\n",
    "When defining a new type, if you want to enable equality comparisons for values of that type, you need to make the type an instance of the `Eq` typeclass. For example, let's say we have a custom data type called `Person`:\n",
    "\n",
    "```haskell\n",
    "data Person = Person String Int\n",
    "```\n",
    "\n",
    "To make `Person` an instance of the `Eq` typeclass, we need to provide implementations for the `(==)` and `(/=)` functions specific to the `Person` type:\n",
    "\n",
    "```haskell\n",
    "instance Eq Person where\n",
    "    (Person name1 age1) == (Person name2 age2) = (name1 == name2) && (age1 == age2)\n",
    "    (Person name1 age1) /= (Person name2 age2) = (name1 /= name2) || (age1 /= age2)\n",
    "```\n",
    "\n",
    "In this example, we define the equality comparison based on the `name` and `age` fields of the `Person` type. Two `Person` values are considered equal if their names and ages are equal.\n",
    "\n",
    "By making a type an instance of the `Eq` typeclass, you can use the `(==)` and `(/=)` operators to compare values of that type for equality in your Haskell programs."
   ]
  },
  {
   "cell_type": "markdown",
   "id": "10be4572",
   "metadata": {},
   "source": [
    "#### Example"
   ]
  },
  {
   "cell_type": "code",
   "execution_count": 3,
   "id": "6ef50c46",
   "metadata": {},
   "outputs": [],
   "source": [
    "data Trivial = Trivial\n",
    "\n",
    "instance Eq Trivial where\n",
    "    Trivial == Trivial = True"
   ]
  },
  {
   "cell_type": "code",
   "execution_count": 4,
   "id": "9c8fdeb9",
   "metadata": {},
   "outputs": [
    {
     "data": {
      "text/plain": [
       "True"
      ]
     },
     "metadata": {},
     "output_type": "display_data"
    }
   ],
   "source": [
    "t_1 = Trivial\n",
    "t_2 = Trivial\n",
    "\n",
    "t_1 == t_2"
   ]
  },
  {
   "cell_type": "code",
   "execution_count": 14,
   "id": "bbfae27a",
   "metadata": {},
   "outputs": [],
   "source": [
    "data DayOfWeek =\n",
    "    Mon | Tue | Weds | Thu | Fri | Sat | Sun deriving Show\n",
    "\n",
    "data Date = Date DayOfWeek Int deriving Show"
   ]
  },
  {
   "cell_type": "code",
   "execution_count": 15,
   "id": "c58a2262",
   "metadata": {},
   "outputs": [],
   "source": [
    "instance Eq DayOfWeek where\n",
    "    Mon  == Mon   = True\n",
    "    Tue  == Tue   = True\n",
    "    Weds == Weds  = True\n",
    "    Thu  == Thu   = True\n",
    "    Fri  == Fri   = True\n",
    "    Sat  == Sat   = True\n",
    "    Sun  == Sun   = True\n",
    "    _    ==  _    = False"
   ]
  },
  {
   "cell_type": "code",
   "execution_count": 20,
   "id": "a2bf4b72",
   "metadata": {},
   "outputs": [],
   "source": [
    "instance Eq Date where\n",
    "    (Date dayOfWeek dayOfMonth) == (Date dayOfWeek' dayOfMonth') =\n",
    "        (dayOfWeek == dayOfWeek') && (dayOfMonth == dayOfMonth')"
   ]
  },
  {
   "cell_type": "code",
   "execution_count": 21,
   "id": "9063d807",
   "metadata": {},
   "outputs": [],
   "source": [
    "d1 = Date Tue 2\n",
    "d2 = Date Sat 3"
   ]
  },
  {
   "cell_type": "code",
   "execution_count": 22,
   "id": "bbd2a32d",
   "metadata": {},
   "outputs": [
    {
     "data": {
      "text/plain": [
       "False"
      ]
     },
     "metadata": {},
     "output_type": "display_data"
    }
   ],
   "source": [
    "d1 == d2"
   ]
  },
  {
   "cell_type": "code",
   "execution_count": 27,
   "id": "b3ce1e27",
   "metadata": {},
   "outputs": [
    {
     "data": {
      "text/html": [
       "<style>/* Styles used for the Hoogle display in the pager */\n",
       ".hoogle-doc {\n",
       "display: block;\n",
       "padding-bottom: 1.3em;\n",
       "padding-left: 0.4em;\n",
       "}\n",
       ".hoogle-code {\n",
       "display: block;\n",
       "font-family: monospace;\n",
       "white-space: pre;\n",
       "}\n",
       ".hoogle-text {\n",
       "display: block;\n",
       "}\n",
       ".hoogle-name {\n",
       "color: green;\n",
       "font-weight: bold;\n",
       "}\n",
       ".hoogle-head {\n",
       "font-weight: bold;\n",
       "}\n",
       ".hoogle-sub {\n",
       "display: block;\n",
       "margin-left: 0.4em;\n",
       "}\n",
       ".hoogle-package {\n",
       "font-weight: bold;\n",
       "font-style: italic;\n",
       "}\n",
       ".hoogle-module {\n",
       "font-weight: bold;\n",
       "}\n",
       ".hoogle-class {\n",
       "font-weight: bold;\n",
       "}\n",
       "\n",
       ".get-type {\n",
       "color: green;\n",
       "font-weight: bold;\n",
       "font-family: monospace;\n",
       "display: block;\n",
       "white-space: pre-wrap;\n",
       "}\n",
       ".show-type {\n",
       "color: green;\n",
       "font-weight: bold;\n",
       "font-family: monospace;\n",
       "margin-left: 1em;\n",
       "}\n",
       ".mono {\n",
       "font-family: monospace;\n",
       "display: block;\n",
       "}\n",
       ".err-msg {\n",
       "color: red;\n",
       "font-style: italic;\n",
       "font-family: monospace;\n",
       "white-space: pre;\n",
       "display: block;\n",
       "}\n",
       "#unshowable {\n",
       "color: red;\n",
       "font-weight: bold;\n",
       "}\n",
       ".err-msg.in.collapse {\n",
       "padding-top: 0.7em;\n",
       "}\n",
       "\n",
       ".highlight-code {\n",
       "white-space: pre;\n",
       "font-family: monospace;\n",
       "}\n",
       "\n",
       ".suggestion-warning { \n",
       "font-weight: bold;\n",
       "color: rgb(200, 130, 0);\n",
       "}\n",
       ".suggestion-error { \n",
       "font-weight: bold;\n",
       "color: red;\n",
       "}\n",
       ".suggestion-name {\n",
       "font-weight: bold;\n",
       "}\n",
       "\n",
       "</style><div class=\"suggestion-name\" style=\"clear:both;\">Use newtype instead of data</div><div class=\"suggestion-row\" style=\"float: left;\"><div class=\"suggestion-warning\">Found:</div><div class=\"highlight-code\" id=\"haskell\">data Identity a\n",
       "  = Identity a\n",
       "  deriving Show</div></div><div class=\"suggestion-row\" style=\"float: left;\"><div class=\"suggestion-warning\">Why Not:</div><div class=\"highlight-code\" id=\"haskell\">newtype Identity a\n",
       "  = Identity a\n",
       "  deriving Show</div></div>"
      ],
      "text/plain": [
       "Line 1: Use newtype instead of data\n",
       "Found:\n",
       "data Identity a\n",
       "  = Identity a\n",
       "  deriving Show\n",
       "Why not:\n",
       "newtype Identity a\n",
       "  = Identity a\n",
       "  deriving Show"
      ]
     },
     "metadata": {},
     "output_type": "display_data"
    }
   ],
   "source": [
    "data Identity a = Identity a deriving Show"
   ]
  },
  {
   "cell_type": "code",
   "execution_count": 28,
   "id": "dd4088ea",
   "metadata": {},
   "outputs": [],
   "source": [
    "instance Eq a => Eq (Identity a) where\n",
    "    (==) (Identity x) (Identity x') = x == x'"
   ]
  },
  {
   "cell_type": "markdown",
   "id": "e032bb7b",
   "metadata": {},
   "source": [
    "### Exercises: `Eq` Instances\n",
    "\n",
    "Write the `Eq` instance for the datatype provided.\n",
    "\n",
    "1. It’s not a typo, we’re just being cute with the name.\n",
    "```haskell\n",
    "data TisAnInteger =\n",
    "    TisAn Integer\n",
    "```"
   ]
  },
  {
   "cell_type": "code",
   "execution_count": 29,
   "id": "3e7d8daf",
   "metadata": {},
   "outputs": [
    {
     "data": {
      "text/html": [
       "<style>/* Styles used for the Hoogle display in the pager */\n",
       ".hoogle-doc {\n",
       "display: block;\n",
       "padding-bottom: 1.3em;\n",
       "padding-left: 0.4em;\n",
       "}\n",
       ".hoogle-code {\n",
       "display: block;\n",
       "font-family: monospace;\n",
       "white-space: pre;\n",
       "}\n",
       ".hoogle-text {\n",
       "display: block;\n",
       "}\n",
       ".hoogle-name {\n",
       "color: green;\n",
       "font-weight: bold;\n",
       "}\n",
       ".hoogle-head {\n",
       "font-weight: bold;\n",
       "}\n",
       ".hoogle-sub {\n",
       "display: block;\n",
       "margin-left: 0.4em;\n",
       "}\n",
       ".hoogle-package {\n",
       "font-weight: bold;\n",
       "font-style: italic;\n",
       "}\n",
       ".hoogle-module {\n",
       "font-weight: bold;\n",
       "}\n",
       ".hoogle-class {\n",
       "font-weight: bold;\n",
       "}\n",
       "\n",
       ".get-type {\n",
       "color: green;\n",
       "font-weight: bold;\n",
       "font-family: monospace;\n",
       "display: block;\n",
       "white-space: pre-wrap;\n",
       "}\n",
       ".show-type {\n",
       "color: green;\n",
       "font-weight: bold;\n",
       "font-family: monospace;\n",
       "margin-left: 1em;\n",
       "}\n",
       ".mono {\n",
       "font-family: monospace;\n",
       "display: block;\n",
       "}\n",
       ".err-msg {\n",
       "color: red;\n",
       "font-style: italic;\n",
       "font-family: monospace;\n",
       "white-space: pre;\n",
       "display: block;\n",
       "}\n",
       "#unshowable {\n",
       "color: red;\n",
       "font-weight: bold;\n",
       "}\n",
       ".err-msg.in.collapse {\n",
       "padding-top: 0.7em;\n",
       "}\n",
       "\n",
       ".highlight-code {\n",
       "white-space: pre;\n",
       "font-family: monospace;\n",
       "}\n",
       "\n",
       ".suggestion-warning { \n",
       "font-weight: bold;\n",
       "color: rgb(200, 130, 0);\n",
       "}\n",
       ".suggestion-error { \n",
       "font-weight: bold;\n",
       "color: red;\n",
       "}\n",
       ".suggestion-name {\n",
       "font-weight: bold;\n",
       "}\n",
       "\n",
       "</style><div class=\"suggestion-name\" style=\"clear:both;\">Use newtype instead of data</div><div class=\"suggestion-row\" style=\"float: left;\"><div class=\"suggestion-warning\">Found:</div><div class=\"highlight-code\" id=\"haskell\">data TisAnInteger = TisAn Integer</div></div><div class=\"suggestion-row\" style=\"float: left;\"><div class=\"suggestion-warning\">Why Not:</div><div class=\"highlight-code\" id=\"haskell\">newtype TisAnInteger = TisAn Integer</div></div>"
      ],
      "text/plain": [
       "Line 1: Use newtype instead of data\n",
       "Found:\n",
       "data TisAnInteger = TisAn Integer\n",
       "Why not:\n",
       "newtype TisAnInteger = TisAn Integer"
      ]
     },
     "metadata": {},
     "output_type": "display_data"
    }
   ],
   "source": [
    "data TisAnInteger =\n",
    "    TisAn Integer\n",
    "\n",
    "instance Eq TisAnInteger where\n",
    "    (==) (TisAn x) (TisAn x') = x == x'"
   ]
  },
  {
   "cell_type": "markdown",
   "id": "da607600",
   "metadata": {},
   "source": [
    "2.\n",
    "```haskell\n",
    "data TwoIntegers =\n",
    "    Two Integer Integer\n",
    "```"
   ]
  },
  {
   "cell_type": "code",
   "execution_count": 31,
   "id": "692f03ac",
   "metadata": {},
   "outputs": [],
   "source": [
    "data TwoIntegers =\n",
    "    Two Integer Integer\n",
    "\n",
    "instance Eq TwoIntegers where\n",
    "    (==) (Two x1 x2) (Two x1' x2') = (x1 == x1') && (x2 == x2')"
   ]
  },
  {
   "cell_type": "markdown",
   "id": "2030d120",
   "metadata": {},
   "source": [
    "3.\n",
    "```haskell\n",
    "data StringOrInt =\n",
    "    TisAnInt Int | TisAString String\n",
    "```"
   ]
  },
  {
   "cell_type": "code",
   "execution_count": 33,
   "id": "25de8b07",
   "metadata": {},
   "outputs": [],
   "source": [
    "data StringOrInt =\n",
    "    TisAnInt Int | TisAString String\n",
    "\n",
    "instance Eq StringOrInt where\n",
    "    (==) (TisAnInt x) (TisAnInt x') = x == x'\n",
    "    (==) (TisAString s) (TisAString s') = s == s'\n",
    "    (==) _ _ = False"
   ]
  },
  {
   "cell_type": "markdown",
   "id": "48c58f2f",
   "metadata": {},
   "source": [
    "4.\n",
    "```haskell\n",
    "data Pair a = Pair a a\n",
    "```"
   ]
  },
  {
   "cell_type": "code",
   "execution_count": 34,
   "id": "e020fb10",
   "metadata": {},
   "outputs": [],
   "source": [
    "data Pair a = Pair a a\n",
    "\n",
    "instance Eq a => Eq (Pair a) where\n",
    "    (==) (Pair x y) (Pair x' y') = (x == x') && (y == y')"
   ]
  },
  {
   "cell_type": "markdown",
   "id": "a2f47902",
   "metadata": {},
   "source": [
    "5.\n",
    "```haskell\n",
    "data Tuple a b = Tuple a b\n",
    "```"
   ]
  },
  {
   "cell_type": "code",
   "execution_count": 37,
   "id": "b44b0230",
   "metadata": {},
   "outputs": [],
   "source": [
    "data Tuple a b = Tuple a b\n",
    "\n",
    "instance (Eq a, Eq b) => Eq (Tuple a b) where\n",
    "    (==) (Tuple x y) (Tuple x' y') = (x == x') && (y == y')"
   ]
  },
  {
   "cell_type": "markdown",
   "id": "ece0afb4",
   "metadata": {},
   "source": [
    "6.\n",
    "```haskell\n",
    "data Which a =\n",
    "    ThisOne a\n",
    "  | ThatOne a\n",
    "```"
   ]
  },
  {
   "cell_type": "code",
   "execution_count": 38,
   "id": "0abca054",
   "metadata": {},
   "outputs": [],
   "source": [
    "data Which a = ThisOne a | ThatOne a\n",
    "\n",
    "instance Eq a => Eq (Which a) where\n",
    "    (==) (ThisOne x) (ThisOne y) = x == y\n",
    "    (==) (ThatOne x) (ThatOne y) = x == y\n",
    "    (==) _ _ = False"
   ]
  },
  {
   "cell_type": "markdown",
   "id": "8766f5e3",
   "metadata": {},
   "source": [
    "7.\n",
    "```haskell\n",
    "data EitherOr a b =\n",
    "    Hello a\n",
    "  | Goodbye b\n",
    "```"
   ]
  },
  {
   "cell_type": "code",
   "execution_count": null,
   "id": "f3b6e82d",
   "metadata": {},
   "outputs": [],
   "source": [
    "data EitherOr a b = Hello a | Goodbye b\n",
    "\n",
    "instance (Eq a, Eq b) => Eq (EitherOr a b) where\n",
    "    (==) (Hello x) (Hello x') = x == x'\n",
    "    (==) (Goodbye x) (Goodbye x') = x == x'\n",
    "    (==) _ _ = False"
   ]
  },
  {
   "cell_type": "markdown",
   "id": "91e38217",
   "metadata": {},
   "source": [
    "### `Num` Typeclass\n",
    "\n",
    "In Haskell, the `Num` typeclass is used to represent numeric types. It provides a common interface for numeric operations such as addition, subtraction, multiplication, and others. The `Num` typeclass is a superclass of several other numeric typeclasses, including `Integral`, `Fractional`, and `Floating`.\n",
    "\n",
    "The `Num` typeclass is defined as follows:\n",
    "\n",
    "```haskell\n",
    "class Num a where\n",
    "    (+) :: a -> a -> a\n",
    "    (-) :: a -> a -> a\n",
    "    (*) :: a -> a -> a\n",
    "    negate :: a -> a\n",
    "    abs :: a -> a\n",
    "    signum :: a -> a\n",
    "    fromInteger :: Integer -> a\n",
    "```\n",
    "\n",
    "The `Num` typeclass consists of several functions (also known as methods) that must be implemented for a type to be considered an instance of `Num`. Here's a brief explanation of these functions:\n",
    "\n",
    "- `(+)`, `(-)`, and `(*)` are binary operators for addition, subtraction, and multiplication, respectively.\n",
    "- `negate` is a unary operator that negates a numeric value.\n",
    "- `abs` returns the absolute value of a numeric value.\n",
    "- `signum` Sign of a number. The functions `abs` and signum should satisfy the law:\n",
    "```haskell\n",
    "abs x * signum x == x\n",
    "```\n",
    "- `fromInteger` converts an `Integer` value to the numeric type.\n",
    "\n",
    "To make a type an instance of `Num`, you need to define these functions appropriately for that type. For example, the `Int` and `Double` types are instances of `Num`, so the operations defined in the `Num` typeclass work on values of those types.\n",
    "\n",
    "Here's an example of using the `Num` typeclass:\n",
    "\n",
    "```haskell\n",
    "addAndDouble :: Num a => a -> a\n",
    "addAndDouble x = (x + x) * 2\n",
    "\n",
    "main :: IO ()\n",
    "main = do\n",
    "    let result1 = addAndDouble (5 :: Int)\n",
    "        result2 = addAndDouble (2.5 :: Double)\n",
    "    putStrLn $ \"Result 1: \" ++ show result1\n",
    "    putStrLn $ \"Result 2: \" ++ show result2\n",
    "```\n",
    "\n",
    "In this example, the `addAndDouble` function takes a numeric value `x`, adds it to itself, and then multiplies the result by 2. The function works for any type that is an instance of `Num`. In the `main` function, we call `addAndDouble` with an `Int` and a `Double` value, demonstrating how the `Num` typeclass allows polymorphic operations on different numeric types."
   ]
  },
  {
   "cell_type": "code",
   "execution_count": 5,
   "id": "6d7c72a3",
   "metadata": {},
   "outputs": [],
   "source": [
    "-- Define a custom data type\n",
    "data Complex = Complex Double Double deriving (Show, Eq)\n",
    "\n",
    "-- Make Complex an instance of Num\n",
    "instance Num Complex where\n",
    "  (Complex a b) + (Complex c d) = Complex (a + c) (b + d)\n",
    "  (Complex a b) - (Complex c d) = Complex (a - c) (b - d)\n",
    "  (Complex a b) * (Complex c d) = Complex (a * c - b * d) (a * d + b * c)\n",
    "  negate (Complex a b) = Complex (-a) (-b)\n",
    "  abs (Complex a b) = Complex (sqrt (a * a + b * b)) 0\n",
    "  signum (Complex a b) = Complex (a / r) (b / r)\n",
    "      where Complex r _ = abs (Complex a b)\n",
    "  fromInteger x = Complex (fromInteger x) 0"
   ]
  },
  {
   "cell_type": "code",
   "execution_count": 10,
   "id": "22e03069",
   "metadata": {},
   "outputs": [
    {
     "data": {
      "text/plain": [
       "Complex 2.0 3.0"
      ]
     },
     "metadata": {},
     "output_type": "display_data"
    }
   ],
   "source": [
    "c_1 = Complex 2 3\n",
    "c_1"
   ]
  },
  {
   "cell_type": "markdown",
   "id": "1d6799c2",
   "metadata": {},
   "source": [
    "### `Integral` typeclass\n",
    "\n",
    "In Haskell, the `Integral` typeclass is used for types that represent integers. It provides a common interface for integer arithmetic operations, including division and remainder. The `Integral` typeclass is a subclass of the more general `Num` typeclass, which means that any type that is an instance of `Integral` must also be an instance of `Num`.\n",
    "\n",
    "The `Integral` typeclass is defined as follows:\n",
    "\n",
    "```haskell\n",
    "class (Real a, Enum a) => Integral a where\n",
    "    quot :: a -> a -> a\n",
    "    rem :: a -> a -> a\n",
    "    div :: a -> a -> a\n",
    "    mod :: a -> a -> a\n",
    "    quotRem :: a -> a -> (a, a)\n",
    "    divMod :: a -> a -> (a, a)\n",
    "    toInteger :: a -> Integer\n",
    "```\n",
    "\n",
    "Let's briefly go through the functions defined in the `Integral` typeclass:\n",
    "\n",
    "- `quot` performs integer division and truncates towards zero.\n",
    "- `rem` returns the remainder after integer division.\n",
    "- `div` performs integer division and truncates towards negative infinity.\n",
    "- `mod` returns the remainder after integer division, with the sign matching the dividend.\n",
    "- `quotRem` is a combination of `quot` and `rem` and returns both the quotient and the remainder as a tuple.\n",
    "- `divMod` is similar to `quotRem` but uses `div` and `mod` instead.\n",
    "- `toInteger` converts an integral value to the `Integer` type.\n",
    "\n",
    "To make a type an instance of `Integral`, you need to define these functions appropriately for that type. For example, the `Int` and `Integer` types are instances of `Integral`, so the operations defined in the `Integral` typeclass work on values of those types.\n",
    "\n",
    "Here's an example of using the `Integral` typeclass:\n",
    "\n",
    "```haskell\n",
    "sumOfSquares :: Integral a => a -> a\n",
    "sumOfSquares n = sum [x^2 | x <- [1..n]]\n",
    "\n",
    "main :: IO ()\n",
    "main = do\n",
    "    let result1 = sumOfSquares (5 :: Int)\n",
    "        result2 = sumOfSquares (10 :: Integer)\n",
    "    putStrLn $ \"Result 1: \" ++ show result1\n",
    "    putStrLn $ \"Result 2: \" ++ show result2\n",
    "```\n",
    "\n",
    "In this example, the `sumOfSquares` function takes an integer value `n` and calculates the sum of the squares of the numbers from 1 to `n`. The function works for any type that is an instance of `Integral`. In the `main` function, we call `sumOfSquares` with an `Int` and an `Integer` value, demonstrating how the `Integral` typeclass allows polymorphic operations on different integral types."
   ]
  },
  {
   "cell_type": "markdown",
   "id": "7cb67a38",
   "metadata": {},
   "source": [
    "### Exercise: Tuple Experiment\n",
    "\n",
    "Look at the types given for `quotRem` and `divMod`. What do you think those functions do? Test your hypotheses by playing with them in the `REPL`. We’ve given you a sample to start with below:\n",
    "\n",
    "```haskell\n",
    "let ones x = snd (divMod x 10)\n",
    "```"
   ]
  },
  {
   "cell_type": "code",
   "execution_count": 12,
   "id": "bd678e33",
   "metadata": {},
   "outputs": [
    {
     "data": {
      "text/plain": [
       "3"
      ]
     },
     "metadata": {},
     "output_type": "display_data"
    }
   ],
   "source": [
    "ones x = snd (divMod x 10)\n",
    "\n",
    "ones 103"
   ]
  },
  {
   "cell_type": "code",
   "execution_count": 14,
   "id": "f5465756",
   "metadata": {},
   "outputs": [
    {
     "data": {
      "text/plain": [
       "(33,1)"
      ]
     },
     "metadata": {},
     "output_type": "display_data"
    }
   ],
   "source": [
    "divMod 100 3"
   ]
  },
  {
   "cell_type": "markdown",
   "id": "41d2a6fb",
   "metadata": {},
   "source": [
    "> **<span style=\"color:green\">Answer</span>**: `divMod` return a tuple containing the result of `div` and `mod` "
   ]
  },
  {
   "cell_type": "markdown",
   "id": "b65cf603",
   "metadata": {},
   "source": [
    "### Type-defaulting typeclasses\n",
    "\n",
    "When dealing with a polymorphic value that is constrained by a typeclass, and you need to evaluate or use that value, you must determine a specific concrete type for it. This means that the polymorphism needs to be resolved to a particular type. The chosen concrete type must have implementations for all the required typeclass instances. For example, if the value is required to have instances for both the `Num` and `Fractional` typeclasses, then the concrete type cannot be `Int` because `Int` does not have a `Fractional` instance.\n",
    "\n",
    "The Haskell Report4 specifies the following defaults relevant to numerical computations:\n",
    "```haskell\n",
    "default Num Integer\n",
    "default Real Integer\n",
    "default Enum Integer\n",
    "default Integral Integer\n",
    "default Fractional Double\n",
    "default RealFrac Double\n",
    "default Floating Double\n",
    "default RealFloat Double\n",
    "```"
   ]
  },
  {
   "cell_type": "markdown",
   "id": "35375a10",
   "metadata": {},
   "source": [
    "### `Ord` Typeclass\n",
    "\n",
    "In Haskell, the `Ord` typeclass is used to define ordering relations between values. It provides a set of functions and operators that allow you to compare and order values of a particular type. The `Ord` typeclass is defined in the Prelude module, which is automatically imported into every Haskell program.\n",
    "\n",
    "```haskell\n",
    "class Eq a => Ord a where\n",
    "    compare :: a -> a -> Ordering\n",
    "    (<) :: a -> a -> Bool\n",
    "    (<=) :: a -> a -> Bool\n",
    "    (>) :: a -> a -> Bool\n",
    "    (>=) :: a -> a -> Bool\n",
    "    max :: a -> a -> a\n",
    "    min :: a -> a -> a\n",
    "```\n",
    "\n",
    "A few things to keep in mind about writing `Ord` instances: First, it\n",
    "is wise to ensure that your `Ord` instances agree with your `Eq` instances,\n",
    "whether the `Eq` instances are derived or manually written. If `x == y`,\n",
    "then `compare x y` should return `EQ`. Also, you want your `Ord` instances\n",
    "to define a sensible total order. You ensure this in part by covering\n",
    "all cases and not writing partial instances, as we noted above with\n",
    "`Eq`. In general, your `Ord` instance should be written such that, when\n",
    "`compare x y` returns `LT`, then `compare y x` returns `GT`."
   ]
  },
  {
   "cell_type": "code",
   "execution_count": 40,
   "id": "061fab9b",
   "metadata": {},
   "outputs": [],
   "source": [
    "data DayOfWeek =\n",
    "    Mon | Tue | Weds | Thu | Fri | Sat | Sun deriving (Eq, Ord, Show)"
   ]
  },
  {
   "cell_type": "code",
   "execution_count": null,
   "id": "5a070564",
   "metadata": {},
   "outputs": [
    {
     "data": {
      "text/plain": [
       "LT"
      ]
     },
     "metadata": {},
     "output_type": "display_data"
    }
   ],
   "source": [
    "compare Mon Tue"
   ]
  }
 ],
 "metadata": {
  "kernelspec": {
   "display_name": "Haskell",
   "language": "haskell",
   "name": "haskell"
  },
  "language_info": {
   "codemirror_mode": "ihaskell",
   "file_extension": ".hs",
   "mimetype": "text/x-haskell",
   "name": "haskell",
   "pygments_lexer": "Haskell",
   "version": "9.6.3"
  }
 },
 "nbformat": 4,
 "nbformat_minor": 5
}
