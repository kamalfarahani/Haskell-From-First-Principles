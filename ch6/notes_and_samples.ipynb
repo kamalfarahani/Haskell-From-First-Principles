{
 "cells": [
  {
   "cell_type": "markdown",
   "id": "cf4224b8",
   "metadata": {},
   "source": [
    "## Typeclasses\n",
    "\n",
    "Typeclasses are one of the most powerful features in Haskell, offering a unique way to achieve polymorphism and code reusability. Here's a breakdown of what they are:\n",
    "\n",
    "**Think of them as interfaces:**\n",
    "\n",
    "* Imagine typeclasses as contracts that define a set of functionalities (methods) different types can subscribe to.\n",
    "* A type becomes a member of a typeclass by providing its own implementation for the required methods. This ensures it fulfills the \"contract\" and can be used where the typeclass is expected.\n",
    "\n",
    "**Benefits of using typeclasses:**\n",
    "\n",
    "* **Generic code:** Write functions that work on various types as long as they belong to the same typeclass. No need for multiple versions for different types.\n",
    "* **Flexibility:** Different types can have different implementations for the same method, providing tailored behavior.\n",
    "* **Type safety:** Ensures functions only operate on types with appropriate functionalities, preventing errors.\n",
    "\n",
    "**Real-world examples:**\n",
    "\n",
    "* **`Eq` typeclass:** Defines how to compare things for equality (`==` operator). `Int`, `String`, and even custom data types can be members, each with their own way of checking equality.\n",
    "* **`Show` typeclass:** Defines how to convert things to strings (`show` function). Used for printing values, logging, and more.\n",
    "* **`Ord` typeclass:** Defines ordering (`<`, `>`) for types. Used for sorting, finding minimum/maximum values, etc.\n",
    "\n",
    "**Key points to remember:**\n",
    "\n",
    "* Typeclasses define **what** can be done, not **how** it's done.\n",
    "* Types implement the methods to provide the **how**.\n",
    "* Constraints on functions specify which typeclasses the arguments must belong to."
   ]
  },
  {
   "cell_type": "markdown",
   "id": "9cd411e6",
   "metadata": {},
   "source": [
    "### Eq\n",
    "\n",
    "The `Eq` typeclass is used to define types that support equality comparisons. It provides the `==` (equal to) and `/=` (not equal to) operations for comparing values of the type.\n",
    "\n",
    "The `Eq` typeclass is defined as follows:\n",
    "\n",
    "```haskell\n",
    "class Eq a where\n",
    "    (==) :: a -> a -> Bool\n",
    "    (/=) :: a -> a -> Bool\n",
    "```\n",
    "\n",
    "The `Eq` typeclass has two methods: `(==)` and `(/=)`. The `(==)` function takes two values of the same type and returns a `Bool` indicating whether they are equal. The `(/=)` function is the negation of `(==)` — it returns `True` if the two values are not equal and `False` otherwise.\n",
    "\n",
    "When defining a new type, if you want to enable equality comparisons for values of that type, you need to make the type an instance of the `Eq` typeclass. For example, let's say we have a custom data type called `Person`:\n",
    "\n",
    "```haskell\n",
    "data Person = Person String Int\n",
    "```\n",
    "\n",
    "To make `Person` an instance of the `Eq` typeclass, we need to provide implementations for the `(==)` and `(/=)` functions specific to the `Person` type:\n",
    "\n",
    "```haskell\n",
    "instance Eq Person where\n",
    "    (Person name1 age1) == (Person name2 age2) = (name1 == name2) && (age1 == age2)\n",
    "    (Person name1 age1) /= (Person name2 age2) = (name1 /= name2) || (age1 /= age2)\n",
    "```\n",
    "\n",
    "In this example, we define the equality comparison based on the `name` and `age` fields of the `Person` type. Two `Person` values are considered equal if their names and ages are equal.\n",
    "\n",
    "By making a type an instance of the `Eq` typeclass, you can use the `(==)` and `(/=)` operators to compare values of that type for equality in your Haskell programs."
   ]
  },
  {
   "cell_type": "markdown",
   "id": "10be4572",
   "metadata": {},
   "source": [
    "#### Example"
   ]
  },
  {
   "cell_type": "code",
   "execution_count": 3,
   "id": "6ef50c46",
   "metadata": {},
   "outputs": [],
   "source": [
    "data Trivial = Trivial\n",
    "\n",
    "instance Eq Trivial where\n",
    "    Trivial == Trivial = True"
   ]
  },
  {
   "cell_type": "code",
   "execution_count": 4,
   "id": "9c8fdeb9",
   "metadata": {},
   "outputs": [
    {
     "data": {
      "text/plain": [
       "True"
      ]
     },
     "metadata": {},
     "output_type": "display_data"
    }
   ],
   "source": [
    "t_1 = Trivial\n",
    "t_2 = Trivial\n",
    "\n",
    "t_1 == t_2"
   ]
  },
  {
   "cell_type": "code",
   "execution_count": 14,
   "id": "bbfae27a",
   "metadata": {},
   "outputs": [],
   "source": [
    "data DayOfWeek =\n",
    "    Mon | Tue | Weds | Thu | Fri | Sat | Sun deriving Show\n",
    "\n",
    "data Date = Date DayOfWeek Int deriving Show"
   ]
  },
  {
   "cell_type": "code",
   "execution_count": 15,
   "id": "c58a2262",
   "metadata": {},
   "outputs": [],
   "source": [
    "instance Eq DayOfWeek where\n",
    "    Mon  == Mon   = True\n",
    "    Tue  == Tue   = True\n",
    "    Weds == Weds  = True\n",
    "    Thu  == Thu   = True\n",
    "    Fri  == Fri   = True\n",
    "    Sat  == Sat   = True\n",
    "    Sun  == Sun   = True\n",
    "    _    ==  _    = False"
   ]
  },
  {
   "cell_type": "code",
   "execution_count": 20,
   "id": "a2bf4b72",
   "metadata": {},
   "outputs": [],
   "source": [
    "instance Eq Date where\n",
    "    (Date dayOfWeek dayOfMonth) == (Date dayOfWeek' dayOfMonth') =\n",
    "        (dayOfWeek == dayOfWeek') && (dayOfMonth == dayOfMonth')"
   ]
  },
  {
   "cell_type": "code",
   "execution_count": 21,
   "id": "9063d807",
   "metadata": {},
   "outputs": [],
   "source": [
    "d1 = Date Tue 2\n",
    "d2 = Date Sat 3"
   ]
  },
  {
   "cell_type": "code",
   "execution_count": 22,
   "id": "bbd2a32d",
   "metadata": {},
   "outputs": [
    {
     "data": {
      "text/plain": [
       "False"
      ]
     },
     "metadata": {},
     "output_type": "display_data"
    }
   ],
   "source": [
    "d1 == d2"
   ]
  },
  {
   "cell_type": "code",
   "execution_count": 27,
   "id": "b3ce1e27",
   "metadata": {},
   "outputs": [
    {
     "data": {
      "text/html": [
       "<style>/* Styles used for the Hoogle display in the pager */\n",
       ".hoogle-doc {\n",
       "display: block;\n",
       "padding-bottom: 1.3em;\n",
       "padding-left: 0.4em;\n",
       "}\n",
       ".hoogle-code {\n",
       "display: block;\n",
       "font-family: monospace;\n",
       "white-space: pre;\n",
       "}\n",
       ".hoogle-text {\n",
       "display: block;\n",
       "}\n",
       ".hoogle-name {\n",
       "color: green;\n",
       "font-weight: bold;\n",
       "}\n",
       ".hoogle-head {\n",
       "font-weight: bold;\n",
       "}\n",
       ".hoogle-sub {\n",
       "display: block;\n",
       "margin-left: 0.4em;\n",
       "}\n",
       ".hoogle-package {\n",
       "font-weight: bold;\n",
       "font-style: italic;\n",
       "}\n",
       ".hoogle-module {\n",
       "font-weight: bold;\n",
       "}\n",
       ".hoogle-class {\n",
       "font-weight: bold;\n",
       "}\n",
       "\n",
       ".get-type {\n",
       "color: green;\n",
       "font-weight: bold;\n",
       "font-family: monospace;\n",
       "display: block;\n",
       "white-space: pre-wrap;\n",
       "}\n",
       ".show-type {\n",
       "color: green;\n",
       "font-weight: bold;\n",
       "font-family: monospace;\n",
       "margin-left: 1em;\n",
       "}\n",
       ".mono {\n",
       "font-family: monospace;\n",
       "display: block;\n",
       "}\n",
       ".err-msg {\n",
       "color: red;\n",
       "font-style: italic;\n",
       "font-family: monospace;\n",
       "white-space: pre;\n",
       "display: block;\n",
       "}\n",
       "#unshowable {\n",
       "color: red;\n",
       "font-weight: bold;\n",
       "}\n",
       ".err-msg.in.collapse {\n",
       "padding-top: 0.7em;\n",
       "}\n",
       "\n",
       ".highlight-code {\n",
       "white-space: pre;\n",
       "font-family: monospace;\n",
       "}\n",
       "\n",
       ".suggestion-warning { \n",
       "font-weight: bold;\n",
       "color: rgb(200, 130, 0);\n",
       "}\n",
       ".suggestion-error { \n",
       "font-weight: bold;\n",
       "color: red;\n",
       "}\n",
       ".suggestion-name {\n",
       "font-weight: bold;\n",
       "}\n",
       "\n",
       "</style><div class=\"suggestion-name\" style=\"clear:both;\">Use newtype instead of data</div><div class=\"suggestion-row\" style=\"float: left;\"><div class=\"suggestion-warning\">Found:</div><div class=\"highlight-code\" id=\"haskell\">data Identity a\n",
       "  = Identity a\n",
       "  deriving Show</div></div><div class=\"suggestion-row\" style=\"float: left;\"><div class=\"suggestion-warning\">Why Not:</div><div class=\"highlight-code\" id=\"haskell\">newtype Identity a\n",
       "  = Identity a\n",
       "  deriving Show</div></div>"
      ],
      "text/plain": [
       "Line 1: Use newtype instead of data\n",
       "Found:\n",
       "data Identity a\n",
       "  = Identity a\n",
       "  deriving Show\n",
       "Why not:\n",
       "newtype Identity a\n",
       "  = Identity a\n",
       "  deriving Show"
      ]
     },
     "metadata": {},
     "output_type": "display_data"
    }
   ],
   "source": [
    "data Identity a = Identity a deriving Show"
   ]
  },
  {
   "cell_type": "code",
   "execution_count": 28,
   "id": "dd4088ea",
   "metadata": {},
   "outputs": [],
   "source": [
    "instance Eq a => Eq (Identity a) where\n",
    "    (==) (Identity x) (Identity x') = x == x'"
   ]
  },
  {
   "cell_type": "markdown",
   "id": "e032bb7b",
   "metadata": {},
   "source": [
    "### Exercises: `Eq` Instances\n",
    "\n",
    "Write the `Eq` instance for the datatype provided.\n",
    "\n",
    "1. It’s not a typo, we’re just being cute with the name.\n",
    "```haskell\n",
    "data TisAnInteger =\n",
    "    TisAn Integer\n",
    "```"
   ]
  },
  {
   "cell_type": "code",
   "execution_count": 29,
   "id": "3e7d8daf",
   "metadata": {},
   "outputs": [
    {
     "data": {
      "text/html": [
       "<style>/* Styles used for the Hoogle display in the pager */\n",
       ".hoogle-doc {\n",
       "display: block;\n",
       "padding-bottom: 1.3em;\n",
       "padding-left: 0.4em;\n",
       "}\n",
       ".hoogle-code {\n",
       "display: block;\n",
       "font-family: monospace;\n",
       "white-space: pre;\n",
       "}\n",
       ".hoogle-text {\n",
       "display: block;\n",
       "}\n",
       ".hoogle-name {\n",
       "color: green;\n",
       "font-weight: bold;\n",
       "}\n",
       ".hoogle-head {\n",
       "font-weight: bold;\n",
       "}\n",
       ".hoogle-sub {\n",
       "display: block;\n",
       "margin-left: 0.4em;\n",
       "}\n",
       ".hoogle-package {\n",
       "font-weight: bold;\n",
       "font-style: italic;\n",
       "}\n",
       ".hoogle-module {\n",
       "font-weight: bold;\n",
       "}\n",
       ".hoogle-class {\n",
       "font-weight: bold;\n",
       "}\n",
       "\n",
       ".get-type {\n",
       "color: green;\n",
       "font-weight: bold;\n",
       "font-family: monospace;\n",
       "display: block;\n",
       "white-space: pre-wrap;\n",
       "}\n",
       ".show-type {\n",
       "color: green;\n",
       "font-weight: bold;\n",
       "font-family: monospace;\n",
       "margin-left: 1em;\n",
       "}\n",
       ".mono {\n",
       "font-family: monospace;\n",
       "display: block;\n",
       "}\n",
       ".err-msg {\n",
       "color: red;\n",
       "font-style: italic;\n",
       "font-family: monospace;\n",
       "white-space: pre;\n",
       "display: block;\n",
       "}\n",
       "#unshowable {\n",
       "color: red;\n",
       "font-weight: bold;\n",
       "}\n",
       ".err-msg.in.collapse {\n",
       "padding-top: 0.7em;\n",
       "}\n",
       "\n",
       ".highlight-code {\n",
       "white-space: pre;\n",
       "font-family: monospace;\n",
       "}\n",
       "\n",
       ".suggestion-warning { \n",
       "font-weight: bold;\n",
       "color: rgb(200, 130, 0);\n",
       "}\n",
       ".suggestion-error { \n",
       "font-weight: bold;\n",
       "color: red;\n",
       "}\n",
       ".suggestion-name {\n",
       "font-weight: bold;\n",
       "}\n",
       "\n",
       "</style><div class=\"suggestion-name\" style=\"clear:both;\">Use newtype instead of data</div><div class=\"suggestion-row\" style=\"float: left;\"><div class=\"suggestion-warning\">Found:</div><div class=\"highlight-code\" id=\"haskell\">data TisAnInteger = TisAn Integer</div></div><div class=\"suggestion-row\" style=\"float: left;\"><div class=\"suggestion-warning\">Why Not:</div><div class=\"highlight-code\" id=\"haskell\">newtype TisAnInteger = TisAn Integer</div></div>"
      ],
      "text/plain": [
       "Line 1: Use newtype instead of data\n",
       "Found:\n",
       "data TisAnInteger = TisAn Integer\n",
       "Why not:\n",
       "newtype TisAnInteger = TisAn Integer"
      ]
     },
     "metadata": {},
     "output_type": "display_data"
    }
   ],
   "source": [
    "data TisAnInteger =\n",
    "    TisAn Integer\n",
    "\n",
    "instance Eq TisAnInteger where\n",
    "    (==) (TisAn x) (TisAn x') = x == x'"
   ]
  },
  {
   "cell_type": "markdown",
   "id": "da607600",
   "metadata": {},
   "source": [
    "2.\n",
    "```haskell\n",
    "data TwoIntegers =\n",
    "    Two Integer Integer\n",
    "```"
   ]
  },
  {
   "cell_type": "code",
   "execution_count": 31,
   "id": "692f03ac",
   "metadata": {},
   "outputs": [],
   "source": [
    "data TwoIntegers =\n",
    "    Two Integer Integer\n",
    "\n",
    "instance Eq TwoIntegers where\n",
    "    (==) (Two x1 x2) (Two x1' x2') = (x1 == x1') && (x2 == x2')"
   ]
  },
  {
   "cell_type": "markdown",
   "id": "2030d120",
   "metadata": {},
   "source": [
    "3.\n",
    "```haskell\n",
    "data StringOrInt =\n",
    "    TisAnInt Int | TisAString String\n",
    "```"
   ]
  },
  {
   "cell_type": "code",
   "execution_count": 33,
   "id": "25de8b07",
   "metadata": {},
   "outputs": [],
   "source": [
    "data StringOrInt =\n",
    "    TisAnInt Int | TisAString String\n",
    "\n",
    "instance Eq StringOrInt where\n",
    "    (==) (TisAnInt x) (TisAnInt x') = x == x'\n",
    "    (==) (TisAString s) (TisAString s') = s == s'\n",
    "    (==) _ _ = False"
   ]
  },
  {
   "cell_type": "markdown",
   "id": "48c58f2f",
   "metadata": {},
   "source": [
    "4.\n",
    "```haskell\n",
    "data Pair a = Pair a a\n",
    "```"
   ]
  },
  {
   "cell_type": "code",
   "execution_count": 34,
   "id": "e020fb10",
   "metadata": {},
   "outputs": [],
   "source": [
    "data Pair a = Pair a a\n",
    "\n",
    "instance Eq a => Eq (Pair a) where\n",
    "    (==) (Pair x y) (Pair x' y') = (x == x') && (y == y')"
   ]
  },
  {
   "cell_type": "markdown",
   "id": "a2f47902",
   "metadata": {},
   "source": [
    "5.\n",
    "```haskell\n",
    "data Tuple a b = Tuple a b\n",
    "```"
   ]
  },
  {
   "cell_type": "code",
   "execution_count": 37,
   "id": "b44b0230",
   "metadata": {},
   "outputs": [],
   "source": [
    "data Tuple a b = Tuple a b\n",
    "\n",
    "instance (Eq a, Eq b) => Eq (Tuple a b) where\n",
    "    (==) (Tuple x y) (Tuple x' y') = (x == x') && (y == y')"
   ]
  },
  {
   "cell_type": "markdown",
   "id": "ece0afb4",
   "metadata": {},
   "source": [
    "6.\n",
    "```haskell\n",
    "data Which a =\n",
    "    ThisOne a\n",
    "  | ThatOne a\n",
    "```"
   ]
  },
  {
   "cell_type": "code",
   "execution_count": 38,
   "id": "0abca054",
   "metadata": {},
   "outputs": [],
   "source": [
    "data Which a = ThisOne a | ThatOne a\n",
    "\n",
    "instance Eq a => Eq (Which a) where\n",
    "    (==) (ThisOne x) (ThisOne y) = x == y\n",
    "    (==) (ThatOne x) (ThatOne y) = x == y\n",
    "    (==) _ _ = False"
   ]
  },
  {
   "cell_type": "markdown",
   "id": "8766f5e3",
   "metadata": {},
   "source": [
    "7.\n",
    "```haskell\n",
    "data EitherOr a b =\n",
    "    Hello a\n",
    "  | Goodbye b\n",
    "```"
   ]
  },
  {
   "cell_type": "code",
   "execution_count": null,
   "id": "f3b6e82d",
   "metadata": {},
   "outputs": [],
   "source": [
    "data EitherOr a b = Hello a | Goodbye b\n",
    "\n",
    "instance (Eq a, Eq b) => Eq (EitherOr a b) where\n",
    "    (==) (Hello x) (Hello x') = x == x'\n",
    "    (==) (Goodbye x) (Goodbye x') = x == x'\n",
    "    (==) _ _ = False"
   ]
  }
 ],
 "metadata": {
  "kernelspec": {
   "display_name": "Haskell",
   "language": "haskell",
   "name": "haskell"
  },
  "language_info": {
   "codemirror_mode": "ihaskell",
   "file_extension": ".hs",
   "mimetype": "text/x-haskell",
   "name": "haskell",
   "pygments_lexer": "Haskell",
   "version": "9.6.3"
  }
 },
 "nbformat": 4,
 "nbformat_minor": 5
}
