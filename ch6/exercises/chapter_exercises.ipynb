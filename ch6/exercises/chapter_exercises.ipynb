{
 "cells": [
  {
   "cell_type": "markdown",
   "id": "6a544097",
   "metadata": {},
   "source": [
    "## Chapter Exercises"
   ]
  },
  {
   "cell_type": "markdown",
   "id": "6094c679",
   "metadata": {},
   "source": [
    "### Multiple choice\n",
    "\n",
    "1. The `Eq` class\n",
    "    - a) includes all types in Haskell\n",
    "    - b) is the same as the `Ord` class\n",
    "    - c) makes equality tests possible ✅\n",
    "    - d) only includes numeric types\n",
    "2. The typeclass `Ord`\n",
    "    - a) allows any two values to be compared\n",
    "    - b) is a subclass of `Eq` ✅\n",
    "    - c) is a superclass of `Eq`\n",
    "    - d) has no instance for `Bool`\n",
    "3. Suppose the typeclass `Ord` has an operator `>`. What is the type of `>`?\n",
    "    - a) `Ord a => a -> a -> Bool` ✅\n",
    "    - b) `Ord a => Int -> Bool`\n",
    "    - c) `Ord a => a -> Char`\n",
    "    - d) `Ord a => Char -> [Char]`\n",
    "4. In `x = divMod 16 12`\n",
    "    - a) the type of `x` is Integer\n",
    "    - b) the value of `x` is undecidable\n",
    "    - c) the type of `x` is a tuple ✅\n",
    "    - d) `x` is equal to `12 / 16`\n",
    "5. The typeclass `Integral` includes\n",
    "    - a) `Int` and `Integer` numbers ✅\n",
    "    - b) integral, real, and fractional numbers\n",
    "    - c) Schrodinger’s cat\n",
    "    - d) only positive numbers"
   ]
  },
  {
   "cell_type": "markdown",
   "id": "4da9fbbc",
   "metadata": {},
   "source": [
    "### Does it typecheck?\n",
    "\n",
    "For this section of exercises, you’ll be practicing looking for type and typeclass errors.\n",
    "For example, `printIt` will not work because functions like `x` have\n",
    "no instance of `Show`, the typeclass that lets you convert things to\n",
    "`String` (usually for printing):\n",
    "\n",
    "```haskell\n",
    "x :: Int -> Int\n",
    "x blah = blah + 20\n",
    "printIt :: IO ()\n",
    "printIt = putStrLn (show x)\n",
    "```\n",
    "\n",
    "Here’s the type error you get if you try to load the code:\n",
    "```\n",
    "No instance for (Show (Int -> Int)) arising\n",
    "from a use of ‘show’\n",
    "In the first argument of ‘putStrLn’, namely ‘(show x)’\n",
    "In the expression: putStrLn (show x)\n",
    "In an equation for ‘printIt’: printIt = putStrLn (show x)\n",
    "```\n",
    "\n",
    "It’s saying it can’t find an implementation of the typeclass Show for\n",
    "the type `Int -> Int`, which makes sense. Nothing with the function\n",
    "type constructor `(->)` has an instance of `Show` by default in Haskell.\n",
    "Examine the following code and decide whether it will typecheck.\n",
    "Then load it in GHCi and see if you were correct. If it doesn’t typecheck, try to match the type error against your understanding of why it didn’t work. If you can, fix the error and re-run the code."
   ]
  },
  {
   "cell_type": "markdown",
   "id": "a7542ed2",
   "metadata": {},
   "source": [
    "1. Does the following code typecheck? If not, why not?\n",
    "```haskell\n",
    "data Person = Person Bool\n",
    "\n",
    "printPerson :: Person -> IO ()\n",
    "printPerson person = putStrLn (show person)\n",
    "```\n",
    "\n",
    "> **<span style=\"color:green\">Answer:<span/>** It does not typecheck because `Person` has no `Show` instance"
   ]
  },
  {
   "cell_type": "markdown",
   "id": "4fda315c",
   "metadata": {},
   "source": [
    "2. Does the following typecheck? If not, why not?\n",
    "```haskell\n",
    "data Mood = Blah | Woot deriving Show\n",
    "\n",
    "settleDown x = \n",
    "    if x == Woot\n",
    "    then Blah\n",
    "    else x\n",
    "```\n",
    "\n",
    "> **<span style=\"color:green\">Answer:<span/>** It does not typecheck because `Mood` has no `Eq` instance"
   ]
  },
  {
   "cell_type": "markdown",
   "id": "35580634",
   "metadata": {},
   "source": [
    "3. If you were able to get `settleDown` to typecheck:\n",
    "    - a) What values are acceptable inputs to that function?\n",
    "    - b) What will happen if you try to run `settleDown 9`? Why?\n",
    "    - c) What will happen if you try to run `Blah > Woot`? Why?\n",
    "\n",
    "> **<span style=\"color:green\">Answer:<span/>**\n",
    "- a) `Blah` and `Woot`\n",
    "- b) `No instance for ‘Num Mood’ arising from the literal ‘9’` Beacuse `9` is not a member of `Mood` type\n",
    "- c) `No instance for ‘Ord Mood’ arising from a use of ‘>’` Because `Mood` is not an instance of `Ord` typeclass"
   ]
  },
  {
   "cell_type": "markdown",
   "id": "29a88233",
   "metadata": {},
   "source": [
    "4. Does the following typecheck? If not, why not?\n",
    "```haskell\n",
    "\n",
    "type Subject = String\n",
    "type Verb = String\n",
    "type Object = String\n",
    "\n",
    "data Sentence =\n",
    "    Sentence Subject Verb Object\n",
    "    deriving (Eq, Show)\n",
    "\n",
    "s1 = Sentence \"dogs\" \"drool\"\n",
    "s2 = Sentence \"Julie\" \"loves\" \"dogs\"\n",
    "```\n",
    "\n",
    "> **<span style=\"color:green\">Answer:<span/>** Yes it typechecks!"
   ]
  },
  {
   "cell_type": "markdown",
   "id": "da35c2fb",
   "metadata": {},
   "source": [
    "### Given a datatype declaration, what can we do?\n",
    "\n",
    "Given the following datatype definitions:\n",
    "```haskell\n",
    "data Rocks =\n",
    "    Rocks String deriving (Eq, Show)\n",
    "\n",
    "data Yeah =\n",
    "    Yeah Bool deriving (Eq, Show)\n",
    "\n",
    "data Papu =\n",
    "    Papu Rocks Yeah\n",
    "    deriving (Eq, Show)\n",
    "```\n",
    "\n",
    "Which of the following will typecheck? For the ones that don’t typecheck, why don’t they?\n",
    "\n",
    "1. `phew = Papu \"chases\" True` ❌ $\\to$ The `Papu` takes values of `Rokes` and `Yeah` as input but `String` and `Bool` is given\n",
    "2. `truth = Papu (Rocks \"chomskydoz\") (Yeah True)` ✅\n",
    "3. ✅\n",
    "```haskell\n",
    "equalityForall :: Papu -> Papu -> Bool\n",
    "equalityForall p p' = p == p'\n",
    "```\n",
    "4. ❌ $\\to$ `Papu` does not implement `Ord` typeclass\n",
    "```haskell\n",
    "comparePapus :: Papu -> Papu -> Bool\n",
    "comparePapus p p' = p > p'\n",
    "```"
   ]
  },
  {
   "cell_type": "markdown",
   "id": "e80a1f21",
   "metadata": {},
   "source": [
    "### Match the types\n",
    "\n",
    "We’re going to give you two types and their implementations. Then\n",
    "we’re going to ask you if you can substitute the second type for the\n",
    "first. You can test this by typing the first declaration and its type into\n",
    "a file and editing in the new one, loading to see if it fails. Don’t guess,\n",
    "test all your answers!\n",
    "\n"
   ]
  },
  {
   "cell_type": "markdown",
   "id": "7148d64f",
   "metadata": {},
   "source": [
    "1. For the following definition.\n",
    "    - a)\n",
    "    ```haskell\n",
    "    i :: Num a => a\n",
    "    i = 1\n",
    "     ```\n",
    "    - b) \n",
    "    ```haskell\n",
    "    i :: a\n",
    "    ```\n",
    "> **<span style=\"color:green\">Answer:</span>** No you can not substitute `a` for `Num a`"
   ]
  },
  {
   "cell_type": "code",
   "execution_count": 12,
   "id": "01fe5385",
   "metadata": {},
   "outputs": [
    {
     "ename": "",
     "evalue": "",
     "output_type": "error",
     "traceback": [
      "<interactive>:2:5: error: [GHC-39999]\n    • No instance for ‘Num a’ arising from the literal ‘1’\n      Possible fix:\n        add (Num a) to the context of\n          the type signature for:\n            i :: forall a. a\n    • In the expression: 1\n      In an equation for ‘i’: i = 1"
     ]
    }
   ],
   "source": [
    "i :: a\n",
    "i = 1"
   ]
  },
  {
   "cell_type": "markdown",
   "id": "780e51d7",
   "metadata": {},
   "source": [
    "2.\n",
    "    - a)\n",
    "    ```haskell\n",
    "    f :: Float\n",
    "    f = 1.0\n",
    "    ```\n",
    "    \n",
    "    - b)\n",
    "    ```haskell\n",
    "    f :: Num a => a\n",
    "    ```\n",
    "\n",
    "> **<span style=\"color:green\">Answer:</span>** No you can not substitute `Num a` for `Float` Because `1.0` is not every number."
   ]
  },
  {
   "cell_type": "code",
   "execution_count": 14,
   "id": "082da93e",
   "metadata": {},
   "outputs": [
    {
     "ename": "",
     "evalue": "",
     "output_type": "error",
     "traceback": [
      "<interactive>:2:5: error: [GHC-39999]\n    • Could not deduce ‘Fractional a’ arising from the literal ‘1.0’\n      from the context: Num a\n        bound by the type signature for:\n                   f :: forall a. Num a => a\n        at <interactive>:1:1-15\n      Possible fix:\n        add (Fractional a) to the context of\n          the type signature for:\n            f :: forall a. Num a => a\n    • In the expression: 1.0\n      In an equation for ‘f’: f = 1.0"
     ]
    }
   ],
   "source": [
    "f :: Num a => a\n",
    "f = 1.0"
   ]
  },
  {
   "cell_type": "markdown",
   "id": "bbe64c7e",
   "metadata": {},
   "source": [
    "3.\n",
    "    - a)\n",
    "    ```haskell\n",
    "    f :: Float\n",
    "    f = 1.0\n",
    "    ```\n",
    "    - b)\n",
    "    ```haskell\n",
    "    f :: Fractional a => a\n",
    "    ```\n",
    "\n",
    "> **<span style=\"color:green\">Answer:</span>** In this case it is possible to substitute `Fractional a` for `Float` because `1.0` can also represent a fractional number."
   ]
  },
  {
   "cell_type": "code",
   "execution_count": 15,
   "id": "741f11d0",
   "metadata": {},
   "outputs": [],
   "source": [
    "f :: Fractional a => a\n",
    "f = 1.0"
   ]
  },
  {
   "cell_type": "markdown",
   "id": "ee5223c2",
   "metadata": {},
   "source": [
    "4. Hint for the following: type :info RealFrac in your REPL.\n",
    "    - a)\n",
    "    ```haskell\n",
    "    f :: Float\n",
    "    f = 1.0\n",
    "    ```\n",
    "    - b)\n",
    "    ```haskell\n",
    "    f :: RealFrac a => a\n",
    "    ```\n",
    "> **<span style=\"color:green\">Answer:</span>** Yes it is possible to substitute `RealFrac a => a` for `Float` because `1.0` can also represent a `RealFrac a => a` number."
   ]
  },
  {
   "cell_type": "code",
   "execution_count": 16,
   "id": "4292c60d",
   "metadata": {},
   "outputs": [],
   "source": [
    "f :: RealFrac a => a\n",
    "f = 1.0"
   ]
  },
  {
   "cell_type": "markdown",
   "id": "c9d1fefc",
   "metadata": {},
   "source": [
    "5.\n",
    "    - a)\n",
    "    ```haskell\n",
    "    freud :: a -> a\n",
    "    freud x = x\n",
    "    ```\n",
    "    - b)\n",
    "    ```haskell\n",
    "    freud :: Ord a => a -> a\n",
    "    ```\n",
    "> **<span style=\"color:green\">Answer:</span>** Yes it is possible to substitute `Ord a => a` for `a` because `Ord a => a` is more specific than `a`."
   ]
  },
  {
   "cell_type": "code",
   "execution_count": 17,
   "id": "7a94f622",
   "metadata": {},
   "outputs": [],
   "source": [
    "freud :: Ord a => a -> a\n",
    "freud x = x"
   ]
  },
  {
   "cell_type": "markdown",
   "id": "ceaeb05b",
   "metadata": {},
   "source": [
    "6.\n",
    "    - a)\n",
    "    ```haskell\n",
    "    freud' :: a -> a\n",
    "    freud' x = x\n",
    "    ```\n",
    "    - b)\n",
    "    ```haskell\n",
    "    freud' :: Int -> Int\n",
    "    ```\n",
    "> **<span style=\"color:green\">Answer:</span>** Yes it is possible to substitute `Int` for `a` because `Int` is more specific than `a`."
   ]
  },
  {
   "cell_type": "code",
   "execution_count": 18,
   "id": "292c1864",
   "metadata": {},
   "outputs": [],
   "source": [
    "freud' :: Int -> Int\n",
    "freud' x = x"
   ]
  },
  {
   "cell_type": "markdown",
   "id": "992e3566",
   "metadata": {},
   "source": [
    "7.\n",
    "    - a)\n",
    "    ```haskell\n",
    "    myX = 1 :: Int\n",
    "    sigmund :: Int -> Int\n",
    "    sigmund x = myX\n",
    "    ```\n",
    "    - b)\n",
    "    ```haskell\n",
    "    sigmund :: a -> a\n",
    "    ```\n",
    "\n",
    "> **<span style=\"color:green\">Answer:</span>** No it is not possible to substitute `a` for `Int` because `a` is more general than `Int`."
   ]
  },
  {
   "cell_type": "code",
   "execution_count": 19,
   "id": "b2741e23",
   "metadata": {},
   "outputs": [
    {
     "ename": "",
     "evalue": "",
     "output_type": "error",
     "traceback": [
      "<interactive>:3:13: error: [GHC-25897]\n    • Couldn't match expected type ‘a’ with actual type ‘Int’\n      ‘a’ is a rigid type variable bound by\n        the type signature for:\n          sigmund :: forall a. a -> a\n        at <interactive>:2:1-17\n    • In the expression: myX\n      In an equation for ‘sigmund’: sigmund x = myX\n    • Relevant bindings include\n        x :: a (bound at <interactive>:3:9)\n        sigmund :: a -> a (bound at <interactive>:3:1)"
     ]
    }
   ],
   "source": [
    "myX = 1 :: Int\n",
    "\n",
    "sigmund :: a -> a\n",
    "sigmund x = myX"
   ]
  },
  {
   "cell_type": "markdown",
   "id": "05279124",
   "metadata": {},
   "source": [
    "8.\n",
    "    - a)\n",
    "    ```haskell\n",
    "    myX = 1 :: Int\n",
    "    sigmund :: Int -> Int\n",
    "    sigmund x = myX\n",
    "    ```\n",
    "    - b)\n",
    "    ```haskell\n",
    "    sigmund :: Num a => a -> a\n",
    "    ```\n",
    "\n",
    "> **<span style=\"color:green\">Answer:</span>** No it is not possible to substitute `Num a => a` for `Int` because `Num a => a` is more general than `Int` and the type of `myX` which is the result of `sigmund` is `Int`."
   ]
  },
  {
   "cell_type": "code",
   "execution_count": 20,
   "id": "5240e5c9",
   "metadata": {},
   "outputs": [
    {
     "ename": "",
     "evalue": "",
     "output_type": "error",
     "traceback": [
      "<interactive>:3:13: error: [GHC-25897]\n    • Couldn't match expected type ‘a’ with actual type ‘Int’\n      ‘a’ is a rigid type variable bound by\n        the type signature for:\n          sigmund :: forall a. Num a => a -> a\n        at <interactive>:2:1-26\n    • In the expression: myX\n      In an equation for ‘sigmund’: sigmund x = myX\n    • Relevant bindings include\n        x :: a (bound at <interactive>:3:9)\n        sigmund :: a -> a (bound at <interactive>:3:1)"
     ]
    }
   ],
   "source": [
    "myX = 1 :: Int\n",
    "\n",
    "sigmund :: Num a => a -> a\n",
    "sigmund x = myX"
   ]
  },
  {
   "cell_type": "markdown",
   "id": "a0d4151f",
   "metadata": {},
   "source": [
    "9. You’ll need to import sort from Data.List.\n",
    "    - a)\n",
    "    ```haskell\n",
    "    jung :: Ord a => [a] -> a\n",
    "    jung xs = head (sort xs)\n",
    "    ```\n",
    "    \n",
    "    - b)\n",
    "    ```haskell\n",
    "    jung :: [Int] -> Int\n",
    "    ```\n",
    "\n",
    "> **<span style=\"color:green\">Answer:</span>** Yes it is possible to substitute `Int` for `Ord a => a` because `Int` is more specific than `Ord a => a`"
   ]
  },
  {
   "cell_type": "code",
   "execution_count": 21,
   "id": "d342c84d",
   "metadata": {},
   "outputs": [
    {
     "data": {
      "text/html": [
       "<style>/* Styles used for the Hoogle display in the pager */\n",
       ".hoogle-doc {\n",
       "display: block;\n",
       "padding-bottom: 1.3em;\n",
       "padding-left: 0.4em;\n",
       "}\n",
       ".hoogle-code {\n",
       "display: block;\n",
       "font-family: monospace;\n",
       "white-space: pre;\n",
       "}\n",
       ".hoogle-text {\n",
       "display: block;\n",
       "}\n",
       ".hoogle-name {\n",
       "color: green;\n",
       "font-weight: bold;\n",
       "}\n",
       ".hoogle-head {\n",
       "font-weight: bold;\n",
       "}\n",
       ".hoogle-sub {\n",
       "display: block;\n",
       "margin-left: 0.4em;\n",
       "}\n",
       ".hoogle-package {\n",
       "font-weight: bold;\n",
       "font-style: italic;\n",
       "}\n",
       ".hoogle-module {\n",
       "font-weight: bold;\n",
       "}\n",
       ".hoogle-class {\n",
       "font-weight: bold;\n",
       "}\n",
       "\n",
       ".get-type {\n",
       "color: green;\n",
       "font-weight: bold;\n",
       "font-family: monospace;\n",
       "display: block;\n",
       "white-space: pre-wrap;\n",
       "}\n",
       ".show-type {\n",
       "color: green;\n",
       "font-weight: bold;\n",
       "font-family: monospace;\n",
       "margin-left: 1em;\n",
       "}\n",
       ".mono {\n",
       "font-family: monospace;\n",
       "display: block;\n",
       "}\n",
       ".err-msg {\n",
       "color: red;\n",
       "font-style: italic;\n",
       "font-family: monospace;\n",
       "white-space: pre;\n",
       "display: block;\n",
       "}\n",
       "#unshowable {\n",
       "color: red;\n",
       "font-weight: bold;\n",
       "}\n",
       ".err-msg.in.collapse {\n",
       "padding-top: 0.7em;\n",
       "}\n",
       "\n",
       ".highlight-code {\n",
       "white-space: pre;\n",
       "font-family: monospace;\n",
       "}\n",
       "\n",
       ".suggestion-warning { \n",
       "font-weight: bold;\n",
       "color: rgb(200, 130, 0);\n",
       "}\n",
       ".suggestion-error { \n",
       "font-weight: bold;\n",
       "color: red;\n",
       "}\n",
       ".suggestion-name {\n",
       "font-weight: bold;\n",
       "}\n",
       "\n",
       "</style><div class=\"suggestion-name\" style=\"clear:both;\">Use minimum</div><div class=\"suggestion-row\" style=\"float: left;\"><div class=\"suggestion-warning\">Found:</div><div class=\"highlight-code\" id=\"haskell\">head (sort xs)</div></div><div class=\"suggestion-row\" style=\"float: left;\"><div class=\"suggestion-warning\">Why Not:</div><div class=\"highlight-code\" id=\"haskell\">minimum xs</div></div>"
      ],
      "text/plain": [
       "Line 4: Use minimum\n",
       "Found:\n",
       "head (sort xs)\n",
       "Why not:\n",
       "minimum xs"
      ]
     },
     "metadata": {},
     "output_type": "display_data"
    }
   ],
   "source": [
    "import Data.List (sort)\n",
    "\n",
    "jung :: [Int] -> Int\n",
    "jung xs = head (sort xs)"
   ]
  },
  {
   "cell_type": "markdown",
   "id": "c8804103",
   "metadata": {},
   "source": [
    "10.\n",
    "    - a)\n",
    "    ```haskell\n",
    "    young :: [Char] -> Char\n",
    "    young xs = head (sort xs)\n",
    "    ```\n",
    "    - b)\n",
    "    ```haskell\n",
    "    young :: Ord a => [a] -> a\n",
    "    ```\n",
    "\n",
    "> **<span style=\"color:green\">Answer:</span>** Yes in this case it is possible to substitute `Ord a => a` for `Char` because the `young` function only performs operation related to `Ord` typeclass."
   ]
  },
  {
   "cell_type": "code",
   "execution_count": 22,
   "id": "b620a0b0",
   "metadata": {},
   "outputs": [
    {
     "data": {
      "text/html": [
       "<style>/* Styles used for the Hoogle display in the pager */\n",
       ".hoogle-doc {\n",
       "display: block;\n",
       "padding-bottom: 1.3em;\n",
       "padding-left: 0.4em;\n",
       "}\n",
       ".hoogle-code {\n",
       "display: block;\n",
       "font-family: monospace;\n",
       "white-space: pre;\n",
       "}\n",
       ".hoogle-text {\n",
       "display: block;\n",
       "}\n",
       ".hoogle-name {\n",
       "color: green;\n",
       "font-weight: bold;\n",
       "}\n",
       ".hoogle-head {\n",
       "font-weight: bold;\n",
       "}\n",
       ".hoogle-sub {\n",
       "display: block;\n",
       "margin-left: 0.4em;\n",
       "}\n",
       ".hoogle-package {\n",
       "font-weight: bold;\n",
       "font-style: italic;\n",
       "}\n",
       ".hoogle-module {\n",
       "font-weight: bold;\n",
       "}\n",
       ".hoogle-class {\n",
       "font-weight: bold;\n",
       "}\n",
       "\n",
       ".get-type {\n",
       "color: green;\n",
       "font-weight: bold;\n",
       "font-family: monospace;\n",
       "display: block;\n",
       "white-space: pre-wrap;\n",
       "}\n",
       ".show-type {\n",
       "color: green;\n",
       "font-weight: bold;\n",
       "font-family: monospace;\n",
       "margin-left: 1em;\n",
       "}\n",
       ".mono {\n",
       "font-family: monospace;\n",
       "display: block;\n",
       "}\n",
       ".err-msg {\n",
       "color: red;\n",
       "font-style: italic;\n",
       "font-family: monospace;\n",
       "white-space: pre;\n",
       "display: block;\n",
       "}\n",
       "#unshowable {\n",
       "color: red;\n",
       "font-weight: bold;\n",
       "}\n",
       ".err-msg.in.collapse {\n",
       "padding-top: 0.7em;\n",
       "}\n",
       "\n",
       ".highlight-code {\n",
       "white-space: pre;\n",
       "font-family: monospace;\n",
       "}\n",
       "\n",
       ".suggestion-warning { \n",
       "font-weight: bold;\n",
       "color: rgb(200, 130, 0);\n",
       "}\n",
       ".suggestion-error { \n",
       "font-weight: bold;\n",
       "color: red;\n",
       "}\n",
       ".suggestion-name {\n",
       "font-weight: bold;\n",
       "}\n",
       "\n",
       "</style><div class=\"suggestion-name\" style=\"clear:both;\">Use minimum</div><div class=\"suggestion-row\" style=\"float: left;\"><div class=\"suggestion-warning\">Found:</div><div class=\"highlight-code\" id=\"haskell\">head (sort xs)</div></div><div class=\"suggestion-row\" style=\"float: left;\"><div class=\"suggestion-warning\">Why Not:</div><div class=\"highlight-code\" id=\"haskell\">minimum xs</div></div>"
      ],
      "text/plain": [
       "Line 2: Use minimum\n",
       "Found:\n",
       "head (sort xs)\n",
       "Why not:\n",
       "minimum xs"
      ]
     },
     "metadata": {},
     "output_type": "display_data"
    }
   ],
   "source": [
    "young :: Ord a => [a] -> a\n",
    "young xs = head (sort xs)"
   ]
  },
  {
   "cell_type": "markdown",
   "id": "7108b4af",
   "metadata": {},
   "source": [
    "11.\n",
    "    - a)\n",
    "    ```haskell\n",
    "    mySort :: [Char] -> [Char]\n",
    "    mySort = sort\n",
    "    \n",
    "    signifier :: [Char] -> Char\n",
    "    signifier xs = head (mySort xs)\n",
    "    ```\n",
    "    - b)\n",
    "    ```haskell\n",
    "    signifier :: Ord a => [a] -> a\n",
    "   ```\n",
    "> **<span style=\"color:green\">Answer:</span>** No it is not possible to substitute `Ord a => a` for `Char` because `Ord a => a` is more general than `Char` and `mySort` only accepts `Char` type."
   ]
  },
  {
   "cell_type": "code",
   "execution_count": 23,
   "id": "5a20d12d",
   "metadata": {},
   "outputs": [
    {
     "ename": "",
     "evalue": "",
     "output_type": "error",
     "traceback": [
      "<interactive>:4:22: error: [GHC-25897]\n    • Couldn't match type ‘a’ with ‘Char’\n      Expected: [a]\n        Actual: String\n      ‘a’ is a rigid type variable bound by\n        the type signature for:\n          signifier :: forall a. Ord a => [a] -> a\n        at <interactive>:3:1-30\n    • In the first argument of ‘head’, namely ‘(mySort xs)’\n      In the expression: head (mySort xs)\n      In an equation for ‘signifier’: signifier xs = head (mySort xs)\n    • Relevant bindings include\n        xs :: [a] (bound at <interactive>:4:11)\n        signifier :: [a] -> a (bound at <interactive>:4:1)"
     ]
    }
   ],
   "source": [
    "mySort :: [Char] -> [Char]\n",
    "mySort = sort\n",
    "\n",
    "signifier :: Ord a => [a] -> a\n",
    "signifier xs = head (mySort xs)"
   ]
  },
  {
   "cell_type": "markdown",
   "id": "b62e1a9f",
   "metadata": {},
   "source": [
    "### Type-Kwon-Do Two: Electric Typealoo\n",
    "\n",
    "Round Two! Same rules apply — you’re trying to fill in terms (code)\n",
    "which’ll fit the type. The idea with these exercises is that you’ll derive\n",
    "the implementation from the type information. You’ll probably\n",
    "need to use stuff from Prelude."
   ]
  },
  {
   "cell_type": "markdown",
   "id": "2271268c",
   "metadata": {},
   "source": [
    "1.\n",
    "    ```haskell\n",
    "    chk :: Eq b => (a -> b) -> a -> b -> Bool\n",
    "    chk = ???\n",
    "    ```"
   ]
  },
  {
   "cell_type": "code",
   "execution_count": 24,
   "id": "186fc071",
   "metadata": {},
   "outputs": [],
   "source": [
    "chk :: Eq b => (a -> b) -> a -> b -> Bool\n",
    "chk f x y = f x == y"
   ]
  },
  {
   "cell_type": "markdown",
   "id": "0f18d2fa",
   "metadata": {},
   "source": [
    "2.\n",
    "    ```haskell\n",
    "    -- Hint: use some arithmetic operation to\n",
    "    -- combine values of type 'b'. Pick one.\n",
    "    arith :: Num b\n",
    "    => (a -> b)\n",
    "    -> Integer\n",
    "    -> a\n",
    "    -> b\n",
    "    arith = ???\n",
    "    ```"
   ]
  },
  {
   "cell_type": "code",
   "execution_count": null,
   "id": "fa988417",
   "metadata": {},
   "outputs": [
    {
     "data": {
      "text/html": [
       "<style>/* Styles used for the Hoogle display in the pager */\n",
       ".hoogle-doc {\n",
       "display: block;\n",
       "padding-bottom: 1.3em;\n",
       "padding-left: 0.4em;\n",
       "}\n",
       ".hoogle-code {\n",
       "display: block;\n",
       "font-family: monospace;\n",
       "white-space: pre;\n",
       "}\n",
       ".hoogle-text {\n",
       "display: block;\n",
       "}\n",
       ".hoogle-name {\n",
       "color: green;\n",
       "font-weight: bold;\n",
       "}\n",
       ".hoogle-head {\n",
       "font-weight: bold;\n",
       "}\n",
       ".hoogle-sub {\n",
       "display: block;\n",
       "margin-left: 0.4em;\n",
       "}\n",
       ".hoogle-package {\n",
       "font-weight: bold;\n",
       "font-style: italic;\n",
       "}\n",
       ".hoogle-module {\n",
       "font-weight: bold;\n",
       "}\n",
       ".hoogle-class {\n",
       "font-weight: bold;\n",
       "}\n",
       "\n",
       ".get-type {\n",
       "color: green;\n",
       "font-weight: bold;\n",
       "font-family: monospace;\n",
       "display: block;\n",
       "white-space: pre-wrap;\n",
       "}\n",
       ".show-type {\n",
       "color: green;\n",
       "font-weight: bold;\n",
       "font-family: monospace;\n",
       "margin-left: 1em;\n",
       "}\n",
       ".mono {\n",
       "font-family: monospace;\n",
       "display: block;\n",
       "}\n",
       ".err-msg {\n",
       "color: red;\n",
       "font-style: italic;\n",
       "font-family: monospace;\n",
       "white-space: pre;\n",
       "display: block;\n",
       "}\n",
       "#unshowable {\n",
       "color: red;\n",
       "font-weight: bold;\n",
       "}\n",
       ".err-msg.in.collapse {\n",
       "padding-top: 0.7em;\n",
       "}\n",
       "\n",
       ".highlight-code {\n",
       "white-space: pre;\n",
       "font-family: monospace;\n",
       "}\n",
       "\n",
       ".suggestion-warning { \n",
       "font-weight: bold;\n",
       "color: rgb(200, 130, 0);\n",
       "}\n",
       ".suggestion-error { \n",
       "font-weight: bold;\n",
       "color: red;\n",
       "}\n",
       ".suggestion-name {\n",
       "font-weight: bold;\n",
       "}\n",
       "\n",
       "</style><div class=\"suggestion-name\" style=\"clear:both;\">Eta reduce</div><div class=\"suggestion-row\" style=\"float: left;\"><div class=\"suggestion-warning\">Found:</div><div class=\"highlight-code\" id=\"haskell\">arith f _ x = f x</div></div><div class=\"suggestion-row\" style=\"float: left;\"><div class=\"suggestion-warning\">Why Not:</div><div class=\"highlight-code\" id=\"haskell\">arith f _ = f</div></div>"
      ],
      "text/plain": [
       "Line 6: Eta reduce\n",
       "Found:\n",
       "arith f _ x = f x\n",
       "Why not:\n",
       "arith f _ = f"
      ]
     },
     "metadata": {},
     "output_type": "display_data"
    }
   ],
   "source": [
    "arith :: Num b\n",
    "    => (a -> b)\n",
    "    -> Integer\n",
    "    -> a\n",
    "    -> b\n",
    "arith f _ x = f x"
   ]
  }
 ],
 "metadata": {
  "kernelspec": {
   "display_name": "Haskell",
   "language": "haskell",
   "name": "haskell"
  },
  "language_info": {
   "codemirror_mode": "ihaskell",
   "file_extension": ".hs",
   "mimetype": "text/x-haskell",
   "name": "haskell",
   "pygments_lexer": "Haskell",
   "version": "9.6.3"
  }
 },
 "nbformat": 4,
 "nbformat_minor": 5
}
