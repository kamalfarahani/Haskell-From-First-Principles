{
 "cells": [
  {
   "cell_type": "markdown",
   "id": "83a9249b",
   "metadata": {},
   "source": [
    "## Building Projects\n",
    "\n",
    "This section contains notes and samples related to building projects and related topics. It does not contain much code."
   ]
  },
  {
   "cell_type": "markdown",
   "id": "9e1ff54b",
   "metadata": {},
   "source": [
    "### Qualified Imports\n",
    "\n",
    "In Haskell, qualified imports are a way to manage how you use functions and data types from other modules in your code. They help prevent naming conflicts and improve code readability. Here's how they work with some examples:\n",
    "\n",
    "**Why Use Qualified Imports?**\n",
    "\n",
    "* **Disambiguating Names:** Imagine two modules provide functions with the same name. By qualifying the import, you add a prefix to the function name, making it clear which module it comes from.\n",
    "* **Readability:** For commonly used modules with long names, qualified imports with short aliases can improve code clarity. \n",
    "\n",
    "**Basic Syntax:**\n",
    "\n",
    "```haskell\n",
    "import qualified ModuleName as Alias\n",
    "```\n",
    "\n",
    "* `ModuleName`: This is the actual name of the module you want to import.\n",
    "* `Alias`: This is a shorter name you choose to use for the module in your code.\n",
    "\n",
    "**Example 1: Disambiguation**\n",
    "\n",
    "Suppose you're using modules `System.IO` and `Data.List`, both of which have a function named `head`. Here's how to avoid conflict:\n",
    "\n",
    "```haskell\n",
    "import qualified System.IO as IO  -- Import with alias IO\n",
    "import qualified Data.List as List -- Import with alias List\n",
    "\n",
    "main = do\n",
    "  putStrLn (IO.head \"Hello World!\")  -- Use IO.head for System.IO\n",
    "  print (List.head [1, 2, 3])        -- Use List.head for Data.List\n",
    "```\n",
    "\n",
    "**Example 2: Readability with Aliases**\n",
    "\n",
    "The `Data.Text` module is commonly used for text manipulation. Here's how to import it with a shorter alias:\n",
    "\n",
    "```haskell\n",
    "import qualified Data.Text as Text\n",
    "\n",
    "myText = Text.pack \"This is some text\"\n",
    "formattedText = Text.upper myText\n",
    "\n",
    "-- More readable than using Data.Text.pack, etc.\n",
    "```\n",
    "\n",
    "**Best Practices:**\n",
    "\n",
    "* **Import Selectively:** Don't import entire modules with `import qualified ...`. Instead, choose specific functions and data types you need. This keeps your code cleaner and avoids potential conflicts with functions you're not using.\n",
    "* **Descriptive Aliases:** Choose clear and descriptive aliases for frequently used modules. This improves code readability for yourself and others.\n",
    "* **Balance Readability and Verbosity:** While aliases can improve readability, avoid overly short or cryptic ones. Aim for a balance that keeps code clear without sacrificing clarity.\n",
    "\n",
    "\n",
    "By following these tips, you can effectively use qualified imports to manage dependencies and write cleaner, more maintainable Haskell code."
   ]
  },
  {
   "cell_type": "markdown",
   "id": "94e1851f",
   "metadata": {},
   "source": [
    "### Intermission: Check your understanding\n",
    "\n",
    "Here is the import list from one of the modules in Chris’s library called blacktip:\n",
    "\n",
    "```haskell\n",
    "import qualified Control.Concurrent\n",
    "    as CC\n",
    "import qualified Control.Concurrent.MVar\n",
    "    as MV\n",
    "import qualified Data.ByteString.Char8\n",
    "    as B\n",
    "import qualified Data.Locator\n",
    "    as DL\n",
    "import qualified Data.Time.Clock.POSIX\n",
    "    as PSX\n",
    "import qualified Filesystem\n",
    "    as FS\n",
    "import qualified Filesystem.Path.CurrentOS\n",
    "    as FPC\n",
    "import qualified Network.Info\n",
    "    as NI\n",
    "import qualified Safe\n",
    "import Control.Exception (mask, try)\n",
    "import Control.Monad (forever, when)\n",
    "import Data.Bits\n",
    "import Data.Bits.Bitwise (fromListBE)\n",
    "import Data.List.Split (chunksOf)\n",
    "import Database.Blacktip.Types\n",
    "import System.IO.Unsafe (unsafePerformIO)\n",
    "```"
   ]
  },
  {
   "cell_type": "markdown",
   "id": "dab7aaee",
   "metadata": {},
   "source": [
    "For our purposes right now, it does not matter whether you are\n",
    "familiar with the modules referenced in the import list. Look at the\n",
    "declarations and answer the questions below:"
   ]
  },
  {
   "cell_type": "markdown",
   "id": "a27e24d9",
   "metadata": {},
   "source": [
    "1. What functions are being imported from Control.Monad? \n",
    "> <span style=\"color:green\"> **Answer:** </span>  `forever` and `when`\n",
    "2. Which imports are both unqualified and imported in their entirety?\n",
    "> <span style=\"color:green\"> **Answer:** </span> `Data.Bits` and `Database.Blacktip.Types`\n",
    "3. From the name, what do you suppose importing `blacktip`’s Types module brings in?\n",
    "> <span style=\"color:green\"> **Answer:** </span> 🤔"
   ]
  },
  {
   "cell_type": "markdown",
   "id": "cfbc0a5f",
   "metadata": {},
   "source": [
    "4. Now let’s compare a small part of blacktip’s code to the above import list:\n",
    "\n",
    "```haskell\n",
    "writeTimestamp :: MV.MVar ServerState\n",
    "    -> FPC.FilePath\n",
    "    -> IO CC.ThreadId\n",
    "writeTimestamp s path = do\n",
    "    CC.forkIO go\n",
    "    where go = forever $ do\n",
    "            ss <- MV.readMVar s\n",
    "            mask $ \\_ -> do\n",
    "              FS.writeFile path\n",
    "              (B.pack (show (ssTime ss)))\n",
    "           -- sleep for 1 second\n",
    "           CC.threadDelay 1000000\n",
    "```"
   ]
  },
  {
   "cell_type": "markdown",
   "id": "80e87da8",
   "metadata": {},
   "source": [
    "- a) The type signature refers to three aliased imports. What modules are named in those aliases?\n",
    "> <span style=\"color:green\"> **Answer:** </span> `Control.Concurrent.MVar`, `Filesystem.Path.CurrentOS` and `Control.Concurrent`\n",
    "- b) Which import does `FS.writeFile` refer to?\n",
    "> <span style=\"color:green\"> **Answer:** </span> `import qualified Filesystem`\n",
    "- c) Which import did `forever` come from?\n",
    "> <span style=\"color:green\"> **Answer:** </span> `Control.Monad`"
   ]
  },
  {
   "cell_type": "markdown",
   "id": "9da1e36a",
   "metadata": {},
   "source": [
    "### Creating a Project Using Stack\n",
    "\n",
    "The command, `stack new project simple`, creates a new Haskell project named \"project\" using the \"simple\" template provided by Stack.\n",
    "\n",
    "Here's a breakdown of the command:\n",
    "\n",
    "- `stack`: This is the executable for the Haskell Stack tool.\n",
    "- `new`: This is a subcommand of `stack` used specifically for creating new projects.\n",
    "- `project`: This is the name you're giving to your new project. Make sure it follows the naming guidelines for Haskell projects (alphanumeric characters, hyphens, etc.).\n",
    "- `simple`: This is the optional flag that specifies the template to be used. By default, `stack new` uses the \"new-template\" which includes libraries and testing functionalities. However, the \"simple\" template provides a more basic structure without those extras. \n",
    "\n",
    "Using the \"simple\" template is suitable for smaller projects where you don't need the full functionality of the default template. It creates a project structure with minimal files, making it easier to manage for quick and focused development.\n"
   ]
  }
 ],
 "metadata": {
  "kernelspec": {
   "display_name": "Haskell",
   "language": "haskell",
   "name": "haskell"
  }
 },
 "nbformat": 4,
 "nbformat_minor": 5
}
