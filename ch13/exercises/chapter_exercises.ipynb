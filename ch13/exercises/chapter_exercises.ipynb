{
 "cells": [
  {
   "cell_type": "markdown",
   "id": "17b9c274",
   "metadata": {},
   "source": [
    "## Chapter Exercises"
   ]
  },
  {
   "cell_type": "markdown",
   "id": "5dd4acf3",
   "metadata": {},
   "source": [
    "### Modifying code\n",
    "\n",
    "1. **Ciphers:** Open your Ciphers module and modify it so that the Caesar and Vigenère ciphers work with user input."
   ]
  },
  {
   "cell_type": "code",
   "execution_count": 8,
   "id": "f3cdb546",
   "metadata": {},
   "outputs": [],
   "source": [
    "import Data.Char\n",
    "import System.IO (hSetBuffering, stdout, BufferMode (NoBuffering))\n",
    "\n",
    "\n",
    "encrypt :: [(Char, Char)] -> String\n",
    "encrypt =\n",
    "    map (shift . codeToShift)\n",
    "    where\n",
    "        padding                = ord 'A'\n",
    "        codeToShift (x, code)  = (x, ord code - padding)\n",
    "        shift (char, shift)    = chr ((((ord char - padding ) + shift ) `mod` 26) + padding)\n",
    "\n",
    "\n",
    "vingere :: String -> String -> String\n",
    "vingere text key =\n",
    "    restoreNonAlpha $ encrypt charAndCode\n",
    "    where\n",
    "        cycledKey             = cycle (toUpperString key)\n",
    "        charAndCode           = zip clearedText cycledKey\n",
    "        clearedText           = removeNonAlpha (toUpperString text)\n",
    "        toUpperString         = map toUpper\n",
    "        removeNonAlpha        = filter isAlpha\n",
    "        restoreNonAlpha text' = foldl selector \"\" text\n",
    "            where\n",
    "                selector :: String -> Char -> String\n",
    "                selector acc x = \n",
    "                    if not (isAlpha x)\n",
    "                        then acc ++ [x]\n",
    "                        else acc ++ [text' !! (length acc - getNonAlpha acc)]\n",
    "                    where\n",
    "                        getNonAlpha :: String -> Int\n",
    "                        getNonAlpha = length . filter (not . isAlpha)\n",
    "\n",
    "main :: IO ()\n",
    "main = do    \n",
    "    putStr \"Enter your Text: \"\n",
    "    text <- getLine\n",
    "    \n",
    "    putStr \"Enter your Key: \"\n",
    "    key <- getLine\n",
    "    \n",
    "    putStrLn \"Enter 1 for encryption and 2 for decryption: \"\n",
    "    option <- getLine\n",
    "\n",
    "    putStrLn (vingere text key)"
   ]
  },
  {
   "cell_type": "markdown",
   "id": "e368ff0b",
   "metadata": {},
   "source": [
    "2. Here is a very simple, short block of code. Notice it has a `forever` that will make it keep running, over and over again. Load it into your `REPL` and test it out. Then refer back to the chapter and modify it to exit successfully after a False result.\n",
    "\n",
    "```haskell\n",
    "import Control.Monad\n",
    "\n",
    "palindrome :: IO ()\n",
    "palindrome = forever $ do\n",
    "    line1 <- getLine\n",
    "    case line1 == reverse line1 of\n",
    "        True -> putStrLn \"It's a palindrome!\"\n",
    "        False -> putStrLn \"Nope!\"\n",
    "```"
   ]
  },
  {
   "cell_type": "code",
   "execution_count": 16,
   "id": "7b92a97c",
   "metadata": {},
   "outputs": [],
   "source": [
    "import Control.Monad\n",
    "import System.Exit (exitSuccess)\n",
    "\n",
    "\n",
    "palindrome :: IO ()\n",
    "palindrome = forever $ do\n",
    "    line1 <- getLine\n",
    "    if line1 == reverse line1\n",
    "        then\n",
    "            putStrLn \"It's a palindrome!\"\n",
    "        else do \n",
    "            putStrLn \"Nope!\"\n",
    "            exitSuccess"
   ]
  },
  {
   "cell_type": "markdown",
   "id": "8c2a4aa6",
   "metadata": {},
   "source": [
    "3. If you tried using palindrome on a sentence such as `“Madam I’m Adam”`, you may have noticed that palindrome checker doesn’t work on that. Modifying the above so that it works on sentences, too, involves several steps. You may need to refer back to previous examples in the chapter to get ideas for proper ordering and nesting. You may wish to import Data.Char to use the function toLower. Have fun."
   ]
  },
  {
   "cell_type": "code",
   "execution_count": 32,
   "id": "7d9b61f7",
   "metadata": {},
   "outputs": [],
   "source": [
    "import Data.Char (toLower, isAlpha)\n",
    "import Control.Monad (forever)\n",
    "import System.Exit (exitSuccess)\n",
    "\n",
    "\n",
    "isPalindrome :: String -> Bool\n",
    "isPalindrome text =\n",
    "    reverse text' == text'\n",
    "    where\n",
    "        text' = (lowerText . removeNonAlpha) text\n",
    "        removeNonAlpha = filter isAlpha\n",
    "        lowerText = map toLower\n",
    "\n",
    "\n",
    "palindrome :: IO ()\n",
    "palindrome = forever $ do\n",
    "    line1 <- getLine\n",
    "    if isPalindrome line1\n",
    "        then\n",
    "            putStrLn \"It's a palindrome!\"\n",
    "        else do \n",
    "            putStrLn \"Nope!\"\n",
    "            exitSuccess"
   ]
  },
  {
   "cell_type": "code",
   "execution_count": 33,
   "id": "6190ee63",
   "metadata": {},
   "outputs": [
    {
     "data": {
      "text/plain": [
       "True"
      ]
     },
     "metadata": {},
     "output_type": "display_data"
    }
   ],
   "source": [
    "isPalindrome \"Madam I’m Adam\""
   ]
  },
  {
   "cell_type": "markdown",
   "id": "07cbf9ab",
   "metadata": {},
   "source": [
    "4. Consider the following code:\n",
    "\n",
    "```haskell\n",
    "type Name = String\n",
    "type Age = Integer\n",
    "\n",
    "data Person = Person Name Age deriving Show\n",
    "\n",
    "data PersonInvalid =\n",
    "    NameEmpty\n",
    "  | AgeTooLow\n",
    "  | PersonInvalidUnknown String\n",
    "  deriving (Eq, Show)\n",
    "\n",
    "mkPerson :: Name\n",
    "    -> Age\n",
    "    -> Either PersonInvalid Person\n",
    "mkPerson name age\n",
    "    | name /= \"\" && age > 0 =\n",
    "        Right $ Person name age\n",
    "    | name == \"\" = Left NameEmpty\n",
    "    | not (age > 0) = Left AgeTooLow\n",
    "    | otherwise =\n",
    "        Left $ PersonInvalidUnknown $\n",
    "            \"Name was: \" ++ show name ++\n",
    "            \" Age was: \" ++ show age\n",
    "```\n",
    "\n",
    "Your job is to write the following function without modifying the code above.\n",
    "\n",
    "```haskell\n",
    "gimmePerson :: IO ()\n",
    "gimmePerson = undefined\n",
    "```\n",
    "\n",
    "Since `IO ()` is about the least informative type imaginable, we’ll tell what it should do.\n",
    "\n",
    "- a) It should prompt the user for a name and age input.\n",
    "- b) It should attempt to construct a Person value using the name and age the user entered. You’ll need the read function for Age because it’s an Integer rather than a String.\n",
    "- c) If it constructed a successful person, it should print `”Yay! Successfully got a person:”` followed by the `Person` value.\n",
    "- d) If it got an error value, report that an error occurred and print the error."
   ]
  },
  {
   "cell_type": "code",
   "execution_count": null,
   "id": "d7defb1c",
   "metadata": {},
   "outputs": [],
   "source": [
    "type Name = String\n",
    "type Age = Integer\n",
    "\n",
    "data Person = Person Name Age deriving Show\n",
    "\n",
    "data PersonInvalid =\n",
    "    NameEmpty\n",
    "  | AgeTooLow\n",
    "  | PersonInvalidUnknown String\n",
    "  deriving (Eq, Show)\n",
    "\n",
    "mkPerson :: Name\n",
    "    -> Age\n",
    "    -> Either PersonInvalid Person\n",
    "mkPerson name age\n",
    "    | name /= \"\" && age > 0 =\n",
    "        Right $ Person name age\n",
    "    | name == \"\" = Left NameEmpty\n",
    "    | age <= 0 = Left AgeTooLow\n",
    "    | otherwise =\n",
    "        Left $ PersonInvalidUnknown $\n",
    "            \"Name was: \" ++ show name ++\n",
    "            \" Age was: \" ++ show age"
   ]
  },
  {
   "cell_type": "code",
   "execution_count": null,
   "id": "4bef4beb",
   "metadata": {},
   "outputs": [],
   "source": [
    "gimmePerson :: IO ()\n",
    "gimmePerson = do\n",
    "    putStrLn \"Enter Person name:\"\n",
    "    name <- getLine\n",
    "    \n",
    "    putStrLn \"Enter Person age\"\n",
    "    ageStr <- getLine\n",
    "    let age :: Age = read ageStr\n",
    "    \n",
    "    let person = mkPerson name age\n",
    "    case person of\n",
    "        Left err -> do\n",
    "            putStrLn \"An error occured: \"\n",
    "            print err\n",
    "        Right _  -> \n",
    "            putStrLn \"Yay! Successfully got a person:\" "
   ]
  }
 ],
 "metadata": {
  "kernelspec": {
   "display_name": "Haskell",
   "language": "haskell",
   "name": "haskell"
  },
  "language_info": {
   "codemirror_mode": "ihaskell",
   "file_extension": ".hs",
   "mimetype": "text/x-haskell",
   "name": "haskell",
   "pygments_lexer": "Haskell",
   "version": "9.6.4"
  }
 },
 "nbformat": 4,
 "nbformat_minor": 5
}
