{
 "cells": [
  {
   "cell_type": "markdown",
   "id": "333866db",
   "metadata": {},
   "source": [
    "## Functor"
   ]
  },
  {
   "cell_type": "markdown",
   "id": "0390c4ff",
   "metadata": {},
   "source": [
    "**Functors in Haskell**\n",
    "\n",
    "A functor is a type constructor that can be mapped over. It's a way to abstract over the concept of applying a function to all elements within a container, while preserving the container's structure.\n",
    "\n",
    "**Key Points:**\n",
    "\n",
    "- **Type Constructor:** A functor is a type that takes one type parameter (e.g., `List`, `Maybe`).\n",
    "- **Mapping:** The core operation is `fmap`, which applies a function to the values inside the functor.\n",
    "- **Structure Preservation:** The functor's structure remains unchanged after mapping.\n",
    "\n",
    "**Example: List Functor**\n",
    "\n",
    "The most common example is the list. A list is a functor because we can apply a function to all elements using `map`.\n",
    "\n",
    "```haskell\n",
    "-- Define a function to double a number\n",
    "double x = x * 2\n",
    "\n",
    "-- A list of numbers\n",
    "numbers = [1, 2, 3, 4]\n",
    "\n",
    "-- Map the `double` function over the list\n",
    "doubledNumbers = map double numbers\n",
    "```\n",
    "\n",
    "Here, `map` is essentially `fmap` for lists. It applies `double` to each element, producing a new list with the doubled values.\n",
    "\n",
    "**Functor Laws**\n",
    "\n",
    "To be a valid functor, a type must satisfy two laws:\n",
    "\n",
    "1. **Identity Law:** `fmap id = id`\n",
    "   - Applying the identity function (`id x = x`) using `fmap` should have no effect.\n",
    "2. **Composition Law:** `fmap (f . g) = fmap f . fmap g`\n",
    "   - Applying the composition of two functions using `fmap` is equivalent to applying `fmap` twice.\n",
    "\n",
    "**Custom Functor**\n",
    "\n",
    "We can create custom functors by defining a type and implementing the `fmap` function.\n",
    "\n",
    "```haskell\n",
    "data Maybe' a = Nothing' | Just' a\n",
    "\n",
    "instance Functor Maybe' where\n",
    "  fmap _ Nothing'  = Nothing'\n",
    "  fmap f (Just' x) = Just' (f x)\n",
    "```\n",
    "\n",
    "Here, `Maybe'` is a custom Maybe type with a different constructor syntax. We define the `fmap` function to handle both `Nothing'` and `Just'` cases, applying the function only to the value wrapped in `Just'`.\n",
    "\n",
    "**Other Functor Examples:**\n",
    "\n",
    "- `Maybe`: Represents optional values.\n",
    "- `Either`: Represents values with two possible types.\n",
    "- `Tree`: A tree structure.\n",
    "- `IO`: Represents actions with side effects.\n",
    "\n",
    "**Conclusion**\n",
    "\n",
    "Functors provide a powerful abstraction for working with different data structures in a consistent way. Understanding functors is crucial for mastering functional programming in Haskell and other languages.\n"
   ]
  },
  {
   "cell_type": "markdown",
   "id": "09142f04",
   "metadata": {},
   "source": [
    "### Exercises: Be Kind\n",
    "\n",
    "Given a type signature, determine the kinds of each type variable:\n",
    "\n",
    "\n",
    "1. What’s the kind of `a`?\n",
    "```haskell\n",
    "a -> a\n",
    "```\n",
    "> <font color=\"green\">**Answer:**</font> `a :: *`\n",
    "\n",
    "2. What are the kinds of `b` and `T` ? (The `T` is capitalized on purpose!)\n",
    "```haskell\n",
    "a -> b a -> T (b a)\n",
    "```\n",
    "> <font color=\"green\">**Answer:**</font> `a :: *`, `b :: * -> *` And I think `T` will cause an error.\n",
    "\n",
    "3. What’s the kind of `c`?\n",
    "```haskell\n",
    "c a b -> c b a\n",
    "```\n",
    "\n",
    "> <font color=\"green\">**Answer:**</font> `c :: * -> * -> *`"
   ]
  },
  {
   "cell_type": "markdown",
   "id": "f6168187",
   "metadata": {},
   "source": [
    "### Functor Laws\n",
    "\n",
    "In Haskell, a **functor** is a type class that represents types that can be mapped over. The key feature of a functor is the `fmap` function, which applies a function to the values wrapped in a functor.\n",
    "\n",
    "A functor must satisfy two laws: the **identity law** and the **composition law**. Let's break these down with explanations and examples.\n",
    "\n",
    "1. **Identity Law**\n",
    "   - This law states that if you apply the `fmap` function with the identity function (`id`), the result should be the same as the original functor.\n",
    "   - Mathematically, this can be expressed as:\n",
    "     ```\n",
    "     fmap id == id\n",
    "     ```\n",
    "\n",
    "   **Example:**\n",
    "\n",
    "   ```haskell\n",
    "   import Data.Maybe\n",
    "\n",
    "   -- Original value wrapped in a Maybe functor\n",
    "   let x = Just 5\n",
    "\n",
    "   -- Applying fmap with the identity function\n",
    "   fmap id x  -- Result: Just 5\n",
    "   ```\n",
    "\n",
    "   Here, applying `fmap id` to `Just 5` results in `Just 5`, satisfying the identity law.\n",
    "\n",
    "2. **Composition Law**\n",
    "   - This law states that if you have two functions, `f` and `g`, and you apply `fmap` to them in composition, it should be equivalent to applying `fmap` for each function in sequence.\n",
    "   - Mathematically, this can be expressed as:\n",
    "     ```\n",
    "     fmap (f . g) == fmap f . fmap g\n",
    "     ```\n",
    "\n",
    "   **Example:**\n",
    "\n",
    "   ```haskell\n",
    "   import Data.Maybe\n",
    "\n",
    "   -- Two functions\n",
    "   let f x = x + 1\n",
    "   let g x = x * 2\n",
    "\n",
    "   -- Original value\n",
    "   let x = Just 5\n",
    "\n",
    "   -- Applying fmap with composition\n",
    "   fmap (f . g) x  -- Result: Just 11 (because (5 * 2) + 1 = 11)\n",
    "\n",
    "   -- Applying fmap separately\n",
    "   let y = fmap g x  -- Result: Just 10\n",
    "   let z = fmap f y  -- Result: Just 11\n",
    "\n",
    "   -- Verifying the composition law\n",
    "   fmap (f . g) x == (fmap f . fmap g) x  -- Result: True\n",
    "   ```\n",
    "\n",
    "   Here, both methods give the same result (`Just 11`), thus satisfying the composition law.\n",
    "\n",
    "\n",
    "In summary, a functor in Haskell is a type that implements the `fmap` function, and it must satisfy the following laws:\n",
    "\n",
    "- **Identity Law**: Applying `fmap` with the identity function returns the original functor.\n",
    "- **Composition Law**: Applying `fmap` with a composed function is the same as applying `fmap` to each function in sequence.\n",
    "\n",
    "These laws ensure that functors behave predictably and consistently when manipulating values within them."
   ]
  },
  {
   "cell_type": "markdown",
   "id": "e2e6925d",
   "metadata": {},
   "source": [
    "### Exercises: Heavy Lifting\n",
    "\n",
    "\n",
    "Add `fmap`, parentheses, and function composition to the expression as needed for the expression to typecheck and produce the expected result. It may not always need to go in the same place, so don’t get complacent."
   ]
  },
  {
   "cell_type": "markdown",
   "id": "6d6f0d12",
   "metadata": {},
   "source": [
    "1.\n",
    "```haskell\n",
    "a = (+1) $ read \"[1]\" :: [Int]\n",
    "```\n",
    "\n",
    "Expected result\n",
    "\n",
    "```\n",
    "Prelude> a\n",
    "[2]\n",
    "```\n",
    "\n",
    "<font color=\"green\">**Answer:**</font>"
   ]
  },
  {
   "cell_type": "code",
   "execution_count": 5,
   "id": "5ff90231",
   "metadata": {},
   "outputs": [
    {
     "data": {
      "text/plain": [
       "[2]"
      ]
     },
     "metadata": {},
     "output_type": "display_data"
    }
   ],
   "source": [
    "fmap (+1) $ read \"[1]\" :: [Int]"
   ]
  },
  {
   "cell_type": "markdown",
   "id": "4ec27454",
   "metadata": {},
   "source": [
    "2. \n",
    "```haskell\n",
    "b = (++ \"lol\") (Just [\"Hi,\", \"Hello\"])\n",
    "```\n",
    "\n",
    "```\n",
    "Prelude> b\n",
    "Just [\"Hi,lol\",\"Hellolol\"]\n",
    "```\n",
    "\n",
    "<font color=\"green\">**Answer:**</font>"
   ]
  },
  {
   "cell_type": "code",
   "execution_count": 6,
   "id": "2f32b31a",
   "metadata": {},
   "outputs": [
    {
     "data": {
      "text/plain": [
       "Just [\"Hi,lol\",\"Hellolol\"]"
      ]
     },
     "metadata": {},
     "output_type": "display_data"
    }
   ],
   "source": [
    "(fmap .fmap) (++ \"lol\") (Just [\"Hi,\", \"Hello\"])"
   ]
  },
  {
   "cell_type": "markdown",
   "id": "4c804822",
   "metadata": {},
   "source": [
    "3.\n",
    "```haskell\n",
    "c = (*2) (\\x -> x - 2)\n",
    "```\n",
    "\n",
    "```\n",
    "Prelude> c 1\n",
    "-2\n",
    "```\n",
    "\n",
    "<font color=\"green\">**Answer:**</font>"
   ]
  },
  {
   "cell_type": "code",
   "execution_count": 8,
   "id": "cc68f059",
   "metadata": {},
   "outputs": [
    {
     "data": {
      "text/plain": [
       "-2"
      ]
     },
     "metadata": {},
     "output_type": "display_data"
    }
   ],
   "source": [
    "c = fmap (*2) (\\x -> x - 2)\n",
    "c 1"
   ]
  },
  {
   "cell_type": "markdown",
   "id": "b80b10b9",
   "metadata": {},
   "source": [
    "4.\n",
    "```haskell\n",
    "d = ((return '1' ++) . show) (\\x -> [x, 1..3])\n",
    "```\n",
    "\n",
    "```\n",
    "Prelude> d 0\n",
    "\"1[0,1,2,3]\"\n",
    "```\n",
    "\n",
    "<font color=\"green\">**Answer:**</font>"
   ]
  },
  {
   "cell_type": "code",
   "execution_count": 11,
   "id": "7389d495",
   "metadata": {},
   "outputs": [
    {
     "data": {
      "text/plain": [
       "\"1[0,1,2,3]\""
      ]
     },
     "metadata": {},
     "output_type": "display_data"
    }
   ],
   "source": [
    "d = fmap ((return '1' ++) . show) (\\x -> [x, 1..3])\n",
    "d 0"
   ]
  },
  {
   "cell_type": "markdown",
   "id": "5ba6fb66",
   "metadata": {},
   "source": [
    "5.\n",
    "```haskell\n",
    "e :: IO Integer\n",
    "e = let ioi = readIO \"1\" :: IO Integer\n",
    "    changed = read (\"123\"++) show ioi\n",
    "    in (*3) changed\n",
    "```\n",
    "\n",
    "```\n",
    "Prelude> e\n",
    "3693\n",
    "```\n",
    "\n",
    "<font color=\"green\">**Answer:**</font>"
   ]
  },
  {
   "cell_type": "code",
   "execution_count": 26,
   "id": "32dacd86",
   "metadata": {},
   "outputs": [
    {
     "data": {
      "text/plain": [
       "3693"
      ]
     },
     "metadata": {},
     "output_type": "display_data"
    }
   ],
   "source": [
    "e :: IO Integer\n",
    "e = let ioi = readIO \"1\" :: IO Integer\n",
    "        changed = do\n",
    "            x <- ioi\n",
    "            return $ read (\"123\" ++ show x)\n",
    "    in fmap (*3) changed\n",
    "\n",
    "e"
   ]
  },
  {
   "cell_type": "markdown",
   "id": "0783c9cd",
   "metadata": {},
   "source": [
    "### Exercises: Instances of Func\n",
    "\n",
    "\n",
    "Implement Functor instances for the following datatypes. Use the\n",
    "QuickCheck properties we showed you to validate them.\n",
    "1. \n",
    "```haskell\n",
    "newtype Identity a = Identity a\n",
    "```\n",
    "2.\n",
    "```haskell\n",
    "data Pair a = Pair a a\n",
    "```\n",
    "3.\n",
    "```haskell\n",
    "data Two a b = Two a b\n",
    "```\n",
    "4.\n",
    "```haskell\n",
    "data Three a b c = Three a b c\n",
    "```\n",
    "5.\n",
    "```haskell\n",
    "data Three' a b = Three' a b b\n",
    "```\n",
    "6.\n",
    "```haskell\n",
    "data Four a b c d = Four a b c d\n",
    "```\n",
    "7.\n",
    "```haskell\n",
    "data Four' a b = Four' a a a b\n",
    "```\n",
    "8. Can you implement one for this type? Why? Why not?\n",
    "```haskell\n",
    "data Trivial = Trivial\n",
    "```\n",
    "\n",
    "<font color=\"green\">**Answer:**</font> No the Trivial type has kind `*`\n",
    "\n",
    "Doing these exercises is critical to understanding how Functor works, do not skip past them!"
   ]
  },
  {
   "cell_type": "code",
   "execution_count": 31,
   "id": "72850484",
   "metadata": {},
   "outputs": [],
   "source": [
    "newtype Identity a = Identity a\n",
    "\n",
    "instance Functor Identity where\n",
    "    fmap f (Identity x) = Identity (f x)"
   ]
  },
  {
   "cell_type": "code",
   "execution_count": 32,
   "id": "c47c3365",
   "metadata": {},
   "outputs": [],
   "source": [
    "data Pair a = Pair a a\n",
    "\n",
    "instance Functor Pair where\n",
    "    fmap f (Pair x y) = Pair (f x) (f y)"
   ]
  },
  {
   "cell_type": "code",
   "execution_count": 33,
   "id": "ba3330cb",
   "metadata": {},
   "outputs": [],
   "source": [
    "data Two a b = Two a b\n",
    "\n",
    "instance Functor (Two a) where\n",
    "    fmap f (Two x y) = Two x (f y)"
   ]
  },
  {
   "cell_type": "code",
   "execution_count": 34,
   "id": "69a71d94",
   "metadata": {},
   "outputs": [],
   "source": [
    "data Three a b c = Three a b c\n",
    "\n",
    "instance Functor (Three a b) where\n",
    "    fmap f (Three x y z) = Three x y (f z)"
   ]
  },
  {
   "cell_type": "code",
   "execution_count": 37,
   "id": "f72d258e",
   "metadata": {},
   "outputs": [],
   "source": [
    "data Three' a b = Three' a b b\n",
    "\n",
    "instance Functor (Three' a) where\n",
    "    fmap f (Three' x y z) = Three' x (f y) (f z)"
   ]
  },
  {
   "cell_type": "code",
   "execution_count": 40,
   "id": "18c8dabb",
   "metadata": {},
   "outputs": [],
   "source": [
    "data Four a b c d = Four a b c d\n",
    "\n",
    "instance Functor (Four a b c) where\n",
    "    fmap f (Four w x y z) = Four w x y (f z)"
   ]
  },
  {
   "cell_type": "code",
   "execution_count": null,
   "id": "7a963439",
   "metadata": {},
   "outputs": [],
   "source": [
    "data Four' a b = Four' a a a b\n",
    "\n",
    "instance Functor (Four' a) where\n",
    "    fmap f (Four' x1 x2 x3 y) = Four' x1 x2 x3 (f y)"
   ]
  }
 ],
 "metadata": {
  "kernelspec": {
   "display_name": "Haskell",
   "language": "haskell",
   "name": "haskell"
  },
  "language_info": {
   "codemirror_mode": "ihaskell",
   "file_extension": ".hs",
   "mimetype": "text/x-haskell",
   "name": "haskell",
   "pygments_lexer": "Haskell",
   "version": "9.6.4"
  }
 },
 "nbformat": 4,
 "nbformat_minor": 5
}
