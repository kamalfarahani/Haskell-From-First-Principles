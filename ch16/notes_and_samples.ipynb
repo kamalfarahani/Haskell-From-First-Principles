{
 "cells": [
  {
   "cell_type": "markdown",
   "id": "333866db",
   "metadata": {},
   "source": [
    "## Functor"
   ]
  },
  {
   "cell_type": "markdown",
   "id": "0390c4ff",
   "metadata": {},
   "source": [
    "**Functors in Haskell**\n",
    "\n",
    "A functor is a type constructor that can be mapped over. It's a way to abstract over the concept of applying a function to all elements within a container, while preserving the container's structure.\n",
    "\n",
    "**Key Points:**\n",
    "\n",
    "- **Type Constructor:** A functor is a type that takes one type parameter (e.g., `List`, `Maybe`).\n",
    "- **Mapping:** The core operation is `fmap`, which applies a function to the values inside the functor.\n",
    "- **Structure Preservation:** The functor's structure remains unchanged after mapping.\n",
    "\n",
    "**Example: List Functor**\n",
    "\n",
    "The most common example is the list. A list is a functor because we can apply a function to all elements using `map`.\n",
    "\n",
    "```haskell\n",
    "-- Define a function to double a number\n",
    "double x = x * 2\n",
    "\n",
    "-- A list of numbers\n",
    "numbers = [1, 2, 3, 4]\n",
    "\n",
    "-- Map the `double` function over the list\n",
    "doubledNumbers = map double numbers\n",
    "```\n",
    "\n",
    "Here, `map` is essentially `fmap` for lists. It applies `double` to each element, producing a new list with the doubled values.\n",
    "\n",
    "**Functor Laws**\n",
    "\n",
    "To be a valid functor, a type must satisfy two laws:\n",
    "\n",
    "1. **Identity Law:** `fmap id = id`\n",
    "   - Applying the identity function (`id x = x`) using `fmap` should have no effect.\n",
    "2. **Composition Law:** `fmap (f . g) = fmap f . fmap g`\n",
    "   - Applying the composition of two functions using `fmap` is equivalent to applying `fmap` twice.\n",
    "\n",
    "**Custom Functor**\n",
    "\n",
    "We can create custom functors by defining a type and implementing the `fmap` function.\n",
    "\n",
    "```haskell\n",
    "data Maybe' a = Nothing' | Just' a\n",
    "\n",
    "instance Functor Maybe' where\n",
    "  fmap _ Nothing'  = Nothing'\n",
    "  fmap f (Just' x) = Just' (f x)\n",
    "```\n",
    "\n",
    "Here, `Maybe'` is a custom Maybe type with a different constructor syntax. We define the `fmap` function to handle both `Nothing'` and `Just'` cases, applying the function only to the value wrapped in `Just'`.\n",
    "\n",
    "**Other Functor Examples:**\n",
    "\n",
    "- `Maybe`: Represents optional values.\n",
    "- `Either`: Represents values with two possible types.\n",
    "- `Tree`: A tree structure.\n",
    "- `IO`: Represents actions with side effects.\n",
    "\n",
    "**Conclusion**\n",
    "\n",
    "Functors provide a powerful abstraction for working with different data structures in a consistent way. Understanding functors is crucial for mastering functional programming in Haskell and other languages.\n"
   ]
  },
  {
   "cell_type": "code",
   "execution_count": null,
   "id": "30f12cc7",
   "metadata": {},
   "outputs": [],
   "source": []
  }
 ],
 "metadata": {
  "kernelspec": {
   "display_name": "Haskell",
   "language": "haskell",
   "name": "haskell"
  }
 },
 "nbformat": 4,
 "nbformat_minor": 5
}
