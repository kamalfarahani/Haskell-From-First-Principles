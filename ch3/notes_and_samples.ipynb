{
 "cells": [
  {
   "cell_type": "markdown",
   "id": "5cc3f715",
   "metadata": {},
   "source": [
    "### putStrLn function"
   ]
  },
  {
   "cell_type": "code",
   "execution_count": 1,
   "id": "5f22e164",
   "metadata": {},
   "outputs": [],
   "source": [
    "main :: IO ()\n",
    "main = putStrLn \"Hello, World!\""
   ]
  },
  {
   "cell_type": "code",
   "execution_count": 2,
   "id": "cce42747",
   "metadata": {},
   "outputs": [
    {
     "data": {
      "text/plain": [
       "Hello, World!"
      ]
     },
     "metadata": {},
     "output_type": "display_data"
    }
   ],
   "source": [
    "main"
   ]
  },
  {
   "cell_type": "markdown",
   "id": "a313a009",
   "metadata": {},
   "source": [
    "### concat function"
   ]
  },
  {
   "cell_type": "code",
   "execution_count": 3,
   "id": "a7521fd5",
   "metadata": {},
   "outputs": [],
   "source": [
    "myGreeting :: String\n",
    "myGreeting = \"Hello\" ++ \" World\"\n",
    "\n",
    "hello :: String\n",
    "hello = \"Hello\"\n",
    "\n",
    "world :: String\n",
    "world = \"World\"\n",
    "\n",
    "main :: IO ()\n",
    "main = do\n",
    "    putStrLn myGreeting\n",
    "    putStrLn $ concat [hello, \" \", world]"
   ]
  },
  {
   "cell_type": "code",
   "execution_count": 4,
   "id": "3e5c63df",
   "metadata": {},
   "outputs": [
    {
     "data": {
      "text/plain": [
       "Hello World\n",
       "Hello World"
      ]
     },
     "metadata": {},
     "output_type": "display_data"
    }
   ],
   "source": [
    "main"
   ]
  },
  {
   "cell_type": "markdown",
   "id": "b3ea14c0",
   "metadata": {},
   "source": [
    "###  Top-level versus local definitions\n",
    "We can contrast a top-level definition with a local definition. To\n",
    "be locally defined would mean the declaration is nested within some\n",
    "other expression and is not visible outside that expression. We practiced this in the previous chapter with let and where. Here’s an example for review:"
   ]
  },
  {
   "cell_type": "code",
   "execution_count": 5,
   "id": "ff29a3ce",
   "metadata": {},
   "outputs": [],
   "source": [
    "topLevelFunction :: Integer -> Integer\n",
    "topLevelFunction x =\n",
    "    x + y + 10\n",
    "    where y :: Integer\n",
    "          y = 2\n",
    "\n",
    "topLevelValue :: Integer\n",
    "topLevelValue = 10"
   ]
  },
  {
   "cell_type": "markdown",
   "id": "c8a1d9e5",
   "metadata": {},
   "source": [
    "### Exercises: Scope"
   ]
  },
  {
   "cell_type": "markdown",
   "id": "24959464",
   "metadata": {},
   "source": [
    "1. These lines of code are from a REPL session. Is y in scope for z?\n",
    "\n",
    "```haskell\n",
    "Prelude> let x = 5\n",
    "Prelude> let y = 7\n",
    "Prelude> let z = x * y\n",
    "```\n",
    "\n",
    "> Answer: yes y is defined top level and is in scope"
   ]
  },
  {
   "cell_type": "markdown",
   "id": "eb434718",
   "metadata": {},
   "source": [
    "2. These lines of code are from a REPL session. Is h in scope for g? Go with your gut here.\n",
    "\n",
    "```haskell\n",
    "Prelude> let f = 3\n",
    "Prelude> let g = 6 * f + h\n",
    "```\n",
    "\n",
    "> Answer: no h is not in scope because it is not defined anywhere"
   ]
  },
  {
   "cell_type": "code",
   "execution_count": null,
   "id": "24e8d6d2",
   "metadata": {},
   "outputs": [],
   "source": []
  }
 ],
 "metadata": {
  "kernelspec": {
   "display_name": "Haskell",
   "language": "haskell",
   "name": "haskell"
  },
  "language_info": {
   "codemirror_mode": "ihaskell",
   "file_extension": ".hs",
   "mimetype": "text/x-haskell",
   "name": "haskell",
   "pygments_lexer": "Haskell",
   "version": "9.6.3"
  }
 },
 "nbformat": 4,
 "nbformat_minor": 5
}
