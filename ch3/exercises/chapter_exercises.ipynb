{
 "cells": [
  {
   "cell_type": "markdown",
   "id": "5edf3d26",
   "metadata": {},
   "source": [
    "## Chapter Exercises"
   ]
  },
  {
   "cell_type": "markdown",
   "id": "0796ce6e",
   "metadata": {},
   "source": [
    "### Reading syntax"
   ]
  },
  {
   "cell_type": "markdown",
   "id": "74baf142",
   "metadata": {},
   "source": [
    "#### Exercise 1\n",
    "\n",
    "For the following lines of code, read the syntax carefully and\n",
    "decide if they are written correctly. Test them in your REPL\n",
    "after you’ve decided to check your work. Correct as many as\n",
    "you can.\n",
    "\n",
    "1. `concat [[1, 2, 3], [4, 5, 6]]` ✅\n",
    "2. `++ [1, 2, 3] [4, 5, 6]` ❌\n",
    "3. `(++) \"hello\" \" world\"` ✅\n",
    "4. `[\"hello\" ++ \" world]` ❌\n",
    "5. `4 !! \"hello\"` ❌\n",
    "6. `(!!) \"hello\" 4` ✅\n",
    "7. `take \"4 lovely\"` ❌\n",
    "8. `take 3 \"awesome\"` ✅"
   ]
  },
  {
   "cell_type": "markdown",
   "id": "be0881a7",
   "metadata": {},
   "source": [
    "#### Exercise 2\n",
    "\n",
    "Next we have two sets: the first set is lines of code and the other\n",
    "is a set of results. Read the code and figure out which results\n",
    "came from which lines of code. Be sure to test them in the\n",
    "REPL.\n",
    "\n",
    "1. `concat [[1 * 6], [2 * 6], [3 * 6]]`\n",
    "2. `\"rain\" ++ drop 2 \"elbow\"`\n",
    "3. `10 * head [1, 2, 3]`\n",
    "4. `(take 3 \"Julie\") ++ (tail \"yes\")`\n",
    "5. `concat [tail [1, 2, 3], tail [4, 5, 6], tail [7, 8, 9]]`\n",
    "\n",
    "\n",
    "Can you match each of the previous expressions to one of these results presented in a scrambled order?\n",
    "\n",
    "+ `\"Jules\"` $\\to 4$\n",
    "+ `[2,3,5,6,8,9]` $\\to 5$\n",
    "+ `\"rainbow\"` $\\to 2$\n",
    "+ `[6,12,18]` $\\to 1$\n",
    "+ `10` $\\to 3$"
   ]
  },
  {
   "cell_type": "markdown",
   "id": "e6a86d36",
   "metadata": {},
   "source": [
    "### Building functions"
   ]
  },
  {
   "cell_type": "markdown",
   "id": "c0ec6e31",
   "metadata": {},
   "source": [
    "#### Exercise 1\n",
    "\n",
    "Given the list-manipulation functions mentioned in this chap-\n",
    "ter, write functions that take the following inputs and return\n",
    "the expected outputs. Do them directly in your REPL and use\n",
    "the take and drop functions you’ve already seen."
   ]
  },
  {
   "cell_type": "markdown",
   "id": "efef0eb1",
   "metadata": {},
   "source": [
    "Given\n",
    "\n",
    "`\"Curry is awesome\"`\n",
    "\n",
    "Return\n",
    "\n",
    "`\"Curry is awesome!\"`"
   ]
  },
  {
   "cell_type": "markdown",
   "id": "e067d282",
   "metadata": {},
   "source": [
    "id \"Curry is awesome\""
   ]
  },
  {
   "cell_type": "markdown",
   "id": "5620f7ed",
   "metadata": {},
   "source": [
    "Given\n",
    "\n",
    "`\"Curry is awesome!\"`\n",
    "\n",
    "Return\n",
    "\n",
    "`\"y\"`"
   ]
  },
  {
   "cell_type": "code",
   "execution_count": 3,
   "id": "c72472fd",
   "metadata": {},
   "outputs": [
    {
     "data": {
      "text/plain": [
       "\"y\""
      ]
     },
     "metadata": {},
     "output_type": "display_data"
    }
   ],
   "source": [
    "[\"Curry is awesome!\" !! 4]"
   ]
  },
  {
   "cell_type": "markdown",
   "id": "f1ed7d5c",
   "metadata": {},
   "source": [
    "Given\n",
    "\n",
    "`\"Curry is awesome!\"`\n",
    "\n",
    "Return\n",
    "\n",
    "`\"awesome!\"`"
   ]
  },
  {
   "cell_type": "code",
   "execution_count": 4,
   "id": "a0712a61",
   "metadata": {},
   "outputs": [
    {
     "data": {
      "text/plain": [
       "\"awesome!\""
      ]
     },
     "metadata": {},
     "output_type": "display_data"
    }
   ],
   "source": [
    "drop 9 \"Curry is awesome!\""
   ]
  },
  {
   "cell_type": "markdown",
   "id": "e51051b9",
   "metadata": {},
   "source": [
    "#### Exercise 2\n",
    "Now take each of the above and rewrite it in a source file as\n",
    "a general function that could take different string inputs as\n",
    "arguments but retain the same behavior. Use a variable as the\n",
    "argument to your (named) functions. If you’re unsure how to\n",
    "do this, refresh your memory by looking at the waxOff exercise\n",
    "from the previous chapter and the TopOrLocal module from this\n",
    "chapter."
   ]
  },
  {
   "cell_type": "code",
   "execution_count": 6,
   "id": "adcd91e3",
   "metadata": {},
   "outputs": [],
   "source": [
    "f_1 = id\n",
    "\n",
    "f_2 x = [x !! 4]\n",
    "\n",
    "f_3 = drop 9"
   ]
  },
  {
   "cell_type": "markdown",
   "id": "c7a7c931",
   "metadata": {},
   "source": [
    "#### Exercise 3\n",
    "\n",
    "Write a function of type String $\\to$ Char which returns the third\n",
    "character in a String. Remember to give the function a name\n",
    "and apply it to a variable, not a specific String, so that it could\n",
    "be reused for different String inputs, as demonstrated (feel free\n",
    "to name the function something else. Be sure to fill in the type\n",
    "signature and fill in the function definition after the equals sign):\n",
    "\n",
    "```haskell\n",
    "thirdLetter ::\n",
    "thirdLetter x =\n",
    "-- If you apply your function\n",
    "-- to this value:\n",
    "\"Curry is awesome\"\n",
    "-- Your function should return\n",
    "`r'\n",
    "```"
   ]
  },
  {
   "cell_type": "code",
   "execution_count": 7,
   "id": "c51c50c4",
   "metadata": {},
   "outputs": [],
   "source": [
    "thirdLetter :: String -> Char\n",
    "thirdLetter x = x !! 2"
   ]
  },
  {
   "cell_type": "code",
   "execution_count": 8,
   "id": "9476c08d",
   "metadata": {},
   "outputs": [
    {
     "data": {
      "text/plain": [
       "'r'"
      ]
     },
     "metadata": {},
     "output_type": "display_data"
    }
   ],
   "source": [
    "thirdLetter \"Curry is awesome\""
   ]
  },
  {
   "cell_type": "markdown",
   "id": "1cf822e7",
   "metadata": {},
   "source": [
    "#### Exercise 4\n",
    "\n",
    "Now change that function so the string operated on is always\n",
    "the same and the variable represents the number of the letter\n",
    "you want to return (you can use “Curry is awesome!” as your\n",
    "string input or a different string if you prefer).\n",
    "\n",
    "```haskell\n",
    "letterIndex :: Int -> Char\n",
    "letterIndex x =\n",
    "```"
   ]
  },
  {
   "cell_type": "code",
   "execution_count": 9,
   "id": "18bf51fa",
   "metadata": {},
   "outputs": [],
   "source": [
    "text = \"Curry is awesome\"\n",
    "letterIndex :: Int -> Char\n",
    "letterIndex x = text !! (x - 1)"
   ]
  },
  {
   "cell_type": "code",
   "execution_count": 10,
   "id": "2de94fcf",
   "metadata": {},
   "outputs": [
    {
     "data": {
      "text/plain": [
       "'r'"
      ]
     },
     "metadata": {},
     "output_type": "display_data"
    }
   ],
   "source": [
    "letterIndex 3"
   ]
  },
  {
   "cell_type": "markdown",
   "id": "23f93d40",
   "metadata": {},
   "source": [
    "#### Exercise 5\n",
    "\n",
    "Using the take and drop functions we looked at above, see if you\n",
    "can write a function called rvrs (an abbreviation of ‘reverse’ used\n",
    "because there is a function called ‘reverse’ already in Prelude,\n",
    "so if you call your function the same name, you’ll get an error\n",
    "message). rvrs should take the string “Curry is awesome” and\n",
    "return the result “awesome is Curry.” This may not be the most\n",
    "lovely Haskell code you will ever write, but it is quite possible\n",
    "using only what we’ve learned so far. First write it as a single\n",
    "function in a source file. This doesn’t need to, and shouldn’t,\n",
    "work for reversing the words of any sentence. You’re expected\n",
    "only to slice and dice this particular string with take and drop."
   ]
  },
  {
   "cell_type": "code",
   "execution_count": 21,
   "id": "6010abaf",
   "metadata": {},
   "outputs": [],
   "source": [
    "rvrs :: String -> String\n",
    "rvrs x =\n",
    "    concat [word_2, is,  word_1]\n",
    "    where\n",
    "        word_1 = take (length \"Curry\") x\n",
    "        word_2 = drop (length \"Curry is \") x\n",
    "        is = \" is \""
   ]
  },
  {
   "cell_type": "code",
   "execution_count": 22,
   "id": "b91bba52",
   "metadata": {},
   "outputs": [
    {
     "data": {
      "text/plain": [
       "\"awesome is Curry\""
      ]
     },
     "metadata": {},
     "output_type": "display_data"
    }
   ],
   "source": [
    "rvrs \"Curry is awesome\""
   ]
  },
  {
   "cell_type": "markdown",
   "id": "1aa67e04",
   "metadata": {},
   "source": [
    "Let’s see if we can expand that function into a module. Why\n",
    "would we want to? By expanding it into a module, we can add\n",
    "more functions later that can interact with each other. We can\n",
    "also then export it to other modules if we want to and use this\n",
    "code in those other modules. There are different ways you\n",
    "could lay it out, but for the sake of convenience, we’ll show you\n",
    "a sample layout so that you can fill in the blanks:\n",
    "\n",
    "```haskell\n",
    "module Reverse where\n",
    "\n",
    "\n",
    "rvrs :: String -> String\n",
    "rvrs x =\n",
    "\n",
    "\n",
    "main :: IO ()\n",
    "main = print ()\n",
    "```\n",
    "\n",
    "Into the parentheses after print you’ll need to fill in your function name rvrs plus the argument you’re applying rvrs to, in this case “Curry is awesome.” That rvrs function plus its argument are now the argument to print. It’s important to put them inside the parentheses so that that function gets applied and evaluated\n",
    "first, and then that result is printed.\n",
    "\n",
    "Of course, we have also mentioned that you can use the `$` symbol\n",
    "to avoid using parentheses, too. Try modifying your main\n",
    "function to use that instead of the parentheses."
   ]
  },
  {
   "cell_type": "markdown",
   "id": "150fa597",
   "metadata": {},
   "source": [
    "> Solution: in reverse.hs file"
   ]
  }
 ],
 "metadata": {
  "kernelspec": {
   "display_name": "Haskell",
   "language": "haskell",
   "name": "haskell"
  },
  "language_info": {
   "codemirror_mode": "ihaskell",
   "file_extension": ".hs",
   "mimetype": "text/x-haskell",
   "name": "haskell",
   "pygments_lexer": "Haskell",
   "version": "9.6.3"
  }
 },
 "nbformat": 4,
 "nbformat_minor": 5
}
