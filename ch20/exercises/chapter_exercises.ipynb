{
 "cells": [
  {
   "cell_type": "markdown",
   "id": "8d1fd2ed",
   "metadata": {},
   "source": [
    "## Chapter Exercises"
   ]
  },
  {
   "cell_type": "markdown",
   "id": "98fad8b8",
   "metadata": {},
   "source": [
    "### Exercise 1\n",
    "\n",
    "Write Foldable instances for the following datatypes."
   ]
  },
  {
   "cell_type": "markdown",
   "id": "42a4881b",
   "metadata": {},
   "source": [
    "1.\n",
    "```haskell\n",
    "data Constant a b =\n",
    "    Constant b\n",
    "```"
   ]
  },
  {
   "cell_type": "markdown",
   "id": "021f3f8d",
   "metadata": {},
   "source": [
    "2.\n",
    "```haskell\n",
    "data Two a b =\n",
    "    Two a b\n",
    "```"
   ]
  },
  {
   "cell_type": "markdown",
   "id": "326bc392",
   "metadata": {},
   "source": [
    "3.\n",
    "```haskell\n",
    "data Three a b c =\n",
    "    Three a b c\n",
    "```"
   ]
  },
  {
   "cell_type": "markdown",
   "id": "ab1e63ac",
   "metadata": {},
   "source": [
    "4.\n",
    "```haskell\n",
    "data Three' a b =\n",
    "    Three' a b b\n",
    "```"
   ]
  },
  {
   "cell_type": "markdown",
   "id": "aa1bb908",
   "metadata": {},
   "source": [
    "5.\n",
    "```haskell\n",
    "data Four' a b =\n",
    "    Four' a b b b\n",
    "```"
   ]
  },
  {
   "cell_type": "markdown",
   "id": "055946bb",
   "metadata": {},
   "source": [
    "### Exercise Two\n",
    "\n",
    "Thinking cap time. Write a `filter` function for `Foldable` types using `foldMap`.\n",
    "\n",
    "```haskell\n",
    "filterF :: (Applicative f, Foldable t, Monoid (f a)) => (a -> Bool) -> t a -> f a\n",
    "filterF = undefined\n",
    "```"
   ]
  },
  {
   "cell_type": "code",
   "execution_count": null,
   "id": "07d7ba31",
   "metadata": {},
   "outputs": [],
   "source": []
  }
 ],
 "metadata": {
  "kernelspec": {
   "display_name": "Haskell",
   "language": "haskell",
   "name": "haskell"
  }
 },
 "nbformat": 4,
 "nbformat_minor": 5
}
