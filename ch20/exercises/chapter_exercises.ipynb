{
 "cells": [
  {
   "cell_type": "markdown",
   "id": "8d1fd2ed",
   "metadata": {},
   "source": [
    "## Chapter Exercises"
   ]
  },
  {
   "cell_type": "markdown",
   "id": "98fad8b8",
   "metadata": {},
   "source": [
    "### Exercise 1\n",
    "\n",
    "Write Foldable instances for the following datatypes."
   ]
  },
  {
   "cell_type": "markdown",
   "id": "42a4881b",
   "metadata": {},
   "source": [
    "1.\n",
    "```haskell\n",
    "data Constant a b =\n",
    "    Constant b\n",
    "```"
   ]
  },
  {
   "cell_type": "code",
   "execution_count": 4,
   "id": "25386cff",
   "metadata": {},
   "outputs": [
    {
     "data": {
      "text/html": [
       "<style>/* Styles used for the Hoogle display in the pager */\n",
       ".hoogle-doc {\n",
       "display: block;\n",
       "padding-bottom: 1.3em;\n",
       "padding-left: 0.4em;\n",
       "}\n",
       ".hoogle-code {\n",
       "display: block;\n",
       "font-family: monospace;\n",
       "white-space: pre;\n",
       "}\n",
       ".hoogle-text {\n",
       "display: block;\n",
       "}\n",
       ".hoogle-name {\n",
       "color: green;\n",
       "font-weight: bold;\n",
       "}\n",
       ".hoogle-head {\n",
       "font-weight: bold;\n",
       "}\n",
       ".hoogle-sub {\n",
       "display: block;\n",
       "margin-left: 0.4em;\n",
       "}\n",
       ".hoogle-package {\n",
       "font-weight: bold;\n",
       "font-style: italic;\n",
       "}\n",
       ".hoogle-module {\n",
       "font-weight: bold;\n",
       "}\n",
       ".hoogle-class {\n",
       "font-weight: bold;\n",
       "}\n",
       "\n",
       ".get-type {\n",
       "color: green;\n",
       "font-weight: bold;\n",
       "font-family: monospace;\n",
       "display: block;\n",
       "white-space: pre-wrap;\n",
       "}\n",
       ".show-type {\n",
       "color: green;\n",
       "font-weight: bold;\n",
       "font-family: monospace;\n",
       "margin-left: 1em;\n",
       "}\n",
       ".mono {\n",
       "font-family: monospace;\n",
       "display: block;\n",
       "}\n",
       ".err-msg {\n",
       "color: red;\n",
       "font-style: italic;\n",
       "font-family: monospace;\n",
       "white-space: pre;\n",
       "display: block;\n",
       "}\n",
       "#unshowable {\n",
       "color: red;\n",
       "font-weight: bold;\n",
       "}\n",
       ".err-msg.in.collapse {\n",
       "padding-top: 0.7em;\n",
       "}\n",
       "\n",
       ".highlight-code {\n",
       "white-space: pre;\n",
       "font-family: monospace;\n",
       "}\n",
       "\n",
       ".suggestion-warning { \n",
       "font-weight: bold;\n",
       "color: rgb(200, 130, 0);\n",
       "}\n",
       ".suggestion-error { \n",
       "font-weight: bold;\n",
       "color: red;\n",
       "}\n",
       ".suggestion-name {\n",
       "font-weight: bold;\n",
       "}\n",
       "\n",
       "</style><div class=\"suggestion-name\" style=\"clear:both;\">Use newtype instead of data</div><div class=\"suggestion-row\" style=\"float: left;\"><div class=\"suggestion-warning\">Found:</div><div class=\"highlight-code\" id=\"haskell\">data Constant a b\n",
       "  = Constant b\n",
       "  deriving (Eq, Show)</div></div><div class=\"suggestion-row\" style=\"float: left;\"><div class=\"suggestion-warning\">Why Not:</div><div class=\"highlight-code\" id=\"haskell\">newtype Constant a b\n",
       "  = Constant b\n",
       "  deriving (Eq, Show)</div></div>"
      ],
      "text/plain": [
       "Line 1: Use newtype instead of data\n",
       "Found:\n",
       "data Constant a b\n",
       "  = Constant b\n",
       "  deriving (Eq, Show)\n",
       "Why not:\n",
       "newtype Constant a b\n",
       "  = Constant b\n",
       "  deriving (Eq, Show)"
      ]
     },
     "metadata": {},
     "output_type": "display_data"
    }
   ],
   "source": [
    "data Constant a b =\n",
    "    Constant b deriving (Eq, Show)\n",
    "\n",
    "instance Foldable (Constant a) where\n",
    "    foldr f acc (Constant x) = f x acc"
   ]
  },
  {
   "cell_type": "markdown",
   "id": "021f3f8d",
   "metadata": {},
   "source": [
    "2.\n",
    "```haskell\n",
    "data Two a b =\n",
    "    Two a b\n",
    "```"
   ]
  },
  {
   "cell_type": "code",
   "execution_count": 5,
   "id": "ff7054da",
   "metadata": {},
   "outputs": [],
   "source": [
    "data Two a b =\n",
    "    Two a b deriving (Eq, Show)\n",
    "\n",
    "instance Foldable (Two a) where\n",
    "    foldr f acc (Two x y) = f y acc"
   ]
  },
  {
   "cell_type": "markdown",
   "id": "326bc392",
   "metadata": {},
   "source": [
    "3.\n",
    "```haskell\n",
    "data Three a b c =\n",
    "    Three a b c\n",
    "```"
   ]
  },
  {
   "cell_type": "code",
   "execution_count": 6,
   "id": "ef91b2f1",
   "metadata": {},
   "outputs": [],
   "source": [
    "data Three a b c =\n",
    "    Three a b c deriving (Eq, Show)\n",
    "\n",
    "instance Foldable (Three a b) where\n",
    "    foldr f acc (Three x y z) = f z acc"
   ]
  },
  {
   "cell_type": "markdown",
   "id": "ab1e63ac",
   "metadata": {},
   "source": [
    "4.\n",
    "```haskell\n",
    "data Three' a b =\n",
    "    Three' a b b\n",
    "```"
   ]
  },
  {
   "cell_type": "code",
   "execution_count": 9,
   "id": "e47ec1d6",
   "metadata": {},
   "outputs": [],
   "source": [
    "data Three' a b =\n",
    "    Three' a b b deriving (Eq, Show)\n",
    "\n",
    "instance Foldable (Three' a) where\n",
    "    foldr f acc (Three' x y1 y2) = f y1 (f y2 acc)"
   ]
  },
  {
   "cell_type": "markdown",
   "id": "aa1bb908",
   "metadata": {},
   "source": [
    "5.\n",
    "```haskell\n",
    "data Four' a b =\n",
    "    Four' a b b b\n",
    "```"
   ]
  },
  {
   "cell_type": "code",
   "execution_count": null,
   "id": "e776c03b",
   "metadata": {},
   "outputs": [],
   "source": [
    "data Four' a b =\n",
    "    Four' a b b b deriving (Eq, Show)\n",
    "\n",
    "instance Foldable (Four' a) where\n",
    "    foldr f acc (Four' x y1 y2 y3) = f y1 (f y2 (f y3 acc))"
   ]
  },
  {
   "cell_type": "markdown",
   "id": "055946bb",
   "metadata": {},
   "source": [
    "### Exercise Two\n",
    "\n",
    "Thinking cap time. Write a `filter` function for `Foldable` types using `foldMap`.\n",
    "\n",
    "```haskell\n",
    "filterF :: (Applicative f, Foldable t, Monoid (f a)) => (a -> Bool) -> t a -> f a\n",
    "filterF = undefined\n",
    "```"
   ]
  },
  {
   "cell_type": "code",
   "execution_count": null,
   "id": "c33a0606",
   "metadata": {},
   "outputs": [],
   "source": [
    "import Data.Foldable\n",
    "\n",
    "filterF :: (Applicative f, Foldable t, Monoid (f a))\n",
    "    => (a -> Bool) -> t a -> f a\n",
    "filterF f ta = \n",
    "    foldMap pure $ filter f (toList ta)"
   ]
  }
 ],
 "metadata": {
  "kernelspec": {
   "display_name": "Haskell",
   "language": "haskell",
   "name": "haskell"
  },
  "language_info": {
   "codemirror_mode": "ihaskell",
   "file_extension": ".hs",
   "mimetype": "text/x-haskell",
   "name": "haskell",
   "pygments_lexer": "Haskell",
   "version": "9.6.4"
  }
 },
 "nbformat": 4,
 "nbformat_minor": 5
}
