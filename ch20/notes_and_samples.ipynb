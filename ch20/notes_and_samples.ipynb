{
 "cells": [
  {
   "cell_type": "markdown",
   "id": "b67a91b8",
   "metadata": {},
   "source": [
    "## Foldable\n",
    "\n",
    "In Haskell, the `Foldable` type class is part of the standard library and provides a way to define a common interface for data structures that can be \"folded\" or reduced to a single value. It allows you to traverse and combine elements of a structure, which makes it a powerful tool for working with various data types.\n",
    "\n",
    "#### Key Functions\n",
    "\n",
    "The `Foldable` type class includes several key functions:\n",
    "\n",
    "1. **`fold`**: Combines elements using a monoidal operation.\n",
    "2. **`foldMap`**: Maps each element to a monoid and combines the results.\n",
    "3. **`foldr`**: Right-associative fold.\n",
    "4. **`foldl`**: Left-associative fold.\n",
    "5. **`toList`**: Converts the structure to a list.\n",
    "\n",
    "#### Example Data Types\n",
    "\n",
    "The `Foldable` type class can be used with various data types, including lists, trees, and more.\n",
    "\n",
    "#### Example 1: Using Foldable with Lists\n",
    "\n",
    "Lists are instances of `Foldable`, so you can use `fold` and other functions directly.\n",
    "\n",
    "```haskell\n",
    "import Data.Foldable\n",
    "\n",
    "-- Using fold to sum a list of numbers\n",
    "sumList :: [Int] -> Int\n",
    "sumList xs = foldr (+) 0 xs\n",
    "\n",
    "-- Example usage\n",
    "main = print (sumList [1, 2, 3, 4])  -- Output: 10\n",
    "```\n",
    "\n",
    "#### Example 2: Using Foldable with Maybe\n",
    "\n",
    "`Maybe` is also an instance of `Foldable`, allowing you to fold over its value if it exists.\n",
    "\n",
    "```haskell\n",
    "import Data.Foldable\n",
    "\n",
    "-- Using fold to sum a Maybe Int\n",
    "sumMaybe :: Maybe Int -> Int\n",
    "sumMaybe mx = foldr (+) 0 mx\n",
    "\n",
    "-- Example usage\n",
    "main = do\n",
    "    print (sumMaybe (Just 5))  -- Output: 5\n",
    "    print (sumMaybe Nothing)    -- Output: 0\n",
    "```\n",
    "\n",
    "#### Example 3: Custom Data Type\n",
    "\n",
    "You can define your own data type to be an instance of `Foldable`.\n",
    "\n",
    "```haskell\n",
    "data Tree a = Leaf a | Node (Tree a) (Tree a)\n",
    "\n",
    "instance Foldable Tree where\n",
    "    foldMap f (Leaf x) = f x\n",
    "    foldMap f (Node left right) = foldMap f left <> foldMap f right\n",
    "\n",
    "-- Using foldMap to sum values in a tree\n",
    "sumTree :: Num a => Tree a -> a\n",
    "sumTree t = foldMap id t\n",
    "\n",
    "-- Example usage\n",
    "main = print (sumTree (Node (Leaf 1) (Node (Leaf 2) (Leaf 3))))  -- Output: 6\n",
    "```\n",
    "\n",
    "#### Summary\n",
    "\n",
    "The `Foldable` type class provides a uniform way to work with various data structures that can be folded. By using functions like `fold`, `foldMap`, and `toList`, you can efficiently combine or transform the elements of these structures. With the defined examples, you can see how `Foldable` can be applied to built-in types like lists and `Maybe`, as well as to custom data types."
   ]
  },
  {
   "cell_type": "code",
   "execution_count": 3,
   "id": "b9d57de2",
   "metadata": {},
   "outputs": [
    {
     "data": {
      "text/html": [
       "<style>/* Styles used for the Hoogle display in the pager */\n",
       ".hoogle-doc {\n",
       "display: block;\n",
       "padding-bottom: 1.3em;\n",
       "padding-left: 0.4em;\n",
       "}\n",
       ".hoogle-code {\n",
       "display: block;\n",
       "font-family: monospace;\n",
       "white-space: pre;\n",
       "}\n",
       ".hoogle-text {\n",
       "display: block;\n",
       "}\n",
       ".hoogle-name {\n",
       "color: green;\n",
       "font-weight: bold;\n",
       "}\n",
       ".hoogle-head {\n",
       "font-weight: bold;\n",
       "}\n",
       ".hoogle-sub {\n",
       "display: block;\n",
       "margin-left: 0.4em;\n",
       "}\n",
       ".hoogle-package {\n",
       "font-weight: bold;\n",
       "font-style: italic;\n",
       "}\n",
       ".hoogle-module {\n",
       "font-weight: bold;\n",
       "}\n",
       ".hoogle-class {\n",
       "font-weight: bold;\n",
       "}\n",
       "\n",
       ".get-type {\n",
       "color: green;\n",
       "font-weight: bold;\n",
       "font-family: monospace;\n",
       "display: block;\n",
       "white-space: pre-wrap;\n",
       "}\n",
       ".show-type {\n",
       "color: green;\n",
       "font-weight: bold;\n",
       "font-family: monospace;\n",
       "margin-left: 1em;\n",
       "}\n",
       ".mono {\n",
       "font-family: monospace;\n",
       "display: block;\n",
       "}\n",
       ".err-msg {\n",
       "color: red;\n",
       "font-style: italic;\n",
       "font-family: monospace;\n",
       "white-space: pre;\n",
       "display: block;\n",
       "}\n",
       "#unshowable {\n",
       "color: red;\n",
       "font-weight: bold;\n",
       "}\n",
       ".err-msg.in.collapse {\n",
       "padding-top: 0.7em;\n",
       "}\n",
       "\n",
       ".highlight-code {\n",
       "white-space: pre;\n",
       "font-family: monospace;\n",
       "}\n",
       "\n",
       ".suggestion-warning { \n",
       "font-weight: bold;\n",
       "color: rgb(200, 130, 0);\n",
       "}\n",
       ".suggestion-error { \n",
       "font-weight: bold;\n",
       "color: red;\n",
       "}\n",
       ".suggestion-name {\n",
       "font-weight: bold;\n",
       "}\n",
       "\n",
       "</style><div class=\"suggestion-name\" style=\"clear:both;\">Use foldr</div><div class=\"suggestion-row\" style=\"float: left;\"><div class=\"suggestion-warning\">Found:</div><div class=\"highlight-code\" id=\"haskell\">foldr' f acc (x : xs) = x `f` foldr' f acc xs\n",
       "foldr' f acc [] = acc</div></div><div class=\"suggestion-row\" style=\"float: left;\"><div class=\"suggestion-warning\">Why Not:</div><div class=\"highlight-code\" id=\"haskell\">foldr' f acc xs = foldr f acc xs</div></div>"
      ],
      "text/plain": [
       "Line 1: Use foldr\n",
       "Found:\n",
       "foldr' f acc (x : xs) = x `f` foldr' f acc xs\n",
       "foldr' f acc [] = acc\n",
       "Why not:\n",
       "foldr' f acc xs = foldr f acc xs"
      ]
     },
     "metadata": {},
     "output_type": "display_data"
    }
   ],
   "source": [
    "foldr' f acc (x:xs) = f x foldr' f acc xs\n",
    "foldr' f acc [] = acc"
   ]
  },
  {
   "cell_type": "markdown",
   "id": "bc8f04d9",
   "metadata": {},
   "source": [
    "### Exercises: Library Functions\n",
    "\n",
    "Implement the functions in terms of `foldMap` or `foldr` from `Foldable`, then try them out with multiple types that have `Foldable` instances."
   ]
  },
  {
   "cell_type": "markdown",
   "id": "82b63278",
   "metadata": {},
   "source": [
    "1. This and the next one are nicer with `foldMap`, but `foldr` is fine too.\n",
    "\n",
    "```haskell\n",
    "sum :: (Foldable t, Num a) => t a -> a\n",
    "```"
   ]
  },
  {
   "cell_type": "code",
   "execution_count": 11,
   "id": "2f86e706",
   "metadata": {},
   "outputs": [],
   "source": [
    "import Data.Monoid\n",
    "\n",
    "sum :: (Foldable t, Num a) => t a -> a\n",
    "sum = getSum . foldMap Sum"
   ]
  },
  {
   "cell_type": "markdown",
   "id": "94d0b58b",
   "metadata": {},
   "source": [
    "2.\n",
    "\n",
    "```haskell\n",
    "product :: (Foldable t, Num a) => t a -> a\n",
    "```"
   ]
  },
  {
   "cell_type": "code",
   "execution_count": 13,
   "id": "652fb5a3",
   "metadata": {},
   "outputs": [],
   "source": [
    "product :: (Foldable t, Num a) => t a -> a\n",
    "product = getProduct . foldMap Product"
   ]
  },
  {
   "cell_type": "markdown",
   "id": "13691c85",
   "metadata": {},
   "source": [
    "3.\n",
    "```haskell\n",
    "elem :: (Foldable t, Eq a) => a -> t a -> Bool\n",
    "```"
   ]
  },
  {
   "cell_type": "code",
   "execution_count": 14,
   "id": "4945eef2",
   "metadata": {},
   "outputs": [],
   "source": [
    "elem :: (Foldable t, Eq a) => a -> t a -> Bool\n",
    "elem x = getAny . foldMap (Any . (==x))"
   ]
  },
  {
   "cell_type": "markdown",
   "id": "73f5c9a8",
   "metadata": {},
   "source": [
    "4.\n",
    "```haskell\n",
    "minimum :: (Foldable t, Ord a) => t a -> Maybe a\n",
    "```"
   ]
  },
  {
   "cell_type": "code",
   "execution_count": 23,
   "id": "1ad7922f",
   "metadata": {},
   "outputs": [],
   "source": [
    "import Data.Semigroup\n",
    "\n",
    "minimum :: (Foldable t, Ord a) => t a -> Maybe a\n",
    "minimum ta =\n",
    "    case theList of\n",
    "        [] -> Nothing\n",
    "        [x] -> Just x\n",
    "        x:xs -> Just $ foldr min x xs\n",
    "    where\n",
    "        theList = foldr (:) [] ta"
   ]
  },
  {
   "cell_type": "markdown",
   "id": "0fb5f1f5",
   "metadata": {},
   "source": [
    "5.\n",
    "```haskell\n",
    "maximum :: (Foldable t, Ord a) => t a -> Maybe a\n",
    "```"
   ]
  },
  {
   "cell_type": "code",
   "execution_count": 24,
   "id": "58ebaacb",
   "metadata": {},
   "outputs": [],
   "source": [
    "maximum :: (Foldable t, Ord a) => t a -> Maybe a\n",
    "maximum ta =\n",
    "    case theList of\n",
    "        [] -> Nothing\n",
    "        [x] -> Just x\n",
    "        x:xs -> Just $ foldr max x xs\n",
    "    where\n",
    "        theList = foldr (:) [] ta"
   ]
  },
  {
   "cell_type": "markdown",
   "id": "fdbffc8c",
   "metadata": {},
   "source": [
    "6.\n",
    "```haskell\n",
    "null :: (Foldable t) => t a -> Bool\n",
    "```"
   ]
  },
  {
   "cell_type": "code",
   "execution_count": 25,
   "id": "b06337ea",
   "metadata": {},
   "outputs": [],
   "source": [
    "null :: (Foldable t) => t a -> Bool\n",
    "null ta =\n",
    "    case theList of\n",
    "        [] -> True\n",
    "        _  -> False\n",
    "    where \n",
    "        theList = foldr (:) [] ta"
   ]
  },
  {
   "cell_type": "markdown",
   "id": "7a2c410f",
   "metadata": {},
   "source": [
    "7.\n",
    "```haskell\n",
    "length :: (Foldable t) => t a -> Int\n",
    "```"
   ]
  },
  {
   "cell_type": "code",
   "execution_count": 26,
   "id": "eabd6484",
   "metadata": {},
   "outputs": [],
   "source": [
    "length :: (Foldable t) => t a -> Int\n",
    "length ta =\n",
    "    case theList of\n",
    "       [] -> 0\n",
    "       (x:xs) -> 1 + length xs\n",
    "    where \n",
    "        theList = foldr (:) [] ta"
   ]
  },
  {
   "cell_type": "markdown",
   "id": "c43d010a",
   "metadata": {},
   "source": [
    "9. Hint: use `foldMap`.\n",
    "```haskell\n",
    "fold :: (Foldable t, Monoid m) => t m -> m\n",
    "```"
   ]
  },
  {
   "cell_type": "code",
   "execution_count": null,
   "id": "53401aaa",
   "metadata": {},
   "outputs": [],
   "source": [
    "fold :: (Foldable t, Monoid m) => t m -> m\n",
    "fold = foldMap id"
   ]
  },
  {
   "cell_type": "markdown",
   "id": "57d9b0a1",
   "metadata": {},
   "source": [
    "10. Define foldMap in terms of `foldr`.\n",
    "\n",
    "```haskell\n",
    "foldMap :: (Foldable t, Monoid m) => (a -> m) -> t a -> m\n",
    "```"
   ]
  },
  {
   "cell_type": "code",
   "execution_count": null,
   "id": "8d1ba548",
   "metadata": {},
   "outputs": [],
   "source": [
    "foldMap :: (Foldable t, Monoid m) => (a -> m) -> t a -> m\n",
    "foldMap f =\n",
    "    foldr (\\x acc -> f x <> acc) mempty"
   ]
  }
 ],
 "metadata": {
  "kernelspec": {
   "display_name": "Haskell",
   "language": "haskell",
   "name": "haskell"
  },
  "language_info": {
   "codemirror_mode": "ihaskell",
   "file_extension": ".hs",
   "mimetype": "text/x-haskell",
   "name": "haskell",
   "pygments_lexer": "Haskell",
   "version": "9.6.4"
  }
 },
 "nbformat": 4,
 "nbformat_minor": 5
}
