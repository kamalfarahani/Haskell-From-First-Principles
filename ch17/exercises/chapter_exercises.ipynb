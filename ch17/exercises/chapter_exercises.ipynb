{
 "cells": [
  {
   "cell_type": "markdown",
   "id": "70187f3b",
   "metadata": {},
   "source": [
    "## Chapter Exercises"
   ]
  },
  {
   "cell_type": "markdown",
   "id": "e8c7dcdf",
   "metadata": {},
   "source": [
    "### Exercise 1\n",
    "\n",
    "Given a type that has an instance of `Applicative`, specialize the types\n",
    "of the methods. Test your specialization in the `REPL`. One way to\n",
    "do this is to bind aliases of the typeclass methods to more concrete\n",
    "types that have the type we told you to fill in.\n",
    "\n",
    "\n",
    "1. Type: `[]`\n",
    "```haskell\n",
    "-- Methods\n",
    "pure :: a -> ? a\n",
    "(<*>) :: ? (a -> b) -> ? a -> ? b\n",
    "```\n",
    "\n",
    "<font color=\"green\">**Answer:**</font>\n",
    "\n",
    "```haskell\n",
    "-- Methods\n",
    "pure :: a -> [a]\n",
    "(<*>) :: [(a -> b)] -> [a] -> [b]\n",
    "```"
   ]
  },
  {
   "cell_type": "markdown",
   "id": "74615b0f",
   "metadata": {},
   "source": [
    "2. Type: `IO`\n",
    "\n",
    "```haskell\n",
    "-- Methods\n",
    "pure :: a -> ? a\n",
    "(<*>) :: ? (a -> b) -> ? a -> ? b\n",
    "```\n",
    "\n",
    "<font color=\"green\">**Answer:**</font>\n",
    "\n",
    "```haskell\n",
    "pure :: a -> IO a\n",
    "(<*>) :: IO (a -> b) -> IO a -> IO b\n",
    "```"
   ]
  },
  {
   "cell_type": "markdown",
   "id": "ff3836b4",
   "metadata": {},
   "source": [
    "3. Type: `(,) a`\n",
    "\n",
    "```haskell\n",
    "-- Methods\n",
    "pure :: a -> ? a\n",
    "(<*>) :: ? (a -> b) -> ? a -> ? b\n",
    "```\n",
    "\n",
    "<font color=\"green\">**Answer:**</font>\n",
    "\n",
    "```haskell\n",
    "pure :: a ->  (a, a)\n",
    "(<*>) :: ? (a -> b) -> (a, a) -> (a, b)\n",
    "```"
   ]
  },
  {
   "cell_type": "markdown",
   "id": "4a40430b",
   "metadata": {},
   "source": [
    "4. `(->) e`\n",
    "\n",
    "```haskell\n",
    "-- Methods\n",
    "pure :: a -> ? a\n",
    "(<*>) :: ? (a -> b) -> ? a -> ? b\n",
    "```\n",
    "\n",
    "<font color=\"green\">**Answer:**</font>\n",
    "\n",
    "```haskell\n",
    "pure :: a -> (e -> a)\n",
    "(<*>) :: (e -> (a -> b)) -> (e -> a) -> (e -> b)\n",
    "```"
   ]
  },
  {
   "cell_type": "markdown",
   "id": "887dcc14",
   "metadata": {},
   "source": [
    "### Exercise 2\n",
    "\n",
    "Write instances for the following datatypes. Confused? Write\n",
    "out what the type should be. Use the checkers library to validate the\n",
    "instances."
   ]
  },
  {
   "cell_type": "markdown",
   "id": "823cc7f8",
   "metadata": {},
   "source": [
    "1.\n",
    "```haskell\n",
    "data Pair a = Pair a a deriving Show\n",
    "```"
   ]
  },
  {
   "cell_type": "code",
   "execution_count": 6,
   "id": "2b899e98",
   "metadata": {},
   "outputs": [],
   "source": [
    "data Pair a = Pair a a deriving (Eq, Show)\n",
    "\n",
    "instance Functor Pair where\n",
    "    fmap f (Pair x1 x2) = Pair (f x1) (f x2)\n",
    "\n",
    "instance Applicative Pair where\n",
    "    pure x = Pair x x\n",
    "    (<*>) (Pair f1 f2) (Pair x1 x2) = Pair (f1 x1) (f2 x2)"
   ]
  },
  {
   "cell_type": "markdown",
   "id": "1bd7578f",
   "metadata": {},
   "source": [
    "2.\n",
    "```haskell\n",
    "data Two a b = Two a b\n",
    "```"
   ]
  },
  {
   "cell_type": "code",
   "execution_count": 7,
   "id": "566bde78",
   "metadata": {},
   "outputs": [],
   "source": [
    "data Two a b = Two a b deriving (Eq, Show)\n",
    "\n",
    "instance Functor (Two a) where\n",
    "    fmap f (Two x y) = Two x (f y)\n",
    "\n",
    "instance Monoid a => Applicative (Two a) where\n",
    "    pure = Two mempty\n",
    "    (<*>) (Two x1 f) (Two x2 y) = Two (x1 <> x2) (f y)"
   ]
  },
  {
   "cell_type": "markdown",
   "id": "f82bb920",
   "metadata": {},
   "source": [
    "3.\n",
    "```haskell\n",
    "data Three a b c = Three a b c\n",
    "```"
   ]
  },
  {
   "cell_type": "code",
   "execution_count": 8,
   "id": "8327857a",
   "metadata": {},
   "outputs": [],
   "source": [
    "data Three a b c = Three a b c deriving (Eq, Show)\n",
    "\n",
    "instance Functor (Three a b) where\n",
    "    fmap f (Three x y z) = Three x y (f z)\n",
    "\n",
    "instance (Monoid a, Monoid b) => Applicative (Three a b) where\n",
    "    pure = Three mempty mempty\n",
    "    (<*>) (Three x1 y1 f) (Three x2 y2 z) = Three (x1 <> x2) (y1 <> y2) (f z)"
   ]
  },
  {
   "cell_type": "markdown",
   "id": "032fac22",
   "metadata": {},
   "source": [
    "4.\n",
    "```haskell\n",
    "data Three' a b = Three' a b b\n",
    "```"
   ]
  },
  {
   "cell_type": "code",
   "execution_count": 10,
   "id": "9ee3951d",
   "metadata": {},
   "outputs": [],
   "source": [
    "data Three' a b = Three' a b b deriving (Eq, Show)\n",
    "\n",
    "instance Functor (Three' a) where\n",
    "    fmap f (Three' x y1 y2) = Three' x (f y1) (f y2)\n",
    "\n",
    "instance Monoid a => Applicative (Three' a) where\n",
    "    pure x = Three' mempty x x\n",
    "    (<*>) (Three' x1 f1 f2) (Three' x2 y1 y2) =\n",
    "        Three' (x1 <> x2) (f1 y1) (f2 y2)"
   ]
  },
  {
   "cell_type": "markdown",
   "id": "34e73d54",
   "metadata": {},
   "source": [
    "5.\n",
    "```haskell\n",
    "data Four a b c d = Four a b c d\n",
    "```"
   ]
  },
  {
   "cell_type": "code",
   "execution_count": 11,
   "id": "e14cd033",
   "metadata": {},
   "outputs": [],
   "source": [
    "data Four a b c d = Four a b c d deriving (Eq, Show)\n",
    "\n",
    "instance Functor (Four a b c) where\n",
    "    fmap f (Four w x y z) = Four w x y (f z)\n",
    "\n",
    "instance (Monoid a, Monoid b, Monoid c) => Applicative (Four a b c) where\n",
    "    pure = Four mempty mempty mempty\n",
    "    (<*>) (Four w1 x1 y1 f) (Four w2 x2 y2 z) = \n",
    "        Four (w1 <> w2) (x1 <> x2) (y1 <> y2) (f z)"
   ]
  },
  {
   "cell_type": "markdown",
   "id": "26b88fef",
   "metadata": {},
   "source": [
    "6.\n",
    "```haskell\n",
    "data Four' a b = Four' a a a b\n",
    "```"
   ]
  },
  {
   "cell_type": "code",
   "execution_count": 13,
   "id": "04a49cf0",
   "metadata": {},
   "outputs": [],
   "source": [
    "data Four' a b = Four' a a a b deriving (Eq, Show)\n",
    "\n",
    "instance Functor (Four' a) where\n",
    "    fmap f (Four' x1 x2 x3 y) = Four' x1 x2 x3 (f y)\n",
    "\n",
    "instance (Monoid a) => Applicative (Four' a) where\n",
    "    pure = Four' mempty mempty mempty\n",
    "    (<*>) (Four' x1 x2 x3 f) (Four' x1' x2' x3' y) =\n",
    "        Four' (x1 <> x1') (x2 <> x2') (x3 <> x3') (f y)"
   ]
  },
  {
   "cell_type": "markdown",
   "id": "89c676d9",
   "metadata": {},
   "source": [
    "### Exercise 3: Combinations\n",
    "\n",
    "Remember the vowels and stops exercise in the folds chapter? Write\n",
    "the function to generate the possible combinations of three input\n",
    "lists using `liftA3` from `Control.Applicative`.\n",
    "\n",
    "```haskell\n",
    "import Control.Applicative (liftA3)\n",
    "\n",
    "stops :: String\n",
    "stops = \"pbtdkg\"\n",
    "\n",
    "vowels :: String\n",
    "vowels = \"aeiou\"\n",
    "\n",
    "combos :: [a] -> [b] -> [c] -> [(a, b, c)]\n",
    "combos = undefined\n",
    "```"
   ]
  },
  {
   "cell_type": "code",
   "execution_count": 14,
   "id": "8f9e8b89",
   "metadata": {},
   "outputs": [],
   "source": [
    "import Control.Applicative (liftA3)\n",
    "\n",
    "stops :: String\n",
    "stops = \"pbtdkg\"\n",
    "\n",
    "vowels :: String\n",
    "vowels = \"aeiou\"\n",
    "\n",
    "combos :: [a] -> [b] -> [c] -> [(a, b, c)]\n",
    "combos = liftA3 (,,)"
   ]
  },
  {
   "cell_type": "code",
   "execution_count": null,
   "id": "ef90ed83",
   "metadata": {},
   "outputs": [
    {
     "data": {
      "text/plain": [
       "[('p','a','p'),('p','a','b'),('p','a','t'),('p','a','d'),('p','a','k'),('p','a','g'),('p','e','p'),('p','e','b'),('p','e','t'),('p','e','d'),('p','e','k'),('p','e','g'),('p','i','p'),('p','i','b'),('p','i','t'),('p','i','d'),('p','i','k'),('p','i','g'),('p','o','p'),('p','o','b'),('p','o','t'),('p','o','d'),('p','o','k'),('p','o','g'),('p','u','p'),('p','u','b'),('p','u','t'),('p','u','d'),('p','u','k'),('p','u','g'),('b','a','p'),('b','a','b'),('b','a','t'),('b','a','d'),('b','a','k'),('b','a','g'),('b','e','p'),('b','e','b'),('b','e','t'),('b','e','d'),('b','e','k'),('b','e','g'),('b','i','p'),('b','i','b'),('b','i','t'),('b','i','d'),('b','i','k'),('b','i','g'),('b','o','p'),('b','o','b'),('b','o','t'),('b','o','d'),('b','o','k'),('b','o','g'),('b','u','p'),('b','u','b'),('b','u','t'),('b','u','d'),('b','u','k'),('b','u','g'),('t','a','p'),('t','a','b'),('t','a','t'),('t','a','d'),('t','a','k'),('t','a','g'),('t','e','p'),('t','e','b'),('t','e','t'),('t','e','d'),('t','e','k'),('t','e','g'),('t','i','p'),('t','i','b'),('t','i','t'),('t','i','d'),('t','i','k'),('t','i','g'),('t','o','p'),('t','o','b'),('t','o','t'),('t','o','d'),('t','o','k'),('t','o','g'),('t','u','p'),('t','u','b'),('t','u','t'),('t','u','d'),('t','u','k'),('t','u','g'),('d','a','p'),('d','a','b'),('d','a','t'),('d','a','d'),('d','a','k'),('d','a','g'),('d','e','p'),('d','e','b'),('d','e','t'),('d','e','d'),('d','e','k'),('d','e','g'),('d','i','p'),('d','i','b'),('d','i','t'),('d','i','d'),('d','i','k'),('d','i','g'),('d','o','p'),('d','o','b'),('d','o','t'),('d','o','d'),('d','o','k'),('d','o','g'),('d','u','p'),('d','u','b'),('d','u','t'),('d','u','d'),('d','u','k'),('d','u','g'),('k','a','p'),('k','a','b'),('k','a','t'),('k','a','d'),('k','a','k'),('k','a','g'),('k','e','p'),('k','e','b'),('k','e','t'),('k','e','d'),('k','e','k'),('k','e','g'),('k','i','p'),('k','i','b'),('k','i','t'),('k','i','d'),('k','i','k'),('k','i','g'),('k','o','p'),('k','o','b'),('k','o','t'),('k','o','d'),('k','o','k'),('k','o','g'),('k','u','p'),('k','u','b'),('k','u','t'),('k','u','d'),('k','u','k'),('k','u','g'),('g','a','p'),('g','a','b'),('g','a','t'),('g','a','d'),('g','a','k'),('g','a','g'),('g','e','p'),('g','e','b'),('g','e','t'),('g','e','d'),('g','e','k'),('g','e','g'),('g','i','p'),('g','i','b'),('g','i','t'),('g','i','d'),('g','i','k'),('g','i','g'),('g','o','p'),('g','o','b'),('g','o','t'),('g','o','d'),('g','o','k'),('g','o','g'),('g','u','p'),('g','u','b'),('g','u','t'),('g','u','d'),('g','u','k'),('g','u','g')]"
      ]
     },
     "metadata": {},
     "output_type": "display_data"
    }
   ],
   "source": [
    "combos stops vowels stops"
   ]
  }
 ],
 "metadata": {
  "kernelspec": {
   "display_name": "Haskell",
   "language": "haskell",
   "name": "haskell"
  },
  "language_info": {
   "codemirror_mode": "ihaskell",
   "file_extension": ".hs",
   "mimetype": "text/x-haskell",
   "name": "haskell",
   "pygments_lexer": "Haskell",
   "version": "9.6.4"
  }
 },
 "nbformat": 4,
 "nbformat_minor": 5
}
