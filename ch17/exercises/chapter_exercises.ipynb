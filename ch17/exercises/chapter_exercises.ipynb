{
 "cells": [
  {
   "cell_type": "markdown",
   "id": "70187f3b",
   "metadata": {},
   "source": [
    "## Chapter Exercises"
   ]
  },
  {
   "cell_type": "markdown",
   "id": "e8c7dcdf",
   "metadata": {},
   "source": [
    "### Exercise 1\n",
    "\n",
    "Given a type that has an instance of `Applicative`, specialize the types\n",
    "of the methods. Test your specialization in the `REPL`. One way to\n",
    "do this is to bind aliases of the typeclass methods to more concrete\n",
    "types that have the type we told you to fill in.\n",
    "\n",
    "\n",
    "1. Type: `[]`\n",
    "```haskell\n",
    "-- Methods\n",
    "pure :: a -> ? a\n",
    "(<*>) :: ? (a -> b) -> ? a -> ? b\n",
    "```\n",
    "\n",
    "<font color=\"green\">**Answer:**</font>\n",
    "\n",
    "```haskell\n",
    "-- Methods\n",
    "pure :: a -> [a]\n",
    "(<*>) :: [(a -> b)] -> [a] -> [b]\n",
    "```"
   ]
  },
  {
   "cell_type": "markdown",
   "id": "74615b0f",
   "metadata": {},
   "source": [
    "2. Type: `IO`\n",
    "\n",
    "```haskell\n",
    "-- Methods\n",
    "pure :: a -> ? a\n",
    "(<*>) :: ? (a -> b) -> ? a -> ? b\n",
    "```\n",
    "\n",
    "<font color=\"green\">**Answer:**</font>\n",
    "\n",
    "```haskell\n",
    "pure :: a -> IO a\n",
    "(<*>) :: IO (a -> b) -> IO a -> IO b\n",
    "```"
   ]
  },
  {
   "cell_type": "markdown",
   "id": "ff3836b4",
   "metadata": {},
   "source": [
    "3. Type: `(,) a`\n",
    "\n",
    "```haskell\n",
    "-- Methods\n",
    "pure :: a -> ? a\n",
    "(<*>) :: ? (a -> b) -> ? a -> ? b\n",
    "```\n",
    "\n",
    "<font color=\"green\">**Answer:**</font>\n",
    "\n",
    "```haskell\n",
    "pure :: a ->  (a, a)\n",
    "(<*>) :: ? (a -> b) -> (a, a) -> (a, b)\n",
    "```"
   ]
  },
  {
   "cell_type": "markdown",
   "id": "4a40430b",
   "metadata": {},
   "source": [
    "4. `(->) e`\n",
    "\n",
    "```haskell\n",
    "-- Methods\n",
    "pure :: a -> ? a\n",
    "(<*>) :: ? (a -> b) -> ? a -> ? b\n",
    "```\n",
    "\n",
    "<font color=\"green\">**Answer:**</font>\n",
    "\n",
    "```haskell\n",
    "pure :: a -> (e -> a)\n",
    "(<*>) :: (e -> (a -> b)) -> (e -> a) -> ? b\n",
    "```"
   ]
  },
  {
   "cell_type": "code",
   "execution_count": null,
   "id": "87a6d86a",
   "metadata": {},
   "outputs": [],
   "source": []
  }
 ],
 "metadata": {
  "kernelspec": {
   "display_name": "Haskell",
   "language": "haskell",
   "name": "haskell"
  }
 },
 "nbformat": 4,
 "nbformat_minor": 5
}
