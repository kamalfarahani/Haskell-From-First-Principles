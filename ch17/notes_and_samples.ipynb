{
 "cells": [
  {
   "cell_type": "markdown",
   "id": "9ce951f6",
   "metadata": {},
   "source": [
    "## Applicative"
   ]
  },
  {
   "cell_type": "markdown",
   "id": "fc986965",
   "metadata": {},
   "source": [
    "### Applicative definition\n",
    "\n",
    "In Haskell, the `Applicative` type class is a powerful abstraction that allows you to apply functions wrapped in a context (like a `Maybe`, `List`, or `IO`) to values that are also wrapped in a context. It builds on the `Functor` type class, and provides a way to handle functions that take multiple arguments in a context-aware manner.\n",
    "\n",
    "#### Key Components\n",
    "\n",
    "1. **Functor**: The `Applicative` type class is a subclass of `Functor`. This means that any type that is an instance of `Applicative` must also implement `fmap`.\n",
    "\n",
    "2. **pure**: This function takes a value and wraps it in the applicative context.\n",
    "\n",
    "3. **(<*> or ap)**: This operator takes a wrapped function and a wrapped value and applies the function to the value.\n",
    "\n",
    "#### Type Class Definition\n",
    "\n",
    "Here’s a simplified definition of the `Applicative` type class:\n",
    "\n",
    "```haskell\n",
    "class Functor f => Applicative f where\n",
    "    pure :: a -> f a\n",
    "    (<*>) :: f (a -> b) -> f a -> f b\n",
    "```\n",
    "\n",
    "#### Example 1: `Maybe`\n",
    "\n",
    "The `Maybe` type is a common instance of `Applicative`. It represents a computation that might fail.\n",
    "\n",
    "```haskell\n",
    "-- Using pure to wrap a value\n",
    "justFive :: Maybe Int\n",
    "justFive = pure 5  -- Result: Just 5\n",
    "\n",
    "-- Applying a function wrapped in Maybe\n",
    "add :: Int -> Int -> Int\n",
    "add x y = x + y\n",
    "\n",
    "maybeAdd :: Maybe (Int -> Int)\n",
    "maybeAdd = pure add\n",
    "\n",
    "result :: Maybe Int\n",
    "result = maybeAdd <*> Just 3 <*> Just 4  -- Result: Just 7\n",
    "```\n",
    "\n",
    "#### Example 2: Lists\n",
    "\n",
    "Lists are also instances of `Applicative`. The `(<*>)` operator applies functions in a list to values in another list, producing all combinations.\n",
    "\n",
    "```haskell\n",
    "-- Pure to wrap a value in a list\n",
    "pureList :: [Int]\n",
    "pureList = pure 5  -- Result: [5]\n",
    "\n",
    "-- Using a list of functions\n",
    "addLists :: [Int -> Int]\n",
    "addLists = [(+1), (+2)]\n",
    "\n",
    "-- Combining lists\n",
    "resultList :: [Int]\n",
    "resultList = addLists <*> [1, 2, 3]  -- Result: [2,3,4,3,4,5]\n",
    "```\n",
    "\n",
    "#### Example 3: `IO`\n",
    "\n",
    "The `IO` type is also an instance of `Applicative`, allowing you to combine actions.\n",
    "\n",
    "```haskell\n",
    "-- Pure to wrap a value in IO\n",
    "pureIO :: IO Int\n",
    "pureIO = pure 5  -- Result: an IO action that produces 5\n",
    "\n",
    "-- Combining IO actions\n",
    "printSum :: IO ()\n",
    "printSum = (+) <$> getLine <*> getLine >>= print\n",
    "```\n",
    "\n",
    "### Summary\n",
    "\n",
    "- `Applicative` allows you to apply functions in a context to values in a context.\n",
    "- It is a generalization of `Functor` and provides more functionality.\n",
    "- Common instances include `Maybe`, lists, and `IO`.\n",
    "\n",
    "By using `Applicative`, you can elegantly handle computations that may involve multiple contexts, making your Haskell code more concise and expressive."
   ]
  },
  {
   "cell_type": "markdown",
   "id": "14b85679",
   "metadata": {},
   "source": [
    "### Applicative Laws\n",
    "\n",
    "1. **Identity Law**\n",
    "   - This law states that applying the identity function wrapped in the applicative context to a value should yield the same value.\n",
    "\n",
    "   **Law:**  \n",
    "   ```haskell\n",
    "   pure id <*> v = v\n",
    "   ```\n",
    "\n",
    "   **Example:**\n",
    "   ```haskell\n",
    "   maybeValue :: Maybe Int\n",
    "   maybeValue = Just 5\n",
    "\n",
    "   result :: Maybe Int\n",
    "   result = pure id <*> maybeValue  -- Result: Just 5\n",
    "   ```\n",
    "\n",
    "2. **Homomorphism Law**\n",
    "   - This law states that if you take a value, wrap it in the applicative context, and then apply a pure function to it, you should get the same result as applying the function directly to the value and wrapping the result.\n",
    "\n",
    "   **Law:**  \n",
    "   ```haskell\n",
    "   pure f <*> pure x = pure (f x)\n",
    "   ```\n",
    "\n",
    "   **Example:**\n",
    "   ```haskell\n",
    "   pureValue :: Maybe Int\n",
    "   pureValue = pure 3  -- Result: Just 3\n",
    "\n",
    "   result :: Maybe Int\n",
    "   result = pure (+1) <*> pure 3  -- Result: Just 4\n",
    "   ```\n",
    "\n",
    "3. **Interchange Law**\n",
    "   - This law states that if you have a value wrapped in an applicative context and a function also wrapped in the same context, you can apply them in either order.\n",
    "\n",
    "   **Law:**  \n",
    "   ```haskell\n",
    "   u <*> pure y = pure ($ y) <*> u\n",
    "   ```\n",
    "\n",
    "   **Example:**\n",
    "   ```haskell\n",
    "   maybeFunc :: Maybe (Int -> Int)\n",
    "   maybeFunc = Just (+1)\n",
    "\n",
    "   result1 :: Maybe Int\n",
    "   result1 = maybeFunc <*> pure 5  -- Result: Just 6\n",
    "\n",
    "   result2 :: Maybe Int\n",
    "   result2 = pure ($ 5) <*> maybeFunc  -- Result: Just 6\n",
    "   ```\n",
    "\n",
    "#### Summary of Applicative Laws\n",
    "\n",
    "- **Identity Law:** The identity function in an applicative context does not change the value.\n",
    "- **Homomorphism Law:** Applying a pure function to a pure value yields the same result as applying the function directly.\n",
    "- **Interchange Law:** You can interchange the order of applying a function and a value wrapped in the applicative context.\n",
    "\n",
    "These laws ensure that `Applicative` instances behave consistently and can be relied upon in functional programming. By adhering to these laws, you can avoid unexpected behaviors and write more predictable code. "
   ]
  },
  {
   "cell_type": "markdown",
   "id": "e6686ed0",
   "metadata": {},
   "source": [
    "### Exercises: Lookups\n",
    "\n",
    "In the following exercises you will need to use the following terms to make the expressions typecheck:\n",
    "\n",
    "1. `pure`\n",
    "2. `(<$>)`\n",
    "3. `(<*>)`\n",
    "\n",
    "Make the following expressions typecheck.\n",
    "\n",
    "1.\n",
    "```haskell\n",
    "added :: Maybe Integer\n",
    "added = (+3) (lookup 3 $ zip [1, 2, 3] [4, 5, 6])\n",
    "```"
   ]
  },
  {
   "cell_type": "code",
   "execution_count": 6,
   "id": "2fa63750",
   "metadata": {},
   "outputs": [],
   "source": [
    "added :: Maybe Integer\n",
    "added = (+ 3) <$> lookup 3 (zip [1, 2, 3] [4, 5, 6])"
   ]
  },
  {
   "cell_type": "markdown",
   "id": "33a2d90c",
   "metadata": {},
   "source": [
    "2.\n",
    "```haskell\n",
    "y :: Maybe Integer\n",
    "y = lookup 3 $ zip [1, 2, 3] [4, 5, 6]\n",
    "z :: Maybe Integer\n",
    "z = lookup 2 $ zip [1, 2, 3] [4, 5, 6]\n",
    "tupled :: Maybe (Integer, Integer)\n",
    "tupled = (,) y z\n",
    "```"
   ]
  },
  {
   "cell_type": "code",
   "execution_count": 8,
   "id": "92214ffa",
   "metadata": {},
   "outputs": [],
   "source": [
    "y :: Maybe Integer\n",
    "y = lookup 3 $ zip [1, 2, 3] [4, 5, 6]\n",
    "\n",
    "z :: Maybe Integer\n",
    "z = lookup 2 $ zip [1, 2, 3] [4, 5, 6]\n",
    "\n",
    "tupled :: Maybe (Integer, Integer)\n",
    "tupled = (,) <$> y <*> z"
   ]
  },
  {
   "cell_type": "markdown",
   "id": "d946bb0f",
   "metadata": {},
   "source": [
    "3.\n",
    "```haskell\n",
    "import Data.List (elemIndex)\n",
    "\n",
    "x :: Maybe Int\n",
    "x = elemIndex 3 [1, 2, 3, 4, 5]\n",
    "\n",
    "y :: Maybe Int\n",
    "y = elemIndex 4 [1, 2, 3, 4, 5]\n",
    "\n",
    "max' :: Int -> Int -> Int\n",
    "max' = max\n",
    "\n",
    "maxed :: Maybe Int\n",
    "maxed = max' x y\n",
    "```"
   ]
  },
  {
   "cell_type": "code",
   "execution_count": 10,
   "id": "ba9bd8e9",
   "metadata": {},
   "outputs": [],
   "source": [
    "import Data.List (elemIndex)\n",
    "\n",
    "x :: Maybe Int\n",
    "x = elemIndex 3 [1, 2, 3, 4, 5]\n",
    "\n",
    "y :: Maybe Int\n",
    "y = elemIndex 4 [1, 2, 3, 4, 5]\n",
    "\n",
    "max' :: Int -> Int -> Int\n",
    "max' = max\n",
    "\n",
    "maxed :: Maybe Int\n",
    "maxed = max' <$> x <*> y"
   ]
  },
  {
   "cell_type": "markdown",
   "id": "31b82125",
   "metadata": {},
   "source": [
    "4.\n",
    "```haskell\n",
    "xs = [1, 2, 3]\n",
    "ys = [4, 5, 6]\n",
    "\n",
    "x :: Maybe Integer\n",
    "x = lookup 3 $ zip xs ys\n",
    "\n",
    "y :: Maybe Integer\n",
    "y = lookup 2 $ zip xs ys\n",
    "\n",
    "summed :: Maybe Integer\n",
    "summed = sum $ (,) x y\n",
    "```"
   ]
  },
  {
   "cell_type": "code",
   "execution_count": 20,
   "id": "bef9c2ee",
   "metadata": {},
   "outputs": [],
   "source": [
    "xs = [1, 2, 3]\n",
    "ys = [4, 5, 6]\n",
    "\n",
    "x :: Maybe Integer\n",
    "x = lookup 3 $ zip xs ys\n",
    "\n",
    "y :: Maybe Integer\n",
    "y = lookup 2 $ zip xs ys\n",
    "\n",
    "summed = sum <$> ((,) <$> x <*> y)"
   ]
  },
  {
   "cell_type": "markdown",
   "id": "5afd6e86",
   "metadata": {},
   "source": [
    "### Exercise: Identity Instance\n",
    "\n",
    "Write an Applicative instance for Identity.\n",
    "\n",
    "```haskell\n",
    "newtype Identity a = Identity a deriving (Eq, Ord, Show)\n",
    "\n",
    "instance Functor Identity where\n",
    "    fmap = undefined\n",
    "\n",
    "instance Applicative Identity where\n",
    "    pure = undefined\n",
    "    (<*>) = undefined\n",
    "```"
   ]
  },
  {
   "cell_type": "code",
   "execution_count": 22,
   "id": "4e7a7802",
   "metadata": {},
   "outputs": [],
   "source": [
    "newtype Identity a = Identity a deriving (Eq, Ord, Show)\n",
    "\n",
    "instance Functor Identity where\n",
    "    fmap f (Identity x) = Identity $ f x\n",
    "\n",
    "instance Applicative Identity where\n",
    "    pure = Identity\n",
    "    (<*>) (Identity f) (Identity x) = Identity $ f x "
   ]
  },
  {
   "cell_type": "markdown",
   "id": "d54d2467",
   "metadata": {},
   "source": [
    "### Exercise: Constant Instance\n",
    "\n",
    "Write an Applicative instance for Constant.\n",
    "\n",
    "```haskell\n",
    "newtype Constant a b = Constant { getConstant :: a } deriving (Eq, Ord, Show)\n",
    "\n",
    "instance Functor (Constant a) where\n",
    "    fmap = undefined\n",
    "\n",
    "instance Monoid a => Applicative (Constant a) where\n",
    "    pure = undefined\n",
    "    (<*>) = undefined\n",
    "```"
   ]
  },
  {
   "cell_type": "code",
   "execution_count": null,
   "id": "5561b4e5",
   "metadata": {},
   "outputs": [],
   "source": [
    "newtype Constant a b = Constant { getConstant :: a } deriving (Eq, Ord, Show)\n",
    "\n",
    "instance Functor (Constant a) where\n",
    "    fmap f (Constant x) = Constant x\n",
    "\n",
    "instance Monoid a => Applicative (Constant a) where\n",
    "    pure x = Constant mempty\n",
    "    (<*>) (Constant x1) (Constant x2) = Constant (x1 <> x2)"
   ]
  },
  {
   "cell_type": "markdown",
   "id": "c927635a",
   "metadata": {},
   "source": [
    "### Exercise: Fixer Upper\n",
    "\n",
    "Given the function and values provided, use `(<$>)` from Functor, `(<*>)`\n",
    "and pure from the Applicative typeclass to fill in missing bits of the\n",
    "broken code to make it work.\n",
    "\n",
    "1.\n",
    "```haskell\n",
    "const <$> Just \"Hello\" <*> \"World\"\n",
    "```"
   ]
  },
  {
   "cell_type": "code",
   "execution_count": null,
   "id": "5fd996f9",
   "metadata": {},
   "outputs": [
    {
     "data": {
      "text/plain": [
       "Just \"Hello\""
      ]
     },
     "metadata": {},
     "output_type": "display_data"
    }
   ],
   "source": [
    "const <$> Just \"Hello\" <*> pure \"World\""
   ]
  },
  {
   "cell_type": "markdown",
   "id": "5a09f1a6",
   "metadata": {},
   "source": [
    "2.\n",
    "```haskell\n",
    "(,,,) Just 90 <*> Just 10 Just \"Tierness\" [1, 2, 3]\n"
   ]
  },
  {
   "cell_type": "code",
   "execution_count": null,
   "id": "b2c7c6a3",
   "metadata": {},
   "outputs": [
    {
     "data": {
      "text/plain": [
       "Just (90,10,\"Tierness\",[1,2,3])"
      ]
     },
     "metadata": {},
     "output_type": "display_data"
    }
   ],
   "source": [
    "(,,,) <$> Just 90 <*> Just 10 <*> Just \"Tierness\" <*> pure [1, 2, 3]"
   ]
  }
 ],
 "metadata": {
  "kernelspec": {
   "display_name": "Haskell",
   "language": "haskell",
   "name": "haskell"
  },
  "language_info": {
   "codemirror_mode": "ihaskell",
   "file_extension": ".hs",
   "mimetype": "text/x-haskell",
   "name": "haskell",
   "pygments_lexer": "Haskell",
   "version": "9.6.4"
  }
 },
 "nbformat": 4,
 "nbformat_minor": 5
}
