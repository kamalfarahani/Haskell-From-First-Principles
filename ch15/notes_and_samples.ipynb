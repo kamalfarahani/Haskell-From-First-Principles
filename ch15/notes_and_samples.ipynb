{
 "cells": [
  {
   "cell_type": "markdown",
   "id": "321a5573",
   "metadata": {},
   "source": [
    "## Monoid and Semigroup"
   ]
  },
  {
   "cell_type": "markdown",
   "id": "8808db66",
   "metadata": {},
   "source": [
    "### Monoid\n",
    "\n",
    "In abstract algebra, a monoid is a mathematical structure with two key properties:\n",
    "\n",
    "1. **Associative binary operation:** It involves a set of elements and a binary operation that combines any two elements from the set. This operation must be associative, meaning $(a * b) * c  = a * (b * c)$ for all elements $a$, $b$, and $c$ in the set. Here, \"*\" represents the binary operation.\n",
    "2. **Identity element:** The set must also contain a special element called the identity element, denoted by $e$ (or sometimes $1$). This element has the property that for any element $a$ in the set, $a * e = e * a = a$.\n",
    "\n",
    "Here are some common examples of monoids:\n",
    "\n",
    "* **Non-negative integers $(0, 1, 2, ...)$ with addition:**  In this case, addition $(+)$ is the binary operation, and $0$ acts as the identity element. $(0 + a = a + 0 = a)$ for any non-negative integer $a$.\n",
    "* **Positive integers $(1, 2, 3, ...)$ with multiplication:** Here, multiplication ($\\times$) is the binary operation, and $1$ acts as the identity element $(1 \\times a = a \\times 1 = a)$ for any positive integer $a$. Note that this monoid is different from the non-negative integers with multiplication because $0$ is not included, which breaks the associative property $(0 \\times a ≠ a \\times 0)$ for some positive integers $a$.\n",
    "* **Boolean set with $\\land$:**  The Boolean set $\\{T, F\\}$ is a monoid with the binary operation $\\land$ and the identity element $T$.\n",
    "\n",
    "It's important to note that unlike groups (a more complex structure), monoids don't necessarily have inverses for all elements. In other words, you might not always be able to \"undo\" an operation using another element."
   ]
  },
  {
   "cell_type": "markdown",
   "id": "cc1bd24f",
   "metadata": {},
   "source": [
    "### Monoid Typeclass\n",
    "\n",
    "In Haskell, the `Monoid` typeclass captures the essence of mathematical monoids for working with data types. It provides a way to represent types that can be combined using an associative operation and have an identity element.\n",
    "\n",
    "Here's how the `Monoid` typeclass works in Haskell:\n",
    "\n",
    "* **Methods:**\n",
    "    * `mempty :: m` - This function defines the identity element for the monoid. It's the element that doesn't affect the result when combined with others using the binary operation.\n",
    "    * `mappend :: m -> m -> m` (often written as `<>`) - This function represents the binary operation for combining two elements of the monoid type `m`.\n",
    "    * `mconcat :: [m] -> m` (optional) - This function folds a list of elements of type `m` into a single value using `mappend` and `mempty`. By default, it's defined as `foldr mappend mempty`.\n",
    "\n",
    "**Examples:**\n",
    "\n",
    "1. **List Monoid:**\n",
    "\n",
    "Consider lists (`[a]`) as a monoid.\n",
    "* `mempty` is the empty list `[]`.\n",
    "* `mappend` (written as `<>`) is list concatenation (`++`).\n",
    "   \n",
    "   ```haskell\n",
    "   instance Monoid [] where\n",
    "       mempty = []\n",
    "       xs <> ys = xs ++ ys\n",
    "   ```\n",
    "\n",
    "These are just a few examples. The `Data.Monoid` module in Haskell provides monoid instances for many common data types like strings and sums.\n",
    "\n",
    "By defining the `Monoid` typeclass for a data type, you gain access to powerful functions like `foldl` and `foldr` that can efficiently combine elements of that type using the defined operation and identity element. This makes working with sequences and collections more convenient and expressive in Haskell."
   ]
  },
  {
   "cell_type": "markdown",
   "id": "cd0cea62",
   "metadata": {},
   "source": [
    "### Exercise: Optional Monoid\n",
    "\n",
    "Write the Monoid instance for our `Maybe` type renamed to `Optional`.\n",
    "\n",
    "```haskell\n",
    "data Optional a =\n",
    "    Nada\n",
    "  | Only a\n",
    "  deriving (Eq, Show)\n",
    "```"
   ]
  },
  {
   "cell_type": "code",
   "execution_count": null,
   "id": "d064a96b",
   "metadata": {},
   "outputs": [],
   "source": [
    "data Optional a =\n",
    "    Nada\n",
    "  | Only a\n",
    "  deriving (Eq, Show)\n",
    "\n",
    "instance (Semigroup a) => Semigroup (Optional a) where\n",
    "    (Only x) <> (Only y) = Only (x <> y)\n",
    "    (Only x) <> Nada = Only x\n",
    "    Nada <> (Only x) = Only x\n",
    "    Nada <> Nada = Nada\n",
    "\n",
    "instance (Monoid a) => Monoid (Optional a) where\n",
    "    mempty = Nada"
   ]
  },
  {
   "cell_type": "code",
   "execution_count": null,
   "id": "a447b8ad",
   "metadata": {},
   "outputs": [
    {
     "data": {
      "text/plain": [
       "Only \"Hello World\""
      ]
     },
     "metadata": {},
     "output_type": "display_data"
    }
   ],
   "source": [
    "Only \"Hello \" <> Only \"World\""
   ]
  },
  {
   "cell_type": "code",
   "execution_count": null,
   "id": "6001c21f",
   "metadata": {},
   "outputs": [
    {
     "data": {
      "text/plain": [
       "Nada"
      ]
     },
     "metadata": {},
     "output_type": "display_data"
    }
   ],
   "source": [
    "Nada <> Nada"
   ]
  },
  {
   "cell_type": "markdown",
   "id": "96af51f6",
   "metadata": {},
   "source": [
    "### Using `QuickCheck` to verify monid laws\n",
    "\n",
    "We can use `QuickCheck` to verify the monoid laws.\n",
    "\n",
    "```haskell\n",
    "import Data.Monoid\n",
    "import Test.QuickCheck\n",
    "\n",
    "monoidAssoc :: (Eq m, Monoid m) => m -> m -> m -> Bool\n",
    "monoidAssoc a b c =\n",
    "    (a <> (b <> c)) == ((a <> b) <> c)\n",
    "\n",
    "\n",
    "\n",
    "monoidLeftIdentity :: (Eq m, Monoid m) => m -> Bool\n",
    "monoidLeftIdentity a = (mempty <> a) == a\n",
    "\n",
    "monoidRightIdentity :: (Eq m, Monoid m) => m -> Bool\n",
    "monoidRightIdentity a = (a <> mempty) == a\n",
    "```"
   ]
  },
  {
   "cell_type": "markdown",
   "id": "9e643eb8",
   "metadata": {},
   "source": [
    "### Exercise: Maybe Another Monoid\n",
    "\n",
    "Write a `Monoid` instance for a `Maybe` type which doesn’t require a `Monoid`\n",
    "for the contents. Reuse the `Monoid` law `QuickCheck` properties and use them to validate the instance.\n",
    "Don’t forget to write an `Arbitrary` instance for `First'`. We won’t\n",
    "always stub that out explicitly for you. We suggest learning how to use the `frequency` function from `QuickCheck` for `First'`’s instance.\n",
    "\n",
    "> <span style=\"color:green\">**Answer:**</span>\n",
    "\n",
    "```haskell\n",
    "module MaybeAnotherMonoid where\n",
    "\n",
    "import Test.QuickCheck\n",
    "\n",
    "data Optional a\n",
    "  = Nada\n",
    "  | Only a\n",
    "  deriving (Eq, Show)\n",
    "\n",
    "newtype First' a = First' {getFirst' :: Optional a}\n",
    "  deriving (Eq, Show)\n",
    "\n",
    "instance Semigroup (First' a) where\n",
    "  (<>) :: First' a -> First' a -> First' a\n",
    "  First' (Only x) <> _ = First' (Only x)\n",
    "  First' Nada <> First' (Only x) = First' (Only x)\n",
    "  _ <> _ = First' Nada\n",
    "\n",
    "instance Monoid (First' a) where\n",
    "  mempty :: First' a\n",
    "  mempty = First' Nada\n",
    "\n",
    "instance (Arbitrary a) => Arbitrary (First' a) where\n",
    "  arbitrary = do\n",
    "    x <- arbitrary\n",
    "    frequency\n",
    "      [ (1, return First' {getFirst' = Nada}),\n",
    "        (3, return $ First' {getFirst' = Only x})\n",
    "      ]\n",
    "\n",
    "type FirstMappend =\n",
    "  First' String ->\n",
    "  First' String ->\n",
    "  First' String ->\n",
    "  Bool\n",
    "\n",
    "type FirstId = First' String -> Bool\n",
    "\n",
    "monoidAssoc :: (Eq m, Monoid m) => m -> m -> m -> Bool\n",
    "monoidAssoc a b c =\n",
    "  (a <> (b <> c)) == ((a <> b) <> c)\n",
    "\n",
    "monoidLeftIdentity :: (Eq m, Monoid m) => m -> Bool\n",
    "monoidLeftIdentity a = (mempty <> a) == a\n",
    "\n",
    "monoidRightIdentity :: (Eq m, Monoid m) => m -> Bool\n",
    "monoidRightIdentity a = (a <> mempty) == a\n",
    "\n",
    "main :: IO ()\n",
    "main = do\n",
    "  quickCheck (monoidAssoc :: FirstMappend)\n",
    "  quickCheck (monoidLeftIdentity :: FirstId)\n",
    "  quickCheck (monoidRightIdentity :: FirstId)\n",
    "```"
   ]
  },
  {
   "cell_type": "markdown",
   "id": "fcf6260b",
   "metadata": {},
   "source": [
    "### Semigroup\n",
    "\n",
    "**What is a Semigroup?**\n",
    "\n",
    "In Haskell, the `Semigroup` typeclass represents types that can be combined using an associative binary operation. This means:\n",
    "\n",
    "- There's a binary operator (`<>`) that takes two values of the same type and combines them.\n",
    "- The operation is associative: `(a <> b) <> c` is equivalent to `a <> (b <> c)`. The order of parentheses doesn't affect the result as long as you combine elements from left to right.\n",
    "\n",
    "**Common Examples of Semigroups:**\n",
    "\n",
    "- **Numbers:** Addition (`(+)`) and multiplication (`(*)`) are both associative operations, making `Int`, `Float`, and other numeric types instances of `Semigroup`.\n",
    "- **Lists:** Appending (`++`) lists is associative, making `[a]` a `Semigroup` instance.\n",
    "- **Strings:** Concatenation (`++`) is associative, so `String` is a `Semigroup` instance.\n",
    "- **Booleans:** Taking the logical OR (`||`) is associative, so `Bool` is a `Semigroup` instance (combines to `True` if any element is `True`).\n",
    "\n",
    "**Implementing Semigroup for Custom Types:**\n",
    "\n",
    "You can define a `Semigroup` instance for your own data types by providing an implementation for the `<>` operator that adheres to associativity. Here's an example:\n",
    "\n",
    "```haskell\n",
    "data Max a = Max a a deriving (Show)\n",
    "\n",
    "instance Semigroup (Max a) where\n",
    "  Max x y <> Max z w = Max (max x z) (max y w)\n",
    "```\n",
    "\n",
    "This `Max` type holds two values and the `<>` operator combines two `Max` instances by taking the maximum of their respective elements.\n",
    "\n",
    "\n",
    "**Key Points:**\n",
    "\n",
    "- `Semigroup` provides a generic way to combine elements of a type.\n",
    "- Associativity is crucial for using `<>` effectively.\n",
    "- You can define custom `Semigroup` instances for your data types.\n",
    "- Functions can leverage `Semigroup` to work on various types that can be combined.\n",
    "\n",
    "By understanding the `Semigroup` typeclass, you can write more generic and flexible Haskell code that works with different data types that share the concept of combining elements."
   ]
  }
 ],
 "metadata": {
  "kernelspec": {
   "display_name": "Haskell",
   "language": "haskell",
   "name": "haskell"
  },
  "language_info": {
   "codemirror_mode": "ihaskell",
   "file_extension": ".hs",
   "mimetype": "text/x-haskell",
   "name": "haskell",
   "pygments_lexer": "Haskell",
   "version": "9.6.4"
  }
 },
 "nbformat": 4,
 "nbformat_minor": 5
}
