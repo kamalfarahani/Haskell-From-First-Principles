{
 "cells": [
  {
   "cell_type": "markdown",
   "id": "321a5573",
   "metadata": {},
   "source": [
    "## Monoid and Semigroup"
   ]
  },
  {
   "cell_type": "markdown",
   "id": "8808db66",
   "metadata": {},
   "source": [
    "### Monoid\n",
    "\n",
    "In abstract algebra, a monoid is a mathematical structure with two key properties:\n",
    "\n",
    "1. **Associative binary operation:** It involves a set of elements and a binary operation that combines any two elements from the set. This operation must be associative, meaning $(a * b) * c  = a * (b * c)$ for all elements $a$, $b$, and $c$ in the set. Here, \"*\" represents the binary operation.\n",
    "2. **Identity element:** The set must also contain a special element called the identity element, denoted by $e$ (or sometimes $1$). This element has the property that for any element $a$ in the set, $a * e = e * a = a$.\n",
    "\n",
    "Here are some common examples of monoids:\n",
    "\n",
    "* **Non-negative integers $(0, 1, 2, ...)$ with addition:**  In this case, addition $(+)$ is the binary operation, and $0$ acts as the identity element. $(0 + a = a + 0 = a)$ for any non-negative integer $a$.\n",
    "* **Positive integers $(1, 2, 3, ...)$ with multiplication:** Here, multiplication ($\\times$) is the binary operation, and $1$ acts as the identity element $(1 \\times a = a \\times 1 = a)$ for any positive integer $a$. Note that this monoid is different from the non-negative integers with multiplication because $0$ is not included, which breaks the associative property $(0 \\times a ≠ a \\times 0)$ for some positive integers $a$.\n",
    "* **Boolean set with $\\land$:**  The Boolean set $\\{T, F\\}$ is a monoid with the binary operation $\\land$ and the identity element $T$.\n",
    "\n",
    "It's important to note that unlike groups (a more complex structure), monoids don't necessarily have inverses for all elements. In other words, you might not always be able to \"undo\" an operation using another element."
   ]
  },
  {
   "cell_type": "markdown",
   "id": "cc1bd24f",
   "metadata": {},
   "source": [
    "### Monoid Typeclass\n",
    "\n",
    "In Haskell, the `Monoid` typeclass captures the essence of mathematical monoids for working with data types. It provides a way to represent types that can be combined using an associative operation and have an identity element.\n",
    "\n",
    "Here's how the `Monoid` typeclass works in Haskell:\n",
    "\n",
    "* **Methods:**\n",
    "    * `mempty :: m` - This function defines the identity element for the monoid. It's the element that doesn't affect the result when combined with others using the binary operation.\n",
    "    * `mappend :: m -> m -> m` (often written as `<>`) - This function represents the binary operation for combining two elements of the monoid type `m`.\n",
    "    * `mconcat :: [m] -> m` (optional) - This function folds a list of elements of type `m` into a single value using `mappend` and `mempty`. By default, it's defined as `foldr mappend mempty`.\n",
    "\n",
    "**Examples:**\n",
    "\n",
    "1. **List Monoid:**\n",
    "\n",
    "Consider lists (`[a]`) as a monoid.\n",
    "* `mempty` is the empty list `[]`.\n",
    "* `mappend` (written as `<>`) is list concatenation (`++`).\n",
    "   \n",
    "   ```haskell\n",
    "   instance Monoid [] where\n",
    "       mempty = []\n",
    "       xs <> ys = xs ++ ys\n",
    "   ```\n",
    "\n",
    "These are just a few examples. The `Data.Monoid` module in Haskell provides monoid instances for many common data types like strings and sums.\n",
    "\n",
    "By defining the `Monoid` typeclass for a data type, you gain access to powerful functions like `foldl` and `foldr` that can efficiently combine elements of that type using the defined operation and identity element. This makes working with sequences and collections more convenient and expressive in Haskell."
   ]
  },
  {
   "cell_type": "markdown",
   "id": "cd0cea62",
   "metadata": {},
   "source": [
    "### Exercise: Optional Monoid\n",
    "\n",
    "Write the Monoid instance for our `Maybe` type renamed to `Optional`.\n",
    "\n",
    "```haskell\n",
    "data Optional a =\n",
    "    Nada\n",
    "  | Only a\n",
    "  deriving (Eq, Show)\n",
    "```"
   ]
  },
  {
   "cell_type": "code",
   "execution_count": null,
   "id": "d064a96b",
   "metadata": {},
   "outputs": [],
   "source": [
    "data Optional a =\n",
    "    Nada\n",
    "  | Only a\n",
    "  deriving (Eq, Show)\n",
    "\n",
    "instance (Semigroup a) => Semigroup (Optional a) where\n",
    "    (Only x) <> (Only y) = Only (x <> y)\n",
    "    (Only x) <> Nada = Only x\n",
    "    Nada <> (Only x) = Only x\n",
    "    Nada <> Nada = Nada\n",
    "\n",
    "instance (Monoid a) => Monoid (Optional a) where\n",
    "    mempty = Nada"
   ]
  },
  {
   "cell_type": "code",
   "execution_count": null,
   "id": "a447b8ad",
   "metadata": {},
   "outputs": [
    {
     "data": {
      "text/plain": [
       "Only \"Hello World\""
      ]
     },
     "metadata": {},
     "output_type": "display_data"
    }
   ],
   "source": [
    "Only \"Hello \" <> Only \"World\""
   ]
  },
  {
   "cell_type": "code",
   "execution_count": null,
   "id": "6001c21f",
   "metadata": {},
   "outputs": [
    {
     "data": {
      "text/plain": [
       "Nada"
      ]
     },
     "metadata": {},
     "output_type": "display_data"
    }
   ],
   "source": [
    "Nada <> Nada"
   ]
  }
 ],
 "metadata": {
  "kernelspec": {
   "display_name": "Haskell",
   "language": "haskell",
   "name": "haskell"
  },
  "language_info": {
   "codemirror_mode": "ihaskell",
   "file_extension": ".hs",
   "mimetype": "text/x-haskell",
   "name": "haskell",
   "pygments_lexer": "Haskell",
   "version": "9.6.4"
  }
 },
 "nbformat": 4,
 "nbformat_minor": 5
}
