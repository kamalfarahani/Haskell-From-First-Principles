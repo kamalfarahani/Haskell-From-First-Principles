{
 "cells": [
  {
   "cell_type": "markdown",
   "id": "1a43709b",
   "metadata": {},
   "source": [
    "## Chapter Exercises"
   ]
  },
  {
   "cell_type": "markdown",
   "id": "bca2159a",
   "metadata": {},
   "source": [
    "### Semigroup exercises\n",
    "\n",
    "Given a datatype, implement the `Semigroup` instance. Add `Semigroup`\n",
    "constraints to type variables where needed. Use the `Semigroup` class\n",
    "from the semigroups library (or from base if you are on GHC 8) or\n",
    "write your own. When we use `(<>)`, we mean the infix mappend from\n",
    "the `Semigroup` typeclass.\n",
    "\n",
    "> <span style=\"color:greeb\">**Anwser**</span> See `SemigroupInstances.hs` file in the same directory."
   ]
  },
  {
   "cell_type": "markdown",
   "id": "70e6a853",
   "metadata": {},
   "source": [
    "### Monoid exercises\n",
    "\n",
    "Given a datatype, implement the `Monoid` instance. Add `Monoid` constraints to type variables where needed. For the datatypes you’ve already implemented `Semigroup` instances for, you need to figure out what the identity value is."
   ]
  },
  {
   "cell_type": "markdown",
   "id": "4e3f6b25",
   "metadata": {},
   "source": [
    "1. Again, validate all of your instances with `QuickCheck`. Example scaffold is provided for the `Trivial` type."
   ]
  }
 ],
 "metadata": {
  "kernelspec": {
   "display_name": "Haskell",
   "language": "haskell",
   "name": "haskell"
  }
 },
 "nbformat": 4,
 "nbformat_minor": 5
}
