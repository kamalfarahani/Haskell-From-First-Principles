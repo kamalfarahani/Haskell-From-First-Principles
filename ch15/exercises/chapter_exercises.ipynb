{
 "cells": [
  {
   "cell_type": "markdown",
   "id": "1a43709b",
   "metadata": {},
   "source": [
    "## Chapter Exercises"
   ]
  },
  {
   "cell_type": "markdown",
   "id": "bca2159a",
   "metadata": {},
   "source": [
    "### Semigroup exercises\n",
    "\n",
    "Given a datatype, implement the `Semigroup` instance. Add `Semigroup`\n",
    "constraints to type variables where needed. Use the `Semigroup` class\n",
    "from the semigroups library (or from base if you are on GHC 8) or\n",
    "write your own. When we use `(<>)`, we mean the infix mappend from\n",
    "the `Semigroup` typeclass."
   ]
  },
  {
   "cell_type": "code",
   "execution_count": null,
   "id": "7ae96fe8",
   "metadata": {},
   "outputs": [],
   "source": []
  }
 ],
 "metadata": {
  "kernelspec": {
   "display_name": "Haskell",
   "language": "haskell",
   "name": "haskell"
  }
 },
 "nbformat": 4,
 "nbformat_minor": 5
}
