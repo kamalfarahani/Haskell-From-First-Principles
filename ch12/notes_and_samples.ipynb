{
 "cells": [
  {
   "cell_type": "markdown",
   "id": "a68f0a17",
   "metadata": {},
   "source": [
    "## Signaling adversity"
   ]
  },
  {
   "cell_type": "markdown",
   "id": "a8035643",
   "metadata": {},
   "source": [
    "### Maybe\n",
    "\n",
    "\n",
    "The `Maybe` type in Haskell is a way to represent optional values. It essentially tells the program that a variable might not have a value at all. \n",
    "\n",
    "There are two main parts to `Maybe`:\n",
    "\n",
    "* **Just a**: This signifies that the `Maybe` type holds an actual value of type `a`. Here, `a` can be any other Haskell type like `Int`, `String`, or even another `Maybe` type.\n",
    "* **Nothing**: This indicates that the `Maybe` type is empty and doesn't hold any value.\n",
    "\n",
    "Think of `Maybe` as a safe alternative to null pointers found in other languages. It forces you to explicitly handle the possibility of a missing value, preventing errors.\n",
    "\n",
    "Here are some common ways `Maybe` is used:\n",
    "\n",
    "* **Error handling**: Functions can return `Maybe` to indicate successful computation with `Just value` or failure with `Nothing`. \n",
    "* **Data with potential absence**:  Maybe can represent things that might not always be present, like looking up a key in a map that might not exist.\n",
    "\n",
    "Haskell provides functions to work with `Maybe` values. Some important ones include:\n",
    "\n",
    "* `maybe`: This function lets you define a default value to use if the `Maybe` is `Nothing`.\n",
    "* `isJust`: Checks if a `Maybe` value is actually `Just` something.\n",
    "* `isNothing`: Checks if a `Maybe` value is `Nothing`.\n",
    "\n",
    "By using `Maybe`, you write more robust Haskell code that explicitly deals with the absence of values."
   ]
  },
  {
   "cell_type": "markdown",
   "id": "0149ab83",
   "metadata": {},
   "source": [
    "### Either\n",
    "\n",
    "In Haskell, the `Either` type represents a value that can be one of two possibilities. It's like a coin with two sides, but instead of heads and tails, it holds two different types of data.\n",
    "\n",
    "Here's how `Either` works:\n",
    "\n",
    "* **Two possibilities**: An `Either` value can be either a `Left a` or a `Right b`. Here, `a` and `b` are any other Haskell types. \n",
    "* **Constructors**: `Left` and `Right` are constructors, like building blocks, that create `Either` values.\n",
    "* **Convention**: By convention, `Left` is used to hold error information (like \"wrong input\") and `Right` holds the successful result.\n",
    "\n",
    "Here's an analogy: Imagine a function that divides two numbers. It can either succeed and return the result (represented by `Right`) or fail because of division by zero (represented by `Left`).\n",
    "\n",
    "Here are some key points about `Either`:\n",
    "\n",
    "* **Error handling**: Similar to `Maybe`, `Either` is a powerful tool for error handling. Functions can return `Either String Int` (for example), indicating success with `Right 42` (result) or failure with `Left \"Division by zero\"` (error message).\n",
    "* **Flexible types**: `a` and `b` in `Either a b` can be any type, allowing for different error and result types.\n",
    "* **Pattern matching**: You can use pattern matching to handle different cases of `Either` values. For example, check if it's a `Left` error or a `Right` result and process them accordingly.\n",
    "\n",
    "`Either` provides a structured way to represent computations that might fail. It keeps your code clean and avoids errors by forcing you to explicitly deal with both success and failure scenarios."
   ]
  },
  {
   "cell_type": "markdown",
   "id": "f8c65bba",
   "metadata": {},
   "source": [
    "### Error Handling Example"
   ]
  },
  {
   "cell_type": "code",
   "execution_count": 2,
   "id": "d4a82e3a",
   "metadata": {},
   "outputs": [],
   "source": [
    "type Name = String\n",
    "type Age = Int\n",
    "\n",
    "data Person = Person Name Age deriving (Eq, Show)\n",
    "\n",
    "\n",
    "data PersonInvalid = NameEmpty | AgeTooLow deriving (Eq, Show)\n",
    "\n",
    "mkPerson :: Name -> Age -> Either PersonInvalid Person\n",
    "mkPerson name age\n",
    "    | name /= \"\" && age > 0 = Right $ Person name age\n",
    "    | name == \"\" = Left NameEmpty\n",
    "    | otherwise = Left AgeTooLow"
   ]
  },
  {
   "cell_type": "code",
   "execution_count": 3,
   "id": "4e9ceb52",
   "metadata": {},
   "outputs": [
    {
     "data": {
      "text/plain": [
       "Right (Person \"John\" 22)"
      ]
     },
     "metadata": {},
     "output_type": "display_data"
    }
   ],
   "source": [
    "mkPerson \"John\" 22"
   ]
  },
  {
   "cell_type": "code",
   "execution_count": 4,
   "id": "f60a9052",
   "metadata": {},
   "outputs": [
    {
     "data": {
      "text/plain": [
       "Left NameEmpty"
      ]
     },
     "metadata": {},
     "output_type": "display_data"
    }
   ],
   "source": [
    "mkPerson \"\" 12"
   ]
  },
  {
   "cell_type": "markdown",
   "id": "370f6b9f",
   "metadata": {},
   "source": [
    "> <span style=\"color:red\">**Note!**</span> Notice in the last example that when both the name and the age\n",
    "are wrong, we’re only going to see the result of the first failure case, not both. This is imperfect in one respect, as it doesn’t let us express a list of errors. We can fix this, too! "
   ]
  },
  {
   "cell_type": "code",
   "execution_count": 5,
   "id": "140168a0",
   "metadata": {},
   "outputs": [],
   "source": [
    "type Name = String\n",
    "type Age = Int\n",
    "\n",
    "data Person = Person Name Age deriving (Eq, Show)\n",
    "\n",
    "data PersonInvalid = NameEmpty | AgeTooLow deriving (Eq, Show)\n",
    "\n",
    "mkPerson :: Name -> Age -> Either [PersonInvalid] Person\n",
    "mkPerson name age =\n",
    "    if ok\n",
    "    then Right $ Person name age\n",
    "    else Left invalids\n",
    "    where\n",
    "        invalids = [NameEmpty | name == \"\"] ++ [AgeTooLow | age < 0]\n",
    "        ok = null invalids"
   ]
  },
  {
   "cell_type": "code",
   "execution_count": 6,
   "id": "34b9a414",
   "metadata": {},
   "outputs": [
    {
     "data": {
      "text/plain": [
       "Right (Person \"John\" 22)"
      ]
     },
     "metadata": {},
     "output_type": "display_data"
    }
   ],
   "source": [
    "mkPerson \"John\" 22"
   ]
  },
  {
   "cell_type": "code",
   "execution_count": null,
   "id": "81c84bfe",
   "metadata": {},
   "outputs": [
    {
     "data": {
      "text/plain": [
       "Left [NameEmpty,AgeTooLow]"
      ]
     },
     "metadata": {},
     "output_type": "display_data"
    }
   ],
   "source": [
    "mkPerson \"\" (-10)"
   ]
  },
  {
   "cell_type": "code",
   "execution_count": null,
   "id": "ce60a24b",
   "metadata": {},
   "outputs": [],
   "source": []
  }
 ],
 "metadata": {
  "kernelspec": {
   "display_name": "Haskell",
   "language": "haskell",
   "name": "haskell"
  },
  "language_info": {
   "codemirror_mode": "ihaskell",
   "file_extension": ".hs",
   "mimetype": "text/x-haskell",
   "name": "haskell",
   "pygments_lexer": "Haskell",
   "version": "9.6.4"
  }
 },
 "nbformat": 4,
 "nbformat_minor": 5
}
