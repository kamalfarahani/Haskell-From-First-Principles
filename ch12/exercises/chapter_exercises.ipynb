{
 "cells": [
  {
   "cell_type": "markdown",
   "id": "b72876eb",
   "metadata": {},
   "source": [
    "## Chapter Exercises"
   ]
  },
  {
   "cell_type": "markdown",
   "id": "fd4f5f50",
   "metadata": {},
   "source": [
    "### Determine the kinds\n",
    "\n",
    "1. Given\n",
    "```haskell\n",
    "id :: a -> a\n",
    "```\n",
    "What is the kind of `a`?\n",
    "\n",
    "> <span style=\"color:green\">**Answer:**</span> `*`\n",
    "\n",
    "2. Given\n",
    "```haskell\n",
    "r :: a -> f a\n",
    "```\n",
    "\n",
    "What are the kinds of `a` and `f`?\n",
    "\n",
    "> <span style=\"color:green\">**Answer:**</span> kind of `a` is `*` and kind of `f` is `* -> *`"
   ]
  },
  {
   "cell_type": "markdown",
   "id": "f91b8410",
   "metadata": {},
   "source": [
    "### String processing\n",
    "\n",
    "Because this is the kind of thing linguists ahem enjoy doing in their\n",
    "spare time.\n",
    "\n",
    "1. Write a recursive function named `replaceThe` which takes a text/string, breaks it into words and replaces each instance of `\"the\"` with `\"a\"`. It’s intended only to replace exactly the word `\"the\"`. `notThe` is a suggested helper function for accomplishing this."
   ]
  },
  {
   "cell_type": "code",
   "execution_count": null,
   "id": "8a14c4be",
   "metadata": {},
   "outputs": [],
   "source": [
    "notThe :: String -> Maybe String\n",
    "notThe = undefined\n",
    "\n",
    "replaceThe :: String -> String\n",
    "replaceThe =\n",
    "    concatMap theToA . words\n",
    "    where\n",
    "        theToA w =\n",
    "            case notThe w of\n",
    "                Nothing -> w\n",
    "                Just w' -> \"a\""
   ]
  },
  {
   "cell_type": "markdown",
   "id": "ee29ed3b",
   "metadata": {},
   "source": [
    "2. Write a recursive function that takes a text/string, breaks it into words, and counts the number of instances of ”the” followed by a vowel-initial word.\n",
    "\n",
    "```haskell\n",
    "-- >>> countTheBeforeVowel \"the cow\"\n",
    "-- 0\n",
    "-- >>> countTheBeforeVowel \"the evil cow\"\n",
    "-- 1\n",
    "countTheBeforeVowel :: String -> Integer\n",
    "countTheBeforeVowel = undefined\n",
    "```"
   ]
  },
  {
   "cell_type": "code",
   "execution_count": 5,
   "id": "95a1b251",
   "metadata": {},
   "outputs": [],
   "source": [
    "countTheBeforeVowel :: String -> Integer\n",
    "countTheBeforeVowel = go . words\n",
    "    where\n",
    "        go :: [String] -> Integer\n",
    "        go wordsList\n",
    "            | length wordsList < 2 = 0\n",
    "            | head wordsList == \"the\" && isVowelWord (wordsList !! 1) = 1 + go (tail.tail $ wordsList)\n",
    "            | otherwise = go (tail wordsList)\n",
    "        isVowelWord :: String -> Bool\n",
    "        isVowelWord w =\n",
    "            head w `elem` \"aeiou\""
   ]
  },
  {
   "cell_type": "code",
   "execution_count": 7,
   "id": "e03b5548",
   "metadata": {},
   "outputs": [
    {
     "data": {
      "text/plain": [
       "2"
      ]
     },
     "metadata": {},
     "output_type": "display_data"
    }
   ],
   "source": [
    "countTheBeforeVowel \"the evil cow and the bird and the owl\""
   ]
  },
  {
   "cell_type": "markdown",
   "id": "727e8cc7",
   "metadata": {},
   "source": [
    "3. Return the number of letters that are vowels in a string.\n",
    "\n",
    "\n",
    "```haskell\n",
    "-- >>> countVowels \"the cow\"\n",
    "-- 2\n",
    "-- >>> countVowels \"Mikolajczak\"\n",
    "-- 4\n",
    "countVowels :: String -> Integer\n",
    "countVowels = undefined\n",
    "```"
   ]
  },
  {
   "cell_type": "code",
   "execution_count": 22,
   "id": "4a6fa578",
   "metadata": {},
   "outputs": [],
   "source": [
    "countVowels :: String -> Integer\n",
    "countVowels = \n",
    "    fromIntegral . length . filter (`elem` \"aeiou\")"
   ]
  },
  {
   "cell_type": "code",
   "execution_count": 23,
   "id": "009d1a77",
   "metadata": {},
   "outputs": [
    {
     "data": {
      "text/plain": [
       "4"
      ]
     },
     "metadata": {},
     "output_type": "display_data"
    }
   ],
   "source": [
    "countVowels \"Mikolajczak\""
   ]
  },
  {
   "cell_type": "markdown",
   "id": "48da0ba1",
   "metadata": {},
   "source": [
    "### Validate the word\n",
    "\n",
    "Use the `Maybe` type to write a function that counts the number of\n",
    "vowels in a string and the number of consonants. If the number\n",
    "of vowels exceeds the number of consonants, the function returns\n",
    "`Nothing`. In many human languages, vowels rarely exceed the number\n",
    "of consonants so when they do, it may indicate the input isn’t a word\n",
    "(that is, a valid input to your dataset):"
   ]
  },
  {
   "cell_type": "code",
   "execution_count": 30,
   "id": "3919a0d0",
   "metadata": {},
   "outputs": [],
   "source": [
    "import Data.Char (isAlpha)\n",
    "\n",
    "\n",
    "newtype Word' =\n",
    "    Word' String\n",
    "    deriving (Eq, Show)\n",
    "\n",
    "vowels = \"aeiou\"\n",
    "\n",
    "mkWord :: String -> Maybe Word'\n",
    "mkWord word = \n",
    "    if numberOfVowels word > numberOfConsonants word\n",
    "        then Nothing\n",
    "        else Just (Word' word)\n",
    "    where\n",
    "        numberOfVowels =\n",
    "            length . filter (`elem` vowels)\n",
    "        numberOfConsonants =\n",
    "            length . filter (\\c -> isAlpha c && c `notElem` vowels)"
   ]
  },
  {
   "cell_type": "code",
   "execution_count": 32,
   "id": "fd7a22db",
   "metadata": {},
   "outputs": [
    {
     "data": {
      "text/plain": [
       "Just (Word' \"Lets go\")"
      ]
     },
     "metadata": {},
     "output_type": "display_data"
    }
   ],
   "source": [
    "mkWord \"Lets go\""
   ]
  },
  {
   "cell_type": "code",
   "execution_count": 33,
   "id": "e799ac0c",
   "metadata": {},
   "outputs": [
    {
     "data": {
      "text/plain": [
       "Nothing"
      ]
     },
     "metadata": {},
     "output_type": "display_data"
    }
   ],
   "source": [
    "mkWord \"aeeec\""
   ]
  },
  {
   "cell_type": "markdown",
   "id": "a18cbf75",
   "metadata": {},
   "source": [
    "### It’s only Natural\n",
    "\n",
    "You’ll be presented with a datatype to represent the natural numbers.\n",
    "The only values representable with the naturals are whole numbers\n",
    "from zero to infinity. Your task will be to implement functions to\n",
    "convert `Naturals` to `Integers` and `Integers` to `Naturals`. The conversion\n",
    "from `Naturals` to `Integers` won’t return `Maybe` because `Integer` is a strict\n",
    "superset of `Natural`. Any `Natural` can be represented by an `Integer`,\n",
    "but the same is not true of any `Integer`. Negative numbers are not\n",
    "valid natural numbers."
   ]
  },
  {
   "cell_type": "code",
   "execution_count": 44,
   "id": "8fb018c3",
   "metadata": {},
   "outputs": [],
   "source": [
    "data Nat =\n",
    "    Zero\n",
    "  | Succ Nat\n",
    "    deriving (Eq, Show)\n",
    "\n",
    "natToInteger :: Nat -> Integer\n",
    "natToInteger Zero = 0\n",
    "natToInteger (Succ n) = 1 + natToInteger n\n",
    "\n",
    "integerToNat :: Integer -> Maybe Nat\n",
    "integerToNat 0 = Just Zero\n",
    "integerToNat n =\n",
    "    if n < 0\n",
    "        then Nothing\n",
    "        else Just (Succ previous)\n",
    "    where\n",
    "        Just previous = integerToNat (n - 1)"
   ]
  },
  {
   "cell_type": "code",
   "execution_count": 46,
   "id": "435df053",
   "metadata": {},
   "outputs": [
    {
     "data": {
      "text/plain": [
       "Just (Succ (Succ (Succ (Succ (Succ (Succ (Succ (Succ (Succ (Succ (Succ Zero)))))))))))"
      ]
     },
     "metadata": {},
     "output_type": "display_data"
    }
   ],
   "source": [
    "integerToNat 11"
   ]
  },
  {
   "cell_type": "code",
   "execution_count": 47,
   "id": "b6c3ca08",
   "metadata": {},
   "outputs": [
    {
     "data": {
      "text/plain": [
       "Nothing"
      ]
     },
     "metadata": {},
     "output_type": "display_data"
    }
   ],
   "source": [
    "integerToNat (-3)"
   ]
  },
  {
   "cell_type": "code",
   "execution_count": 51,
   "id": "403bf60f",
   "metadata": {},
   "outputs": [
    {
     "data": {
      "text/plain": [
       "11"
      ]
     },
     "metadata": {},
     "output_type": "display_data"
    }
   ],
   "source": [
    "natToInteger $ Succ (Succ (Succ (Succ (Succ (Succ (Succ (Succ (Succ (Succ (Succ Zero))))))))))"
   ]
  },
  {
   "cell_type": "markdown",
   "id": "c326d6b1",
   "metadata": {},
   "source": [
    "### Small library for Maybe\n",
    "\n",
    "Write the following functions. This may take some time."
   ]
  },
  {
   "cell_type": "markdown",
   "id": "c68916cc",
   "metadata": {},
   "source": [
    "1. Simple boolean checks for Maybe values."
   ]
  },
  {
   "cell_type": "code",
   "execution_count": 53,
   "id": "f85b5e9c",
   "metadata": {},
   "outputs": [],
   "source": [
    "isJust :: Maybe a -> Bool\n",
    "isJust Nothing = False\n",
    "isJust _ = True\n",
    "\n",
    "isNothing :: Maybe a -> Bool\n",
    "isNothing = not . isJust"
   ]
  },
  {
   "cell_type": "markdown",
   "id": "feb0d99b",
   "metadata": {},
   "source": [
    "2. The following is the Maybe catamorphism. You can turn a Maybe value into anything else with this.\n",
    "```haskell\n",
    "-- >>> mayybee 0 (+1) Nothing\n",
    "-- 0\n",
    "-- >>> mayybee 0 (+1) (Just 1)\n",
    "-- 2\n",
    "mayybee :: b -> (a -> b) -> Maybe a -> b\n",
    "```"
   ]
  },
  {
   "cell_type": "code",
   "execution_count": 54,
   "id": "0ba98be7",
   "metadata": {},
   "outputs": [],
   "source": [
    "mayybee :: b -> (a -> b) -> Maybe a -> b\n",
    "mayybee b _ Nothing = b\n",
    "mayybee _ f (Just a) = f a"
   ]
  },
  {
   "cell_type": "markdown",
   "id": "71e0642b",
   "metadata": {},
   "source": [
    "3. In case you just want to provide a fallback value.\n",
    "```haskell\n",
    "-- >>> fromMaybe 0 Nothing\n",
    "-- 0\n",
    "-- >>> fromMaybe 0 (Just 1)\n",
    "-- 1\n",
    "fromMaybe :: a -> Maybe a -> a\n",
    "-- Try writing it in terms\n",
    "-- of the maybe catamorphism\n",
    "```"
   ]
  },
  {
   "cell_type": "code",
   "execution_count": 55,
   "id": "efe6f595",
   "metadata": {},
   "outputs": [],
   "source": [
    "fromMaybe :: a -> Maybe a -> a\n",
    "fromMaybe x Nothing = x\n",
    "fromMaybe _ (Just x) = x"
   ]
  },
  {
   "cell_type": "markdown",
   "id": "0369cfc3",
   "metadata": {},
   "source": [
    "4. Converting between `List` and `Maybe`.\n",
    "\n",
    "```haskell\n",
    "-- >>> listToMaybe [1, 2, 3]\n",
    "-- Just 1\n",
    "-- >>> listToMaybe []\n",
    "-- Nothing\n",
    "listToMaybe :: [a] -> Maybe a\n",
    "-- >>> maybeToList (Just 1)\n",
    "-- [1]\n",
    "-- >>> maybeToList Nothing\n",
    "-- []\n",
    "maybeToList :: Maybe a -> [a]\n",
    "```"
   ]
  },
  {
   "cell_type": "code",
   "execution_count": 56,
   "id": "1d652f5e",
   "metadata": {},
   "outputs": [],
   "source": [
    "listToMaybe :: [a] -> Maybe a\n",
    "listToMaybe [] = Nothing\n",
    "listToMaybe (x:_) = Just x"
   ]
  },
  {
   "cell_type": "code",
   "execution_count": 57,
   "id": "bf01e958",
   "metadata": {},
   "outputs": [],
   "source": [
    "maybeToList :: Maybe a -> [a]\n",
    "maybeToList Nothing = []\n",
    "maybeToList (Just x) = [x]"
   ]
  },
  {
   "cell_type": "markdown",
   "id": "a0517630",
   "metadata": {},
   "source": [
    "5. For when we want to drop the Nothing values from our list.\n",
    "```haskell\n",
    "-- >>> catMaybes [Just 1, Nothing, Just 2]\n",
    "-- [1, 2]\n",
    "-- >>> let xs = take 3 $ repeat Nothing\n",
    "-- >>> catMaybes xs\n",
    "-- []\n",
    "catMaybes :: [Maybe a] -> [a]\n",
    "```"
   ]
  },
  {
   "cell_type": "code",
   "execution_count": null,
   "id": "53487440",
   "metadata": {},
   "outputs": [],
   "source": [
    "catMaybes :: [Maybe a] -> [a]\n",
    "catMaybes = map fromJust . filter isJust\n",
    "    where\n",
    "        fromJust (Just x) = x"
   ]
  },
  {
   "cell_type": "markdown",
   "id": "00ce4648",
   "metadata": {},
   "source": [
    "6. You’ll see this called “sequence” later.\n",
    "```haskell\n",
    "-- >>> flipMaybe [Just 1, Just 2, Just 3]\n",
    "-- Just [1, 2, 3]\n",
    "-- >>> flipMaybe [Just 1, Nothing, Just 3]\n",
    "-- Nothing\n",
    "flipMaybe :: [Maybe a] -> Maybe [a]\n",
    "```"
   ]
  },
  {
   "cell_type": "code",
   "execution_count": null,
   "id": "d2d6e9c5",
   "metadata": {},
   "outputs": [],
   "source": [
    "flipMaybe :: [Maybe a] -> Maybe [a]\n",
    "flipMaybe xs =\n",
    "    if thereIsNothing xs\n",
    "        then Nothing\n",
    "        else Just . catMaybes $ xs\n",
    "    where\n",
    "        thereIsNothing = any isNothing"
   ]
  },
  {
   "cell_type": "code",
   "execution_count": null,
   "id": "5487e6b2",
   "metadata": {},
   "outputs": [],
   "source": []
  }
 ],
 "metadata": {
  "kernelspec": {
   "display_name": "Haskell",
   "language": "haskell",
   "name": "haskell"
  },
  "language_info": {
   "codemirror_mode": "ihaskell",
   "file_extension": ".hs",
   "mimetype": "text/x-haskell",
   "name": "haskell",
   "pygments_lexer": "Haskell",
   "version": "9.6.4"
  }
 },
 "nbformat": 4,
 "nbformat_minor": 5
}
