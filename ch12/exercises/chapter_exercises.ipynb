{
 "cells": [
  {
   "cell_type": "markdown",
   "id": "b72876eb",
   "metadata": {},
   "source": [
    "## Chapter Exercises"
   ]
  },
  {
   "cell_type": "markdown",
   "id": "fd4f5f50",
   "metadata": {},
   "source": [
    "### Determine the kinds\n",
    "\n",
    "1. Given\n",
    "```haskell\n",
    "id :: a -> a\n",
    "```\n",
    "What is the kind of `a`?\n",
    "\n",
    "> <span style=\"color:green\">**Answer:**</span> `*`\n",
    "\n",
    "2. Given\n",
    "```haskell\n",
    "r :: a -> f a\n",
    "```\n",
    "\n",
    "What are the kinds of `a` and `f`?\n",
    "\n",
    "> <span style=\"color:green\">**Answer:**</span> kind of `a` is `*` and kind of `f` is `* -> *`"
   ]
  },
  {
   "cell_type": "markdown",
   "id": "f91b8410",
   "metadata": {},
   "source": [
    "### String processing\n",
    "\n",
    "Because this is the kind of thing linguists ahem enjoy doing in their\n",
    "spare time.\n",
    "\n",
    "1. Write a recursive function named `replaceThe` which takes a text/string, breaks it into words and replaces each instance of `\"the\"` with `\"a\"`. It’s intended only to replace exactly the word `\"the\"`. `notThe` is a suggested helper function for accomplishing this."
   ]
  },
  {
   "cell_type": "code",
   "execution_count": null,
   "id": "8a14c4be",
   "metadata": {},
   "outputs": [],
   "source": [
    "notThe :: String -> Maybe String\n",
    "notThe = undefined\n",
    "\n",
    "replaceThe :: String -> String\n",
    "replaceThe =\n",
    "    concatMap theToA . words\n",
    "    where\n",
    "        theToA w =\n",
    "            case notThe w of\n",
    "                Nothing -> w\n",
    "                Just w' -> \"a\""
   ]
  },
  {
   "cell_type": "markdown",
   "id": "57f9aabe",
   "metadata": {},
   "source": [
    "2. Write a recursive function that takes a text/string, breaks it into words, and counts the number of instances of ”the” followed by a vowel-initial word.\n",
    "\n",
    "```haskell\n",
    "-- >>> countTheBeforeVowel \"the cow\"\n",
    "-- 0\n",
    "-- >>> countTheBeforeVowel \"the evil cow\"\n",
    "-- 1\n",
    "countTheBeforeVowel :: String -> Integer\n",
    "countTheBeforeVowel = undefined\n",
    "```"
   ]
  },
  {
   "cell_type": "code",
   "execution_count": 5,
   "id": "bb594453",
   "metadata": {},
   "outputs": [],
   "source": [
    "countTheBeforeVowel :: String -> Integer\n",
    "countTheBeforeVowel = go . words\n",
    "    where\n",
    "        go :: [String] -> Integer\n",
    "        go wordsList\n",
    "            | length wordsList < 2 = 0\n",
    "            | head wordsList == \"the\" && isVowelWord (wordsList !! 1) = 1 + go (tail.tail $ wordsList)\n",
    "            | otherwise = go (tail wordsList)\n",
    "        isVowelWord :: String -> Bool\n",
    "        isVowelWord w =\n",
    "            head w `elem` \"aeiou\""
   ]
  },
  {
   "cell_type": "code",
   "execution_count": 7,
   "id": "4bb77149",
   "metadata": {},
   "outputs": [
    {
     "data": {
      "text/plain": [
       "2"
      ]
     },
     "metadata": {},
     "output_type": "display_data"
    }
   ],
   "source": [
    "countTheBeforeVowel \"the evil cow and the bird and the owl\""
   ]
  },
  {
   "cell_type": "markdown",
   "id": "24ca67c5",
   "metadata": {},
   "source": [
    "3. Return the number of letters that are vowels in a string.\n",
    "\n",
    "\n",
    "```haskell\n",
    "-- >>> countVowels \"the cow\"\n",
    "-- 2\n",
    "-- >>> countVowels \"Mikolajczak\"\n",
    "-- 4\n",
    "countVowels :: String -> Integer\n",
    "countVowels = undefined\n",
    "```"
   ]
  },
  {
   "cell_type": "code",
   "execution_count": 22,
   "id": "5293b1fe",
   "metadata": {},
   "outputs": [],
   "source": [
    "countVowels :: String -> Integer\n",
    "countVowels = \n",
    "    fromIntegral . length . filter (`elem` \"aeiou\")"
   ]
  },
  {
   "cell_type": "code",
   "execution_count": 23,
   "id": "72007574",
   "metadata": {},
   "outputs": [
    {
     "data": {
      "text/plain": [
       "4"
      ]
     },
     "metadata": {},
     "output_type": "display_data"
    }
   ],
   "source": [
    "countVowels \"Mikolajczak\""
   ]
  },
  {
   "cell_type": "markdown",
   "id": "28afd3c3",
   "metadata": {},
   "source": [
    "### Validate the word\n",
    "\n",
    "Use the `Maybe` type to write a function that counts the number of\n",
    "vowels in a string and the number of consonants. If the number\n",
    "of vowels exceeds the number of consonants, the function returns\n",
    "`Nothing`. In many human languages, vowels rarely exceed the number\n",
    "of consonants so when they do, it may indicate the input isn’t a word\n",
    "(that is, a valid input to your dataset):"
   ]
  },
  {
   "cell_type": "code",
   "execution_count": 30,
   "id": "4bfc3864",
   "metadata": {},
   "outputs": [],
   "source": [
    "import Data.Char (isAlpha)\n",
    "\n",
    "\n",
    "newtype Word' =\n",
    "    Word' String\n",
    "    deriving (Eq, Show)\n",
    "\n",
    "vowels = \"aeiou\"\n",
    "\n",
    "mkWord :: String -> Maybe Word'\n",
    "mkWord word = \n",
    "    if numberOfVowels word > numberOfConsonants word\n",
    "        then Nothing\n",
    "        else Just (Word' word)\n",
    "    where\n",
    "        numberOfVowels =\n",
    "            length . filter (`elem` vowels)\n",
    "        numberOfConsonants =\n",
    "            length . filter (\\c -> isAlpha c && c `notElem` vowels)"
   ]
  },
  {
   "cell_type": "code",
   "execution_count": 32,
   "id": "c99cfac6",
   "metadata": {},
   "outputs": [
    {
     "data": {
      "text/plain": [
       "Just (Word' \"Lets go\")"
      ]
     },
     "metadata": {},
     "output_type": "display_data"
    }
   ],
   "source": [
    "mkWord \"Lets go\""
   ]
  },
  {
   "cell_type": "code",
   "execution_count": 33,
   "id": "bde9aa52",
   "metadata": {},
   "outputs": [
    {
     "data": {
      "text/plain": [
       "Nothing"
      ]
     },
     "metadata": {},
     "output_type": "display_data"
    }
   ],
   "source": [
    "mkWord \"aeeec\""
   ]
  },
  {
   "cell_type": "markdown",
   "id": "7c553d98",
   "metadata": {},
   "source": [
    "### It’s only Natural\n",
    "\n",
    "You’ll be presented with a datatype to represent the natural numbers.\n",
    "The only values representable with the naturals are whole numbers\n",
    "from zero to infinity. Your task will be to implement functions to\n",
    "convert `Naturals` to `Integers` and `Integers` to `Naturals`. The conversion\n",
    "from `Naturals` to `Integers` won’t return `Maybe` because `Integer` is a strict\n",
    "superset of `Natural`. Any `Natural` can be represented by an `Integer`,\n",
    "but the same is not true of any `Integer`. Negative numbers are not\n",
    "valid natural numbers."
   ]
  },
  {
   "cell_type": "code",
   "execution_count": 44,
   "id": "e2bea701",
   "metadata": {},
   "outputs": [],
   "source": [
    "data Nat =\n",
    "    Zero\n",
    "  | Succ Nat\n",
    "    deriving (Eq, Show)\n",
    "\n",
    "natToInteger :: Nat -> Integer\n",
    "natToInteger Zero = 0\n",
    "natToInteger (Succ n) = 1 + natToInteger n\n",
    "\n",
    "integerToNat :: Integer -> Maybe Nat\n",
    "integerToNat 0 = Just Zero\n",
    "integerToNat n =\n",
    "    if n < 0\n",
    "        then Nothing\n",
    "        else Just (Succ previous)\n",
    "    where\n",
    "        Just previous = integerToNat (n - 1)"
   ]
  },
  {
   "cell_type": "code",
   "execution_count": 46,
   "id": "d42adb89",
   "metadata": {},
   "outputs": [
    {
     "data": {
      "text/plain": [
       "Just (Succ (Succ (Succ (Succ (Succ (Succ (Succ (Succ (Succ (Succ (Succ Zero)))))))))))"
      ]
     },
     "metadata": {},
     "output_type": "display_data"
    }
   ],
   "source": [
    "integerToNat 11"
   ]
  },
  {
   "cell_type": "code",
   "execution_count": 47,
   "id": "4af67a0e",
   "metadata": {},
   "outputs": [
    {
     "data": {
      "text/plain": [
       "Nothing"
      ]
     },
     "metadata": {},
     "output_type": "display_data"
    }
   ],
   "source": [
    "integerToNat (-3)"
   ]
  },
  {
   "cell_type": "code",
   "execution_count": null,
   "id": "b47e3acd",
   "metadata": {},
   "outputs": [
    {
     "data": {
      "text/plain": [
       "11"
      ]
     },
     "metadata": {},
     "output_type": "display_data"
    }
   ],
   "source": [
    "natToInteger $ Succ (Succ (Succ (Succ (Succ (Succ (Succ (Succ (Succ (Succ (Succ Zero))))))))))"
   ]
  }
 ],
 "metadata": {
  "kernelspec": {
   "display_name": "Haskell",
   "language": "haskell",
   "name": "haskell"
  },
  "language_info": {
   "codemirror_mode": "ihaskell",
   "file_extension": ".hs",
   "mimetype": "text/x-haskell",
   "name": "haskell",
   "pygments_lexer": "Haskell",
   "version": "9.6.4"
  }
 },
 "nbformat": 4,
 "nbformat_minor": 5
}
