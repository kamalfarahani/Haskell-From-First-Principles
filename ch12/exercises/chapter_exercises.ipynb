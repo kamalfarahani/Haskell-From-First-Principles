{
 "cells": [
  {
   "cell_type": "markdown",
   "id": "b72876eb",
   "metadata": {},
   "source": [
    "## Chapter Exercises"
   ]
  },
  {
   "cell_type": "markdown",
   "id": "fd4f5f50",
   "metadata": {},
   "source": [
    "### Determine the kinds\n",
    "\n",
    "1. Given\n",
    "```haskell\n",
    "id :: a -> a\n",
    "```\n",
    "What is the kind of `a`?\n",
    "\n",
    "> <span style=\"color:green\">**Answer:**</span> `*`\n",
    "\n",
    "2. Given\n",
    "```haskell\n",
    "r :: a -> f a\n",
    "```\n",
    "\n",
    "What are the kinds of `a` and `f`?\n",
    "\n",
    "> <span style=\"color:green\">**Answer:**</span> kind of `a` is `*` and kind of `f` is `* -> *`"
   ]
  },
  {
   "cell_type": "markdown",
   "id": "f91b8410",
   "metadata": {},
   "source": [
    "### String processing\n",
    "\n",
    "Because this is the kind of thing linguists ahem enjoy doing in their\n",
    "spare time.\n",
    "\n",
    "1. Write a recursive function named `replaceThe` which takes a text/string, breaks it into words and replaces each instance of `\"the\"` with `\"a\"`. It’s intended only to replace exactly the word `\"the\"`. `notThe` is a suggested helper function for accomplishing this."
   ]
  },
  {
   "cell_type": "code",
   "execution_count": null,
   "id": "8a14c4be",
   "metadata": {},
   "outputs": [],
   "source": [
    "notThe :: String -> Maybe String\n",
    "notThe = undefined\n",
    "\n",
    "replaceThe :: String -> String\n",
    "replaceThe =\n",
    "    concatMap theToA . words\n",
    "    where\n",
    "        theToA w =\n",
    "            case notThe w of\n",
    "                Nothing -> w\n",
    "                Just w' -> \"a\""
   ]
  },
  {
   "cell_type": "markdown",
   "id": "fcdea022",
   "metadata": {},
   "source": [
    "2. Write a recursive function that takes a text/string, breaks it into words, and counts the number of instances of ”the” followed by a vowel-initial word.\n",
    "\n",
    "```haskell\n",
    "-- >>> countTheBeforeVowel \"the cow\"\n",
    "-- 0\n",
    "-- >>> countTheBeforeVowel \"the evil cow\"\n",
    "-- 1\n",
    "countTheBeforeVowel :: String -> Integer\n",
    "countTheBeforeVowel = undefined\n",
    "```"
   ]
  },
  {
   "cell_type": "code",
   "execution_count": 5,
   "id": "ea9b760f",
   "metadata": {},
   "outputs": [],
   "source": [
    "countTheBeforeVowel :: String -> Integer\n",
    "countTheBeforeVowel = go . words\n",
    "    where\n",
    "        go :: [String] -> Integer\n",
    "        go wordsList\n",
    "            | length wordsList < 2 = 0\n",
    "            | head wordsList == \"the\" && isVowelWord (wordsList !! 1) = 1 + go (tail.tail $ wordsList)\n",
    "            | otherwise = go (tail wordsList)\n",
    "        isVowelWord :: String -> Bool\n",
    "        isVowelWord w =\n",
    "            head w `elem` \"aeiou\""
   ]
  },
  {
   "cell_type": "code",
   "execution_count": 7,
   "id": "f33ffcb0",
   "metadata": {},
   "outputs": [
    {
     "data": {
      "text/plain": [
       "2"
      ]
     },
     "metadata": {},
     "output_type": "display_data"
    }
   ],
   "source": [
    "countTheBeforeVowel \"the evil cow and the bird and the owl\""
   ]
  },
  {
   "cell_type": "markdown",
   "id": "fe37dbd1",
   "metadata": {},
   "source": [
    "3. Return the number of letters that are vowels in a string.\n",
    "\n",
    "\n",
    "```haskell\n",
    "-- >>> countVowels \"the cow\"\n",
    "-- 2\n",
    "-- >>> countVowels \"Mikolajczak\"\n",
    "-- 4\n",
    "countVowels :: String -> Integer\n",
    "countVowels = undefined\n",
    "```"
   ]
  },
  {
   "cell_type": "code",
   "execution_count": 22,
   "id": "d6993220",
   "metadata": {},
   "outputs": [],
   "source": [
    "countVowels :: String -> Integer\n",
    "countVowels = \n",
    "    fromIntegral . length . filter (`elem` \"aeiou\")"
   ]
  },
  {
   "cell_type": "code",
   "execution_count": 23,
   "id": "91a616e5",
   "metadata": {},
   "outputs": [
    {
     "data": {
      "text/plain": [
       "4"
      ]
     },
     "metadata": {},
     "output_type": "display_data"
    }
   ],
   "source": [
    "countVowels \"Mikolajczak\""
   ]
  },
  {
   "cell_type": "markdown",
   "id": "707885fa",
   "metadata": {},
   "source": [
    "### Validate the word\n",
    "\n",
    "Use the `Maybe` type to write a function that counts the number of\n",
    "vowels in a string and the number of consonants. If the number\n",
    "of vowels exceeds the number of consonants, the function returns\n",
    "`Nothing`. In many human languages, vowels rarely exceed the number\n",
    "of consonants so when they do, it may indicate the input isn’t a word\n",
    "(that is, a valid input to your dataset):"
   ]
  },
  {
   "cell_type": "code",
   "execution_count": null,
   "id": "24501404",
   "metadata": {},
   "outputs": [],
   "source": [
    "import Data.Char (isAlpha)\n",
    "\n",
    "\n",
    "newtype Word' =\n",
    "    Word' String\n",
    "    deriving (Eq, Show)\n",
    "\n",
    "vowels = \"aeiou\"\n",
    "\n",
    "mkWord :: String -> Maybe Word'\n",
    "mkWord word = \n",
    "    if numberOfVowels word > numberOfConsonants word\n",
    "        then Nothing\n",
    "        else Just (Word' word)\n",
    "    where\n",
    "        numberOfVowels =\n",
    "            length . filter (`elem` vowels)\n",
    "        numberOfConsonants =\n",
    "            length . filter (\\c -> isAlpha c && c `notElem` vowels)"
   ]
  },
  {
   "cell_type": "code",
   "execution_count": null,
   "id": "52365f7c",
   "metadata": {},
   "outputs": [
    {
     "data": {
      "text/plain": [
       "Just (Word' \"Lets go\")"
      ]
     },
     "metadata": {},
     "output_type": "display_data"
    }
   ],
   "source": [
    "mkWord \"Lets go\""
   ]
  },
  {
   "cell_type": "code",
   "execution_count": null,
   "id": "57ced16c",
   "metadata": {},
   "outputs": [],
   "source": [
    "mk"
   ]
  }
 ],
 "metadata": {
  "kernelspec": {
   "display_name": "Haskell",
   "language": "haskell",
   "name": "haskell"
  },
  "language_info": {
   "codemirror_mode": "ihaskell",
   "file_extension": ".hs",
   "mimetype": "text/x-haskell",
   "name": "haskell",
   "pygments_lexer": "Haskell",
   "version": "9.6.4"
  }
 },
 "nbformat": 4,
 "nbformat_minor": 5
}
