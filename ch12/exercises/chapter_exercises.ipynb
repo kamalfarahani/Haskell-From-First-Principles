{
 "cells": [
  {
   "cell_type": "markdown",
   "id": "b72876eb",
   "metadata": {},
   "source": [
    "## Chapter Exercises"
   ]
  },
  {
   "cell_type": "markdown",
   "id": "fd4f5f50",
   "metadata": {},
   "source": [
    "### Determine the kinds\n",
    "\n",
    "1. Given\n",
    "```haskell\n",
    "id :: a -> a\n",
    "```\n",
    "What is the kind of `a`?\n",
    "\n",
    "> <span style=\"color:green\">**Answer:**</span> `*`\n",
    "\n",
    "2. Given\n",
    "```haskell\n",
    "r :: a -> f a\n",
    "```\n",
    "\n",
    "What are the kinds of `a` and `f`?\n",
    "\n",
    "> <span style=\"color:green\">**Answer:**</span> kind of `a` is `*` and kind of `f` is `* -> *`"
   ]
  },
  {
   "cell_type": "markdown",
   "id": "f91b8410",
   "metadata": {},
   "source": [
    "### String processing\n",
    "\n",
    "Because this is the kind of thing linguists ahem enjoy doing in their\n",
    "spare time.\n",
    "\n",
    "1. Write a recursive function named `replaceThe` which takes a text/string, breaks it into words and replaces each instance of `\"the\"` with `\"a\"`. It’s intended only to replace exactly the word `\"the\"`. `notThe` is a suggested helper function for accomplishing this."
   ]
  },
  {
   "cell_type": "code",
   "execution_count": null,
   "id": "8a14c4be",
   "metadata": {},
   "outputs": [],
   "source": [
    "notThe :: String -> Maybe String\n",
    "notThe = undefined\n",
    "\n",
    "replaceThe :: String -> String\n",
    "replaceThe =\n",
    "    concatMap theToA . words\n",
    "    where\n",
    "        theToA w =\n",
    "            case notThe w of\n",
    "                Nothing -> w\n",
    "                Just w' -> \"a\""
   ]
  }
 ],
 "metadata": {
  "kernelspec": {
   "display_name": "Haskell",
   "language": "haskell",
   "name": "haskell"
  },
  "language_info": {
   "codemirror_mode": "ihaskell",
   "file_extension": ".hs",
   "mimetype": "text/x-haskell",
   "name": "haskell",
   "pygments_lexer": "Haskell",
   "version": "9.6.4"
  }
 },
 "nbformat": 4,
 "nbformat_minor": 5
}
