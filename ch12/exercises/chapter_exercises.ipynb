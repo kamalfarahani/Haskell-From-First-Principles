{
 "cells": [
  {
   "cell_type": "markdown",
   "id": "b72876eb",
   "metadata": {},
   "source": [
    "## Chapter Exercises"
   ]
  },
  {
   "cell_type": "markdown",
   "id": "fd4f5f50",
   "metadata": {},
   "source": [
    "### Determine the kinds\n",
    "\n",
    "1. Given\n",
    "```haskell\n",
    "id :: a -> a\n",
    "```\n",
    "What is the kind of `a`?\n",
    "\n",
    "> <span style=\"color:green\">**Answer:**</span> `*`\n",
    "\n",
    "2. Given\n",
    "```haskell\n",
    "r :: a -> f a\n",
    "```\n",
    "\n",
    "What are the kinds of `a` and `f`?\n",
    "\n",
    "> <span style=\"color:green\">**Answer:**</span> kind of `a` is `*` and kind of `f` is `* -> *`"
   ]
  },
  {
   "cell_type": "markdown",
   "id": "f91b8410",
   "metadata": {},
   "source": [
    "### String processing\n",
    "\n",
    "Because this is the kind of thing linguists ahem enjoy doing in their\n",
    "spare time.\n",
    "\n",
    "1. Write a recursive function named `replaceThe` which takes a text/string, breaks it into words and replaces each instance of `\"the\"` with `\"a\"`. It’s intended only to replace exactly the word `\"the\"`. `notThe` is a suggested helper function for accomplishing this."
   ]
  },
  {
   "cell_type": "code",
   "execution_count": null,
   "id": "8a14c4be",
   "metadata": {},
   "outputs": [],
   "source": [
    "notThe :: String -> Maybe String\n",
    "notThe = undefined\n",
    "\n",
    "replaceThe :: String -> String\n",
    "replaceThe =\n",
    "    concatMap theToA . words\n",
    "    where\n",
    "        theToA w =\n",
    "            case notThe w of\n",
    "                Nothing -> w\n",
    "                Just w' -> \"a\""
   ]
  },
  {
   "cell_type": "markdown",
   "id": "aaca3355",
   "metadata": {},
   "source": [
    "2. Write a recursive function that takes a text/string, breaks it into words, and counts the number of instances of ”the” followed by a vowel-initial word.\n",
    "\n",
    "```haskell\n",
    "-- >>> countTheBeforeVowel \"the cow\"\n",
    "-- 0\n",
    "-- >>> countTheBeforeVowel \"the evil cow\"\n",
    "-- 1\n",
    "countTheBeforeVowel :: String -> Integer\n",
    "countTheBeforeVowel = undefined\n",
    "```"
   ]
  },
  {
   "cell_type": "code",
   "execution_count": 5,
   "id": "1396341b",
   "metadata": {},
   "outputs": [],
   "source": [
    "countTheBeforeVowel :: String -> Integer\n",
    "countTheBeforeVowel = go . words\n",
    "    where\n",
    "        go :: [String] -> Integer\n",
    "        go wordsList\n",
    "            | length wordsList < 2 = 0\n",
    "            | head wordsList == \"the\" && isVowelWord (wordsList !! 1) = 1 + go (tail.tail $ wordsList)\n",
    "            | otherwise = go (tail wordsList)\n",
    "        isVowelWord :: String -> Bool\n",
    "        isVowelWord w =\n",
    "            head w `elem` \"aeiou\""
   ]
  },
  {
   "cell_type": "code",
   "execution_count": 7,
   "id": "6576c753",
   "metadata": {},
   "outputs": [
    {
     "data": {
      "text/plain": [
       "2"
      ]
     },
     "metadata": {},
     "output_type": "display_data"
    }
   ],
   "source": [
    "countTheBeforeVowel \"the evil cow and the bird and the owl\""
   ]
  },
  {
   "cell_type": "markdown",
   "id": "35a100b6",
   "metadata": {},
   "source": [
    "3. Return the number of letters that are vowels in a string.\n",
    "\n",
    "\n",
    "```haskell\n",
    "-- >>> countVowels \"the cow\"\n",
    "-- 2\n",
    "-- >>> countVowels \"Mikolajczak\"\n",
    "-- 4\n",
    "countVowels :: String -> Integer\n",
    "countVowels = undefined\n",
    "```"
   ]
  },
  {
   "cell_type": "code",
   "execution_count": 22,
   "id": "e09ccbdf",
   "metadata": {},
   "outputs": [],
   "source": [
    "countVowels :: String -> Integer\n",
    "countVowels = \n",
    "    fromIntegral . length . filter (`elem` \"aeiou\")"
   ]
  },
  {
   "cell_type": "code",
   "execution_count": 23,
   "id": "bd800071",
   "metadata": {},
   "outputs": [
    {
     "data": {
      "text/plain": [
       "4"
      ]
     },
     "metadata": {},
     "output_type": "display_data"
    }
   ],
   "source": [
    "countVowels \"Mikolajczak\""
   ]
  },
  {
   "cell_type": "markdown",
   "id": "01e21f0f",
   "metadata": {},
   "source": [
    "### Validate the word\n",
    "\n",
    "Use the `Maybe` type to write a function that counts the number of\n",
    "vowels in a string and the number of consonants. If the number\n",
    "of vowels exceeds the number of consonants, the function returns\n",
    "`Nothing`. In many human languages, vowels rarely exceed the number\n",
    "of consonants so when they do, it may indicate the input isn’t a word\n",
    "(that is, a valid input to your dataset):"
   ]
  },
  {
   "cell_type": "code",
   "execution_count": 30,
   "id": "00bf4d0c",
   "metadata": {},
   "outputs": [],
   "source": [
    "import Data.Char (isAlpha)\n",
    "\n",
    "\n",
    "newtype Word' =\n",
    "    Word' String\n",
    "    deriving (Eq, Show)\n",
    "\n",
    "vowels = \"aeiou\"\n",
    "\n",
    "mkWord :: String -> Maybe Word'\n",
    "mkWord word = \n",
    "    if numberOfVowels word > numberOfConsonants word\n",
    "        then Nothing\n",
    "        else Just (Word' word)\n",
    "    where\n",
    "        numberOfVowels =\n",
    "            length . filter (`elem` vowels)\n",
    "        numberOfConsonants =\n",
    "            length . filter (\\c -> isAlpha c && c `notElem` vowels)"
   ]
  },
  {
   "cell_type": "code",
   "execution_count": 32,
   "id": "ed26a2df",
   "metadata": {},
   "outputs": [
    {
     "data": {
      "text/plain": [
       "Just (Word' \"Lets go\")"
      ]
     },
     "metadata": {},
     "output_type": "display_data"
    }
   ],
   "source": [
    "mkWord \"Lets go\""
   ]
  },
  {
   "cell_type": "code",
   "execution_count": 33,
   "id": "99d6008a",
   "metadata": {},
   "outputs": [
    {
     "data": {
      "text/plain": [
       "Nothing"
      ]
     },
     "metadata": {},
     "output_type": "display_data"
    }
   ],
   "source": [
    "mkWord \"aeeec\""
   ]
  },
  {
   "cell_type": "markdown",
   "id": "dc6a2f70",
   "metadata": {},
   "source": [
    "### It’s only Natural\n",
    "\n",
    "You’ll be presented with a datatype to represent the natural numbers.\n",
    "The only values representable with the naturals are whole numbers\n",
    "from zero to infinity. Your task will be to implement functions to\n",
    "convert `Naturals` to `Integers` and `Integers` to `Naturals`. The conversion\n",
    "from `Naturals` to `Integers` won’t return `Maybe` because `Integer` is a strict\n",
    "superset of `Natural`. Any `Natural` can be represented by an `Integer`,\n",
    "but the same is not true of any `Integer`. Negative numbers are not\n",
    "valid natural numbers."
   ]
  },
  {
   "cell_type": "code",
   "execution_count": 44,
   "id": "3e67aee7",
   "metadata": {},
   "outputs": [],
   "source": [
    "data Nat =\n",
    "    Zero\n",
    "  | Succ Nat\n",
    "    deriving (Eq, Show)\n",
    "\n",
    "natToInteger :: Nat -> Integer\n",
    "natToInteger Zero = 0\n",
    "natToInteger (Succ n) = 1 + natToInteger n\n",
    "\n",
    "integerToNat :: Integer -> Maybe Nat\n",
    "integerToNat 0 = Just Zero\n",
    "integerToNat n =\n",
    "    if n < 0\n",
    "        then Nothing\n",
    "        else Just (Succ previous)\n",
    "    where\n",
    "        Just previous = integerToNat (n - 1)"
   ]
  },
  {
   "cell_type": "code",
   "execution_count": 46,
   "id": "b8d96dc3",
   "metadata": {},
   "outputs": [
    {
     "data": {
      "text/plain": [
       "Just (Succ (Succ (Succ (Succ (Succ (Succ (Succ (Succ (Succ (Succ (Succ Zero)))))))))))"
      ]
     },
     "metadata": {},
     "output_type": "display_data"
    }
   ],
   "source": [
    "integerToNat 11"
   ]
  },
  {
   "cell_type": "code",
   "execution_count": 47,
   "id": "ba26e84f",
   "metadata": {},
   "outputs": [
    {
     "data": {
      "text/plain": [
       "Nothing"
      ]
     },
     "metadata": {},
     "output_type": "display_data"
    }
   ],
   "source": [
    "integerToNat (-3)"
   ]
  },
  {
   "cell_type": "code",
   "execution_count": 51,
   "id": "213bd900",
   "metadata": {},
   "outputs": [
    {
     "data": {
      "text/plain": [
       "11"
      ]
     },
     "metadata": {},
     "output_type": "display_data"
    }
   ],
   "source": [
    "natToInteger $ Succ (Succ (Succ (Succ (Succ (Succ (Succ (Succ (Succ (Succ (Succ Zero))))))))))"
   ]
  },
  {
   "cell_type": "markdown",
   "id": "8ec86a49",
   "metadata": {},
   "source": [
    "### Small library for `Maybe`\n",
    "\n",
    "Write the following functions. This may take some time."
   ]
  },
  {
   "cell_type": "markdown",
   "id": "e8deae99",
   "metadata": {},
   "source": [
    "1. Simple boolean checks for Maybe values."
   ]
  },
  {
   "cell_type": "code",
   "execution_count": 53,
   "id": "f2f4684b",
   "metadata": {},
   "outputs": [],
   "source": [
    "isJust :: Maybe a -> Bool\n",
    "isJust Nothing = False\n",
    "isJust _ = True\n",
    "\n",
    "isNothing :: Maybe a -> Bool\n",
    "isNothing = not . isJust"
   ]
  },
  {
   "cell_type": "markdown",
   "id": "6f546e0b",
   "metadata": {},
   "source": [
    "2. The following is the Maybe catamorphism. You can turn a Maybe value into anything else with this.\n",
    "```haskell\n",
    "-- >>> mayybee 0 (+1) Nothing\n",
    "-- 0\n",
    "-- >>> mayybee 0 (+1) (Just 1)\n",
    "-- 2\n",
    "mayybee :: b -> (a -> b) -> Maybe a -> b\n",
    "```"
   ]
  },
  {
   "cell_type": "code",
   "execution_count": 54,
   "id": "28e49768",
   "metadata": {},
   "outputs": [],
   "source": [
    "mayybee :: b -> (a -> b) -> Maybe a -> b\n",
    "mayybee b _ Nothing = b\n",
    "mayybee _ f (Just a) = f a"
   ]
  },
  {
   "cell_type": "markdown",
   "id": "a9cd57fc",
   "metadata": {},
   "source": [
    "3. In case you just want to provide a fallback value.\n",
    "```haskell\n",
    "-- >>> fromMaybe 0 Nothing\n",
    "-- 0\n",
    "-- >>> fromMaybe 0 (Just 1)\n",
    "-- 1\n",
    "fromMaybe :: a -> Maybe a -> a\n",
    "-- Try writing it in terms\n",
    "-- of the maybe catamorphism\n",
    "```"
   ]
  },
  {
   "cell_type": "code",
   "execution_count": 55,
   "id": "ca3bbeb6",
   "metadata": {},
   "outputs": [],
   "source": [
    "fromMaybe :: a -> Maybe a -> a\n",
    "fromMaybe x Nothing = x\n",
    "fromMaybe _ (Just x) = x"
   ]
  },
  {
   "cell_type": "markdown",
   "id": "b1212ce4",
   "metadata": {},
   "source": [
    "4. Converting between `List` and `Maybe`.\n",
    "\n",
    "```haskell\n",
    "-- >>> listToMaybe [1, 2, 3]\n",
    "-- Just 1\n",
    "-- >>> listToMaybe []\n",
    "-- Nothing\n",
    "listToMaybe :: [a] -> Maybe a\n",
    "-- >>> maybeToList (Just 1)\n",
    "-- [1]\n",
    "-- >>> maybeToList Nothing\n",
    "-- []\n",
    "maybeToList :: Maybe a -> [a]\n",
    "```"
   ]
  },
  {
   "cell_type": "code",
   "execution_count": 56,
   "id": "5ee2abb3",
   "metadata": {},
   "outputs": [],
   "source": [
    "listToMaybe :: [a] -> Maybe a\n",
    "listToMaybe [] = Nothing\n",
    "listToMaybe (x:_) = Just x"
   ]
  },
  {
   "cell_type": "code",
   "execution_count": 57,
   "id": "6ca4fe76",
   "metadata": {},
   "outputs": [],
   "source": [
    "maybeToList :: Maybe a -> [a]\n",
    "maybeToList Nothing = []\n",
    "maybeToList (Just x) = [x]"
   ]
  },
  {
   "cell_type": "markdown",
   "id": "35e3453a",
   "metadata": {},
   "source": [
    "5. For when we want to drop the Nothing values from our list.\n",
    "```haskell\n",
    "-- >>> catMaybes [Just 1, Nothing, Just 2]\n",
    "-- [1, 2]\n",
    "-- >>> let xs = take 3 $ repeat Nothing\n",
    "-- >>> catMaybes xs\n",
    "-- []\n",
    "catMaybes :: [Maybe a] -> [a]\n",
    "```"
   ]
  },
  {
   "cell_type": "code",
   "execution_count": 60,
   "id": "5920e4c8",
   "metadata": {},
   "outputs": [],
   "source": [
    "catMaybes :: [Maybe a] -> [a]\n",
    "catMaybes = map fromJust . filter isJust\n",
    "    where\n",
    "        fromJust (Just x) = x"
   ]
  },
  {
   "cell_type": "markdown",
   "id": "37a9bc58",
   "metadata": {},
   "source": [
    "6. You’ll see this called “sequence” later.\n",
    "```haskell\n",
    "-- >>> flipMaybe [Just 1, Just 2, Just 3]\n",
    "-- Just [1, 2, 3]\n",
    "-- >>> flipMaybe [Just 1, Nothing, Just 3]\n",
    "-- Nothing\n",
    "flipMaybe :: [Maybe a] -> Maybe [a]\n",
    "```"
   ]
  },
  {
   "cell_type": "code",
   "execution_count": 62,
   "id": "2d56d11f",
   "metadata": {},
   "outputs": [],
   "source": [
    "flipMaybe :: [Maybe a] -> Maybe [a]\n",
    "flipMaybe xs =\n",
    "    if thereIsNothing xs\n",
    "        then Nothing\n",
    "        else Just . catMaybes $ xs\n",
    "    where\n",
    "        thereIsNothing = any isNothing"
   ]
  },
  {
   "cell_type": "markdown",
   "id": "ab1a0c16",
   "metadata": {},
   "source": [
    "### Small library for `Either`\n",
    "\n",
    "Write each of the following functions. If more than one possible\n",
    "unique function exists for the type, use common sense to determine\n",
    "what it should do."
   ]
  },
  {
   "cell_type": "markdown",
   "id": "b87c544c",
   "metadata": {},
   "source": [
    "1. Try to eventually arrive at a solution that uses `foldr`, even if earlier versions don’t use `foldr`.\n",
    "\n",
    "```haskell\n",
    "lefts' :: [Either a b] -> [a]\n",
    "```"
   ]
  },
  {
   "cell_type": "code",
   "execution_count": 63,
   "id": "4690069c",
   "metadata": {},
   "outputs": [],
   "source": [
    "lefts' :: [Either a b] -> [a]\n",
    "lefts' = foldr selector []\n",
    "    where\n",
    "        selector (Left x) xs = x : xs\n",
    "        selector _ xs = xs"
   ]
  },
  {
   "cell_type": "markdown",
   "id": "5f5ff28d",
   "metadata": {},
   "source": [
    "2. Same as the last one. Use foldr eventually.\n",
    "\n",
    "```haskell\n",
    "rights' :: [Either a b] -> [b]\n",
    "```"
   ]
  },
  {
   "cell_type": "code",
   "execution_count": 64,
   "id": "61ea45fb",
   "metadata": {},
   "outputs": [],
   "source": [
    "rights' :: [Either a b] -> [b]\n",
    "rights' = foldr selector []\n",
    "    where\n",
    "        selector (Right x) xs = x:xs\n",
    "        selector _ xs = xs"
   ]
  },
  {
   "cell_type": "markdown",
   "id": "aff6fcc7",
   "metadata": {},
   "source": [
    "3. Implement:\n",
    "```haskell\n",
    "partitionEithers' :: [Either a b] -> ([a], [b])\n",
    "```"
   ]
  },
  {
   "cell_type": "code",
   "execution_count": 65,
   "id": "f48bfe3f",
   "metadata": {},
   "outputs": [],
   "source": [
    "partitionEithers' :: [Either a b] -> ([a], [b])\n",
    "partitionEithers' xs = (lefts' xs, rights' xs)"
   ]
  },
  {
   "cell_type": "markdown",
   "id": "edc56ef7",
   "metadata": {},
   "source": [
    "4. Impelement `eitherMaybe'`\n",
    "```haskell\n",
    "eitherMaybe' :: (b -> c) -> Either a b -> Maybe c\n",
    "```"
   ]
  },
  {
   "cell_type": "code",
   "execution_count": 66,
   "id": "f29079f8",
   "metadata": {},
   "outputs": [],
   "source": [
    "eitherMaybe' :: (b -> c) -> Either a b -> Maybe c\n",
    "eitherMaybe' _ (Left _) = Nothing\n",
    "eitherMaybe' f (Right b) = Just (f b)"
   ]
  },
  {
   "cell_type": "markdown",
   "id": "72914a8a",
   "metadata": {},
   "source": [
    "5. This is a general catamorphism for Either values.\n",
    "```haskell\n",
    "either' :: (a -> c) -> (b -> c) -> Either a b -> c\n",
    "```"
   ]
  },
  {
   "cell_type": "code",
   "execution_count": 68,
   "id": "38917e31",
   "metadata": {},
   "outputs": [],
   "source": [
    "either' :: (a -> c) -> (b -> c) -> Either a b -> c\n",
    "either' f _ (Left x)  = f x\n",
    "either' _ g (Right x) = g x"
   ]
  },
  {
   "cell_type": "markdown",
   "id": "aef7f5de",
   "metadata": {},
   "source": [
    "6. Same as before, but use the either' function you just wrote.\n",
    "```haskell\n",
    "eitherMaybe'' :: (b -> c) -> Either a b -> Maybe c\n",
    "```"
   ]
  },
  {
   "cell_type": "code",
   "execution_count": null,
   "id": "5df5d5d1",
   "metadata": {},
   "outputs": [],
   "source": [
    "eitherMaybe'' :: (b -> c) -> Either a b -> Maybe c\n",
    "eitherMaybe'' f = either' (const Nothing) (Just . f)"
   ]
  },
  {
   "cell_type": "markdown",
   "id": "a0689921",
   "metadata": {},
   "source": [
    "### Write your own `iterate` and `unfoldr`\n",
    "\n",
    "1. Write the function myIterate using direct recursion. Compare the behavior with the built-in iterate to gauge correctness. Do not look at the source or any examples of iterate so that you are forced to do this yourself.\n",
    "\n",
    "```haskell\n",
    "myIterate :: (a -> a) -> a -> [a]\n",
    "myIterate = undefined\n",
    "```"
   ]
  },
  {
   "cell_type": "code",
   "execution_count": 2,
   "id": "3a35bfdb",
   "metadata": {},
   "outputs": [],
   "source": [
    "myIterate :: (a -> a) -> a -> [a]\n",
    "myIterate f x = x : myIterate f (f x)"
   ]
  },
  {
   "cell_type": "markdown",
   "id": "9d7b2054",
   "metadata": {},
   "source": [
    "2. Write the function `myUnfoldr` using direct recursion. Compare with the built-in `unfoldr` to check your implementation. Again, don’t look at implementations of `unfoldr` so that you figure it out yourself.\n",
    "\n",
    "```haskell\n",
    "myUnfoldr :: (b -> Maybe (a, b)) -> b -> [a]\n",
    "myUnfoldr = undefined\n",
    "```"
   ]
  },
  {
   "cell_type": "code",
   "execution_count": 1,
   "id": "2d0efa4a",
   "metadata": {},
   "outputs": [],
   "source": [
    "myUnfoldr :: (b -> Maybe (a, b)) -> b -> [a]\n",
    "myUnfoldr f x =\n",
    "    case f x of\n",
    "        Nothing     -> []\n",
    "        Just (y, z) -> y : myUnfoldr f z"
   ]
  },
  {
   "cell_type": "markdown",
   "id": "fb7b9469",
   "metadata": {},
   "source": [
    "3. Rewrite myIterate into `betterIterate` using `myUnfoldr`."
   ]
  },
  {
   "cell_type": "code",
   "execution_count": 6,
   "id": "9c7c93ae",
   "metadata": {},
   "outputs": [],
   "source": [
    "betterIterate :: (a -> a) -> a -> [a]\n",
    "betterIterate f = myUnfoldr f'\n",
    "    where\n",
    "        f' x = Just (x, f x)"
   ]
  },
  {
   "cell_type": "markdown",
   "id": "6258b39a",
   "metadata": {},
   "source": [
    "### Finally something other than a list!\n",
    "\n",
    "Given the BinaryTree from last chapter, complete the following exercises. Here’s that datatype again:\n",
    "\n",
    "```haskell\n",
    "data BinaryTree a =\n",
    "    Leaf\n",
    "  | Node (BinaryTree a) a (BinaryTree a)\n",
    "  deriving (Eq, Ord, Show)\n",
    "```"
   ]
  },
  {
   "cell_type": "markdown",
   "id": "d8263ab8",
   "metadata": {},
   "source": [
    "1. Write unfold for `BinaryTree`."
   ]
  },
  {
   "cell_type": "code",
   "execution_count": 13,
   "id": "c356d7e0",
   "metadata": {},
   "outputs": [],
   "source": [
    "data BinaryTree a =\n",
    "    Leaf\n",
    "  | Node (BinaryTree a) a (BinaryTree a)\n",
    "  deriving (Eq, Ord, Show)\n",
    "\n",
    "\n",
    "myUnfoldTree :: (a -> Maybe (a,b,a)) -> a -> BinaryTree b\n",
    "myUnfoldTree f x =\n",
    "    case f x of\n",
    "        Nothing -> Leaf\n",
    "        Just (x1, y, x2) -> Node (myUnfoldTree f x1) y (myUnfoldTree f x2)"
   ]
  },
  {
   "cell_type": "markdown",
   "id": "a2f992ec",
   "metadata": {},
   "source": [
    "2. Make a tree builder. Using the `unfold` function you’ve made for `BinaryTree`, write the following function:\n",
    "\n",
    "```haskell\n",
    "treeBuild :: Integer -> BinaryTree Integer\n",
    "treeBuild n = undefined\n",
    "```"
   ]
  },
  {
   "cell_type": "code",
   "execution_count": 24,
   "id": "9cb97852",
   "metadata": {},
   "outputs": [],
   "source": [
    "treeBuild :: Integer -> BinaryTree Integer\n",
    "treeBuild x =\n",
    "    myUnfoldTree f 0\n",
    "    where\n",
    "        f :: Integer -> Maybe (Integer, Integer, Integer)\n",
    "        f y =\n",
    "            if y < x\n",
    "                then Just (y + 1, y, y + 1)\n",
    "                else Nothing"
   ]
  },
  {
   "cell_type": "code",
   "execution_count": 25,
   "id": "036fe8c2",
   "metadata": {},
   "outputs": [
    {
     "data": {
      "text/plain": [
       "Leaf"
      ]
     },
     "metadata": {},
     "output_type": "display_data"
    }
   ],
   "source": [
    "treeBuild 0"
   ]
  },
  {
   "cell_type": "code",
   "execution_count": 26,
   "id": "92cfe594",
   "metadata": {},
   "outputs": [
    {
     "data": {
      "text/plain": [
       "Node Leaf 0 Leaf"
      ]
     },
     "metadata": {},
     "output_type": "display_data"
    }
   ],
   "source": [
    "treeBuild 1"
   ]
  },
  {
   "cell_type": "code",
   "execution_count": null,
   "id": "b5e5fd03",
   "metadata": {},
   "outputs": [
    {
     "data": {
      "text/plain": [
       "Node (Node Leaf 1 Leaf) 0 (Node Leaf 1 Leaf)"
      ]
     },
     "metadata": {},
     "output_type": "display_data"
    }
   ],
   "source": [
    "treeBuild 2"
   ]
  }
 ],
 "metadata": {
  "kernelspec": {
   "display_name": "Haskell",
   "language": "haskell",
   "name": "haskell"
  },
  "language_info": {
   "codemirror_mode": "ihaskell",
   "file_extension": ".hs",
   "mimetype": "text/x-haskell",
   "name": "haskell",
   "pygments_lexer": "Haskell",
   "version": "9.6.4"
  }
 },
 "nbformat": 4,
 "nbformat_minor": 5
}
