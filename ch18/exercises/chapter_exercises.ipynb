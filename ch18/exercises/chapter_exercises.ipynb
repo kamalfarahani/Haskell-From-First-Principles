{
 "cells": [
  {
   "cell_type": "markdown",
   "id": "97b41da5",
   "metadata": {},
   "source": [
    "## Chapter Exercises"
   ]
  },
  {
   "cell_type": "markdown",
   "id": "24893bef",
   "metadata": {},
   "source": [
    "### Monad Instances"
   ]
  },
  {
   "cell_type": "markdown",
   "id": "ce157ef0",
   "metadata": {},
   "source": [
    "Write `Monad` instances for the following types. Use the `QuickCheck` properties we showed you to validate your instances."
   ]
  },
  {
   "cell_type": "markdown",
   "id": "51729fd6",
   "metadata": {},
   "source": [
    "1.\n",
    "```haskell\n",
    "data Nope a = NopeDotJpg \n",
    "  deriving (Eq, Show)\n",
    "```"
   ]
  },
  {
   "cell_type": "code",
   "execution_count": null,
   "id": "478d604b",
   "metadata": {},
   "outputs": [],
   "source": [
    "data Nope a = NopeDotJpg \n",
    "  deriving (Eq, Show)\n",
    "\n",
    "instance Functor Nope where\n",
    "  fmap _ NopeDotJpg = NopeDotJpg\n",
    "\n",
    "instance Applicative Nope where\n",
    "  pure _ = NopeDotJpg\n",
    "  (<*>) _ _ = NopeDotJpg\n",
    "\n",
    "instance Monad Nope where\n",
    "  return = pure\n",
    "  (>>=) _ _ = NopeDotJpg\n",
    "\n",
    "instance Arbitrary (Nope a) where\n",
    "  arbitrary = return NopeDotJpg\n",
    "\n",
    "instance EqProp (Nope a) where\n",
    "  (=-=) = eq"
   ]
  },
  {
   "cell_type": "markdown",
   "id": "513b7a06",
   "metadata": {},
   "source": [
    "2.\n",
    "```haskell\n",
    "data PhhhbbtttEither b a = \n",
    "    Lefty a \n",
    "  | Righty b \n",
    "  deriving (Eq, Show)\n",
    "```"
   ]
  },
  {
   "cell_type": "code",
   "execution_count": null,
   "id": "4e328cd6",
   "metadata": {},
   "outputs": [],
   "source": [
    "data PhhhbbtttEither b a = \n",
    "    Lefty a \n",
    "  | Righty b \n",
    "  deriving (Eq, Show)\n",
    "\n",
    "instance Functor (PhhhbbtttEither b) where\n",
    "  fmap f (Lefty a) = Lefty $ f a\n",
    "  fmap _ (Righty b) = Righty b\n",
    "\n",
    "instance Applicative (PhhhbbtttEither b) where\n",
    "  pure = Lefty\n",
    "  (<*>) (Lefty f) (Lefty a) = Lefty $ f a\n",
    "  (<*>) (Righty b) _ = Righty b\n",
    "  (<*>) _ (Righty b) = Righty b\n",
    "\n",
    "instance Monad (PhhhbbtttEither b) where\n",
    "  return = pure\n",
    "  (>>=) (Lefty a) f = f a\n",
    "  (>>=) (Righty b) _ = Righty b\n",
    "\n",
    "instance (Arbitrary b, Arbitrary a) => Arbitrary (PhhhbbtttEither b a) where\n",
    "  arbitrary = do\n",
    "    x <- arbitrary\n",
    "    y <- arbitrary\n",
    "    elements [Lefty x, Righty y]\n",
    "\n",
    "instance (Eq b, Eq a) => EqProp (PhhhbbtttEither b a) where\n",
    "  (=-=) = eq"
   ]
  },
  {
   "cell_type": "markdown",
   "id": "6af80a55",
   "metadata": {},
   "source": [
    "3.\n",
    "```haskell\n",
    "newtype Identity a = Identity a \n",
    "  deriving (Eq, Ord, Show)\n",
    "```"
   ]
  },
  {
   "cell_type": "code",
   "execution_count": null,
   "id": "b83ea15d",
   "metadata": {},
   "outputs": [],
   "source": [
    "newtype Identity a = Identity a \n",
    "  deriving (Eq, Ord, Show)\n",
    "\n",
    "instance Functor Identity where\n",
    "  fmap f (Identity a) = Identity $ f a\n",
    "\n",
    "instance Applicative Identity where\n",
    "  pure = Identity\n",
    "  (<*>) (Identity f) (Identity a) = Identity $ f a\n",
    "\n",
    "instance Monad Identity where\n",
    "  return = pure\n",
    "  (>>=) (Identity a) f = f a\n",
    "\n",
    "instance Arbitrary a => Arbitrary (Identity a) where\n",
    "  arbitrary = Identity <$> arbitrary\n",
    "\n",
    "instance Eq a => EqProp (Identity a) where\n",
    "  (=-=) = eq"
   ]
  },
  {
   "cell_type": "markdown",
   "id": "132f20a3",
   "metadata": {},
   "source": [
    "4.\n",
    "```haskell\n",
    "data List a =\n",
    "    Nil\n",
    "  | Cons a (List a)\n",
    "  deriving (Eq, Show)\n",
    "```"
   ]
  },
  {
   "cell_type": "code",
   "execution_count": null,
   "id": "6f5d1570",
   "metadata": {},
   "outputs": [],
   "source": [
    "instance Functor List where\n",
    "  fmap :: (a -> b) -> List a -> List b\n",
    "  fmap _ Nil = Nil\n",
    "  fmap f (Cons a as) = Cons (f a) (fmap f as)\n",
    "\n",
    "instance Applicative List where\n",
    "  pure :: a -> List a\n",
    "  pure a = Cons a Nil\n",
    "  (<*>) :: List (a -> b) -> List a -> List b\n",
    "  Nil <*> _ = Nil\n",
    "  _ <*> Nil = Nil\n",
    "  fs <*> xs = flatMap (<$> xs) fs\n",
    "\n",
    "instance Monad List where\n",
    "  return = pure\n",
    "  (>>=) xs f = flatMap f xs\n",
    "\n",
    "instance Arbitrary a => Arbitrary (List a) where\n",
    "  arbitrary = do\n",
    "    hlist <- arbitrary\n",
    "    let l = haskellListToList hlist\n",
    "    return l\n",
    "\n",
    "instance (Eq a) => EqProp (List a) where\n",
    "  (=-=) = eq\n",
    "\n",
    "haskellListToList :: [a] -> List a\n",
    "haskellListToList = foldr Cons Nil\n",
    "\n",
    "append :: List a -> List a -> List a\n",
    "append Nil ys = ys\n",
    "append xs Nil = xs\n",
    "append (Cons x xs) ys = Cons x $ xs `append` ys\n",
    "\n",
    "fold :: (a -> b -> b) -> b -> List a -> b\n",
    "fold _ b Nil = b\n",
    "fold f b (Cons h t) = f h (fold f b t)\n",
    "\n",
    "concat' :: List (List a) -> List a\n",
    "concat' = fold append Nil\n",
    "\n",
    "flatMap :: (a -> List b) -> List a -> List b\n",
    "flatMap f as = concat' $ fmap f as"
   ]
  }
 ],
 "metadata": {
  "kernelspec": {
   "display_name": "Haskell",
   "language": "haskell",
   "name": "haskell"
  }
 },
 "nbformat": 4,
 "nbformat_minor": 5
}
