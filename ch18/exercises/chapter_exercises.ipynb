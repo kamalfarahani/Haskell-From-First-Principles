{
 "cells": [
  {
   "cell_type": "markdown",
   "id": "97b41da5",
   "metadata": {},
   "source": [
    "## Chapter Exercises"
   ]
  },
  {
   "cell_type": "markdown",
   "id": "24893bef",
   "metadata": {},
   "source": [
    "### Monad Instances"
   ]
  },
  {
   "cell_type": "markdown",
   "id": "ce157ef0",
   "metadata": {},
   "source": [
    "Write `Monad` instances for the following types. Use the `QuickCheck` properties we showed you to validate your instances."
   ]
  },
  {
   "cell_type": "markdown",
   "id": "51729fd6",
   "metadata": {},
   "source": [
    "1.\n",
    "```haskell\n",
    "data Nope a = NopeDotJpg \n",
    "  deriving (Eq, Show)\n",
    "```"
   ]
  },
  {
   "cell_type": "code",
   "execution_count": null,
   "id": "478d604b",
   "metadata": {},
   "outputs": [],
   "source": [
    "data Nope a = NopeDotJpg \n",
    "  deriving (Eq, Show)\n",
    "\n",
    "instance Functor Nope where\n",
    "  fmap _ NopeDotJpg = NopeDotJpg\n",
    "\n",
    "instance Applicative Nope where\n",
    "  pure _ = NopeDotJpg\n",
    "  (<*>) _ _ = NopeDotJpg\n",
    "\n",
    "instance Monad Nope where\n",
    "  return = pure\n",
    "  (>>=) _ _ = NopeDotJpg\n",
    "\n",
    "instance Arbitrary (Nope a) where\n",
    "  arbitrary = return NopeDotJpg\n",
    "\n",
    "instance EqProp (Nope a) where\n",
    "  (=-=) = eq"
   ]
  },
  {
   "cell_type": "markdown",
   "id": "513b7a06",
   "metadata": {},
   "source": [
    "2.\n",
    "```haskell\n",
    "data PhhhbbtttEither b a = \n",
    "    Lefty a \n",
    "  | Righty b \n",
    "  deriving (Eq, Show)\n",
    "```"
   ]
  },
  {
   "cell_type": "code",
   "execution_count": null,
   "id": "4e328cd6",
   "metadata": {},
   "outputs": [],
   "source": [
    "data PhhhbbtttEither b a = \n",
    "    Lefty a \n",
    "  | Righty b \n",
    "  deriving (Eq, Show)\n",
    "\n",
    "instance Functor (PhhhbbtttEither b) where\n",
    "  fmap f (Lefty a) = Lefty $ f a\n",
    "  fmap _ (Righty b) = Righty b\n",
    "\n",
    "instance Applicative (PhhhbbtttEither b) where\n",
    "  pure = Lefty\n",
    "  (<*>) (Lefty f) (Lefty a) = Lefty $ f a\n",
    "  (<*>) (Righty b) _ = Righty b\n",
    "  (<*>) _ (Righty b) = Righty b\n",
    "\n",
    "instance Monad (PhhhbbtttEither b) where\n",
    "  return = pure\n",
    "  (>>=) (Lefty a) f = f a\n",
    "  (>>=) (Righty b) _ = Righty b\n",
    "\n",
    "instance (Arbitrary b, Arbitrary a) => Arbitrary (PhhhbbtttEither b a) where\n",
    "  arbitrary = do\n",
    "    x <- arbitrary\n",
    "    y <- arbitrary\n",
    "    elements [Lefty x, Righty y]\n",
    "\n",
    "instance (Eq b, Eq a) => EqProp (PhhhbbtttEither b a) where\n",
    "  (=-=) = eq"
   ]
  },
  {
   "cell_type": "markdown",
   "id": "6af80a55",
   "metadata": {},
   "source": [
    "3.\n",
    "```haskell\n",
    "newtype Identity a = Identity a \n",
    "  deriving (Eq, Ord, Show)\n",
    "```"
   ]
  },
  {
   "cell_type": "code",
   "execution_count": null,
   "id": "b83ea15d",
   "metadata": {},
   "outputs": [],
   "source": [
    "newtype Identity a = Identity a \n",
    "  deriving (Eq, Ord, Show)\n",
    "\n",
    "instance Functor Identity where\n",
    "  fmap f (Identity a) = Identity $ f a\n",
    "\n",
    "instance Applicative Identity where\n",
    "  pure = Identity\n",
    "  (<*>) (Identity f) (Identity a) = Identity $ f a\n",
    "\n",
    "instance Monad Identity where\n",
    "  return = pure\n",
    "  (>>=) (Identity a) f = f a\n",
    "\n",
    "instance Arbitrary a => Arbitrary (Identity a) where\n",
    "  arbitrary = Identity <$> arbitrary\n",
    "\n",
    "instance Eq a => EqProp (Identity a) where\n",
    "  (=-=) = eq"
   ]
  },
  {
   "cell_type": "markdown",
   "id": "132f20a3",
   "metadata": {},
   "source": [
    "4.\n",
    "```haskell\n",
    "data List a =\n",
    "    Nil\n",
    "  | Cons a (List a)\n",
    "  deriving (Eq, Show)\n",
    "```"
   ]
  },
  {
   "cell_type": "code",
   "execution_count": null,
   "id": "6f5d1570",
   "metadata": {},
   "outputs": [],
   "source": [
    "instance Functor List where\n",
    "  fmap :: (a -> b) -> List a -> List b\n",
    "  fmap _ Nil = Nil\n",
    "  fmap f (Cons a as) = Cons (f a) (fmap f as)\n",
    "\n",
    "instance Applicative List where\n",
    "  pure :: a -> List a\n",
    "  pure a = Cons a Nil\n",
    "  (<*>) :: List (a -> b) -> List a -> List b\n",
    "  Nil <*> _ = Nil\n",
    "  _ <*> Nil = Nil\n",
    "  fs <*> xs = flatMap (<$> xs) fs\n",
    "\n",
    "instance Monad List where\n",
    "  return = pure\n",
    "  (>>=) xs f = flatMap f xs\n",
    "\n",
    "instance Arbitrary a => Arbitrary (List a) where\n",
    "  arbitrary = do\n",
    "    hlist <- arbitrary\n",
    "    let l = haskellListToList hlist\n",
    "    return l\n",
    "\n",
    "instance (Eq a) => EqProp (List a) where\n",
    "  (=-=) = eq\n",
    "\n",
    "haskellListToList :: [a] -> List a\n",
    "haskellListToList = foldr Cons Nil\n",
    "\n",
    "append :: List a -> List a -> List a\n",
    "append Nil ys = ys\n",
    "append xs Nil = xs\n",
    "append (Cons x xs) ys = Cons x $ xs `append` ys\n",
    "\n",
    "fold :: (a -> b -> b) -> b -> List a -> b\n",
    "fold _ b Nil = b\n",
    "fold f b (Cons h t) = f h (fold f b t)\n",
    "\n",
    "concat' :: List (List a) -> List a\n",
    "concat' = fold append Nil\n",
    "\n",
    "flatMap :: (a -> List b) -> List a -> List b\n",
    "flatMap f as = concat' $ fmap f as"
   ]
  },
  {
   "cell_type": "markdown",
   "id": "fc327497",
   "metadata": {},
   "source": [
    "### Exercise 2\n",
    "\n",
    "Write the following functions using the methods provided by `Monad` and `Functor`. Using stuff like identity and composition is fine, but it has to typecheck with types provided."
   ]
  },
  {
   "cell_type": "markdown",
   "id": "cdf57cd8",
   "metadata": {},
   "source": [
    "1.\n",
    "```haskell\n",
    "j :: Monad m => m (m a) -> m a\n",
    "```\n",
    "\n",
    "Expecting the following behavior:\n",
    "```\n",
    "Prelude> j [[1, 2], [], [3]]\n",
    "[1,2,3]\n",
    "Prelude> j (Just (Just 1))\n",
    "Just 1\n",
    "Prelude> j (Just Nothing)\n",
    "Nothing\n",
    "Prelude> j Nothing\n",
    "Nothing\n",
    "```"
   ]
  },
  {
   "cell_type": "code",
   "execution_count": 1,
   "id": "bdb16183",
   "metadata": {},
   "outputs": [
    {
     "data": {
      "text/html": [
       "<style>/* Styles used for the Hoogle display in the pager */\n",
       ".hoogle-doc {\n",
       "display: block;\n",
       "padding-bottom: 1.3em;\n",
       "padding-left: 0.4em;\n",
       "}\n",
       ".hoogle-code {\n",
       "display: block;\n",
       "font-family: monospace;\n",
       "white-space: pre;\n",
       "}\n",
       ".hoogle-text {\n",
       "display: block;\n",
       "}\n",
       ".hoogle-name {\n",
       "color: green;\n",
       "font-weight: bold;\n",
       "}\n",
       ".hoogle-head {\n",
       "font-weight: bold;\n",
       "}\n",
       ".hoogle-sub {\n",
       "display: block;\n",
       "margin-left: 0.4em;\n",
       "}\n",
       ".hoogle-package {\n",
       "font-weight: bold;\n",
       "font-style: italic;\n",
       "}\n",
       ".hoogle-module {\n",
       "font-weight: bold;\n",
       "}\n",
       ".hoogle-class {\n",
       "font-weight: bold;\n",
       "}\n",
       "\n",
       ".get-type {\n",
       "color: green;\n",
       "font-weight: bold;\n",
       "font-family: monospace;\n",
       "display: block;\n",
       "white-space: pre-wrap;\n",
       "}\n",
       ".show-type {\n",
       "color: green;\n",
       "font-weight: bold;\n",
       "font-family: monospace;\n",
       "margin-left: 1em;\n",
       "}\n",
       ".mono {\n",
       "font-family: monospace;\n",
       "display: block;\n",
       "}\n",
       ".err-msg {\n",
       "color: red;\n",
       "font-style: italic;\n",
       "font-family: monospace;\n",
       "white-space: pre;\n",
       "display: block;\n",
       "}\n",
       "#unshowable {\n",
       "color: red;\n",
       "font-weight: bold;\n",
       "}\n",
       ".err-msg.in.collapse {\n",
       "padding-top: 0.7em;\n",
       "}\n",
       "\n",
       ".highlight-code {\n",
       "white-space: pre;\n",
       "font-family: monospace;\n",
       "}\n",
       "\n",
       ".suggestion-warning { \n",
       "font-weight: bold;\n",
       "color: rgb(200, 130, 0);\n",
       "}\n",
       ".suggestion-error { \n",
       "font-weight: bold;\n",
       "color: red;\n",
       "}\n",
       ".suggestion-name {\n",
       "font-weight: bold;\n",
       "}\n",
       "\n",
       "</style><div class=\"suggestion-name\" style=\"clear:both;\">Use join</div><div class=\"suggestion-row\" style=\"float: left;\"><div class=\"suggestion-warning\">Found:</div><div class=\"highlight-code\" id=\"haskell\">mma >>= id</div></div><div class=\"suggestion-row\" style=\"float: left;\"><div class=\"suggestion-warning\">Why Not:</div><div class=\"highlight-code\" id=\"haskell\">Control.Monad.join mma</div></div>"
      ],
      "text/plain": [
       "Line 2: Use join\n",
       "Found:\n",
       "mma >>= id\n",
       "Why not:\n",
       "Control.Monad.join mma"
      ]
     },
     "metadata": {},
     "output_type": "display_data"
    }
   ],
   "source": [
    "j :: Monad m => m (m a) -> m a\n",
    "j mma = mma >>= id"
   ]
  },
  {
   "cell_type": "markdown",
   "id": "88192223",
   "metadata": {},
   "source": [
    "2.\n",
    "```haskell\n",
    "l1 :: Monad m => (a -> b) -> m a -> m b\n",
    "```"
   ]
  },
  {
   "cell_type": "code",
   "execution_count": 4,
   "id": "200f65a6",
   "metadata": {},
   "outputs": [],
   "source": [
    "l1 :: Monad m => (a -> b) -> m a -> m b\n",
    "l1 = fmap"
   ]
  },
  {
   "cell_type": "markdown",
   "id": "63415ae2",
   "metadata": {},
   "source": [
    "3.\n",
    "```haskell\n",
    "l2 :: Monad m\n",
    "    => (a -> b -> c) -> m a -> m b -> m c\n",
    "```"
   ]
  },
  {
   "cell_type": "code",
   "execution_count": 9,
   "id": "92d7bd5a",
   "metadata": {},
   "outputs": [],
   "source": [
    "l2 :: Monad m => (a -> b -> c) -> m a -> m b -> m c\n",
    "l2 f ma mb =\n",
    "    ma >>= \\a ->\n",
    "    mb >>= \\b ->\n",
    "    return $ f a b"
   ]
  },
  {
   "cell_type": "markdown",
   "id": "a68a5ca1",
   "metadata": {},
   "source": [
    "5. You’ll need recursion for this one.\n",
    "```haskell\n",
    "meh :: Monad m => [a] -> (a -> m b) -> m [b]\n",
    "```"
   ]
  },
  {
   "cell_type": "code",
   "execution_count": null,
   "id": "449bfe2c",
   "metadata": {},
   "outputs": [],
   "source": [
    "meh :: Monad m => [a] -> (a -> m b) -> m [b]\n",
    "meh (x:xs) f =\n",
    "    f x >>= \\y ->\n",
    "    meh xs f >>= \\ys ->\n",
    "    return $ y:ys"
   ]
  },
  {
   "cell_type": "markdown",
   "id": "b8b4a722",
   "metadata": {},
   "source": [
    "6. Hint: reuse `meh`\n",
    "\n",
    "```haskell\n",
    "flipType :: (Monad m) => [m a] -> m [a]\n",
    "```"
   ]
  },
  {
   "cell_type": "code",
   "execution_count": null,
   "id": "e9fc9e8b",
   "metadata": {},
   "outputs": [],
   "source": [
    "flipType :: (Monad m) => [m a] -> m [a]\n",
    "flipType mas = meh mas id"
   ]
  }
 ],
 "metadata": {
  "kernelspec": {
   "display_name": "Haskell",
   "language": "haskell",
   "name": "haskell"
  },
  "language_info": {
   "codemirror_mode": "ihaskell",
   "file_extension": ".hs",
   "mimetype": "text/x-haskell",
   "name": "haskell",
   "pygments_lexer": "Haskell",
   "version": "9.6.4"
  }
 },
 "nbformat": 4,
 "nbformat_minor": 5
}
